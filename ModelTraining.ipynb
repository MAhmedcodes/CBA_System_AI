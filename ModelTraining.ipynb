{
  "nbformat": 4,
  "nbformat_minor": 0,
  "metadata": {
    "colab": {
      "provenance": [],
      "gpuType": "T4"
    },
    "kernelspec": {
      "name": "python3",
      "display_name": "Python 3"
    },
    "language_info": {
      "name": "python"
    },
    "accelerator": "GPU"
  },
  "cells": [
    {
      "cell_type": "markdown",
      "source": [
        "Unzipping Placard Dataset"
      ],
      "metadata": {
        "id": "C4iJhSWL_mCZ"
      }
    },
    {
      "cell_type": "code",
      "source": [
        "!unzip /content/sticks-and-placards.v6i.yolov8.zip -d /content/Placard"
      ],
      "metadata": {
        "colab": {
          "base_uri": "https://localhost:8080/"
        },
        "id": "sn-lNncjAdFO",
        "outputId": "770dea8d-115c-42a9-8f38-91451163a4b2",
        "collapsed": true
      },
      "execution_count": null,
      "outputs": [
        {
          "output_type": "stream",
          "name": "stdout",
          "text": [
            "Archive:  /content/sticks-and-placards.v6i.yolov8.zip\n",
            "  inflating: /content/Placard/README.dataset.txt  \n",
            "  inflating: /content/Placard/README.roboflow.txt  \n",
            "  inflating: /content/Placard/data.yaml  \n",
            "   creating: /content/Placard/test/\n",
            "   creating: /content/Placard/test/images/\n",
            " extracting: /content/Placard/test/images/OIP-1-_webp.rf.2d802c2dee77daf51aab120f65a961e8.jpg  \n",
            " extracting: /content/Placard/test/images/OIP-10-_jpeg.rf.8df819889341dd97cf7fbc3146edb8d4.jpg  \n",
            " extracting: /content/Placard/test/images/OIP-11-_jpeg.rf.51d49b05339a2f140f94beb5ea89d1b1.jpg  \n",
            " extracting: /content/Placard/test/images/OIP-12-_jpeg.rf.73cc2815206ff63439a73349aa99d1e6.jpg  \n",
            " extracting: /content/Placard/test/images/OIP-13-_jpeg.rf.b807fd2238800b4534cb957401e7a5bb.jpg  \n",
            " extracting: /content/Placard/test/images/OIP-14-_jpeg.rf.316eb1d88084f9c635c49029bc6b4999.jpg  \n",
            " extracting: /content/Placard/test/images/OIP-2-_jpeg.rf.442e249523eb0de448a40d04f95b76f7.jpg  \n",
            " extracting: /content/Placard/test/images/OIP-2-_webp.rf.c52813a2c03dc82fc44f679f68517de8.jpg  \n",
            " extracting: /content/Placard/test/images/OIP-6-_jpeg.rf.a9f62846e07f5bf1b0bce230b1b8c986.jpg  \n",
            " extracting: /content/Placard/test/images/OIP-8-_jpeg.rf.23895f50ecbb9b1182957d14ee682aab.jpg  \n",
            " extracting: /content/Placard/test/images/OIP-9-_jpeg.rf.a70c8e7ddcdcbae5290cf245d56fe1dc.jpg  \n",
            " extracting: /content/Placard/test/images/download-2-_webp.rf.ed9afe79048b102995e678a8eff93f63.jpg  \n",
            " extracting: /content/Placard/test/images/download_webp.rf.5c6709b792eb13d728d51a00d7e3d8d5.jpg  \n",
            " extracting: /content/Placard/test/images/th_jpeg.rf.ec3fa5fa731f69e4acc76f8935e99ebb.jpg  \n",
            "   creating: /content/Placard/test/labels/\n",
            "  inflating: /content/Placard/test/labels/OIP-1-_webp.rf.2d802c2dee77daf51aab120f65a961e8.txt  \n",
            "  inflating: /content/Placard/test/labels/OIP-10-_jpeg.rf.8df819889341dd97cf7fbc3146edb8d4.txt  \n",
            "  inflating: /content/Placard/test/labels/OIP-11-_jpeg.rf.51d49b05339a2f140f94beb5ea89d1b1.txt  \n",
            "  inflating: /content/Placard/test/labels/OIP-12-_jpeg.rf.73cc2815206ff63439a73349aa99d1e6.txt  \n",
            "  inflating: /content/Placard/test/labels/OIP-13-_jpeg.rf.b807fd2238800b4534cb957401e7a5bb.txt  \n",
            "  inflating: /content/Placard/test/labels/OIP-14-_jpeg.rf.316eb1d88084f9c635c49029bc6b4999.txt  \n",
            "  inflating: /content/Placard/test/labels/OIP-2-_jpeg.rf.442e249523eb0de448a40d04f95b76f7.txt  \n",
            "  inflating: /content/Placard/test/labels/OIP-2-_webp.rf.c52813a2c03dc82fc44f679f68517de8.txt  \n",
            "  inflating: /content/Placard/test/labels/OIP-6-_jpeg.rf.a9f62846e07f5bf1b0bce230b1b8c986.txt  \n",
            "  inflating: /content/Placard/test/labels/OIP-8-_jpeg.rf.23895f50ecbb9b1182957d14ee682aab.txt  \n",
            "  inflating: /content/Placard/test/labels/OIP-9-_jpeg.rf.a70c8e7ddcdcbae5290cf245d56fe1dc.txt  \n",
            "  inflating: /content/Placard/test/labels/download-2-_webp.rf.ed9afe79048b102995e678a8eff93f63.txt  \n",
            "  inflating: /content/Placard/test/labels/download_webp.rf.5c6709b792eb13d728d51a00d7e3d8d5.txt  \n",
            "  inflating: /content/Placard/test/labels/th_jpeg.rf.ec3fa5fa731f69e4acc76f8935e99ebb.txt  \n",
            "   creating: /content/Placard/train/\n",
            "   creating: /content/Placard/train/images/\n",
            " extracting: /content/Placard/train/images/598f10ef8c889_jpg.rf.0bfed4e69da6874657c448d36957b624.jpg  \n",
            " extracting: /content/Placard/train/images/7169-Ovimbundu-Staff-25-1536x688_jpg.rf.9d46034dac2ec82128e071ff7e414c4d.jpg  \n",
            " extracting: /content/Placard/train/images/ChrisJerrey-HR20220115-_MG_2474-copy-scaled-e1643123231900-2048x1155_webp.rf.6ef23ba2571282b2f6bb3b298701b549.jpg  \n",
            " extracting: /content/Placard/train/images/OIP-1-_jpeg.rf.a540ac7361e75b3214ea8bdc4f6210b8.jpg  \n",
            " extracting: /content/Placard/train/images/OIP-15-_jpeg.rf.cc87a91a08aa8c8053e7fc7c1ade710d.jpg  \n",
            " extracting: /content/Placard/train/images/OIP-16-_jpeg.rf.35d3af382c509d86934a4c7fdf2509c4.jpg  \n",
            " extracting: /content/Placard/train/images/OIP-17-_jpeg.rf.1f3634a15a359f318187b07552405b74.jpg  \n",
            " extracting: /content/Placard/train/images/OIP-18-_jpeg.rf.028d75a1813f8fde84dd20a094505d01.jpg  \n",
            " extracting: /content/Placard/train/images/OIP-19-_jpeg.rf.25ad07831a4be8da05871bc64cb727f5.jpg  \n",
            " extracting: /content/Placard/train/images/OIP-20-_jpeg.rf.263d10718bcbde6e8b02643ccfa09861.jpg  \n",
            " extracting: /content/Placard/train/images/OIP-22-_jpeg.rf.ace1a8f3a77f9320d8d15391ce25a7f1.jpg  \n",
            " extracting: /content/Placard/train/images/OIP-23-_jpeg.rf.30caffdd0346f61c1af00399fc8bba37.jpg  \n",
            " extracting: /content/Placard/train/images/OIP-24-_jpeg.rf.f0d5b06cd91c8f2ba18a7b316eb4c954.jpg  \n",
            " extracting: /content/Placard/train/images/OIP-25-_jpeg.rf.2394672e810659aa7961819e73edbad7.jpg  \n",
            " extracting: /content/Placard/train/images/OIP-26-_jpeg.rf.932c823346cd922c8157649747dbbb6e.jpg  \n",
            " extracting: /content/Placard/train/images/OIP-28-_jpeg.rf.d4f5525c460f0e2bbabe2958c942d371.jpg  \n",
            " extracting: /content/Placard/train/images/OIP-3-_jpeg.rf.fa280b2002974156a56d559af5e9b6bd.jpg  \n",
            " extracting: /content/Placard/train/images/OIP-30-_jpeg.rf.049b62e6646fcf47cb132ab666d07b94.jpg  \n",
            " extracting: /content/Placard/train/images/OIP-31-_jpeg.rf.8761d8127766bbd449286c0298bfc4ec.jpg  \n",
            " extracting: /content/Placard/train/images/OIP-32-_jpeg.rf.7abdb6ae1f93e765c13aa97b38b06ae6.jpg  \n",
            " extracting: /content/Placard/train/images/OIP-33-_jpeg.rf.c6a3e58a467dc93a48ee6a6ccf3a576b.jpg  \n",
            " extracting: /content/Placard/train/images/OIP-4-_jpeg.rf.122989bd779e8450aaecd24f22723157.jpg  \n",
            " extracting: /content/Placard/train/images/OIP-4-_webp.rf.95ee44fe12b6119d2efc3119f06b0f42.jpg  \n",
            " extracting: /content/Placard/train/images/OIP-5-_jpeg.rf.5765e74df78667b77cec8ebe493918e2.jpg  \n",
            " extracting: /content/Placard/train/images/OIP-5-_webp.rf.00cd4754fcf0a917af86fcaddfc4c9d3.jpg  \n",
            " extracting: /content/Placard/train/images/OIP-7-_jpeg.rf.256d672dea6ac3fbe3a83bd23206ee9e.jpg  \n",
            " extracting: /content/Placard/train/images/OIP_jpeg.rf.ac291fe4ec2e3447f170726389e14cb3.jpg  \n",
            " extracting: /content/Placard/train/images/OIP_webp.rf.66b0eb81728f0993568012cb2502b2f0.jpg  \n",
            " extracting: /content/Placard/train/images/R-1-_jpeg.rf.0cdb0411efb2a5aef14f4458aa4e1922.jpg  \n",
            " extracting: /content/Placard/train/images/R-2-_jpeg.rf.460a4e510de60acbda77a84651f3c0d3.jpg  \n",
            " extracting: /content/Placard/train/images/R-3-_jpeg.rf.189dc2d72a6cb4098f40229eb913f32f.jpg  \n",
            " extracting: /content/Placard/train/images/R_jpeg.rf.90844e365f8245b13dc659cbde9704ef.jpg  \n",
            " extracting: /content/Placard/train/images/R_png.rf.4515e4addcbe554f82a8ab1e710a5fc8.jpg  \n",
            " extracting: /content/Placard/train/images/Screenshot_10_png.rf.673415ba130a0bde25204ae7e26c72a7.jpg  \n",
            " extracting: /content/Placard/train/images/Screenshot_11_png.rf.f8e96e511d6e71f663d4024394c1c4e0.jpg  \n",
            " extracting: /content/Placard/train/images/Screenshot_1_png.rf.303aef2592f977a610d6431556eeaed2.jpg  \n",
            " extracting: /content/Placard/train/images/Screenshot_2_png.rf.158eab31235fcbede2da076cc18ae894.jpg  \n",
            " extracting: /content/Placard/train/images/Screenshot_3_png.rf.89bf1c5ae6ff8a9132ea3aabcb197623.jpg  \n",
            " extracting: /content/Placard/train/images/Screenshot_4_png.rf.c0b59655bd64ac9323529a13a7ece5e1.jpg  \n",
            " extracting: /content/Placard/train/images/Screenshot_5_png.rf.df110d74f2dba5118bb81fbacb044c0b.jpg  \n",
            " extracting: /content/Placard/train/images/Screenshot_6_png.rf.6d4c42764a4eb9c68f73eafb273dc528.jpg  \n",
            " extracting: /content/Placard/train/images/Screenshot_7_png.rf.430bd79b024f0110636acd0de10178c9.jpg  \n",
            " extracting: /content/Placard/train/images/Screenshot_8_png.rf.6d4fd4f66c6b32f435dc18289a9e2e25.jpg  \n",
            " extracting: /content/Placard/train/images/Screenshot_9_png.rf.2da237f7c89d0338651f6e82f3cf5b4a.jpg  \n",
            " extracting: /content/Placard/train/images/climate_change_1_jpg.rf.a7f2606917e624f1d75f2c4326fc9131.jpg  \n",
            " extracting: /content/Placard/train/images/download-1-_webp.rf.836c8e07e31e483fe3a45a8abf63038f.jpg  \n",
            " extracting: /content/Placard/train/images/green-screen-chroma-key-empty-space-placard-blank-place-tracking-points-father-son-political-picket-banner-rally-236084924_webp.rf.e6f07d9ee7aeee4ca0e5ab39ce4d8b9f.jpg  \n",
            " extracting: /content/Placard/train/images/sofia-bulgaria-april-man-stands-poster-crowd-stand-ukraine-pro-ukrainian-march-247626978_webp.rf.be64bf04486f4ec0219ee5e91f876a47.jpg  \n",
            "   creating: /content/Placard/train/labels/\n",
            "  inflating: /content/Placard/train/labels/598f10ef8c889_jpg.rf.0bfed4e69da6874657c448d36957b624.txt  \n",
            "  inflating: /content/Placard/train/labels/7169-Ovimbundu-Staff-25-1536x688_jpg.rf.9d46034dac2ec82128e071ff7e414c4d.txt  \n",
            "  inflating: /content/Placard/train/labels/ChrisJerrey-HR20220115-_MG_2474-copy-scaled-e1643123231900-2048x1155_webp.rf.6ef23ba2571282b2f6bb3b298701b549.txt  \n",
            "  inflating: /content/Placard/train/labels/OIP-1-_jpeg.rf.a540ac7361e75b3214ea8bdc4f6210b8.txt  \n",
            "  inflating: /content/Placard/train/labels/OIP-15-_jpeg.rf.cc87a91a08aa8c8053e7fc7c1ade710d.txt  \n",
            "  inflating: /content/Placard/train/labels/OIP-16-_jpeg.rf.35d3af382c509d86934a4c7fdf2509c4.txt  \n",
            "  inflating: /content/Placard/train/labels/OIP-17-_jpeg.rf.1f3634a15a359f318187b07552405b74.txt  \n",
            "  inflating: /content/Placard/train/labels/OIP-18-_jpeg.rf.028d75a1813f8fde84dd20a094505d01.txt  \n",
            "  inflating: /content/Placard/train/labels/OIP-19-_jpeg.rf.25ad07831a4be8da05871bc64cb727f5.txt  \n",
            "  inflating: /content/Placard/train/labels/OIP-20-_jpeg.rf.263d10718bcbde6e8b02643ccfa09861.txt  \n",
            "  inflating: /content/Placard/train/labels/OIP-22-_jpeg.rf.ace1a8f3a77f9320d8d15391ce25a7f1.txt  \n",
            "  inflating: /content/Placard/train/labels/OIP-23-_jpeg.rf.30caffdd0346f61c1af00399fc8bba37.txt  \n",
            "  inflating: /content/Placard/train/labels/OIP-24-_jpeg.rf.f0d5b06cd91c8f2ba18a7b316eb4c954.txt  \n",
            "  inflating: /content/Placard/train/labels/OIP-25-_jpeg.rf.2394672e810659aa7961819e73edbad7.txt  \n",
            "  inflating: /content/Placard/train/labels/OIP-26-_jpeg.rf.932c823346cd922c8157649747dbbb6e.txt  \n",
            "  inflating: /content/Placard/train/labels/OIP-28-_jpeg.rf.d4f5525c460f0e2bbabe2958c942d371.txt  \n",
            "  inflating: /content/Placard/train/labels/OIP-3-_jpeg.rf.fa280b2002974156a56d559af5e9b6bd.txt  \n",
            "  inflating: /content/Placard/train/labels/OIP-30-_jpeg.rf.049b62e6646fcf47cb132ab666d07b94.txt  \n",
            "  inflating: /content/Placard/train/labels/OIP-31-_jpeg.rf.8761d8127766bbd449286c0298bfc4ec.txt  \n",
            "  inflating: /content/Placard/train/labels/OIP-32-_jpeg.rf.7abdb6ae1f93e765c13aa97b38b06ae6.txt  \n",
            "  inflating: /content/Placard/train/labels/OIP-33-_jpeg.rf.c6a3e58a467dc93a48ee6a6ccf3a576b.txt  \n",
            "  inflating: /content/Placard/train/labels/OIP-4-_jpeg.rf.122989bd779e8450aaecd24f22723157.txt  \n",
            "  inflating: /content/Placard/train/labels/OIP-4-_webp.rf.95ee44fe12b6119d2efc3119f06b0f42.txt  \n",
            "  inflating: /content/Placard/train/labels/OIP-5-_jpeg.rf.5765e74df78667b77cec8ebe493918e2.txt  \n",
            "  inflating: /content/Placard/train/labels/OIP-5-_webp.rf.00cd4754fcf0a917af86fcaddfc4c9d3.txt  \n",
            "  inflating: /content/Placard/train/labels/OIP-7-_jpeg.rf.256d672dea6ac3fbe3a83bd23206ee9e.txt  \n",
            "  inflating: /content/Placard/train/labels/OIP_jpeg.rf.ac291fe4ec2e3447f170726389e14cb3.txt  \n",
            "  inflating: /content/Placard/train/labels/OIP_webp.rf.66b0eb81728f0993568012cb2502b2f0.txt  \n",
            "  inflating: /content/Placard/train/labels/R-1-_jpeg.rf.0cdb0411efb2a5aef14f4458aa4e1922.txt  \n",
            "  inflating: /content/Placard/train/labels/R-2-_jpeg.rf.460a4e510de60acbda77a84651f3c0d3.txt  \n",
            "  inflating: /content/Placard/train/labels/R-3-_jpeg.rf.189dc2d72a6cb4098f40229eb913f32f.txt  \n",
            "  inflating: /content/Placard/train/labels/R_jpeg.rf.90844e365f8245b13dc659cbde9704ef.txt  \n",
            "  inflating: /content/Placard/train/labels/R_png.rf.4515e4addcbe554f82a8ab1e710a5fc8.txt  \n",
            "  inflating: /content/Placard/train/labels/Screenshot_10_png.rf.673415ba130a0bde25204ae7e26c72a7.txt  \n",
            "  inflating: /content/Placard/train/labels/Screenshot_11_png.rf.f8e96e511d6e71f663d4024394c1c4e0.txt  \n",
            "  inflating: /content/Placard/train/labels/Screenshot_1_png.rf.303aef2592f977a610d6431556eeaed2.txt  \n",
            "  inflating: /content/Placard/train/labels/Screenshot_2_png.rf.158eab31235fcbede2da076cc18ae894.txt  \n",
            "  inflating: /content/Placard/train/labels/Screenshot_3_png.rf.89bf1c5ae6ff8a9132ea3aabcb197623.txt  \n",
            "  inflating: /content/Placard/train/labels/Screenshot_4_png.rf.c0b59655bd64ac9323529a13a7ece5e1.txt  \n",
            "  inflating: /content/Placard/train/labels/Screenshot_5_png.rf.df110d74f2dba5118bb81fbacb044c0b.txt  \n",
            "  inflating: /content/Placard/train/labels/Screenshot_6_png.rf.6d4c42764a4eb9c68f73eafb273dc528.txt  \n",
            "  inflating: /content/Placard/train/labels/Screenshot_7_png.rf.430bd79b024f0110636acd0de10178c9.txt  \n",
            "  inflating: /content/Placard/train/labels/Screenshot_8_png.rf.6d4fd4f66c6b32f435dc18289a9e2e25.txt  \n",
            "  inflating: /content/Placard/train/labels/Screenshot_9_png.rf.2da237f7c89d0338651f6e82f3cf5b4a.txt  \n",
            "  inflating: /content/Placard/train/labels/climate_change_1_jpg.rf.a7f2606917e624f1d75f2c4326fc9131.txt  \n",
            "  inflating: /content/Placard/train/labels/download-1-_webp.rf.836c8e07e31e483fe3a45a8abf63038f.txt  \n",
            "  inflating: /content/Placard/train/labels/green-screen-chroma-key-empty-space-placard-blank-place-tracking-points-father-son-political-picket-banner-rally-236084924_webp.rf.e6f07d9ee7aeee4ca0e5ab39ce4d8b9f.txt  \n",
            "  inflating: /content/Placard/train/labels/sofia-bulgaria-april-man-stands-poster-crowd-stand-ukraine-pro-ukrainian-march-247626978_webp.rf.be64bf04486f4ec0219ee5e91f876a47.txt  \n",
            "   creating: /content/Placard/valid/\n",
            "   creating: /content/Placard/valid/images/\n",
            " extracting: /content/Placard/valid/images/OIP-27-_jpeg.rf.5becdbebe580571d1695077f2b2e7400.jpg  \n",
            " extracting: /content/Placard/valid/images/OIP-29-_jpeg.rf.358ca9d4b11c352a643a51c65c06ee63.jpg  \n",
            " extracting: /content/Placard/valid/images/OIP-3-_webp.rf.348e1e8ea0d4abc17b2ea74c98342115.jpg  \n",
            " extracting: /content/Placard/valid/images/OIP-34-_jpeg.rf.5472f2cf2cd7bc7c883dd7f9a9f7e11c.jpg  \n",
            " extracting: /content/Placard/valid/images/OIP-35-_jpeg.rf.0dba1a41764c15aa89d92312647c7861.jpg  \n",
            " extracting: /content/Placard/valid/images/th-1-_jpeg.rf.b8d021a7fba20dd557e25ede2dc26f72.jpg  \n",
            " extracting: /content/Placard/valid/images/th-2-_jpeg.rf.170f2e6fbed34f8aa3c393091d741f7c.jpg  \n",
            "   creating: /content/Placard/valid/labels/\n",
            "  inflating: /content/Placard/valid/labels/OIP-27-_jpeg.rf.5becdbebe580571d1695077f2b2e7400.txt  \n",
            "  inflating: /content/Placard/valid/labels/OIP-29-_jpeg.rf.358ca9d4b11c352a643a51c65c06ee63.txt  \n",
            "  inflating: /content/Placard/valid/labels/OIP-3-_webp.rf.348e1e8ea0d4abc17b2ea74c98342115.txt  \n",
            "  inflating: /content/Placard/valid/labels/OIP-34-_jpeg.rf.5472f2cf2cd7bc7c883dd7f9a9f7e11c.txt  \n",
            "  inflating: /content/Placard/valid/labels/OIP-35-_jpeg.rf.0dba1a41764c15aa89d92312647c7861.txt  \n",
            "  inflating: /content/Placard/valid/labels/th-1-_jpeg.rf.b8d021a7fba20dd557e25ede2dc26f72.txt  \n",
            "  inflating: /content/Placard/valid/labels/th-2-_jpeg.rf.170f2e6fbed34f8aa3c393091d741f7c.txt  \n"
          ]
        }
      ]
    },
    {
      "cell_type": "markdown",
      "source": [
        "Insalling Libraries"
      ],
      "metadata": {
        "id": "Fq_IXf1yBf9B"
      }
    },
    {
      "cell_type": "code",
      "source": [
        "!pip install ultralytics  # Installing YOLOv8"
      ],
      "metadata": {
        "colab": {
          "base_uri": "https://localhost:8080/"
        },
        "id": "z_KmTMAOBj2y",
        "outputId": "5bc56ca5-61a5-47bc-e0fa-cbd002e7496d",
        "collapsed": true
      },
      "execution_count": null,
      "outputs": [
        {
          "output_type": "stream",
          "name": "stdout",
          "text": [
            "Collecting ultralytics\n",
            "  Downloading ultralytics-8.3.134-py3-none-any.whl.metadata (37 kB)\n",
            "Requirement already satisfied: numpy>=1.23.0 in /usr/local/lib/python3.11/dist-packages (from ultralytics) (2.0.2)\n",
            "Requirement already satisfied: matplotlib>=3.3.0 in /usr/local/lib/python3.11/dist-packages (from ultralytics) (3.10.0)\n",
            "Requirement already satisfied: opencv-python>=4.6.0 in /usr/local/lib/python3.11/dist-packages (from ultralytics) (4.11.0.86)\n",
            "Requirement already satisfied: pillow>=7.1.2 in /usr/local/lib/python3.11/dist-packages (from ultralytics) (11.2.1)\n",
            "Requirement already satisfied: pyyaml>=5.3.1 in /usr/local/lib/python3.11/dist-packages (from ultralytics) (6.0.2)\n",
            "Requirement already satisfied: requests>=2.23.0 in /usr/local/lib/python3.11/dist-packages (from ultralytics) (2.32.3)\n",
            "Requirement already satisfied: scipy>=1.4.1 in /usr/local/lib/python3.11/dist-packages (from ultralytics) (1.15.3)\n",
            "Requirement already satisfied: torch>=1.8.0 in /usr/local/lib/python3.11/dist-packages (from ultralytics) (2.6.0+cu124)\n",
            "Requirement already satisfied: torchvision>=0.9.0 in /usr/local/lib/python3.11/dist-packages (from ultralytics) (0.21.0+cu124)\n",
            "Requirement already satisfied: tqdm>=4.64.0 in /usr/local/lib/python3.11/dist-packages (from ultralytics) (4.67.1)\n",
            "Requirement already satisfied: psutil in /usr/local/lib/python3.11/dist-packages (from ultralytics) (5.9.5)\n",
            "Requirement already satisfied: py-cpuinfo in /usr/local/lib/python3.11/dist-packages (from ultralytics) (9.0.0)\n",
            "Requirement already satisfied: pandas>=1.1.4 in /usr/local/lib/python3.11/dist-packages (from ultralytics) (2.2.2)\n",
            "Requirement already satisfied: seaborn>=0.11.0 in /usr/local/lib/python3.11/dist-packages (from ultralytics) (0.13.2)\n",
            "Collecting ultralytics-thop>=2.0.0 (from ultralytics)\n",
            "  Downloading ultralytics_thop-2.0.14-py3-none-any.whl.metadata (9.4 kB)\n",
            "Requirement already satisfied: contourpy>=1.0.1 in /usr/local/lib/python3.11/dist-packages (from matplotlib>=3.3.0->ultralytics) (1.3.2)\n",
            "Requirement already satisfied: cycler>=0.10 in /usr/local/lib/python3.11/dist-packages (from matplotlib>=3.3.0->ultralytics) (0.12.1)\n",
            "Requirement already satisfied: fonttools>=4.22.0 in /usr/local/lib/python3.11/dist-packages (from matplotlib>=3.3.0->ultralytics) (4.57.0)\n",
            "Requirement already satisfied: kiwisolver>=1.3.1 in /usr/local/lib/python3.11/dist-packages (from matplotlib>=3.3.0->ultralytics) (1.4.8)\n",
            "Requirement already satisfied: packaging>=20.0 in /usr/local/lib/python3.11/dist-packages (from matplotlib>=3.3.0->ultralytics) (24.2)\n",
            "Requirement already satisfied: pyparsing>=2.3.1 in /usr/local/lib/python3.11/dist-packages (from matplotlib>=3.3.0->ultralytics) (3.2.3)\n",
            "Requirement already satisfied: python-dateutil>=2.7 in /usr/local/lib/python3.11/dist-packages (from matplotlib>=3.3.0->ultralytics) (2.9.0.post0)\n",
            "Requirement already satisfied: pytz>=2020.1 in /usr/local/lib/python3.11/dist-packages (from pandas>=1.1.4->ultralytics) (2025.2)\n",
            "Requirement already satisfied: tzdata>=2022.7 in /usr/local/lib/python3.11/dist-packages (from pandas>=1.1.4->ultralytics) (2025.2)\n",
            "Requirement already satisfied: charset-normalizer<4,>=2 in /usr/local/lib/python3.11/dist-packages (from requests>=2.23.0->ultralytics) (3.4.2)\n",
            "Requirement already satisfied: idna<4,>=2.5 in /usr/local/lib/python3.11/dist-packages (from requests>=2.23.0->ultralytics) (3.10)\n",
            "Requirement already satisfied: urllib3<3,>=1.21.1 in /usr/local/lib/python3.11/dist-packages (from requests>=2.23.0->ultralytics) (2.4.0)\n",
            "Requirement already satisfied: certifi>=2017.4.17 in /usr/local/lib/python3.11/dist-packages (from requests>=2.23.0->ultralytics) (2025.4.26)\n",
            "Requirement already satisfied: filelock in /usr/local/lib/python3.11/dist-packages (from torch>=1.8.0->ultralytics) (3.18.0)\n",
            "Requirement already satisfied: typing-extensions>=4.10.0 in /usr/local/lib/python3.11/dist-packages (from torch>=1.8.0->ultralytics) (4.13.2)\n",
            "Requirement already satisfied: networkx in /usr/local/lib/python3.11/dist-packages (from torch>=1.8.0->ultralytics) (3.4.2)\n",
            "Requirement already satisfied: jinja2 in /usr/local/lib/python3.11/dist-packages (from torch>=1.8.0->ultralytics) (3.1.6)\n",
            "Requirement already satisfied: fsspec in /usr/local/lib/python3.11/dist-packages (from torch>=1.8.0->ultralytics) (2025.3.2)\n",
            "Collecting nvidia-cuda-nvrtc-cu12==12.4.127 (from torch>=1.8.0->ultralytics)\n",
            "  Downloading nvidia_cuda_nvrtc_cu12-12.4.127-py3-none-manylinux2014_x86_64.whl.metadata (1.5 kB)\n",
            "Collecting nvidia-cuda-runtime-cu12==12.4.127 (from torch>=1.8.0->ultralytics)\n",
            "  Downloading nvidia_cuda_runtime_cu12-12.4.127-py3-none-manylinux2014_x86_64.whl.metadata (1.5 kB)\n",
            "Collecting nvidia-cuda-cupti-cu12==12.4.127 (from torch>=1.8.0->ultralytics)\n",
            "  Downloading nvidia_cuda_cupti_cu12-12.4.127-py3-none-manylinux2014_x86_64.whl.metadata (1.6 kB)\n",
            "Collecting nvidia-cudnn-cu12==9.1.0.70 (from torch>=1.8.0->ultralytics)\n",
            "  Downloading nvidia_cudnn_cu12-9.1.0.70-py3-none-manylinux2014_x86_64.whl.metadata (1.6 kB)\n",
            "Collecting nvidia-cublas-cu12==12.4.5.8 (from torch>=1.8.0->ultralytics)\n",
            "  Downloading nvidia_cublas_cu12-12.4.5.8-py3-none-manylinux2014_x86_64.whl.metadata (1.5 kB)\n",
            "Collecting nvidia-cufft-cu12==11.2.1.3 (from torch>=1.8.0->ultralytics)\n",
            "  Downloading nvidia_cufft_cu12-11.2.1.3-py3-none-manylinux2014_x86_64.whl.metadata (1.5 kB)\n",
            "Collecting nvidia-curand-cu12==10.3.5.147 (from torch>=1.8.0->ultralytics)\n",
            "  Downloading nvidia_curand_cu12-10.3.5.147-py3-none-manylinux2014_x86_64.whl.metadata (1.5 kB)\n",
            "Collecting nvidia-cusolver-cu12==11.6.1.9 (from torch>=1.8.0->ultralytics)\n",
            "  Downloading nvidia_cusolver_cu12-11.6.1.9-py3-none-manylinux2014_x86_64.whl.metadata (1.6 kB)\n",
            "Collecting nvidia-cusparse-cu12==12.3.1.170 (from torch>=1.8.0->ultralytics)\n",
            "  Downloading nvidia_cusparse_cu12-12.3.1.170-py3-none-manylinux2014_x86_64.whl.metadata (1.6 kB)\n",
            "Requirement already satisfied: nvidia-cusparselt-cu12==0.6.2 in /usr/local/lib/python3.11/dist-packages (from torch>=1.8.0->ultralytics) (0.6.2)\n",
            "Requirement already satisfied: nvidia-nccl-cu12==2.21.5 in /usr/local/lib/python3.11/dist-packages (from torch>=1.8.0->ultralytics) (2.21.5)\n",
            "Requirement already satisfied: nvidia-nvtx-cu12==12.4.127 in /usr/local/lib/python3.11/dist-packages (from torch>=1.8.0->ultralytics) (12.4.127)\n",
            "Collecting nvidia-nvjitlink-cu12==12.4.127 (from torch>=1.8.0->ultralytics)\n",
            "  Downloading nvidia_nvjitlink_cu12-12.4.127-py3-none-manylinux2014_x86_64.whl.metadata (1.5 kB)\n",
            "Requirement already satisfied: triton==3.2.0 in /usr/local/lib/python3.11/dist-packages (from torch>=1.8.0->ultralytics) (3.2.0)\n",
            "Requirement already satisfied: sympy==1.13.1 in /usr/local/lib/python3.11/dist-packages (from torch>=1.8.0->ultralytics) (1.13.1)\n",
            "Requirement already satisfied: mpmath<1.4,>=1.1.0 in /usr/local/lib/python3.11/dist-packages (from sympy==1.13.1->torch>=1.8.0->ultralytics) (1.3.0)\n",
            "Requirement already satisfied: six>=1.5 in /usr/local/lib/python3.11/dist-packages (from python-dateutil>=2.7->matplotlib>=3.3.0->ultralytics) (1.17.0)\n",
            "Requirement already satisfied: MarkupSafe>=2.0 in /usr/local/lib/python3.11/dist-packages (from jinja2->torch>=1.8.0->ultralytics) (3.0.2)\n",
            "Downloading ultralytics-8.3.134-py3-none-any.whl (1.0 MB)\n",
            "\u001b[2K   \u001b[90m━━━━━━━━━━━━━━━━━━━━━━━━━━━━━━━━━━━━━━━━\u001b[0m \u001b[32m1.0/1.0 MB\u001b[0m \u001b[31m58.2 MB/s\u001b[0m eta \u001b[36m0:00:00\u001b[0m\n",
            "\u001b[?25hDownloading nvidia_cublas_cu12-12.4.5.8-py3-none-manylinux2014_x86_64.whl (363.4 MB)\n",
            "\u001b[2K   \u001b[90m━━━━━━━━━━━━━━━━━━━━━━━━━━━━━━━━━━━━━━━━\u001b[0m \u001b[32m363.4/363.4 MB\u001b[0m \u001b[31m4.2 MB/s\u001b[0m eta \u001b[36m0:00:00\u001b[0m\n",
            "\u001b[?25hDownloading nvidia_cuda_cupti_cu12-12.4.127-py3-none-manylinux2014_x86_64.whl (13.8 MB)\n",
            "\u001b[2K   \u001b[90m━━━━━━━━━━━━━━━━━━━━━━━━━━━━━━━━━━━━━━━━\u001b[0m \u001b[32m13.8/13.8 MB\u001b[0m \u001b[31m118.5 MB/s\u001b[0m eta \u001b[36m0:00:00\u001b[0m\n",
            "\u001b[?25hDownloading nvidia_cuda_nvrtc_cu12-12.4.127-py3-none-manylinux2014_x86_64.whl (24.6 MB)\n",
            "\u001b[2K   \u001b[90m━━━━━━━━━━━━━━━━━━━━━━━━━━━━━━━━━━━━━━━━\u001b[0m \u001b[32m24.6/24.6 MB\u001b[0m \u001b[31m88.3 MB/s\u001b[0m eta \u001b[36m0:00:00\u001b[0m\n",
            "\u001b[?25hDownloading nvidia_cuda_runtime_cu12-12.4.127-py3-none-manylinux2014_x86_64.whl (883 kB)\n",
            "\u001b[2K   \u001b[90m━━━━━━━━━━━━━━━━━━━━━━━━━━━━━━━━━━━━━━━━\u001b[0m \u001b[32m883.7/883.7 kB\u001b[0m \u001b[31m63.1 MB/s\u001b[0m eta \u001b[36m0:00:00\u001b[0m\n",
            "\u001b[?25hDownloading nvidia_cudnn_cu12-9.1.0.70-py3-none-manylinux2014_x86_64.whl (664.8 MB)\n",
            "\u001b[2K   \u001b[90m━━━━━━━━━━━━━━━━━━━━━━━━━━━━━━━━━━━━━━━━\u001b[0m \u001b[32m664.8/664.8 MB\u001b[0m \u001b[31m2.1 MB/s\u001b[0m eta \u001b[36m0:00:00\u001b[0m\n",
            "\u001b[?25hDownloading nvidia_cufft_cu12-11.2.1.3-py3-none-manylinux2014_x86_64.whl (211.5 MB)\n",
            "\u001b[2K   \u001b[90m━━━━━━━━━━━━━━━━━━━━━━━━━━━━━━━━━━━━━━━━\u001b[0m \u001b[32m211.5/211.5 MB\u001b[0m \u001b[31m5.6 MB/s\u001b[0m eta \u001b[36m0:00:00\u001b[0m\n",
            "\u001b[?25hDownloading nvidia_curand_cu12-10.3.5.147-py3-none-manylinux2014_x86_64.whl (56.3 MB)\n",
            "\u001b[2K   \u001b[90m━━━━━━━━━━━━━━━━━━━━━━━━━━━━━━━━━━━━━━━━\u001b[0m \u001b[32m56.3/56.3 MB\u001b[0m \u001b[31m12.5 MB/s\u001b[0m eta \u001b[36m0:00:00\u001b[0m\n",
            "\u001b[?25hDownloading nvidia_cusolver_cu12-11.6.1.9-py3-none-manylinux2014_x86_64.whl (127.9 MB)\n",
            "\u001b[2K   \u001b[90m━━━━━━━━━━━━━━━━━━━━━━━━━━━━━━━━━━━━━━━━\u001b[0m \u001b[32m127.9/127.9 MB\u001b[0m \u001b[31m7.5 MB/s\u001b[0m eta \u001b[36m0:00:00\u001b[0m\n",
            "\u001b[?25hDownloading nvidia_cusparse_cu12-12.3.1.170-py3-none-manylinux2014_x86_64.whl (207.5 MB)\n",
            "\u001b[2K   \u001b[90m━━━━━━━━━━━━━━━━━━━━━━━━━━━━━━━━━━━━━━━━\u001b[0m \u001b[32m207.5/207.5 MB\u001b[0m \u001b[31m5.5 MB/s\u001b[0m eta \u001b[36m0:00:00\u001b[0m\n",
            "\u001b[?25hDownloading nvidia_nvjitlink_cu12-12.4.127-py3-none-manylinux2014_x86_64.whl (21.1 MB)\n",
            "\u001b[2K   \u001b[90m━━━━━━━━━━━━━━━━━━━━━━━━━━━━━━━━━━━━━━━━\u001b[0m \u001b[32m21.1/21.1 MB\u001b[0m \u001b[31m83.9 MB/s\u001b[0m eta \u001b[36m0:00:00\u001b[0m\n",
            "\u001b[?25hDownloading ultralytics_thop-2.0.14-py3-none-any.whl (26 kB)\n",
            "Installing collected packages: nvidia-nvjitlink-cu12, nvidia-curand-cu12, nvidia-cufft-cu12, nvidia-cuda-runtime-cu12, nvidia-cuda-nvrtc-cu12, nvidia-cuda-cupti-cu12, nvidia-cublas-cu12, nvidia-cusparse-cu12, nvidia-cudnn-cu12, nvidia-cusolver-cu12, ultralytics-thop, ultralytics\n",
            "  Attempting uninstall: nvidia-nvjitlink-cu12\n",
            "    Found existing installation: nvidia-nvjitlink-cu12 12.5.82\n",
            "    Uninstalling nvidia-nvjitlink-cu12-12.5.82:\n",
            "      Successfully uninstalled nvidia-nvjitlink-cu12-12.5.82\n",
            "  Attempting uninstall: nvidia-curand-cu12\n",
            "    Found existing installation: nvidia-curand-cu12 10.3.6.82\n",
            "    Uninstalling nvidia-curand-cu12-10.3.6.82:\n",
            "      Successfully uninstalled nvidia-curand-cu12-10.3.6.82\n",
            "  Attempting uninstall: nvidia-cufft-cu12\n",
            "    Found existing installation: nvidia-cufft-cu12 11.2.3.61\n",
            "    Uninstalling nvidia-cufft-cu12-11.2.3.61:\n",
            "      Successfully uninstalled nvidia-cufft-cu12-11.2.3.61\n",
            "  Attempting uninstall: nvidia-cuda-runtime-cu12\n",
            "    Found existing installation: nvidia-cuda-runtime-cu12 12.5.82\n",
            "    Uninstalling nvidia-cuda-runtime-cu12-12.5.82:\n",
            "      Successfully uninstalled nvidia-cuda-runtime-cu12-12.5.82\n",
            "  Attempting uninstall: nvidia-cuda-nvrtc-cu12\n",
            "    Found existing installation: nvidia-cuda-nvrtc-cu12 12.5.82\n",
            "    Uninstalling nvidia-cuda-nvrtc-cu12-12.5.82:\n",
            "      Successfully uninstalled nvidia-cuda-nvrtc-cu12-12.5.82\n",
            "  Attempting uninstall: nvidia-cuda-cupti-cu12\n",
            "    Found existing installation: nvidia-cuda-cupti-cu12 12.5.82\n",
            "    Uninstalling nvidia-cuda-cupti-cu12-12.5.82:\n",
            "      Successfully uninstalled nvidia-cuda-cupti-cu12-12.5.82\n",
            "  Attempting uninstall: nvidia-cublas-cu12\n",
            "    Found existing installation: nvidia-cublas-cu12 12.5.3.2\n",
            "    Uninstalling nvidia-cublas-cu12-12.5.3.2:\n",
            "      Successfully uninstalled nvidia-cublas-cu12-12.5.3.2\n",
            "  Attempting uninstall: nvidia-cusparse-cu12\n",
            "    Found existing installation: nvidia-cusparse-cu12 12.5.1.3\n",
            "    Uninstalling nvidia-cusparse-cu12-12.5.1.3:\n",
            "      Successfully uninstalled nvidia-cusparse-cu12-12.5.1.3\n",
            "  Attempting uninstall: nvidia-cudnn-cu12\n",
            "    Found existing installation: nvidia-cudnn-cu12 9.3.0.75\n",
            "    Uninstalling nvidia-cudnn-cu12-9.3.0.75:\n",
            "      Successfully uninstalled nvidia-cudnn-cu12-9.3.0.75\n",
            "  Attempting uninstall: nvidia-cusolver-cu12\n",
            "    Found existing installation: nvidia-cusolver-cu12 11.6.3.83\n",
            "    Uninstalling nvidia-cusolver-cu12-11.6.3.83:\n",
            "      Successfully uninstalled nvidia-cusolver-cu12-11.6.3.83\n",
            "Successfully installed nvidia-cublas-cu12-12.4.5.8 nvidia-cuda-cupti-cu12-12.4.127 nvidia-cuda-nvrtc-cu12-12.4.127 nvidia-cuda-runtime-cu12-12.4.127 nvidia-cudnn-cu12-9.1.0.70 nvidia-cufft-cu12-11.2.1.3 nvidia-curand-cu12-10.3.5.147 nvidia-cusolver-cu12-11.6.1.9 nvidia-cusparse-cu12-12.3.1.170 nvidia-nvjitlink-cu12-12.4.127 ultralytics-8.3.134 ultralytics-thop-2.0.14\n"
          ]
        }
      ]
    },
    {
      "cell_type": "markdown",
      "source": [
        "Training Placard Model"
      ],
      "metadata": {
        "id": "HQyKcMo5CXji"
      }
    },
    {
      "cell_type": "code",
      "source": [
        "from ultralytics import YOLO\n",
        "\n",
        "# Load a pretrained model (or 'yolov8n.pt' for scratch)\n",
        "model = YOLO(\"yolov8n.pt\")\n",
        "\n",
        "# Train the model\n",
        "results = model.train(\n",
        "    data=\"/content/Placard/data.yaml\",  # Path to dataset config\n",
        "    epochs=30,                                 # Number of training cycles\n",
        "    imgsz=640,                                 # Image size\n",
        "    batch=16,                                  # Increase if GPU has memory\n",
        "    name=\"Placard-stick\"                     # Saves results to\n",
        ")"
      ],
      "metadata": {
        "colab": {
          "base_uri": "https://localhost:8080/"
        },
        "id": "LIoUq56XCahO",
        "outputId": "6b1e9c22-b1a7-4516-988f-195af40cda01",
        "collapsed": true
      },
      "execution_count": null,
      "outputs": [
        {
          "output_type": "stream",
          "name": "stdout",
          "text": [
            "Creating new Ultralytics Settings v0.0.6 file ✅ \n",
            "View Ultralytics Settings with 'yolo settings' or at '/root/.config/Ultralytics/settings.json'\n",
            "Update Settings with 'yolo settings key=value', i.e. 'yolo settings runs_dir=path/to/dir'. For help see https://docs.ultralytics.com/quickstart/#ultralytics-settings.\n",
            "Downloading https://github.com/ultralytics/assets/releases/download/v8.3.0/yolov8n.pt to 'yolov8n.pt'...\n"
          ]
        },
        {
          "output_type": "stream",
          "name": "stderr",
          "text": [
            "100%|██████████| 6.25M/6.25M [00:00<00:00, 199MB/s]\n"
          ]
        },
        {
          "output_type": "stream",
          "name": "stdout",
          "text": [
            "Ultralytics 8.3.134 🚀 Python-3.11.12 torch-2.6.0+cu124 CUDA:0 (Tesla T4, 15095MiB)\n",
            "\u001b[34m\u001b[1mengine/trainer: \u001b[0magnostic_nms=False, amp=True, augment=False, auto_augment=randaugment, batch=16, bgr=0.0, box=7.5, cache=False, cfg=None, classes=None, close_mosaic=10, cls=0.5, conf=None, copy_paste=0.0, copy_paste_mode=flip, cos_lr=False, cutmix=0.0, data=/content/Placard/data.yaml, degrees=0.0, deterministic=True, device=None, dfl=1.5, dnn=False, dropout=0.0, dynamic=False, embed=None, epochs=30, erasing=0.4, exist_ok=False, fliplr=0.5, flipud=0.0, format=torchscript, fraction=1.0, freeze=None, half=False, hsv_h=0.015, hsv_s=0.7, hsv_v=0.4, imgsz=640, int8=False, iou=0.7, keras=False, kobj=1.0, line_width=None, lr0=0.01, lrf=0.01, mask_ratio=4, max_det=300, mixup=0.0, mode=train, model=yolov8n.pt, momentum=0.937, mosaic=1.0, multi_scale=False, name=Placard-stick, nbs=64, nms=False, opset=None, optimize=False, optimizer=auto, overlap_mask=True, patience=100, perspective=0.0, plots=True, pose=12.0, pretrained=True, profile=False, project=None, rect=False, resume=False, retina_masks=False, save=True, save_conf=False, save_crop=False, save_dir=runs/detect/Placard-stick, save_frames=False, save_json=False, save_period=-1, save_txt=False, scale=0.5, seed=0, shear=0.0, show=False, show_boxes=True, show_conf=True, show_labels=True, simplify=True, single_cls=False, source=None, split=val, stream_buffer=False, task=detect, time=None, tracker=botsort.yaml, translate=0.1, val=True, verbose=True, vid_stride=1, visualize=False, warmup_bias_lr=0.1, warmup_epochs=3.0, warmup_momentum=0.8, weight_decay=0.0005, workers=8, workspace=None\n",
            "Downloading https://ultralytics.com/assets/Arial.ttf to '/root/.config/Ultralytics/Arial.ttf'...\n"
          ]
        },
        {
          "output_type": "stream",
          "name": "stderr",
          "text": [
            "100%|██████████| 755k/755k [00:00<00:00, 113MB/s]"
          ]
        },
        {
          "output_type": "stream",
          "name": "stdout",
          "text": [
            "Overriding model.yaml nc=80 with nc=3\n",
            "\n",
            "                   from  n    params  module                                       arguments                     \n",
            "  0                  -1  1       464  ultralytics.nn.modules.conv.Conv             [3, 16, 3, 2]                 \n",
            "  1                  -1  1      4672  ultralytics.nn.modules.conv.Conv             [16, 32, 3, 2]                \n",
            "  2                  -1  1      7360  ultralytics.nn.modules.block.C2f             [32, 32, 1, True]             \n",
            "  3                  -1  1     18560  ultralytics.nn.modules.conv.Conv             [32, 64, 3, 2]                \n",
            "  4                  -1  2     49664  ultralytics.nn.modules.block.C2f             [64, 64, 2, True]             \n",
            "  5                  -1  1     73984  ultralytics.nn.modules.conv.Conv             [64, 128, 3, 2]               \n",
            "  6                  -1  2    197632  ultralytics.nn.modules.block.C2f             [128, 128, 2, True]           \n",
            "  7                  -1  1    295424  ultralytics.nn.modules.conv.Conv             [128, 256, 3, 2]              \n",
            "  8                  -1  1    460288  ultralytics.nn.modules.block.C2f             [256, 256, 1, True]           \n",
            "  9                  -1  1    164608  ultralytics.nn.modules.block.SPPF            [256, 256, 5]                 \n",
            " 10                  -1  1         0  torch.nn.modules.upsampling.Upsample         [None, 2, 'nearest']          \n",
            " 11             [-1, 6]  1         0  ultralytics.nn.modules.conv.Concat           [1]                           \n",
            " 12                  -1  1    148224  ultralytics.nn.modules.block.C2f             [384, 128, 1]                 \n",
            " 13                  -1  1         0  torch.nn.modules.upsampling.Upsample         [None, 2, 'nearest']          \n",
            " 14             [-1, 4]  1         0  ultralytics.nn.modules.conv.Concat           [1]                           \n",
            " 15                  -1  1     37248  ultralytics.nn.modules.block.C2f             [192, 64, 1]                  \n",
            " 16                  -1  1     36992  ultralytics.nn.modules.conv.Conv             [64, 64, 3, 2]                \n",
            " 17            [-1, 12]  1         0  ultralytics.nn.modules.conv.Concat           [1]                           \n",
            " 18                  -1  1    123648  ultralytics.nn.modules.block.C2f             [192, 128, 1]                 \n",
            " 19                  -1  1    147712  ultralytics.nn.modules.conv.Conv             [128, 128, 3, 2]              \n",
            " 20             [-1, 9]  1         0  ultralytics.nn.modules.conv.Concat           [1]                           \n",
            " 21                  -1  1    493056  ultralytics.nn.modules.block.C2f             [384, 256, 1]                 \n",
            " 22        [15, 18, 21]  1    751897  ultralytics.nn.modules.head.Detect           [3, [64, 128, 256]]           \n"
          ]
        },
        {
          "output_type": "stream",
          "name": "stderr",
          "text": [
            "\n"
          ]
        },
        {
          "output_type": "stream",
          "name": "stdout",
          "text": [
            "Model summary: 129 layers, 3,011,433 parameters, 3,011,417 gradients, 8.2 GFLOPs\n",
            "\n",
            "Transferred 319/355 items from pretrained weights\n",
            "Freezing layer 'model.22.dfl.conv.weight'\n",
            "\u001b[34m\u001b[1mAMP: \u001b[0mrunning Automatic Mixed Precision (AMP) checks...\n",
            "Downloading https://github.com/ultralytics/assets/releases/download/v8.3.0/yolo11n.pt to 'yolo11n.pt'...\n"
          ]
        },
        {
          "output_type": "stream",
          "name": "stderr",
          "text": [
            "100%|██████████| 5.35M/5.35M [00:00<00:00, 315MB/s]\n"
          ]
        },
        {
          "output_type": "stream",
          "name": "stdout",
          "text": [
            "\u001b[34m\u001b[1mAMP: \u001b[0mchecks passed ✅\n",
            "\u001b[34m\u001b[1mtrain: \u001b[0mFast image access ✅ (ping: 0.0±0.0 ms, read: 307.2±182.5 MB/s, size: 35.7 KB)\n"
          ]
        },
        {
          "output_type": "stream",
          "name": "stderr",
          "text": [
            "\u001b[34m\u001b[1mtrain: \u001b[0mScanning /content/Placard/train/labels... 48 images, 0 backgrounds, 0 corrupt: 100%|██████████| 48/48 [00:00<00:00, 674.13it/s]"
          ]
        },
        {
          "output_type": "stream",
          "name": "stdout",
          "text": [
            "\u001b[34m\u001b[1mtrain: \u001b[0mNew cache created: /content/Placard/train/labels.cache\n",
            "WARNING ⚠️ Box and segment counts should be equal, but got len(segments) = 340, len(boxes) = 511. To resolve this only boxes will be used and all segments will be removed. To avoid this please supply either a detect or segment dataset, not a detect-segment mixed dataset.\n"
          ]
        },
        {
          "output_type": "stream",
          "name": "stderr",
          "text": [
            "\n"
          ]
        },
        {
          "output_type": "stream",
          "name": "stdout",
          "text": [
            "\u001b[34m\u001b[1malbumentations: \u001b[0mBlur(p=0.01, blur_limit=(3, 7)), MedianBlur(p=0.01, blur_limit=(3, 7)), ToGray(p=0.01, method='weighted_average', num_output_channels=3), CLAHE(p=0.01, clip_limit=(1.0, 4.0), tile_grid_size=(8, 8))\n",
            "\u001b[34m\u001b[1mval: \u001b[0mFast image access ✅ (ping: 0.0±0.0 ms, read: 110.9±129.5 MB/s, size: 34.7 KB)\n"
          ]
        },
        {
          "output_type": "stream",
          "name": "stderr",
          "text": [
            "\u001b[34m\u001b[1mval: \u001b[0mScanning /content/Placard/valid/labels... 7 images, 0 backgrounds, 0 corrupt: 100%|██████████| 7/7 [00:00<00:00, 376.99it/s]"
          ]
        },
        {
          "output_type": "stream",
          "name": "stdout",
          "text": [
            "\u001b[34m\u001b[1mval: \u001b[0mNew cache created: /content/Placard/valid/labels.cache\n",
            "WARNING ⚠️ Box and segment counts should be equal, but got len(segments) = 6, len(boxes) = 46. To resolve this only boxes will be used and all segments will be removed. To avoid this please supply either a detect or segment dataset, not a detect-segment mixed dataset.\n"
          ]
        },
        {
          "output_type": "stream",
          "name": "stderr",
          "text": [
            "\n"
          ]
        },
        {
          "output_type": "stream",
          "name": "stdout",
          "text": [
            "Plotting labels to runs/detect/Placard-stick/labels.jpg... \n",
            "\u001b[34m\u001b[1moptimizer:\u001b[0m 'optimizer=auto' found, ignoring 'lr0=0.01' and 'momentum=0.937' and determining best 'optimizer', 'lr0' and 'momentum' automatically... \n",
            "\u001b[34m\u001b[1moptimizer:\u001b[0m AdamW(lr=0.001429, momentum=0.9) with parameter groups 57 weight(decay=0.0), 64 weight(decay=0.0005), 63 bias(decay=0.0)\n",
            "Image sizes 640 train, 640 val\n",
            "Using 2 dataloader workers\n",
            "Logging results to \u001b[1mruns/detect/Placard-stick\u001b[0m\n",
            "Starting training for 30 epochs...\n",
            "\n",
            "      Epoch    GPU_mem   box_loss   cls_loss   dfl_loss  Instances       Size\n"
          ]
        },
        {
          "output_type": "stream",
          "name": "stderr",
          "text": [
            "       1/30      2.61G      1.922      3.608      1.785        320        640: 100%|██████████| 3/3 [00:02<00:00,  1.37it/s]\n",
            "                 Class     Images  Instances      Box(P          R      mAP50  mAP50-95): 100%|██████████| 1/1 [00:01<00:00,  1.67s/it]"
          ]
        },
        {
          "output_type": "stream",
          "name": "stdout",
          "text": [
            "                   all          7         46     0.0219      0.283     0.0737     0.0268\n",
            "\n",
            "      Epoch    GPU_mem   box_loss   cls_loss   dfl_loss  Instances       Size\n"
          ]
        },
        {
          "output_type": "stream",
          "name": "stderr",
          "text": [
            "\n",
            "       2/30      2.63G      1.888      3.707      1.685        242        640: 100%|██████████| 3/3 [00:00<00:00,  3.46it/s]\n",
            "                 Class     Images  Instances      Box(P          R      mAP50  mAP50-95): 100%|██████████| 1/1 [00:00<00:00,  7.59it/s]"
          ]
        },
        {
          "output_type": "stream",
          "name": "stdout",
          "text": [
            "                   all          7         46     0.0216      0.304     0.0742     0.0265\n"
          ]
        },
        {
          "output_type": "stream",
          "name": "stderr",
          "text": [
            "\n"
          ]
        },
        {
          "output_type": "stream",
          "name": "stdout",
          "text": [
            "\n",
            "      Epoch    GPU_mem   box_loss   cls_loss   dfl_loss  Instances       Size\n"
          ]
        },
        {
          "output_type": "stream",
          "name": "stderr",
          "text": [
            "       3/30      2.65G      1.682      3.561      1.527        231        640: 100%|██████████| 3/3 [00:00<00:00,  4.32it/s]\n",
            "                 Class     Images  Instances      Box(P          R      mAP50  mAP50-95): 100%|██████████| 1/1 [00:00<00:00,  8.57it/s]"
          ]
        },
        {
          "output_type": "stream",
          "name": "stdout",
          "text": [
            "                   all          7         46     0.0167      0.261     0.0909     0.0391\n"
          ]
        },
        {
          "output_type": "stream",
          "name": "stderr",
          "text": [
            "\n"
          ]
        },
        {
          "output_type": "stream",
          "name": "stdout",
          "text": [
            "\n",
            "      Epoch    GPU_mem   box_loss   cls_loss   dfl_loss  Instances       Size\n"
          ]
        },
        {
          "output_type": "stream",
          "name": "stderr",
          "text": [
            "       4/30         3G      1.567      3.342      1.458        298        640: 100%|██████████| 3/3 [00:00<00:00,  4.37it/s]\n",
            "                 Class     Images  Instances      Box(P          R      mAP50  mAP50-95): 100%|██████████| 1/1 [00:00<00:00, 10.32it/s]"
          ]
        },
        {
          "output_type": "stream",
          "name": "stdout",
          "text": [
            "                   all          7         46     0.0202      0.326      0.104     0.0431\n"
          ]
        },
        {
          "output_type": "stream",
          "name": "stderr",
          "text": [
            "\n"
          ]
        },
        {
          "output_type": "stream",
          "name": "stdout",
          "text": [
            "\n",
            "      Epoch    GPU_mem   box_loss   cls_loss   dfl_loss  Instances       Size\n"
          ]
        },
        {
          "output_type": "stream",
          "name": "stderr",
          "text": [
            "       5/30      3.02G      1.492      3.012      1.445        261        640: 100%|██████████| 3/3 [00:00<00:00,  4.33it/s]\n",
            "                 Class     Images  Instances      Box(P          R      mAP50  mAP50-95): 100%|██████████| 1/1 [00:00<00:00,  6.56it/s]"
          ]
        },
        {
          "output_type": "stream",
          "name": "stdout",
          "text": [
            "                   all          7         46     0.0211      0.348       0.14     0.0574\n"
          ]
        },
        {
          "output_type": "stream",
          "name": "stderr",
          "text": [
            "\n"
          ]
        },
        {
          "output_type": "stream",
          "name": "stdout",
          "text": [
            "\n",
            "      Epoch    GPU_mem   box_loss   cls_loss   dfl_loss  Instances       Size\n"
          ]
        },
        {
          "output_type": "stream",
          "name": "stderr",
          "text": [
            "       6/30      3.03G       1.49      2.644      1.376        176        640: 100%|██████████| 3/3 [00:00<00:00,  4.66it/s]\n",
            "                 Class     Images  Instances      Box(P          R      mAP50  mAP50-95): 100%|██████████| 1/1 [00:00<00:00,  4.34it/s]"
          ]
        },
        {
          "output_type": "stream",
          "name": "stdout",
          "text": [
            "                   all          7         46     0.0238      0.391      0.155     0.0588\n"
          ]
        },
        {
          "output_type": "stream",
          "name": "stderr",
          "text": [
            "\n"
          ]
        },
        {
          "output_type": "stream",
          "name": "stdout",
          "text": [
            "\n",
            "      Epoch    GPU_mem   box_loss   cls_loss   dfl_loss  Instances       Size\n"
          ]
        },
        {
          "output_type": "stream",
          "name": "stderr",
          "text": [
            "       7/30      3.06G      1.444      2.507      1.384        220        640: 100%|██████████| 3/3 [00:00<00:00,  3.03it/s]\n",
            "                 Class     Images  Instances      Box(P          R      mAP50  mAP50-95): 100%|██████████| 1/1 [00:00<00:00,  3.93it/s]"
          ]
        },
        {
          "output_type": "stream",
          "name": "stdout",
          "text": [
            "                   all          7         46     0.0192      0.326      0.142     0.0619\n"
          ]
        },
        {
          "output_type": "stream",
          "name": "stderr",
          "text": [
            "\n"
          ]
        },
        {
          "output_type": "stream",
          "name": "stdout",
          "text": [
            "\n",
            "      Epoch    GPU_mem   box_loss   cls_loss   dfl_loss  Instances       Size\n"
          ]
        },
        {
          "output_type": "stream",
          "name": "stderr",
          "text": [
            "       8/30      3.08G      1.428       2.32      1.386        216        640: 100%|██████████| 3/3 [00:00<00:00,  3.70it/s]\n",
            "                 Class     Images  Instances      Box(P          R      mAP50  mAP50-95): 100%|██████████| 1/1 [00:00<00:00,  7.14it/s]"
          ]
        },
        {
          "output_type": "stream",
          "name": "stdout",
          "text": [
            "                   all          7         46      0.366      0.109      0.135     0.0545\n"
          ]
        },
        {
          "output_type": "stream",
          "name": "stderr",
          "text": [
            "\n"
          ]
        },
        {
          "output_type": "stream",
          "name": "stdout",
          "text": [
            "\n",
            "      Epoch    GPU_mem   box_loss   cls_loss   dfl_loss  Instances       Size\n"
          ]
        },
        {
          "output_type": "stream",
          "name": "stderr",
          "text": [
            "       9/30      3.09G      1.387      2.214      1.376        252        640: 100%|██████████| 3/3 [00:00<00:00,  4.36it/s]\n",
            "                 Class     Images  Instances      Box(P          R      mAP50  mAP50-95): 100%|██████████| 1/1 [00:00<00:00,  5.88it/s]"
          ]
        },
        {
          "output_type": "stream",
          "name": "stdout",
          "text": [
            "                   all          7         46      0.022      0.348      0.121     0.0528\n"
          ]
        },
        {
          "output_type": "stream",
          "name": "stderr",
          "text": [
            "\n"
          ]
        },
        {
          "output_type": "stream",
          "name": "stdout",
          "text": [
            "\n",
            "      Epoch    GPU_mem   box_loss   cls_loss   dfl_loss  Instances       Size\n"
          ]
        },
        {
          "output_type": "stream",
          "name": "stderr",
          "text": [
            "      10/30      3.11G      1.501      2.164      1.399        231        640: 100%|██████████| 3/3 [00:00<00:00,  4.54it/s]\n",
            "                 Class     Images  Instances      Box(P          R      mAP50  mAP50-95): 100%|██████████| 1/1 [00:00<00:00,  7.47it/s]"
          ]
        },
        {
          "output_type": "stream",
          "name": "stdout",
          "text": [
            "                   all          7         46     0.0241       0.37       0.13     0.0444\n"
          ]
        },
        {
          "output_type": "stream",
          "name": "stderr",
          "text": [
            "\n"
          ]
        },
        {
          "output_type": "stream",
          "name": "stdout",
          "text": [
            "\n",
            "      Epoch    GPU_mem   box_loss   cls_loss   dfl_loss  Instances       Size\n"
          ]
        },
        {
          "output_type": "stream",
          "name": "stderr",
          "text": [
            "      11/30      3.13G      1.337      2.012      1.297        265        640: 100%|██████████| 3/3 [00:00<00:00,  4.45it/s]\n",
            "                 Class     Images  Instances      Box(P          R      mAP50  mAP50-95): 100%|██████████| 1/1 [00:00<00:00,  6.84it/s]"
          ]
        },
        {
          "output_type": "stream",
          "name": "stdout",
          "text": [
            "                   all          7         46     0.0262      0.391        0.1     0.0435\n"
          ]
        },
        {
          "output_type": "stream",
          "name": "stderr",
          "text": [
            "\n"
          ]
        },
        {
          "output_type": "stream",
          "name": "stdout",
          "text": [
            "\n",
            "      Epoch    GPU_mem   box_loss   cls_loss   dfl_loss  Instances       Size\n"
          ]
        },
        {
          "output_type": "stream",
          "name": "stderr",
          "text": [
            "      12/30      3.15G      1.475      2.015      1.364        202        640: 100%|██████████| 3/3 [00:00<00:00,  5.33it/s]\n",
            "                 Class     Images  Instances      Box(P          R      mAP50  mAP50-95): 100%|██████████| 1/1 [00:00<00:00,  5.37it/s]"
          ]
        },
        {
          "output_type": "stream",
          "name": "stdout",
          "text": [
            "                   all          7         46     0.0212      0.326     0.0953     0.0406\n"
          ]
        },
        {
          "output_type": "stream",
          "name": "stderr",
          "text": [
            "\n"
          ]
        },
        {
          "output_type": "stream",
          "name": "stdout",
          "text": [
            "\n",
            "      Epoch    GPU_mem   box_loss   cls_loss   dfl_loss  Instances       Size\n"
          ]
        },
        {
          "output_type": "stream",
          "name": "stderr",
          "text": [
            "      13/30      3.16G      1.369      1.946      1.342        308        640: 100%|██████████| 3/3 [00:00<00:00,  4.54it/s]\n",
            "                 Class     Images  Instances      Box(P          R      mAP50  mAP50-95): 100%|██████████| 1/1 [00:00<00:00,  7.69it/s]"
          ]
        },
        {
          "output_type": "stream",
          "name": "stdout",
          "text": [
            "                   all          7         46     0.0233       0.37       0.13     0.0544\n"
          ]
        },
        {
          "output_type": "stream",
          "name": "stderr",
          "text": [
            "\n"
          ]
        },
        {
          "output_type": "stream",
          "name": "stdout",
          "text": [
            "\n",
            "      Epoch    GPU_mem   box_loss   cls_loss   dfl_loss  Instances       Size\n"
          ]
        },
        {
          "output_type": "stream",
          "name": "stderr",
          "text": [
            "      14/30      3.18G      1.311      1.785      1.285        413        640: 100%|██████████| 3/3 [00:00<00:00,  4.64it/s]\n",
            "                 Class     Images  Instances      Box(P          R      mAP50  mAP50-95): 100%|██████████| 1/1 [00:00<00:00,  4.38it/s]"
          ]
        },
        {
          "output_type": "stream",
          "name": "stdout",
          "text": [
            "                   all          7         46      0.148      0.152      0.121      0.054\n"
          ]
        },
        {
          "output_type": "stream",
          "name": "stderr",
          "text": [
            "\n"
          ]
        },
        {
          "output_type": "stream",
          "name": "stdout",
          "text": [
            "\n",
            "      Epoch    GPU_mem   box_loss   cls_loss   dfl_loss  Instances       Size\n"
          ]
        },
        {
          "output_type": "stream",
          "name": "stderr",
          "text": [
            "      15/30       3.2G      1.416      1.977      1.409        119        640: 100%|██████████| 3/3 [00:00<00:00,  3.14it/s]\n",
            "                 Class     Images  Instances      Box(P          R      mAP50  mAP50-95): 100%|██████████| 1/1 [00:00<00:00, 10.60it/s]"
          ]
        },
        {
          "output_type": "stream",
          "name": "stdout",
          "text": [
            "                   all          7         46      0.693      0.087      0.115     0.0529\n"
          ]
        },
        {
          "output_type": "stream",
          "name": "stderr",
          "text": [
            "\n"
          ]
        },
        {
          "output_type": "stream",
          "name": "stdout",
          "text": [
            "\n",
            "      Epoch    GPU_mem   box_loss   cls_loss   dfl_loss  Instances       Size\n"
          ]
        },
        {
          "output_type": "stream",
          "name": "stderr",
          "text": [
            "      16/30      3.44G      1.352      1.767      1.277        256        640: 100%|██████████| 3/3 [00:00<00:00,  4.02it/s]\n",
            "                 Class     Images  Instances      Box(P          R      mAP50  mAP50-95): 100%|██████████| 1/1 [00:00<00:00,  6.09it/s]"
          ]
        },
        {
          "output_type": "stream",
          "name": "stdout",
          "text": [
            "                   all          7         46      0.679      0.087      0.109     0.0519\n"
          ]
        },
        {
          "output_type": "stream",
          "name": "stderr",
          "text": [
            "\n"
          ]
        },
        {
          "output_type": "stream",
          "name": "stdout",
          "text": [
            "\n",
            "      Epoch    GPU_mem   box_loss   cls_loss   dfl_loss  Instances       Size\n"
          ]
        },
        {
          "output_type": "stream",
          "name": "stderr",
          "text": [
            "      17/30      3.46G      1.206      1.727      1.229        343        640: 100%|██████████| 3/3 [00:01<00:00,  1.68it/s]\n",
            "                 Class     Images  Instances      Box(P          R      mAP50  mAP50-95): 100%|██████████| 1/1 [00:00<00:00,  4.00it/s]"
          ]
        },
        {
          "output_type": "stream",
          "name": "stdout",
          "text": [
            "                   all          7         46      0.495      0.109      0.123     0.0605\n"
          ]
        },
        {
          "output_type": "stream",
          "name": "stderr",
          "text": [
            "\n"
          ]
        },
        {
          "output_type": "stream",
          "name": "stdout",
          "text": [
            "\n",
            "      Epoch    GPU_mem   box_loss   cls_loss   dfl_loss  Instances       Size\n"
          ]
        },
        {
          "output_type": "stream",
          "name": "stderr",
          "text": [
            "      18/30      3.47G      1.248      1.678      1.266        424        640: 100%|██████████| 3/3 [00:00<00:00,  4.72it/s]\n",
            "                 Class     Images  Instances      Box(P          R      mAP50  mAP50-95): 100%|██████████| 1/1 [00:00<00:00,  7.21it/s]"
          ]
        },
        {
          "output_type": "stream",
          "name": "stdout",
          "text": [
            "                   all          7         46      0.548      0.109      0.152     0.0683\n"
          ]
        },
        {
          "output_type": "stream",
          "name": "stderr",
          "text": [
            "\n"
          ]
        },
        {
          "output_type": "stream",
          "name": "stdout",
          "text": [
            "\n",
            "      Epoch    GPU_mem   box_loss   cls_loss   dfl_loss  Instances       Size\n"
          ]
        },
        {
          "output_type": "stream",
          "name": "stderr",
          "text": [
            "      19/30      3.49G      1.299      1.789      1.287        124        640: 100%|██████████| 3/3 [00:00<00:00,  4.90it/s]\n",
            "                 Class     Images  Instances      Box(P          R      mAP50  mAP50-95): 100%|██████████| 1/1 [00:00<00:00,  8.01it/s]"
          ]
        },
        {
          "output_type": "stream",
          "name": "stdout",
          "text": [
            "                   all          7         46      0.419       0.13      0.141     0.0678\n"
          ]
        },
        {
          "output_type": "stream",
          "name": "stderr",
          "text": [
            "\n"
          ]
        },
        {
          "output_type": "stream",
          "name": "stdout",
          "text": [
            "\n",
            "      Epoch    GPU_mem   box_loss   cls_loss   dfl_loss  Instances       Size\n"
          ]
        },
        {
          "output_type": "stream",
          "name": "stderr",
          "text": [
            "      20/30      3.51G      1.111      1.515      1.178        273        640: 100%|██████████| 3/3 [00:00<00:00,  4.73it/s]\n",
            "                 Class     Images  Instances      Box(P          R      mAP50  mAP50-95): 100%|██████████| 1/1 [00:00<00:00,  6.28it/s]\n"
          ]
        },
        {
          "output_type": "stream",
          "name": "stdout",
          "text": [
            "                   all          7         46      0.285      0.109      0.116     0.0617\n",
            "Closing dataloader mosaic\n",
            "\u001b[34m\u001b[1malbumentations: \u001b[0mBlur(p=0.01, blur_limit=(3, 7)), MedianBlur(p=0.01, blur_limit=(3, 7)), ToGray(p=0.01, method='weighted_average', num_output_channels=3), CLAHE(p=0.01, clip_limit=(1.0, 4.0), tile_grid_size=(8, 8))\n",
            "\n",
            "      Epoch    GPU_mem   box_loss   cls_loss   dfl_loss  Instances       Size\n"
          ]
        },
        {
          "output_type": "stream",
          "name": "stderr",
          "text": [
            "      21/30      3.52G      1.229      1.809      1.234        204        640: 100%|██████████| 3/3 [00:01<00:00,  1.78it/s]\n",
            "                 Class     Images  Instances      Box(P          R      mAP50  mAP50-95): 100%|██████████| 1/1 [00:00<00:00,  2.54it/s]"
          ]
        },
        {
          "output_type": "stream",
          "name": "stdout",
          "text": [
            "                   all          7         46      0.236       0.13      0.109     0.0573\n"
          ]
        },
        {
          "output_type": "stream",
          "name": "stderr",
          "text": [
            "\n"
          ]
        },
        {
          "output_type": "stream",
          "name": "stdout",
          "text": [
            "\n",
            "      Epoch    GPU_mem   box_loss   cls_loss   dfl_loss  Instances       Size\n"
          ]
        },
        {
          "output_type": "stream",
          "name": "stderr",
          "text": [
            "      22/30      3.54G       1.22       1.81      1.246        124        640: 100%|██████████| 3/3 [00:00<00:00,  4.75it/s]\n",
            "                 Class     Images  Instances      Box(P          R      mAP50  mAP50-95): 100%|██████████| 1/1 [00:00<00:00,  7.42it/s]"
          ]
        },
        {
          "output_type": "stream",
          "name": "stdout",
          "text": [
            "                   all          7         46      0.247      0.152      0.127     0.0601\n"
          ]
        },
        {
          "output_type": "stream",
          "name": "stderr",
          "text": [
            "\n"
          ]
        },
        {
          "output_type": "stream",
          "name": "stdout",
          "text": [
            "\n",
            "      Epoch    GPU_mem   box_loss   cls_loss   dfl_loss  Instances       Size\n"
          ]
        },
        {
          "output_type": "stream",
          "name": "stderr",
          "text": [
            "      23/30      3.56G      1.277      1.756      1.271        135        640: 100%|██████████| 3/3 [00:00<00:00,  4.25it/s]\n",
            "                 Class     Images  Instances      Box(P          R      mAP50  mAP50-95): 100%|██████████| 1/1 [00:00<00:00,  7.01it/s]"
          ]
        },
        {
          "output_type": "stream",
          "name": "stdout",
          "text": [
            "                   all          7         46      0.269      0.196      0.137      0.058\n"
          ]
        },
        {
          "output_type": "stream",
          "name": "stderr",
          "text": [
            "\n"
          ]
        },
        {
          "output_type": "stream",
          "name": "stdout",
          "text": [
            "\n",
            "      Epoch    GPU_mem   box_loss   cls_loss   dfl_loss  Instances       Size\n"
          ]
        },
        {
          "output_type": "stream",
          "name": "stderr",
          "text": [
            "      24/30      3.57G      1.121      1.613      1.205        265        640: 100%|██████████| 3/3 [00:00<00:00,  4.79it/s]\n",
            "                 Class     Images  Instances      Box(P          R      mAP50  mAP50-95): 100%|██████████| 1/1 [00:00<00:00, 10.54it/s]"
          ]
        },
        {
          "output_type": "stream",
          "name": "stdout",
          "text": [
            "                   all          7         46      0.289      0.239      0.138     0.0618\n"
          ]
        },
        {
          "output_type": "stream",
          "name": "stderr",
          "text": [
            "\n"
          ]
        },
        {
          "output_type": "stream",
          "name": "stdout",
          "text": [
            "\n",
            "      Epoch    GPU_mem   box_loss   cls_loss   dfl_loss  Instances       Size\n"
          ]
        },
        {
          "output_type": "stream",
          "name": "stderr",
          "text": [
            "      25/30      3.59G      1.265      1.771      1.272        202        640: 100%|██████████| 3/3 [00:00<00:00,  4.09it/s]\n",
            "                 Class     Images  Instances      Box(P          R      mAP50  mAP50-95): 100%|██████████| 1/1 [00:00<00:00,  5.67it/s]"
          ]
        },
        {
          "output_type": "stream",
          "name": "stdout",
          "text": [
            "                   all          7         46      0.294      0.217      0.151     0.0782\n"
          ]
        },
        {
          "output_type": "stream",
          "name": "stderr",
          "text": [
            "\n"
          ]
        },
        {
          "output_type": "stream",
          "name": "stdout",
          "text": [
            "\n",
            "      Epoch    GPU_mem   box_loss   cls_loss   dfl_loss  Instances       Size\n"
          ]
        },
        {
          "output_type": "stream",
          "name": "stderr",
          "text": [
            "      26/30      3.61G      1.228      1.666      1.255        203        640: 100%|██████████| 3/3 [00:00<00:00,  3.35it/s]\n",
            "                 Class     Images  Instances      Box(P          R      mAP50  mAP50-95): 100%|██████████| 1/1 [00:00<00:00,  4.88it/s]"
          ]
        },
        {
          "output_type": "stream",
          "name": "stdout",
          "text": [
            "                   all          7         46      0.328      0.239      0.156     0.0825\n"
          ]
        },
        {
          "output_type": "stream",
          "name": "stderr",
          "text": [
            "\n"
          ]
        },
        {
          "output_type": "stream",
          "name": "stdout",
          "text": [
            "\n",
            "      Epoch    GPU_mem   box_loss   cls_loss   dfl_loss  Instances       Size\n"
          ]
        },
        {
          "output_type": "stream",
          "name": "stderr",
          "text": [
            "      27/30      3.63G      1.147      1.613        1.2        208        640: 100%|██████████| 3/3 [00:00<00:00,  3.85it/s]\n",
            "                 Class     Images  Instances      Box(P          R      mAP50  mAP50-95): 100%|██████████| 1/1 [00:00<00:00,  8.31it/s]"
          ]
        },
        {
          "output_type": "stream",
          "name": "stdout",
          "text": [
            "                   all          7         46      0.324      0.239      0.156     0.0838\n"
          ]
        },
        {
          "output_type": "stream",
          "name": "stderr",
          "text": [
            "\n"
          ]
        },
        {
          "output_type": "stream",
          "name": "stdout",
          "text": [
            "\n",
            "      Epoch    GPU_mem   box_loss   cls_loss   dfl_loss  Instances       Size\n"
          ]
        },
        {
          "output_type": "stream",
          "name": "stderr",
          "text": [
            "      28/30      3.64G      1.202      1.635      1.203        225        640: 100%|██████████| 3/3 [00:00<00:00,  4.99it/s]\n",
            "                 Class     Images  Instances      Box(P          R      mAP50  mAP50-95): 100%|██████████| 1/1 [00:00<00:00,  6.94it/s]"
          ]
        },
        {
          "output_type": "stream",
          "name": "stdout",
          "text": [
            "                   all          7         46      0.421      0.239      0.174     0.0961\n"
          ]
        },
        {
          "output_type": "stream",
          "name": "stderr",
          "text": [
            "\n"
          ]
        },
        {
          "output_type": "stream",
          "name": "stdout",
          "text": [
            "\n",
            "      Epoch    GPU_mem   box_loss   cls_loss   dfl_loss  Instances       Size\n"
          ]
        },
        {
          "output_type": "stream",
          "name": "stderr",
          "text": [
            "      29/30      3.66G      1.167      1.647      1.194        121        640: 100%|██████████| 3/3 [00:00<00:00,  5.34it/s]\n",
            "                 Class     Images  Instances      Box(P          R      mAP50  mAP50-95): 100%|██████████| 1/1 [00:00<00:00,  5.33it/s]\n"
          ]
        },
        {
          "output_type": "stream",
          "name": "stdout",
          "text": [
            "                   all          7         46      0.421      0.239      0.174     0.0961\n",
            "\n",
            "      Epoch    GPU_mem   box_loss   cls_loss   dfl_loss  Instances       Size\n"
          ]
        },
        {
          "output_type": "stream",
          "name": "stderr",
          "text": [
            "      30/30      3.68G      1.194      1.691      1.231        104        640: 100%|██████████| 3/3 [00:00<00:00,  5.46it/s]\n",
            "                 Class     Images  Instances      Box(P          R      mAP50  mAP50-95): 100%|██████████| 1/1 [00:00<00:00,  6.19it/s]"
          ]
        },
        {
          "output_type": "stream",
          "name": "stdout",
          "text": [
            "                   all          7         46      0.412      0.261      0.188      0.109\n"
          ]
        },
        {
          "output_type": "stream",
          "name": "stderr",
          "text": [
            "\n"
          ]
        },
        {
          "output_type": "stream",
          "name": "stdout",
          "text": [
            "\n",
            "30 epochs completed in 0.012 hours.\n",
            "Optimizer stripped from runs/detect/Placard-stick/weights/last.pt, 6.2MB\n",
            "Optimizer stripped from runs/detect/Placard-stick/weights/best.pt, 6.2MB\n",
            "\n",
            "Validating runs/detect/Placard-stick/weights/best.pt...\n",
            "Ultralytics 8.3.134 🚀 Python-3.11.12 torch-2.6.0+cu124 CUDA:0 (Tesla T4, 15095MiB)\n",
            "Model summary (fused): 72 layers, 3,006,233 parameters, 0 gradients, 8.1 GFLOPs\n"
          ]
        },
        {
          "output_type": "stream",
          "name": "stderr",
          "text": [
            "                 Class     Images  Instances      Box(P          R      mAP50  mAP50-95): 100%|██████████| 1/1 [00:00<00:00, 15.02it/s]\n"
          ]
        },
        {
          "output_type": "stream",
          "name": "stdout",
          "text": [
            "                   all          7         46      0.414      0.261      0.188      0.109\n",
            "                Sticks          7         46      0.414      0.261      0.188      0.109\n",
            "Speed: 0.2ms preprocess, 2.0ms inference, 0.0ms loss, 2.0ms postprocess per image\n",
            "Results saved to \u001b[1mruns/detect/Placard-stick\u001b[0m\n"
          ]
        }
      ]
    },
    {
      "cell_type": "markdown",
      "source": [
        "Unzipping Fights Dataset"
      ],
      "metadata": {
        "id": "BcmmoMbTEO3L"
      }
    },
    {
      "cell_type": "code",
      "source": [
        "!unzip /content/Fights.v1i.yolov8.zip -d /content/Fights"
      ],
      "metadata": {
        "colab": {
          "base_uri": "https://localhost:8080/"
        },
        "id": "MKdC0NL8ESRO",
        "outputId": "efcd47e5-bede-4d6b-ed34-23fe4f0d6fce",
        "collapsed": true
      },
      "execution_count": null,
      "outputs": [
        {
          "output_type": "stream",
          "name": "stdout",
          "text": [
            "Archive:  /content/Fights.v1i.yolov8.zip\n",
            "  inflating: /content/Fights/README.dataset.txt  \n",
            "  inflating: /content/Fights/README.roboflow.txt  \n",
            "  inflating: /content/Fights/data.yaml  \n",
            "   creating: /content/Fights/test/\n",
            "   creating: /content/Fights/test/images/\n",
            " extracting: /content/Fights/test/images/V_1000_frame35_jpg.rf.d2f2746a1d7227f3d9630501ec019eaa.jpg  \n",
            " extracting: /content/Fights/test/images/V_119_frame133_jpg.rf.6d913c717fe9cd7b827380c40a82cd23.jpg  \n",
            " extracting: /content/Fights/test/images/V_153_frame98_jpg.rf.d545989a8fe5c0e45f52689dbb97866c.jpg  \n",
            " extracting: /content/Fights/test/images/V_186_frame84_jpg.rf.e42432cb8db062908a9cf6b418da4173.jpg  \n",
            " extracting: /content/Fights/test/images/V_19_frame105_jpg.rf.016679e265bb4368637baeb64740dfaf.jpg  \n",
            " extracting: /content/Fights/test/images/V_1_frame70_jpg.rf.bd6543adaae8189cd5312b5d50509c28.jpg  \n",
            " extracting: /content/Fights/test/images/V_210_frame84_jpg.rf.959521cb68d1e4d03f6bb2e2266f8910.jpg  \n",
            " extracting: /content/Fights/test/images/V_259_frame63_jpg.rf.0a57665d6cf085a78d3a93c4c0230553.jpg  \n",
            " extracting: /content/Fights/test/images/V_27_frame35_jpg.rf.b1cb65ebd0a07f6a2ea6fe3cd87768fe.jpg  \n",
            " extracting: /content/Fights/test/images/V_30_frame70_jpg.rf.fc7bded3dc008a8ab76f07a3118ea4a2.jpg  \n",
            " extracting: /content/Fights/test/images/V_388_frame119_jpg.rf.9a7556e27e171701cd04d195c350330d.jpg  \n",
            " extracting: /content/Fights/test/images/V_390_frame42_jpg.rf.413e3e2390c5f49ac1710c49641e68f8.jpg  \n",
            " extracting: /content/Fights/test/images/V_3_frame147_jpg.rf.bf783f0b21a5a3ab1b4072d0f15b9766.jpg  \n",
            " extracting: /content/Fights/test/images/V_424_frame133_jpg.rf.1d816f67b63e49ec5e920dd5da1728a1.jpg  \n",
            " extracting: /content/Fights/test/images/V_437_frame119_jpg.rf.264b814aefadd0e0dd2597c6996df112.jpg  \n",
            " extracting: /content/Fights/test/images/V_452_frame14_jpg.rf.794a6c6e09311cf8ed5ba7228443ac7f.jpg  \n",
            " extracting: /content/Fights/test/images/V_4_frame63_jpg.rf.8d0e456cf91674658bae41d68c9fae44.jpg  \n",
            " extracting: /content/Fights/test/images/V_529_frame21_jpg.rf.86c7a14c7c64ce036978f976935b377f.jpg  \n",
            " extracting: /content/Fights/test/images/V_571_frame91_jpg.rf.e7b1a7490cfb0e677ac9c3ee711e670d.jpg  \n",
            " extracting: /content/Fights/test/images/V_602_frame49_jpg.rf.92bec595dccaf51e58ddb385f750a0d2.jpg  \n",
            " extracting: /content/Fights/test/images/V_607_frame126_jpg.rf.6fd3ea3f4f26d3095ff9d842cb656c64.jpg  \n",
            " extracting: /content/Fights/test/images/V_608_frame35_jpg.rf.598ceebcbc239652353ed9526e8af81d.jpg  \n",
            " extracting: /content/Fights/test/images/V_677_frame63_jpg.rf.874760b815a1aecdcffc15f590f0649e.jpg  \n",
            " extracting: /content/Fights/test/images/V_6_frame126_jpg.rf.36061c7a612313055f18da60571aa160.jpg  \n",
            " extracting: /content/Fights/test/images/V_720_frame98_jpg.rf.5444ffbc3e0ace906f90d307d0b2b952.jpg  \n",
            " extracting: /content/Fights/test/images/V_749_frame63_jpg.rf.73deea4f6a0eae4868181077517058ea.jpg  \n",
            " extracting: /content/Fights/test/images/V_766_frame7_jpg.rf.1873d326a0b077f55c53c06d25d0d7b1.jpg  \n",
            " extracting: /content/Fights/test/images/V_767_frame35_jpg.rf.da2cfc8bb69b73848085950b81436f3e.jpg  \n",
            " extracting: /content/Fights/test/images/V_803_frame105_jpg.rf.514d2092fafee5e435cf5319af1b633f.jpg  \n",
            " extracting: /content/Fights/test/images/V_806_frame56_jpg.rf.f11d9eb55bcd59cfeef37d11ef5d6633.jpg  \n",
            " extracting: /content/Fights/test/images/V_813_frame84_jpg.rf.184671dad7478d309b9d8bf8a353de73.jpg  \n",
            " extracting: /content/Fights/test/images/V_819_frame28_jpg.rf.17ce8d6606f542e5dad55b723ff91b7e.jpg  \n",
            " extracting: /content/Fights/test/images/V_819_frame35_jpg.rf.0c5f7fa3481197aa129d453481cb69ea.jpg  \n",
            " extracting: /content/Fights/test/images/V_826_frame70_jpg.rf.1a94c4c83f1a41e91cf72b084a9bfbd3.jpg  \n",
            " extracting: /content/Fights/test/images/V_827_frame105_jpg.rf.d5dfe93b9eceb25b9f76e87a18b63260.jpg  \n",
            " extracting: /content/Fights/test/images/V_828_frame35_jpg.rf.94f3b6e5aadca28e227ec1dc350a5907.jpg  \n",
            " extracting: /content/Fights/test/images/V_828_frame98_jpg.rf.dd22e8e0f902bd9fb34c200b6270396f.jpg  \n",
            " extracting: /content/Fights/test/images/V_836_frame49_jpg.rf.5819b8673af22e93cbb0fbf8a5cfe5eb.jpg  \n",
            " extracting: /content/Fights/test/images/V_837_frame49_jpg.rf.9580fe44d48206441edbd92a1e436b33.jpg  \n",
            " extracting: /content/Fights/test/images/V_837_frame91_jpg.rf.e0d1c5ea3e978797e545a6bddcf168eb.jpg  \n",
            " extracting: /content/Fights/test/images/V_839_frame35_jpg.rf.93dbb88bc1affe0e2103addf86ff74ff.jpg  \n",
            " extracting: /content/Fights/test/images/V_842_frame119_jpg.rf.0b7ac46ad8fd2fb3ccd6374ba0e1994d.jpg  \n",
            " extracting: /content/Fights/test/images/V_843_frame105_jpg.rf.eec4eea621bdae86fa95a0f1a614aa60.jpg  \n",
            " extracting: /content/Fights/test/images/V_851_frame42_jpg.rf.294e247ffc1858aa66324eec7ee8fefc.jpg  \n",
            " extracting: /content/Fights/test/images/V_855_frame28_jpg.rf.f4ad73f7efc88a7ba63155be494d8c1d.jpg  \n",
            " extracting: /content/Fights/test/images/V_870_frame28_jpg.rf.93f7a2e4920f715e107cfca299d22638.jpg  \n",
            " extracting: /content/Fights/test/images/V_875_frame119_jpg.rf.07aab0c25d2a55009891200333bab4fa.jpg  \n",
            " extracting: /content/Fights/test/images/V_878_frame63_jpg.rf.007a874208c7142e9dbcb7cc7a5e8364.jpg  \n",
            " extracting: /content/Fights/test/images/V_887_frame77_jpg.rf.86ca4914c712e43a3f9944727dd9caf7.jpg  \n",
            " extracting: /content/Fights/test/images/V_898_frame28_jpg.rf.17f737f7c7d9a4c4cab5fd2efeed1231.jpg  \n",
            " extracting: /content/Fights/test/images/V_899_frame77_jpg.rf.e72082d429cfd8e78d6cc6ee3697ea2a.jpg  \n",
            " extracting: /content/Fights/test/images/V_900_frame77_jpg.rf.b8008833ef8510050c639c8d0e12fb64.jpg  \n",
            " extracting: /content/Fights/test/images/V_902_frame14_jpg.rf.53a96e7cc2e9d772292a4c7f1d13ead5.jpg  \n",
            " extracting: /content/Fights/test/images/V_905_frame70_jpg.rf.c49b01e006d3ac2169b20cbb436c5b60.jpg  \n",
            " extracting: /content/Fights/test/images/V_920_frame14_jpg.rf.e7e5744897beb8a920cf258499755a2d.jpg  \n",
            " extracting: /content/Fights/test/images/V_924_frame35_jpg.rf.20483829d980942143a7e7171bc8e7df.jpg  \n",
            " extracting: /content/Fights/test/images/V_944_frame63_jpg.rf.10aa54942d6e4ad178e5d82face61357.jpg  \n",
            " extracting: /content/Fights/test/images/V_965_frame0_jpg.rf.4d39b5cb180afd6969cedcaeb7fc5e65.jpg  \n",
            " extracting: /content/Fights/test/images/V_9_frame105_jpg.rf.08858019dbabd0aa0eb047b86f6e67e1.jpg  \n",
            " extracting: /content/Fights/test/images/ex_fight-26_jpg.rf.5040594fbe0f4da7606809f3a30f8d4e.jpg  \n",
            " extracting: /content/Fights/test/images/ex_fight-31_jpg.rf.78ba051121deece2f57f1baad87365ee.jpg  \n",
            " extracting: /content/Fights/test/images/ex_fight-77_jpg.rf.ad99c6bd93382bea8e476ca44dc5eac9.jpg  \n",
            " extracting: /content/Fights/test/images/fight_0022_frame10_jpg.rf.04344857859a5f23a77355671e5facf6.jpg  \n",
            " extracting: /content/Fights/test/images/fight_0028_frame1155_jpg.rf.6db2225aae5ea6a151f2076fa5574637.jpg  \n",
            " extracting: /content/Fights/test/images/fight_0033_frame1500_jpg.rf.0fbb91d7b31ce8ff15811e036b8ea42f.jpg  \n",
            " extracting: /content/Fights/test/images/fight_0036_frame455_jpg.rf.deeb1f5f35c38f24601ad9f6d227404d.jpg  \n",
            " extracting: /content/Fights/test/images/fight_0157_frame140_jpg.rf.9563337b4c7cf9b1ffb0551c925c7e45.jpg  \n",
            " extracting: /content/Fights/test/images/fight_0199_frame1700_jpg.rf.3206adb0735f9318e42a009748a1061a.jpg  \n",
            " extracting: /content/Fights/test/images/fight_0504_frame125_jpg.rf.c52053f82226c8e426db19610b93444d.jpg  \n",
            " extracting: /content/Fights/test/images/fight_0507_frame240_jpg.rf.93a373d387d2d70958823a0cc2c6b90d.jpg  \n",
            " extracting: /content/Fights/test/images/fight_0521_frame1560_jpg.rf.35b2c38f48da005017151b808c10813c.jpg  \n",
            " extracting: /content/Fights/test/images/fight_0543_frame1555_jpg.rf.21661ad9fd8d8c661634fa6de1ea4937.jpg  \n",
            " extracting: /content/Fights/test/images/fight_0548_frame300_jpg.rf.3c77c7adfceb3b4504a117e510ecb287.jpg  \n",
            " extracting: /content/Fights/test/images/fight_0551_frame1235_jpg.rf.bd9887d7a4658b4ef1c5779998295a21.jpg  \n",
            " extracting: /content/Fights/test/images/fight_0551_frame1525_jpg.rf.2e641a087387eb68f7c579a0af74728e.jpg  \n",
            " extracting: /content/Fights/test/images/fight_0551_frame1665_jpg.rf.114b1f2862833d91befafea9fc2154b9.jpg  \n",
            " extracting: /content/Fights/test/images/fight_0551_frame1695_jpg.rf.965da9284e8b5eedbef6e4d1e1e70b7d.jpg  \n",
            " extracting: /content/Fights/test/images/fight_0560_frame1565_jpg.rf.d952009314cde585a3f0a50ce392edbc.jpg  \n",
            " extracting: /content/Fights/test/images/fight_0582_frame425_jpg.rf.d368419f68fb4945c7efa89a5f43cffb.jpg  \n",
            " extracting: /content/Fights/test/images/fight_0592_frame180_jpg.rf.12a8c78318e88ee9b33a06a432605031.jpg  \n",
            " extracting: /content/Fights/test/images/fight_0598_frame390_jpg.rf.ba8db03e14adb287d38c4e4d27d977b2.jpg  \n",
            " extracting: /content/Fights/test/images/fight_0620_frame834_jpg.rf.a224a2759da5f9b6c3e8e7e6c29c05fd.jpg  \n",
            " extracting: /content/Fights/test/images/fight_0627_frame27_jpg.rf.7d9319e210c8231f0a34146dbc2631a0.jpg  \n",
            " extracting: /content/Fights/test/images/fight_0647_frame54_jpg.rf.833638b018484e7926cc0223048962c2.jpg  \n",
            " extracting: /content/Fights/test/images/fight_0654_frame1860_jpg.rf.4e0e73a14d434a6c96e132bc862dc06e.jpg  \n",
            " extracting: /content/Fights/test/images/fight_0654_frame1929_jpg.rf.10fe51c53a917c71f1bd5a4af4ffb20f.jpg  \n",
            " extracting: /content/Fights/test/images/fight_0672_frame1956_jpg.rf.0f9068dc08c1380c302e7b37319cd2b7.jpg  \n",
            " extracting: /content/Fights/test/images/fight_0692_frame705_jpg.rf.dda0be619af8ef093f50b4181f9dbcdb.jpg  \n",
            " extracting: /content/Fights/test/images/fight_0696_frame3_jpg.rf.f5c7614849d77f2ce2e54f2a4e9d0545.jpg  \n",
            " extracting: /content/Fights/test/images/fight_0714_frame159_jpg.rf.a3b095d069a2c825f0f043feb6b64540.jpg  \n",
            " extracting: /content/Fights/test/images/fight_0716_frame30_jpg.rf.9662095c5f66326ae843ed3ca39ec310.jpg  \n",
            " extracting: /content/Fights/test/images/fight_0726_frame141_jpg.rf.c4c1283d10c971f2734a0ebc3fedbc28.jpg  \n",
            " extracting: /content/Fights/test/images/fight_0735_frame87_jpg.rf.381302360e1590d898473d34b2a86556.jpg  \n",
            " extracting: /content/Fights/test/images/fight_0740_frame9_jpg.rf.8af1c76aba967061ff68173d11d0fd89.jpg  \n",
            " extracting: /content/Fights/test/images/fight_0741_frame165_jpg.rf.227dc028099e196aef5fcf1e6ee13a19.jpg  \n",
            " extracting: /content/Fights/test/images/fight_0741_frame753_jpg.rf.a090f7a3cca3b1977befcaa5b6bcc30c.jpg  \n",
            " extracting: /content/Fights/test/images/fight_0768_frame552_jpg.rf.f13b8b0ab852bfb2aa42be78585d9986.jpg  \n",
            " extracting: /content/Fights/test/images/fight_0796_frame738_jpg.rf.1eb417db2e81977961e7f3baf7090bc6.jpg  \n",
            " extracting: /content/Fights/test/images/fight_0801_frame350_jpg.rf.a7bf722bd0e37483269392a8c8fc5bf2.jpg  \n",
            " extracting: /content/Fights/test/images/fight_0831_frame1390_jpg.rf.4c70407a7f17a52109a85a980d04daf9.jpg  \n",
            " extracting: /content/Fights/test/images/fight_0842_frame625_jpg.rf.02f3f26c69a7ff1f0d7c61a9c87b9515.jpg  \n",
            " extracting: /content/Fights/test/images/fight_0852_frame140_jpg.rf.32741aee1a9dc637b657eb2061598e65.jpg  \n",
            " extracting: /content/Fights/test/images/fight_0853_frame2360_jpg.rf.dea275ce109bb2996e6c3d982a466534.jpg  \n",
            " extracting: /content/Fights/test/images/fight_0853_frame2515_jpg.rf.c62c05c59f890bb50a19686c23be54d8.jpg  \n",
            " extracting: /content/Fights/test/images/fight_0853_frame2570_jpg.rf.d5eaa8d10a3a69cbab19b2a4312a3ed8.jpg  \n",
            " extracting: /content/Fights/test/images/fight_0857_frame180_jpg.rf.f2203b4abbd8994b7e49791a96629342.jpg  \n",
            " extracting: /content/Fights/test/images/fight_0858_frame525_jpg.rf.7d803b812dae01a71330e1ce8347316a.jpg  \n",
            " extracting: /content/Fights/test/images/fight_0860_frame205_jpg.rf.0b9336f7503b1d8b480fe770c09958e1.jpg  \n",
            "   creating: /content/Fights/test/labels/\n",
            "  inflating: /content/Fights/test/labels/V_1000_frame35_jpg.rf.d2f2746a1d7227f3d9630501ec019eaa.txt  \n",
            "  inflating: /content/Fights/test/labels/V_119_frame133_jpg.rf.6d913c717fe9cd7b827380c40a82cd23.txt  \n",
            "  inflating: /content/Fights/test/labels/V_153_frame98_jpg.rf.d545989a8fe5c0e45f52689dbb97866c.txt  \n",
            "  inflating: /content/Fights/test/labels/V_186_frame84_jpg.rf.e42432cb8db062908a9cf6b418da4173.txt  \n",
            " extracting: /content/Fights/test/labels/V_19_frame105_jpg.rf.016679e265bb4368637baeb64740dfaf.txt  \n",
            "  inflating: /content/Fights/test/labels/V_1_frame70_jpg.rf.bd6543adaae8189cd5312b5d50509c28.txt  \n",
            "  inflating: /content/Fights/test/labels/V_210_frame84_jpg.rf.959521cb68d1e4d03f6bb2e2266f8910.txt  \n",
            "  inflating: /content/Fights/test/labels/V_259_frame63_jpg.rf.0a57665d6cf085a78d3a93c4c0230553.txt  \n",
            "  inflating: /content/Fights/test/labels/V_27_frame35_jpg.rf.b1cb65ebd0a07f6a2ea6fe3cd87768fe.txt  \n",
            "  inflating: /content/Fights/test/labels/V_30_frame70_jpg.rf.fc7bded3dc008a8ab76f07a3118ea4a2.txt  \n",
            "  inflating: /content/Fights/test/labels/V_388_frame119_jpg.rf.9a7556e27e171701cd04d195c350330d.txt  \n",
            "  inflating: /content/Fights/test/labels/V_390_frame42_jpg.rf.413e3e2390c5f49ac1710c49641e68f8.txt  \n",
            "  inflating: /content/Fights/test/labels/V_3_frame147_jpg.rf.bf783f0b21a5a3ab1b4072d0f15b9766.txt  \n",
            "  inflating: /content/Fights/test/labels/V_424_frame133_jpg.rf.1d816f67b63e49ec5e920dd5da1728a1.txt  \n",
            "  inflating: /content/Fights/test/labels/V_437_frame119_jpg.rf.264b814aefadd0e0dd2597c6996df112.txt  \n",
            "  inflating: /content/Fights/test/labels/V_452_frame14_jpg.rf.794a6c6e09311cf8ed5ba7228443ac7f.txt  \n",
            "  inflating: /content/Fights/test/labels/V_4_frame63_jpg.rf.8d0e456cf91674658bae41d68c9fae44.txt  \n",
            "  inflating: /content/Fights/test/labels/V_529_frame21_jpg.rf.86c7a14c7c64ce036978f976935b377f.txt  \n",
            "  inflating: /content/Fights/test/labels/V_571_frame91_jpg.rf.e7b1a7490cfb0e677ac9c3ee711e670d.txt  \n",
            "  inflating: /content/Fights/test/labels/V_602_frame49_jpg.rf.92bec595dccaf51e58ddb385f750a0d2.txt  \n",
            "  inflating: /content/Fights/test/labels/V_607_frame126_jpg.rf.6fd3ea3f4f26d3095ff9d842cb656c64.txt  \n",
            "  inflating: /content/Fights/test/labels/V_608_frame35_jpg.rf.598ceebcbc239652353ed9526e8af81d.txt  \n",
            "  inflating: /content/Fights/test/labels/V_677_frame63_jpg.rf.874760b815a1aecdcffc15f590f0649e.txt  \n",
            "  inflating: /content/Fights/test/labels/V_6_frame126_jpg.rf.36061c7a612313055f18da60571aa160.txt  \n",
            "  inflating: /content/Fights/test/labels/V_720_frame98_jpg.rf.5444ffbc3e0ace906f90d307d0b2b952.txt  \n",
            "  inflating: /content/Fights/test/labels/V_749_frame63_jpg.rf.73deea4f6a0eae4868181077517058ea.txt  \n",
            "  inflating: /content/Fights/test/labels/V_766_frame7_jpg.rf.1873d326a0b077f55c53c06d25d0d7b1.txt  \n",
            "  inflating: /content/Fights/test/labels/V_767_frame35_jpg.rf.da2cfc8bb69b73848085950b81436f3e.txt  \n",
            "  inflating: /content/Fights/test/labels/V_803_frame105_jpg.rf.514d2092fafee5e435cf5319af1b633f.txt  \n",
            "  inflating: /content/Fights/test/labels/V_806_frame56_jpg.rf.f11d9eb55bcd59cfeef37d11ef5d6633.txt  \n",
            "  inflating: /content/Fights/test/labels/V_813_frame84_jpg.rf.184671dad7478d309b9d8bf8a353de73.txt  \n",
            "  inflating: /content/Fights/test/labels/V_819_frame28_jpg.rf.17ce8d6606f542e5dad55b723ff91b7e.txt  \n",
            "  inflating: /content/Fights/test/labels/V_819_frame35_jpg.rf.0c5f7fa3481197aa129d453481cb69ea.txt  \n",
            "  inflating: /content/Fights/test/labels/V_826_frame70_jpg.rf.1a94c4c83f1a41e91cf72b084a9bfbd3.txt  \n",
            "  inflating: /content/Fights/test/labels/V_827_frame105_jpg.rf.d5dfe93b9eceb25b9f76e87a18b63260.txt  \n",
            "  inflating: /content/Fights/test/labels/V_828_frame35_jpg.rf.94f3b6e5aadca28e227ec1dc350a5907.txt  \n",
            "  inflating: /content/Fights/test/labels/V_828_frame98_jpg.rf.dd22e8e0f902bd9fb34c200b6270396f.txt  \n",
            "  inflating: /content/Fights/test/labels/V_836_frame49_jpg.rf.5819b8673af22e93cbb0fbf8a5cfe5eb.txt  \n",
            "  inflating: /content/Fights/test/labels/V_837_frame49_jpg.rf.9580fe44d48206441edbd92a1e436b33.txt  \n",
            "  inflating: /content/Fights/test/labels/V_837_frame91_jpg.rf.e0d1c5ea3e978797e545a6bddcf168eb.txt  \n",
            "  inflating: /content/Fights/test/labels/V_839_frame35_jpg.rf.93dbb88bc1affe0e2103addf86ff74ff.txt  \n",
            "  inflating: /content/Fights/test/labels/V_842_frame119_jpg.rf.0b7ac46ad8fd2fb3ccd6374ba0e1994d.txt  \n",
            "  inflating: /content/Fights/test/labels/V_843_frame105_jpg.rf.eec4eea621bdae86fa95a0f1a614aa60.txt  \n",
            "  inflating: /content/Fights/test/labels/V_851_frame42_jpg.rf.294e247ffc1858aa66324eec7ee8fefc.txt  \n",
            " extracting: /content/Fights/test/labels/V_855_frame28_jpg.rf.f4ad73f7efc88a7ba63155be494d8c1d.txt  \n",
            "  inflating: /content/Fights/test/labels/V_870_frame28_jpg.rf.93f7a2e4920f715e107cfca299d22638.txt  \n",
            "  inflating: /content/Fights/test/labels/V_875_frame119_jpg.rf.07aab0c25d2a55009891200333bab4fa.txt  \n",
            "  inflating: /content/Fights/test/labels/V_878_frame63_jpg.rf.007a874208c7142e9dbcb7cc7a5e8364.txt  \n",
            "  inflating: /content/Fights/test/labels/V_887_frame77_jpg.rf.86ca4914c712e43a3f9944727dd9caf7.txt  \n",
            "  inflating: /content/Fights/test/labels/V_898_frame28_jpg.rf.17f737f7c7d9a4c4cab5fd2efeed1231.txt  \n",
            "  inflating: /content/Fights/test/labels/V_899_frame77_jpg.rf.e72082d429cfd8e78d6cc6ee3697ea2a.txt  \n",
            "  inflating: /content/Fights/test/labels/V_900_frame77_jpg.rf.b8008833ef8510050c639c8d0e12fb64.txt  \n",
            "  inflating: /content/Fights/test/labels/V_902_frame14_jpg.rf.53a96e7cc2e9d772292a4c7f1d13ead5.txt  \n",
            "  inflating: /content/Fights/test/labels/V_905_frame70_jpg.rf.c49b01e006d3ac2169b20cbb436c5b60.txt  \n",
            "  inflating: /content/Fights/test/labels/V_920_frame14_jpg.rf.e7e5744897beb8a920cf258499755a2d.txt  \n",
            "  inflating: /content/Fights/test/labels/V_924_frame35_jpg.rf.20483829d980942143a7e7171bc8e7df.txt  \n",
            "  inflating: /content/Fights/test/labels/V_944_frame63_jpg.rf.10aa54942d6e4ad178e5d82face61357.txt  \n",
            "  inflating: /content/Fights/test/labels/V_965_frame0_jpg.rf.4d39b5cb180afd6969cedcaeb7fc5e65.txt  \n",
            "  inflating: /content/Fights/test/labels/V_9_frame105_jpg.rf.08858019dbabd0aa0eb047b86f6e67e1.txt  \n",
            " extracting: /content/Fights/test/labels/ex_fight-26_jpg.rf.5040594fbe0f4da7606809f3a30f8d4e.txt  \n",
            "  inflating: /content/Fights/test/labels/ex_fight-31_jpg.rf.78ba051121deece2f57f1baad87365ee.txt  \n",
            "  inflating: /content/Fights/test/labels/ex_fight-77_jpg.rf.ad99c6bd93382bea8e476ca44dc5eac9.txt  \n",
            "  inflating: /content/Fights/test/labels/fight_0022_frame10_jpg.rf.04344857859a5f23a77355671e5facf6.txt  \n",
            "  inflating: /content/Fights/test/labels/fight_0028_frame1155_jpg.rf.6db2225aae5ea6a151f2076fa5574637.txt  \n",
            "  inflating: /content/Fights/test/labels/fight_0033_frame1500_jpg.rf.0fbb91d7b31ce8ff15811e036b8ea42f.txt  \n",
            "  inflating: /content/Fights/test/labels/fight_0036_frame455_jpg.rf.deeb1f5f35c38f24601ad9f6d227404d.txt  \n",
            "  inflating: /content/Fights/test/labels/fight_0157_frame140_jpg.rf.9563337b4c7cf9b1ffb0551c925c7e45.txt  \n",
            "  inflating: /content/Fights/test/labels/fight_0199_frame1700_jpg.rf.3206adb0735f9318e42a009748a1061a.txt  \n",
            "  inflating: /content/Fights/test/labels/fight_0504_frame125_jpg.rf.c52053f82226c8e426db19610b93444d.txt  \n",
            "  inflating: /content/Fights/test/labels/fight_0507_frame240_jpg.rf.93a373d387d2d70958823a0cc2c6b90d.txt  \n",
            "  inflating: /content/Fights/test/labels/fight_0521_frame1560_jpg.rf.35b2c38f48da005017151b808c10813c.txt  \n",
            "  inflating: /content/Fights/test/labels/fight_0543_frame1555_jpg.rf.21661ad9fd8d8c661634fa6de1ea4937.txt  \n",
            "  inflating: /content/Fights/test/labels/fight_0548_frame300_jpg.rf.3c77c7adfceb3b4504a117e510ecb287.txt  \n",
            "  inflating: /content/Fights/test/labels/fight_0551_frame1235_jpg.rf.bd9887d7a4658b4ef1c5779998295a21.txt  \n",
            "  inflating: /content/Fights/test/labels/fight_0551_frame1525_jpg.rf.2e641a087387eb68f7c579a0af74728e.txt  \n",
            "  inflating: /content/Fights/test/labels/fight_0551_frame1665_jpg.rf.114b1f2862833d91befafea9fc2154b9.txt  \n",
            "  inflating: /content/Fights/test/labels/fight_0551_frame1695_jpg.rf.965da9284e8b5eedbef6e4d1e1e70b7d.txt  \n",
            " extracting: /content/Fights/test/labels/fight_0560_frame1565_jpg.rf.d952009314cde585a3f0a50ce392edbc.txt  \n",
            " extracting: /content/Fights/test/labels/fight_0582_frame425_jpg.rf.d368419f68fb4945c7efa89a5f43cffb.txt  \n",
            "  inflating: /content/Fights/test/labels/fight_0592_frame180_jpg.rf.12a8c78318e88ee9b33a06a432605031.txt  \n",
            "  inflating: /content/Fights/test/labels/fight_0598_frame390_jpg.rf.ba8db03e14adb287d38c4e4d27d977b2.txt  \n",
            "  inflating: /content/Fights/test/labels/fight_0620_frame834_jpg.rf.a224a2759da5f9b6c3e8e7e6c29c05fd.txt  \n",
            "  inflating: /content/Fights/test/labels/fight_0627_frame27_jpg.rf.7d9319e210c8231f0a34146dbc2631a0.txt  \n",
            "  inflating: /content/Fights/test/labels/fight_0647_frame54_jpg.rf.833638b018484e7926cc0223048962c2.txt  \n",
            "  inflating: /content/Fights/test/labels/fight_0654_frame1860_jpg.rf.4e0e73a14d434a6c96e132bc862dc06e.txt  \n",
            "  inflating: /content/Fights/test/labels/fight_0654_frame1929_jpg.rf.10fe51c53a917c71f1bd5a4af4ffb20f.txt  \n",
            "  inflating: /content/Fights/test/labels/fight_0672_frame1956_jpg.rf.0f9068dc08c1380c302e7b37319cd2b7.txt  \n",
            "  inflating: /content/Fights/test/labels/fight_0692_frame705_jpg.rf.dda0be619af8ef093f50b4181f9dbcdb.txt  \n",
            "  inflating: /content/Fights/test/labels/fight_0696_frame3_jpg.rf.f5c7614849d77f2ce2e54f2a4e9d0545.txt  \n",
            "  inflating: /content/Fights/test/labels/fight_0714_frame159_jpg.rf.a3b095d069a2c825f0f043feb6b64540.txt  \n",
            "  inflating: /content/Fights/test/labels/fight_0716_frame30_jpg.rf.9662095c5f66326ae843ed3ca39ec310.txt  \n",
            "  inflating: /content/Fights/test/labels/fight_0726_frame141_jpg.rf.c4c1283d10c971f2734a0ebc3fedbc28.txt  \n",
            "  inflating: /content/Fights/test/labels/fight_0735_frame87_jpg.rf.381302360e1590d898473d34b2a86556.txt  \n",
            "  inflating: /content/Fights/test/labels/fight_0740_frame9_jpg.rf.8af1c76aba967061ff68173d11d0fd89.txt  \n",
            "  inflating: /content/Fights/test/labels/fight_0741_frame165_jpg.rf.227dc028099e196aef5fcf1e6ee13a19.txt  \n",
            "  inflating: /content/Fights/test/labels/fight_0741_frame753_jpg.rf.a090f7a3cca3b1977befcaa5b6bcc30c.txt  \n",
            "  inflating: /content/Fights/test/labels/fight_0768_frame552_jpg.rf.f13b8b0ab852bfb2aa42be78585d9986.txt  \n",
            "  inflating: /content/Fights/test/labels/fight_0796_frame738_jpg.rf.1eb417db2e81977961e7f3baf7090bc6.txt  \n",
            "  inflating: /content/Fights/test/labels/fight_0801_frame350_jpg.rf.a7bf722bd0e37483269392a8c8fc5bf2.txt  \n",
            "  inflating: /content/Fights/test/labels/fight_0831_frame1390_jpg.rf.4c70407a7f17a52109a85a980d04daf9.txt  \n",
            "  inflating: /content/Fights/test/labels/fight_0842_frame625_jpg.rf.02f3f26c69a7ff1f0d7c61a9c87b9515.txt  \n",
            "  inflating: /content/Fights/test/labels/fight_0852_frame140_jpg.rf.32741aee1a9dc637b657eb2061598e65.txt  \n",
            " extracting: /content/Fights/test/labels/fight_0853_frame2360_jpg.rf.dea275ce109bb2996e6c3d982a466534.txt  \n",
            "  inflating: /content/Fights/test/labels/fight_0853_frame2515_jpg.rf.c62c05c59f890bb50a19686c23be54d8.txt  \n",
            "  inflating: /content/Fights/test/labels/fight_0853_frame2570_jpg.rf.d5eaa8d10a3a69cbab19b2a4312a3ed8.txt  \n",
            "  inflating: /content/Fights/test/labels/fight_0857_frame180_jpg.rf.f2203b4abbd8994b7e49791a96629342.txt  \n",
            "  inflating: /content/Fights/test/labels/fight_0858_frame525_jpg.rf.7d803b812dae01a71330e1ce8347316a.txt  \n",
            "  inflating: /content/Fights/test/labels/fight_0860_frame205_jpg.rf.0b9336f7503b1d8b480fe770c09958e1.txt  \n",
            "   creating: /content/Fights/train/\n",
            "   creating: /content/Fights/train/images/\n",
            " extracting: /content/Fights/train/images/V_1000_frame56_jpg.rf.e7096fd76980b9ba52c8f1a3d3850f56.jpg  \n",
            " extracting: /content/Fights/train/images/V_1000_frame70_jpg.rf.085d86f90081e980619e8498b0491cba.jpg  \n",
            " extracting: /content/Fights/train/images/V_101_frame56_jpg.rf.10b20871c1284d004dbee76b89b34ac8.jpg  \n",
            " extracting: /content/Fights/train/images/V_115_frame0_jpg.rf.c7f6843c905a240ad101ee906f7003fa.jpg  \n",
            " extracting: /content/Fights/train/images/V_117_frame7_jpg.rf.52823143b20399c1c307957ec48f99dd.jpg  \n",
            " extracting: /content/Fights/train/images/V_118_frame42_jpg.rf.36278dd12405242ceb057b029a5ed462.jpg  \n",
            " extracting: /content/Fights/train/images/V_121_frame21_jpg.rf.86191693e504c95c632b0efdd77ca337.jpg  \n",
            " extracting: /content/Fights/train/images/V_146_frame147_jpg.rf.adf4dd6a8c9482c9f61d7031e78d03dc.jpg  \n",
            " extracting: /content/Fights/train/images/V_146_frame70_jpg.rf.a6b74a0db267cd8690b57044d72ae368.jpg  \n",
            " extracting: /content/Fights/train/images/V_157_frame0_jpg.rf.7e9abe1396dacf040f9a866271967e91.jpg  \n",
            " extracting: /content/Fights/train/images/V_166_frame14_jpg.rf.f29889a9431d0ed6eb758b30a18fa233.jpg  \n",
            " extracting: /content/Fights/train/images/V_1_frame49_jpg.rf.68990588049f12a08c0e49ab453dc694.jpg  \n",
            " extracting: /content/Fights/train/images/V_1_frame63_jpg.rf.d25ec899a9dc0e9511d3d4377a995433.jpg  \n",
            " extracting: /content/Fights/train/images/V_1_frame98_jpg.rf.5cfb680274db6c015e5cdf96d7e8dcec.jpg  \n",
            " extracting: /content/Fights/train/images/V_203_frame0_jpg.rf.9b1f93bef0778a126f0c363255d7e9ca.jpg  \n",
            " extracting: /content/Fights/train/images/V_203_frame70_jpg.rf.917d31b46362c90af716aa7ae367f977.jpg  \n",
            " extracting: /content/Fights/train/images/V_204_frame147_jpg.rf.94e7cdecfddee084da87f781ddd8a8cd.jpg  \n",
            " extracting: /content/Fights/train/images/V_204_frame21_jpg.rf.71df78b9cd23058c7cb61538a2f9257c.jpg  \n",
            " extracting: /content/Fights/train/images/V_210_frame91_jpg.rf.d5fd07be61e8e1d70215b7906ad307bb.jpg  \n",
            " extracting: /content/Fights/train/images/V_217_frame133_jpg.rf.988ab2ff40e0679c218ef5f05f4a5b61.jpg  \n",
            " extracting: /content/Fights/train/images/V_277_frame98_jpg.rf.054ed7aa8cc097a2a50a395cbf8d4700.jpg  \n",
            " extracting: /content/Fights/train/images/V_278_frame126_jpg.rf.9cd6dc44152838350716b574930b3482.jpg  \n",
            " extracting: /content/Fights/train/images/V_290_frame35_jpg.rf.7a120710e8c0920c653d0fefe817b8cb.jpg  \n",
            " extracting: /content/Fights/train/images/V_298_frame84_jpg.rf.d59d80c8473c0479edba816d55100ec6.jpg  \n",
            " extracting: /content/Fights/train/images/V_300_frame7_jpg.rf.691e2adf4d2ca289daab2d4171a2f101.jpg  \n",
            " extracting: /content/Fights/train/images/V_347_frame49_jpg.rf.8fe436631f527aa11b646078e1627d3a.jpg  \n",
            " extracting: /content/Fights/train/images/V_350_frame84_jpg.rf.62ee2cfc682da24e692bc9807ae1eaf4.jpg  \n",
            " extracting: /content/Fights/train/images/V_35_frame21_jpg.rf.0c8ef79f75d1c1618cc06826630e1382.jpg  \n",
            " extracting: /content/Fights/train/images/V_360_frame7_jpg.rf.d670c8feb55cceaccfd1954720f78a82.jpg  \n",
            " extracting: /content/Fights/train/images/V_398_frame1246_jpg.rf.30943b8ff569346a8ca77a1a70e5d110.jpg  \n",
            " extracting: /content/Fights/train/images/V_415_frame28_jpg.rf.c298dff894323a5a09e4423c5bcc56c0.jpg  \n",
            " extracting: /content/Fights/train/images/V_449_frame49_jpg.rf.093fccb77447cba48e7130fb5f3e58c6.jpg  \n",
            " extracting: /content/Fights/train/images/V_473_frame42_jpg.rf.44c31693a332517cf07f54c39d4f9c7d.jpg  \n",
            " extracting: /content/Fights/train/images/V_490_frame91_jpg.rf.21919839dd34945239cf9c36a76d4c27.jpg  \n",
            " extracting: /content/Fights/train/images/V_4_frame70_jpg.rf.af19536b9fc864ab0e6458001cd68b25.jpg  \n",
            " extracting: /content/Fights/train/images/V_507_frame98_jpg.rf.03f57c039e3f04554b21d8d7b2b677da.jpg  \n",
            " extracting: /content/Fights/train/images/V_512_frame0_jpg.rf.1e41f18b16fdf340d09775d5f696f1d5.jpg  \n",
            " extracting: /content/Fights/train/images/V_512_frame105_jpg.rf.34abdd88b07f9eac48e1353fd0352544.jpg  \n",
            " extracting: /content/Fights/train/images/V_513_frame91_jpg.rf.fe960efb9490989e7cda2d0cc116e11b.jpg  \n",
            " extracting: /content/Fights/train/images/V_51_frame98_jpg.rf.29d77522288e18f1ddb8282f10a188d0.jpg  \n",
            " extracting: /content/Fights/train/images/V_523_frame49_jpg.rf.51759e242ac1e183ec39270f87f30fdb.jpg  \n",
            " extracting: /content/Fights/train/images/V_526_frame63_jpg.rf.46567f96d8499f1011ac2c896f94287e.jpg  \n",
            " extracting: /content/Fights/train/images/V_546_frame126_jpg.rf.347896190717b6b119094f2d7a3f82c8.jpg  \n",
            " extracting: /content/Fights/train/images/V_553_frame77_jpg.rf.f0cda2d4591e03aaea7aab85da54c647.jpg  \n",
            " extracting: /content/Fights/train/images/V_553_frame7_jpg.rf.67c31a7b4b577c29f1105be2110df56a.jpg  \n",
            " extracting: /content/Fights/train/images/V_553_frame84_jpg.rf.1fb145ad472fbf473f5301f6d1342f84.jpg  \n",
            " extracting: /content/Fights/train/images/V_56_frame21_jpg.rf.7886941a8e579e7c1fceb703d9759fbe.jpg  \n",
            " extracting: /content/Fights/train/images/V_571_frame119_jpg.rf.b0464aaa5ec2a4674591c874179b0ccf.jpg  \n",
            " extracting: /content/Fights/train/images/V_585_frame140_jpg.rf.2302054a5e275e80e9ac48f242bd123d.jpg  \n",
            " extracting: /content/Fights/train/images/V_585_frame77_jpg.rf.d07e1cb630bcae611e1f138cb37012e9.jpg  \n",
            " extracting: /content/Fights/train/images/V_601_frame182_jpg.rf.6951b89511423054fb0d1aa334891483.jpg  \n",
            " extracting: /content/Fights/train/images/V_602_frame28_jpg.rf.f8f1db07c38eff05ce88d6d9a96c2c26.jpg  \n",
            " extracting: /content/Fights/train/images/V_602_frame42_jpg.rf.54f6d474fcd4caba15edb8726543d065.jpg  \n",
            " extracting: /content/Fights/train/images/V_602_frame63_jpg.rf.2ba33659d3dde0ba6c4ae09beca34ca8.jpg  \n",
            " extracting: /content/Fights/train/images/V_603_frame133_jpg.rf.5f73cf8c1256791c2ae463356b3a6be7.jpg  \n",
            " extracting: /content/Fights/train/images/V_629_frame126_jpg.rf.983cb90608bd910240f4b531795dc0cf.jpg  \n",
            " extracting: /content/Fights/train/images/V_629_frame21_jpg.rf.93c91fea40632cce580e2360cc8db424.jpg  \n",
            " extracting: /content/Fights/train/images/V_629_frame42_jpg.rf.6aedc1ab643267d474ac00c41890db09.jpg  \n",
            " extracting: /content/Fights/train/images/V_636_frame42_jpg.rf.ffcc86d263557a3d35bc287a89271d77.jpg  \n",
            " extracting: /content/Fights/train/images/V_638_frame119_jpg.rf.27fc49cd1f961f1a6137c610b01470e3.jpg  \n",
            " extracting: /content/Fights/train/images/V_651_frame21_jpg.rf.3d51457692bb764d1b76106366681408.jpg  \n",
            " extracting: /content/Fights/train/images/V_653_frame119_jpg.rf.289fb9d792e5d387b6ea486bc98c9bbd.jpg  \n",
            " extracting: /content/Fights/train/images/V_655_frame119_jpg.rf.ea0ab4a1c5b2186486b13ca69be49e4a.jpg  \n",
            " extracting: /content/Fights/train/images/V_687_frame35_jpg.rf.63d067a9920a03341a6345bd8fc58c29.jpg  \n",
            " extracting: /content/Fights/train/images/V_707_frame119_jpg.rf.8408baaf1b1aa5516efbf12498891474.jpg  \n",
            " extracting: /content/Fights/train/images/V_718_frame63_jpg.rf.2d3f125144bf5842a4e74e43a9adbb81.jpg  \n",
            " extracting: /content/Fights/train/images/V_71_frame147_jpg.rf.7642bedbe87d3162d18156950c6c2f6d.jpg  \n",
            " extracting: /content/Fights/train/images/V_71_frame14_jpg.rf.a2c86d0d598289c1d2c1993ef2419226.jpg  \n",
            " extracting: /content/Fights/train/images/V_71_frame7_jpg.rf.c645007cb67d72b4e251ebc5fc4e3dcb.jpg  \n",
            " extracting: /content/Fights/train/images/V_722_frame84_jpg.rf.67f6993d1f06f90daefc96ef20797c20.jpg  \n",
            " extracting: /content/Fights/train/images/V_743_frame21_jpg.rf.35f17dafcd0c36679067cfd392e13334.jpg  \n",
            " extracting: /content/Fights/train/images/V_746_frame105_jpg.rf.84584f445f992d93c4a0dde454e472ea.jpg  \n",
            " extracting: /content/Fights/train/images/V_747_frame126_jpg.rf.da6f586d1931e78eeeea893f4bd500b1.jpg  \n",
            " extracting: /content/Fights/train/images/V_749_frame84_jpg.rf.48b8936dff70a366d230d63f2f2d17a2.jpg  \n",
            " extracting: /content/Fights/train/images/V_74_frame0_jpg.rf.fb7d3d17e3b3f0924d12a6afce9903f4.jpg  \n",
            " extracting: /content/Fights/train/images/V_74_frame7_jpg.rf.c9937be7fe00f5401ed2dc67d99e423d.jpg  \n",
            " extracting: /content/Fights/train/images/V_753_frame77_jpg.rf.809485dcbf3b8fdacafc05cc9ab84a32.jpg  \n",
            " extracting: /content/Fights/train/images/V_753_frame7_jpg.rf.cc74365d196caea90f90c5922286ee8e.jpg  \n",
            " extracting: /content/Fights/train/images/V_753_frame98_jpg.rf.00d28f5a8a0a2317304bacda505827c3.jpg  \n",
            " extracting: /content/Fights/train/images/V_758_frame63_jpg.rf.5876bdba031f900965ab18164db12ec6.jpg  \n",
            " extracting: /content/Fights/train/images/V_760_frame7_jpg.rf.79d34d1d8195e58ed222a53540a6db27.jpg  \n",
            " extracting: /content/Fights/train/images/V_763_frame63_jpg.rf.477318ec1edc846f2e1c96ee4821a37a.jpg  \n",
            " extracting: /content/Fights/train/images/V_764_frame70_jpg.rf.7d62498170ace4c3b724fea3939c4205.jpg  \n",
            " extracting: /content/Fights/train/images/V_765_frame56_jpg.rf.5c88f160a11f2340e52241f7921acc75.jpg  \n",
            " extracting: /content/Fights/train/images/V_766_frame112_jpg.rf.0e1241adfcc49b875d18577927b45476.jpg  \n",
            " extracting: /content/Fights/train/images/V_766_frame119_jpg.rf.103a29fa1ada1d9bdd1c19f5937f314a.jpg  \n",
            " extracting: /content/Fights/train/images/V_774_frame28_jpg.rf.506133783ea5b2d861c5a98ed4ddf64e.jpg  \n",
            " extracting: /content/Fights/train/images/V_789_frame1421_jpg.rf.37e40a6a0e769396bd9250d115f715f0.jpg  \n",
            " extracting: /content/Fights/train/images/V_789_frame1505_jpg.rf.405e48b904a2752107b3cd48f374bda6.jpg  \n",
            " extracting: /content/Fights/train/images/V_789_frame2254_jpg.rf.1817dd1ee07f280bdb377b53c06991be.jpg  \n",
            " extracting: /content/Fights/train/images/V_789_frame4851_jpg.rf.a656a7d1b4b379583d7180355e4cf888.jpg  \n",
            " extracting: /content/Fights/train/images/V_789_frame742_jpg.rf.91952450e772a4a1e3b3b4cd177451e5.jpg  \n",
            " extracting: /content/Fights/train/images/V_78_frame56_jpg.rf.a0e16dff63b071c3d009af05e980360e.jpg  \n",
            " extracting: /content/Fights/train/images/V_800_frame49_jpg.rf.0458669e51d64dde7482ef6f2fa5a521.jpg  \n",
            " extracting: /content/Fights/train/images/V_800_frame98_jpg.rf.2a00c2ea62a2287110434af04d441fd4.jpg  \n",
            " extracting: /content/Fights/train/images/V_802_frame133_jpg.rf.eb36a4576b762563e8e790a4bc294e5e.jpg  \n",
            " extracting: /content/Fights/train/images/V_805_frame105_jpg.rf.fe717a08df29c8eacb29e962f4375576.jpg  \n",
            " extracting: /content/Fights/train/images/V_807_frame119_jpg.rf.e5b517570083fbf9fac5ce432828c164.jpg  \n",
            " extracting: /content/Fights/train/images/V_807_frame126_jpg.rf.d126f0141b5eb136961bbcca2f957ac7.jpg  \n",
            " extracting: /content/Fights/train/images/V_80_frame63_jpg.rf.98339fb18a4dbd04be4ce9e3e77d18db.jpg  \n",
            " extracting: /content/Fights/train/images/V_810_frame112_jpg.rf.2a93c115722023694f561261f6ecd51d.jpg  \n",
            " extracting: /content/Fights/train/images/V_812_frame84_jpg.rf.c60064ed275ac733dd41e7126a2b47d8.jpg  \n",
            " extracting: /content/Fights/train/images/V_815_frame98_jpg.rf.ad2ef5eefbb0af07924c61e01a430857.jpg  \n",
            " extracting: /content/Fights/train/images/V_817_frame126_jpg.rf.6217ad847bcf5b8ae6c09e36a267297e.jpg  \n",
            " extracting: /content/Fights/train/images/V_817_frame154_jpg.rf.44c146256b763d74cd1052e8d40116ee.jpg  \n",
            " extracting: /content/Fights/train/images/V_818_frame14_jpg.rf.6ffaa714991b2ac2cac506171b5d35fa.jpg  \n",
            " extracting: /content/Fights/train/images/V_818_frame70_jpg.rf.63ecceaea6978cecc7cb3b91b4d63bf2.jpg  \n",
            " extracting: /content/Fights/train/images/V_819_frame49_jpg.rf.13010c04015ff798e031b5f25051acc8.jpg  \n",
            " extracting: /content/Fights/train/images/V_820_frame105_jpg.rf.3513b269f32d5d9a985f2b768a78d2cc.jpg  \n",
            " extracting: /content/Fights/train/images/V_820_frame56_jpg.rf.f8999da7e8b89266833d45275b7c54cb.jpg  \n",
            " extracting: /content/Fights/train/images/V_821_frame98_jpg.rf.48c6608fae3ec8c1dbe3dca6fe841880.jpg  \n",
            " extracting: /content/Fights/train/images/V_823_frame49_jpg.rf.fbc4aaa7f1c49f110007e701e92a64e2.jpg  \n",
            " extracting: /content/Fights/train/images/V_823_frame63_jpg.rf.401cd5c9daa1ebf9c939383e0e2e2d59.jpg  \n",
            " extracting: /content/Fights/train/images/V_823_frame70_jpg.rf.6b5f77e6dcfd9536e3d45d78f7e07a12.jpg  \n",
            " extracting: /content/Fights/train/images/V_823_frame77_jpg.rf.53ee3f95d1029ad2856282a4f991f9c4.jpg  \n",
            " extracting: /content/Fights/train/images/V_824_frame133_jpg.rf.10eed1a53910df7dce7824148811b1ad.jpg  \n",
            " extracting: /content/Fights/train/images/V_824_frame84_jpg.rf.b9362a3966b9c3b4517408539bdf7bef.jpg  \n",
            " extracting: /content/Fights/train/images/V_827_frame84_jpg.rf.928fec06b9a3826800ec0468e58f3382.jpg  \n",
            " extracting: /content/Fights/train/images/V_828_frame105_jpg.rf.06d5afee80773739cbd08e07af964869.jpg  \n",
            " extracting: /content/Fights/train/images/V_828_frame119_jpg.rf.bbdaa20c30ce8d6c3c438b9cbfa411fc.jpg  \n",
            " extracting: /content/Fights/train/images/V_828_frame133_jpg.rf.c98bf0bf72003da6d0a04487b3b18282.jpg  \n",
            " extracting: /content/Fights/train/images/V_828_frame140_jpg.rf.b06bbd2d21e5597150edca479c7e4205.jpg  \n",
            " extracting: /content/Fights/train/images/V_828_frame21_jpg.rf.b1619301ac8e5e091273e0f4300c7516.jpg  \n",
            " extracting: /content/Fights/train/images/V_828_frame28_jpg.rf.cfdfa16a06d426a066f9d16528e743e6.jpg  \n",
            " extracting: /content/Fights/train/images/V_829_frame49_jpg.rf.323f65a01cb9ff45d3e349bf39fc7123.jpg  \n",
            " extracting: /content/Fights/train/images/V_830_frame119_jpg.rf.809cd14d41c83990ed3a359f6eb31a38.jpg  \n",
            " extracting: /content/Fights/train/images/V_831_frame119_jpg.rf.909c019e76e77ec4248d328b15065557.jpg  \n",
            " extracting: /content/Fights/train/images/V_832_frame133_jpg.rf.f3c9dcb01309872c3db8d8bd094d0376.jpg  \n",
            " extracting: /content/Fights/train/images/V_832_frame56_jpg.rf.aa45155147ab15c745485448c8aa5ccf.jpg  \n",
            " extracting: /content/Fights/train/images/V_836_frame91_jpg.rf.f9ccea01427ab014d0d2c0613c2f8d0f.jpg  \n",
            " extracting: /content/Fights/train/images/V_838_frame133_jpg.rf.3edd8c511ef496a8172ea8c96a3dfaa5.jpg  \n",
            " extracting: /content/Fights/train/images/V_839_frame0_jpg.rf.08f8b29e863eaa2df56236094c9f5ec2.jpg  \n",
            " extracting: /content/Fights/train/images/V_839_frame112_jpg.rf.8bf62cceb3c6250f3a34fd1083a119cf.jpg  \n",
            " extracting: /content/Fights/train/images/V_843_frame42_jpg.rf.2995dddee62293fa352931c5664b47d5.jpg  \n",
            " extracting: /content/Fights/train/images/V_844_frame105_jpg.rf.ac9f78257f808f373600e9a6615e879b.jpg  \n",
            " extracting: /content/Fights/train/images/V_844_frame126_jpg.rf.e9bac73467db137f674c631bf8c16518.jpg  \n",
            " extracting: /content/Fights/train/images/V_844_frame140_jpg.rf.255f70255cae47dfd433776058dbcff0.jpg  \n",
            " extracting: /content/Fights/train/images/V_845_frame14_jpg.rf.b52ede8348cad923732f05c6b50eeaef.jpg  \n",
            " extracting: /content/Fights/train/images/V_847_frame42_jpg.rf.1a8d390a008ae6ac8e2326074d67e05b.jpg  \n",
            " extracting: /content/Fights/train/images/V_848_frame77_jpg.rf.78537116b1a6743928792ab915657322.jpg  \n",
            " extracting: /content/Fights/train/images/V_850_frame77_jpg.rf.84cff7d3d4b70e74dc8364124742a623.jpg  \n",
            " extracting: /content/Fights/train/images/V_851_frame140_jpg.rf.d0e8e6391fdc5c6390c01cf37162165f.jpg  \n",
            " extracting: /content/Fights/train/images/V_851_frame154_jpg.rf.bf042015bf3dfdc66ad767b50f03dc02.jpg  \n",
            " extracting: /content/Fights/train/images/V_854_frame21_jpg.rf.7d71390471828a487a6403f91304efe9.jpg  \n",
            " extracting: /content/Fights/train/images/V_855_frame105_jpg.rf.db5a171a2d7bcef2f49c42e934332f07.jpg  \n",
            " extracting: /content/Fights/train/images/V_855_frame112_jpg.rf.e70e6b426f22e40df9b406455c2d0021.jpg  \n",
            " extracting: /content/Fights/train/images/V_855_frame84_jpg.rf.20e56a41e05207a62f1f27bab9d7397d.jpg  \n",
            " extracting: /content/Fights/train/images/V_856_frame14_jpg.rf.200bb3350fd36c739e94b08fb996a6f4.jpg  \n",
            " extracting: /content/Fights/train/images/V_858_frame98_jpg.rf.aa20314592d6c60232e6bbddc325f0bf.jpg  \n",
            " extracting: /content/Fights/train/images/V_859_frame77_jpg.rf.d692b81ca1fce235913d49df96d8a56f.jpg  \n",
            " extracting: /content/Fights/train/images/V_860_frame77_jpg.rf.ab8567f61816c251be14de028faa1299.jpg  \n",
            " extracting: /content/Fights/train/images/V_861_frame49_jpg.rf.2c4eb72c1998bbcd66621afa20ad14c1.jpg  \n",
            " extracting: /content/Fights/train/images/V_861_frame56_jpg.rf.6a9cd3079793b8ce7776fab18a74e629.jpg  \n",
            " extracting: /content/Fights/train/images/V_867_frame77_jpg.rf.d14fd8a38870a97e78d8a503547a2404.jpg  \n",
            " extracting: /content/Fights/train/images/V_869_frame91_jpg.rf.6f494401d871f63c62ec97bbf7574e17.jpg  \n",
            " extracting: /content/Fights/train/images/V_872_frame126_jpg.rf.d362c2bc2c2a7bf0023acbd31d665390.jpg  \n",
            " extracting: /content/Fights/train/images/V_872_frame154_jpg.rf.3fc437d74f731e3d0262982dc1549c11.jpg  \n",
            " extracting: /content/Fights/train/images/V_872_frame49_jpg.rf.741958b4069b01ef56d556d929f6cf38.jpg  \n",
            " extracting: /content/Fights/train/images/V_879_frame70_jpg.rf.89f8fe5dd69a41e0067f1f76d033a9d8.jpg  \n",
            " extracting: /content/Fights/train/images/V_882_frame105_jpg.rf.516893a3bad783f847985d3a58b9981a.jpg  \n",
            " extracting: /content/Fights/train/images/V_883_frame0_jpg.rf.570f4483fba3501c04f2593bc78145d8.jpg  \n",
            " extracting: /content/Fights/train/images/V_883_frame133_jpg.rf.ce922844e4a58b853c9af4270d63c83a.jpg  \n",
            " extracting: /content/Fights/train/images/V_886_frame56_jpg.rf.326cc6e2db0955cbacea9cea32c72882.jpg  \n",
            " extracting: /content/Fights/train/images/V_887_frame112_jpg.rf.d4d6c1729d186135fbd47bdfb6ddcd44.jpg  \n",
            " extracting: /content/Fights/train/images/V_889_frame35_jpg.rf.8cef123fbfae916a519d7960aa8a9d73.jpg  \n",
            " extracting: /content/Fights/train/images/V_889_frame7_jpg.rf.409d519db95d12506ebf8c62e39c68e9.jpg  \n",
            " extracting: /content/Fights/train/images/V_889_frame91_jpg.rf.4fa99e7ab9278a6a0cb8a87ae1678a63.jpg  \n",
            " extracting: /content/Fights/train/images/V_890_frame84_jpg.rf.c15e32a771542cdbdad618fa81a75b59.jpg  \n",
            " extracting: /content/Fights/train/images/V_894_frame21_jpg.rf.4843e3553c9e8b664119e5dcba0d5200.jpg  \n",
            " extracting: /content/Fights/train/images/V_894_frame42_jpg.rf.643ac8d7868b1e06c99cc27383d1384e.jpg  \n",
            " extracting: /content/Fights/train/images/V_898_frame21_jpg.rf.f43b42d37eca64c4f92cf32382a4f053.jpg  \n",
            " extracting: /content/Fights/train/images/V_898_frame98_jpg.rf.faafa2658f975f7f8bb86eb7b48e9525.jpg  \n",
            " extracting: /content/Fights/train/images/V_899_frame21_jpg.rf.a12b8f273e2c8921feea23124f0863b0.jpg  \n",
            " extracting: /content/Fights/train/images/V_89_frame119_jpg.rf.6a2045ebf38645e390a63d0c130e65dc.jpg  \n",
            " extracting: /content/Fights/train/images/V_8_frame49_jpg.rf.5aa3dcb2444dda9820d74f83d7286988.jpg  \n",
            " extracting: /content/Fights/train/images/V_902_frame42_jpg.rf.b1c9fc2ddaf80555fb032ff6c8c77e7b.jpg  \n",
            " extracting: /content/Fights/train/images/V_903_frame112_jpg.rf.ce39600fcc93751b625dec980e44fdf4.jpg  \n",
            " extracting: /content/Fights/train/images/V_903_frame98_jpg.rf.0a462aeaf491c06ecd2d9bc89e90c932.jpg  \n",
            " extracting: /content/Fights/train/images/V_904_frame126_jpg.rf.18925aa5860ffb2fe590e39875f5e436.jpg  \n",
            " extracting: /content/Fights/train/images/V_904_frame140_jpg.rf.d39c79e783ee56cdbe490dbe17cac331.jpg  \n",
            " extracting: /content/Fights/train/images/V_904_frame49_jpg.rf.79cbe69136e732c0d69b877a0a18ef83.jpg  \n",
            " extracting: /content/Fights/train/images/V_904_frame70_jpg.rf.5d5eec3c0d2d2413f88767d71249e07a.jpg  \n",
            " extracting: /content/Fights/train/images/V_905_frame56_jpg.rf.513e1f689413a9faeb2f6967bc483eea.jpg  \n",
            " extracting: /content/Fights/train/images/V_905_frame84_jpg.rf.3030ce29b76aedb96f4a65c29ef9f81d.jpg  \n",
            " extracting: /content/Fights/train/images/V_907_frame0_jpg.rf.e4fc2550ccf2a34ae642a954faf06326.jpg  \n",
            " extracting: /content/Fights/train/images/V_908_frame14_jpg.rf.7b1b0dc7d5648afbc2971720e7481950.jpg  \n",
            " extracting: /content/Fights/train/images/V_908_frame70_jpg.rf.3efca4b161b778bd37089ef5dd77b3ab.jpg  \n",
            " extracting: /content/Fights/train/images/V_909_frame49_jpg.rf.5d275278d510cf3210fbe7c3927fa06d.jpg  \n",
            " extracting: /content/Fights/train/images/V_915_frame70_jpg.rf.c112ef278b8bbdb8e40a3967f440cba1.jpg  \n",
            " extracting: /content/Fights/train/images/V_917_frame35_jpg.rf.85e6554f03c15301f580f7ca31820e18.jpg  \n",
            " extracting: /content/Fights/train/images/V_917_frame70_jpg.rf.9b926ce91fef0e7079f66781a0bc064b.jpg  \n",
            " extracting: /content/Fights/train/images/V_920_frame0_jpg.rf.9a41ad8a432ac217d3f401a15050b372.jpg  \n",
            " extracting: /content/Fights/train/images/V_920_frame28_jpg.rf.4b1f5bdb01fb4d6a3477cc27498d97ce.jpg  \n",
            " extracting: /content/Fights/train/images/V_922_frame105_jpg.rf.231066ca9b3dfeb011e96ced61261d16.jpg  \n",
            " extracting: /content/Fights/train/images/V_923_frame14_jpg.rf.775e57898d448391616013501871e52f.jpg  \n",
            " extracting: /content/Fights/train/images/V_925_frame84_jpg.rf.b5bf1a2de921987dcc40d33c4968826d.jpg  \n",
            " extracting: /content/Fights/train/images/V_944_frame14_jpg.rf.3e3c562635800e5eebcab1002201c054.jpg  \n",
            " extracting: /content/Fights/train/images/V_953_frame133_jpg.rf.4a0f625ad0dd04b22b3c4fe71c610b34.jpg  \n",
            " extracting: /content/Fights/train/images/V_95_frame98_jpg.rf.114701a4aad5a1d755566c08f03ed259.jpg  \n",
            " extracting: /content/Fights/train/images/V_970_frame77_jpg.rf.d45fdb40a5837cbee95f8a2848e2504d.jpg  \n",
            " extracting: /content/Fights/train/images/V_97_frame140_jpg.rf.f5def2a1fac1fc29d3b13dbdade81351.jpg  \n",
            " extracting: /content/Fights/train/images/V_98_frame133_jpg.rf.159e18dc5e3b9c7b77fb8e348c2a4005.jpg  \n",
            " extracting: /content/Fights/train/images/V_99_frame42_jpg.rf.483ddebc345af923ec1edeb86d46916c.jpg  \n",
            " extracting: /content/Fights/train/images/ex_fight-101_jpg.rf.2d4bb10a55dc69a07576a0339f4efb73.jpg  \n",
            " extracting: /content/Fights/train/images/ex_fight-10_jpg.rf.29189c863916a687e17b104cc2f236ed.jpg  \n",
            " extracting: /content/Fights/train/images/ex_fight-43_jpg.rf.21316c1d8c846bfe1678088c476176f1.jpg  \n",
            " extracting: /content/Fights/train/images/ex_fight-50_jpg.rf.8af2b734f5c7e98b34ed2ba5e00df08d.jpg  \n",
            " extracting: /content/Fights/train/images/ex_fight-54_jpg.rf.aa76c0a1b59d66d9be9592f95df70037.jpg  \n",
            " extracting: /content/Fights/train/images/ex_fight-5_jpg.rf.cb0ccc06ac353a9add20455981d94a0c.jpg  \n",
            " extracting: /content/Fights/train/images/ex_fight-79_jpg.rf.cad7de4d0600c924de3c49ed66e2dcd5.jpg  \n",
            " extracting: /content/Fights/train/images/ex_fight-86_jpg.rf.14427905c0ad5727c13e812d1395ffa2.jpg  \n",
            " extracting: /content/Fights/train/images/ex_fight-88_jpg.rf.63a4f9cfe234110b917c2f58cdcfaac7.jpg  \n",
            " extracting: /content/Fights/train/images/ex_fight-98_jpg.rf.52e941c024ab8cd735cffaf38d21ebca.jpg  \n",
            " extracting: /content/Fights/train/images/ex_fight-9_jpg.rf.6ebfeca758bfdc2588bb04b1b1ba0e95.jpg  \n",
            " extracting: /content/Fights/train/images/fight_0002_frame695_jpg.rf.46db480d9ac9d13b0821ba35acd9c3fd.jpg  \n",
            " extracting: /content/Fights/train/images/fight_0004_frame515_jpg.rf.abaf7fd6448bf46600eac704a1c43512.jpg  \n",
            " extracting: /content/Fights/train/images/fight_0007_frame190_jpg.rf.c18fa93fd5850c636adebb3564faa55d.jpg  \n",
            " extracting: /content/Fights/train/images/fight_0024_frame215_jpg.rf.d17e37569b2514393310c2db4ec4845e.jpg  \n",
            " extracting: /content/Fights/train/images/fight_0024_frame55_jpg.rf.891d5fdcf149877115cdab97f9576e84.jpg  \n",
            " extracting: /content/Fights/train/images/fight_0028_frame1525_jpg.rf.5097b0012fe63fa642464cb9d86de2fc.jpg  \n",
            " extracting: /content/Fights/train/images/fight_0042_frame2135_jpg.rf.bd36ca5e6ebba57fcdd06bb7c7196ebb.jpg  \n",
            " extracting: /content/Fights/train/images/fight_0064_frame220_jpg.rf.b97e4dc45fba46a95077831cfedfc64a.jpg  \n",
            " extracting: /content/Fights/train/images/fight_0065_frame1285_jpg.rf.4e99c71bf191f9f412a5e770499d8708.jpg  \n",
            " extracting: /content/Fights/train/images/fight_0074_frame3500_jpg.rf.e617fbfedc29278446b689bb71713d1c.jpg  \n",
            " extracting: /content/Fights/train/images/fight_0076_frame1120_jpg.rf.5c06d5db3218407c7f22b24185e4ac7e.jpg  \n",
            " extracting: /content/Fights/train/images/fight_0082_frame1495_jpg.rf.0c67e0cc3803ccf93ffcb7d89916f22c.jpg  \n",
            " extracting: /content/Fights/train/images/fight_0084_frame160_jpg.rf.e9d7096c24f4e19fbd631138b079edc2.jpg  \n",
            " extracting: /content/Fights/train/images/fight_0084_frame70_jpg.rf.898f2ba6a5a4e8021bfd516b856642b2.jpg  \n",
            " extracting: /content/Fights/train/images/fight_0084_frame750_jpg.rf.1d1660cb02a487185496a550bb2417f4.jpg  \n",
            " extracting: /content/Fights/train/images/fight_0084_frame755_jpg.rf.910d10921b854fe570dd407b3e3cb09f.jpg  \n",
            " extracting: /content/Fights/train/images/fight_0089_frame2045_jpg.rf.d5d83fb92f373b6abdeb315bebf223ec.jpg  \n",
            " extracting: /content/Fights/train/images/fight_0117_frame185_jpg.rf.4024ebe4281be6e57dedb6dcaab18b94.jpg  \n",
            " extracting: /content/Fights/train/images/fight_0119_frame160_jpg.rf.0997d8d7a2b6f24ab4eda40de2c06360.jpg  \n",
            " extracting: /content/Fights/train/images/fight_0119_frame175_jpg.rf.a43f7f770f6806f7c77f3ad9f2fc157e.jpg  \n",
            " extracting: /content/Fights/train/images/fight_0119_frame180_jpg.rf.d8828627bca96e322f6c0892da00d776.jpg  \n",
            " extracting: /content/Fights/train/images/fight_0147_frame3650_jpg.rf.0850d43bab89a44028f141b877c4b98a.jpg  \n",
            " extracting: /content/Fights/train/images/fight_0156_frame1785_jpg.rf.8d4a90098c0fd7190f7702acde956946.jpg  \n",
            " extracting: /content/Fights/train/images/fight_0156_frame1810_jpg.rf.96f13816d1ecd1d139b919e914e283a8.jpg  \n",
            " extracting: /content/Fights/train/images/fight_0168_frame1185_jpg.rf.7e7f0cceee4e27bfe704913177688a47.jpg  \n",
            " extracting: /content/Fights/train/images/fight_0168_frame1200_jpg.rf.b70b4e88bacd8c3d5a3a9abfdf566482.jpg  \n",
            " extracting: /content/Fights/train/images/fight_0504_frame185_jpg.rf.2107040378104b46220e212973c466ca.jpg  \n",
            " extracting: /content/Fights/train/images/fight_0504_frame515_jpg.rf.d783756245bc8517e5de772db5c60f28.jpg  \n",
            " extracting: /content/Fights/train/images/fight_0516_frame345_jpg.rf.4c55a05c9b54f76b7de4910d0caf6091.jpg  \n",
            " extracting: /content/Fights/train/images/fight_0516_frame350_jpg.rf.c4973d5b7bb7f1d50675a4a064f0737d.jpg  \n",
            " extracting: /content/Fights/train/images/fight_0527_frame100_jpg.rf.b66336011b206f353b11b87af695df6e.jpg  \n",
            " extracting: /content/Fights/train/images/fight_0529_frame175_jpg.rf.eea3baaea153a30c5cb214c8a962301a.jpg  \n",
            " extracting: /content/Fights/train/images/fight_0529_frame320_jpg.rf.8288fbaa9811c6b5d4235fb485dee301.jpg  \n",
            " extracting: /content/Fights/train/images/fight_0529_frame325_jpg.rf.edc0e67a18636d73c83834ee9d9b1962.jpg  \n",
            " extracting: /content/Fights/train/images/fight_0529_frame440_jpg.rf.061c85d47290ec46492a5e783c36df0e.jpg  \n",
            " extracting: /content/Fights/train/images/fight_0533_frame400_jpg.rf.d612120d1313f169f7464636143e6550.jpg  \n",
            " extracting: /content/Fights/train/images/fight_0536_frame255_jpg.rf.0ce9cb436db11f0cff87fafb188bc258.jpg  \n",
            " extracting: /content/Fights/train/images/fight_0540_frame205_jpg.rf.1796965071657310f7fa28640df96e37.jpg  \n",
            " extracting: /content/Fights/train/images/fight_0540_frame20_jpg.rf.e863e53510159dc009f5652bc668071e.jpg  \n",
            " extracting: /content/Fights/train/images/fight_0542_frame1205_jpg.rf.d652565112a9d23dcf5eb12924750650.jpg  \n",
            " extracting: /content/Fights/train/images/fight_0542_frame1295_jpg.rf.0975f07276cc66e8d545c665c054df4d.jpg  \n",
            " extracting: /content/Fights/train/images/fight_0543_frame1565_jpg.rf.d53a63261835209024bdcf1952019482.jpg  \n",
            " extracting: /content/Fights/train/images/fight_0548_frame175_jpg.rf.635f420f13cdbff3a9df0ae7a3a55a1f.jpg  \n",
            " extracting: /content/Fights/train/images/fight_0549_frame185_jpg.rf.0ef10a643b35ce8b9b278bc24af1c047.jpg  \n",
            " extracting: /content/Fights/train/images/fight_0549_frame205_jpg.rf.0a6499984f94238d7bc36491d0d1cc6d.jpg  \n",
            " extracting: /content/Fights/train/images/fight_0551_frame1135_jpg.rf.c9b0ef5589cf020deedba5caa302488a.jpg  \n",
            " extracting: /content/Fights/train/images/fight_0551_frame1240_jpg.rf.5da4d27cf5ff8907939aad49b891535d.jpg  \n",
            " extracting: /content/Fights/train/images/fight_0551_frame1285_jpg.rf.f767867fa3dc3bd54f64c024849c6688.jpg  \n",
            " extracting: /content/Fights/train/images/fight_0551_frame1685_jpg.rf.9c838325d411a3f13bc1feb15f8404a9.jpg  \n",
            " extracting: /content/Fights/train/images/fight_0551_frame1690_jpg.rf.f0837c1602c9c32801ec6515165fd7ff.jpg  \n",
            " extracting: /content/Fights/train/images/fight_0551_frame1795_jpg.rf.044fb82493b60daf738b9fac6a3347de.jpg  \n",
            " extracting: /content/Fights/train/images/fight_0551_frame1940_jpg.rf.b7c94b1c38077e2c4d2dd3f7fa191928.jpg  \n",
            " extracting: /content/Fights/train/images/fight_0551_frame2095_jpg.rf.3a63b65fd7aab0d0e9ae7de6d4e105e0.jpg  \n",
            " extracting: /content/Fights/train/images/fight_0551_frame2160_jpg.rf.0e6e265c4827bb271c2b230e52350892.jpg  \n",
            " extracting: /content/Fights/train/images/fight_0551_frame2330_jpg.rf.82dc6cd80101e11ba8af99d757042670.jpg  \n",
            " extracting: /content/Fights/train/images/fight_0551_frame3095_jpg.rf.41cdf4f615fc87fb26afbf383b8b8694.jpg  \n",
            " extracting: /content/Fights/train/images/fight_0551_frame310_jpg.rf.16a730fdf3693320f37cc2a388e21e77.jpg  \n",
            " extracting: /content/Fights/train/images/fight_0551_frame320_jpg.rf.2c20bb9062684710fc1f35a4ea8e66e6.jpg  \n",
            " extracting: /content/Fights/train/images/fight_0560_frame1310_jpg.rf.b00b6096b0c47f7b63cc837af05a3fd4.jpg  \n",
            " extracting: /content/Fights/train/images/fight_0560_frame1775_jpg.rf.858d2bdca06e14e740ef7f42dd7ebc0b.jpg  \n",
            " extracting: /content/Fights/train/images/fight_0560_frame1805_jpg.rf.5191a777529576bd8a51bea61547a12f.jpg  \n",
            " extracting: /content/Fights/train/images/fight_0568_frame155_jpg.rf.2d769830e1d039cab1db97bad32ec44a.jpg  \n",
            " extracting: /content/Fights/train/images/fight_0572_frame280_jpg.rf.bf759f007481d339c2dea4d1cdc5af80.jpg  \n",
            " extracting: /content/Fights/train/images/fight_0582_frame1310_jpg.rf.796e655f5881395e568c87aa15826bea.jpg  \n",
            " extracting: /content/Fights/train/images/fight_0582_frame270_jpg.rf.070f803642147471027160e99ed72c8a.jpg  \n",
            " extracting: /content/Fights/train/images/fight_0582_frame275_jpg.rf.17623e4a4b909c56a6dc3bd2c8e39fe6.jpg  \n",
            " extracting: /content/Fights/train/images/fight_0582_frame430_jpg.rf.8884f3428b5066bbc3ef6ed0a3b1fd3f.jpg  \n",
            " extracting: /content/Fights/train/images/fight_0582_frame815_jpg.rf.63944e8fc082ac21820f5a08758f7a64.jpg  \n",
            " extracting: /content/Fights/train/images/fight_0589_frame205_jpg.rf.07aa7eec15e02e0e91e2a50abfb892db.jpg  \n",
            " extracting: /content/Fights/train/images/fight_0590_frame365_jpg.rf.33177febf4ee8af223a8106d9d490136.jpg  \n",
            " extracting: /content/Fights/train/images/fight_0590_frame410_jpg.rf.1faa011590f6e242f465a5092bc90dc0.jpg  \n",
            " extracting: /content/Fights/train/images/fight_0590_frame60_jpg.rf.5e38f40e3885411f0e076e3452728261.jpg  \n",
            " extracting: /content/Fights/train/images/fight_0620_frame30_jpg.rf.5504ee9d8644cbdc09534cb6077186b5.jpg  \n",
            " extracting: /content/Fights/train/images/fight_0620_frame480_jpg.rf.57e8af5c7f0fd1089a672d16d8888310.jpg  \n",
            " extracting: /content/Fights/train/images/fight_0620_frame582_jpg.rf.51fb523b229982593cd4ad2427f22acc.jpg  \n",
            " extracting: /content/Fights/train/images/fight_0620_frame585_jpg.rf.4c18f858e28d28dd8977497533b59664.jpg  \n",
            " extracting: /content/Fights/train/images/fight_0620_frame621_jpg.rf.6dda0a526b51df6081aee21c3edd7f01.jpg  \n",
            " extracting: /content/Fights/train/images/fight_0620_frame813_jpg.rf.f89ecd41b093a3943709472dd0b34d2e.jpg  \n",
            " extracting: /content/Fights/train/images/fight_0620_frame837_jpg.rf.e4b19f1596538af73432f6b2e20d176a.jpg  \n",
            " extracting: /content/Fights/train/images/fight_0620_frame846_jpg.rf.898fe35dba0b698fee2a0b23bed31df2.jpg  \n",
            " extracting: /content/Fights/train/images/fight_0627_frame33_jpg.rf.8544cb834118c06cab2150f6aac47de4.jpg  \n",
            " extracting: /content/Fights/train/images/fight_0627_frame42_jpg.rf.9338367ec198405aa854b3853d6796f0.jpg  \n",
            " extracting: /content/Fights/train/images/fight_0627_frame72_jpg.rf.6dd0450bd937af08684e57b7863bef2a.jpg  \n",
            " extracting: /content/Fights/train/images/fight_0627_frame9_jpg.rf.09ac11f856c669b83d3dfa2484f8bc21.jpg  \n",
            " extracting: /content/Fights/train/images/fight_0630_frame327_jpg.rf.67a092aed0a4d2891ebcb1fd9cc4524b.jpg  \n",
            " extracting: /content/Fights/train/images/fight_0645_frame450_jpg.rf.1f3a171b1b25077ce4fcd9b97dfb7202.jpg  \n",
            " extracting: /content/Fights/train/images/fight_0645_frame516_jpg.rf.5d0b64077176860b6a6b639ef0be67f2.jpg  \n",
            " extracting: /content/Fights/train/images/fight_0655_frame606_jpg.rf.9131a857888c713458203cd0ddadb821.jpg  \n",
            " extracting: /content/Fights/train/images/fight_0655_frame636_jpg.rf.4b08bf35b42d176fe19388009a07ca47.jpg  \n",
            " extracting: /content/Fights/train/images/fight_0656_frame1479_jpg.rf.ab1ef8b4775838be8401680b4e67c317.jpg  \n",
            " extracting: /content/Fights/train/images/fight_0656_frame1482_jpg.rf.c78429c09aa10bc386b72f5f33a493fe.jpg  \n",
            " extracting: /content/Fights/train/images/fight_0672_frame1959_jpg.rf.a45f7ca6ce4692ee9e7b7d34cab76da4.jpg  \n",
            " extracting: /content/Fights/train/images/fight_0683_frame3252_jpg.rf.438ca6a1206c6126d623a8ced1d51f21.jpg  \n",
            " extracting: /content/Fights/train/images/fight_0685_frame228_jpg.rf.5d7d7e2cfc34a8f817828d311080a2a9.jpg  \n",
            " extracting: /content/Fights/train/images/fight_0685_frame243_jpg.rf.626d8261498405fec871f7b9afc037a9.jpg  \n",
            " extracting: /content/Fights/train/images/fight_0685_frame468_jpg.rf.80c819c0f84d2fcbd49078ba1eb1e9d2.jpg  \n",
            " extracting: /content/Fights/train/images/fight_0685_frame480_jpg.rf.e7f40682b434c497e8b13e958b3b56a8.jpg  \n",
            " extracting: /content/Fights/train/images/fight_0694_frame117_jpg.rf.1ee59505ef2b0b94edaecdabe8272a65.jpg  \n",
            " extracting: /content/Fights/train/images/fight_0696_frame6_jpg.rf.e77b645b1eea8b23c9f51ef2c11c03ac.jpg  \n",
            " extracting: /content/Fights/train/images/fight_0713_frame0_jpg.rf.4c0c7bb08e865881848e766bb9f23b44.jpg  \n",
            " extracting: /content/Fights/train/images/fight_0713_frame102_jpg.rf.879e15d150b4e069454ab6e1b2ae3dea.jpg  \n",
            " extracting: /content/Fights/train/images/fight_0713_frame108_jpg.rf.525bf6bd3f35f530abe7892c313d143e.jpg  \n",
            " extracting: /content/Fights/train/images/fight_0713_frame183_jpg.rf.2dc859446cfee995d1d6761487c362ce.jpg  \n",
            " extracting: /content/Fights/train/images/fight_0716_frame102_jpg.rf.cc86d6a765bfbd3c11fb015385fa4c44.jpg  \n",
            " extracting: /content/Fights/train/images/fight_0716_frame33_jpg.rf.c66e502b7b977f9e9032288b40d8f8ff.jpg  \n",
            " extracting: /content/Fights/train/images/fight_0724_frame138_jpg.rf.f597a100829fec240a012a3be79e234e.jpg  \n",
            " extracting: /content/Fights/train/images/fight_0724_frame180_jpg.rf.06ca9f586cb26cfd47912672f6236f38.jpg  \n",
            " extracting: /content/Fights/train/images/fight_0726_frame138_jpg.rf.ec71e02e4dca1de24b8011af8dd2942c.jpg  \n",
            " extracting: /content/Fights/train/images/fight_0726_frame294_jpg.rf.7778c25d2adcade2778cb9b324944504.jpg  \n",
            " extracting: /content/Fights/train/images/fight_0726_frame297_jpg.rf.74dc2a583a111ca5267cd2046b95a7d7.jpg  \n",
            " extracting: /content/Fights/train/images/fight_0739_frame135_jpg.rf.f31cccfd5abd053db49c4ad88ac71684.jpg  \n",
            " extracting: /content/Fights/train/images/fight_0739_frame30_jpg.rf.6cc1b56e16fc6a654820e23bd01405bb.jpg  \n",
            " extracting: /content/Fights/train/images/fight_0739_frame33_jpg.rf.738d1249d314609360b02aefbe496ae4.jpg  \n",
            " extracting: /content/Fights/train/images/fight_0740_frame36_jpg.rf.7ff8260dbdf1b53b622a95e6db51ddfc.jpg  \n",
            " extracting: /content/Fights/train/images/fight_0749_frame69_jpg.rf.d0da94a0a43ca92c3d0fcc244e1a91c4.jpg  \n",
            " extracting: /content/Fights/train/images/fight_0749_frame75_jpg.rf.d88bb38713374e3ee3dfd7a2b85f24eb.jpg  \n",
            " extracting: /content/Fights/train/images/fight_0751_frame228_jpg.rf.bf89ab00af9c4ac1b8dff7c65cfcb3de.jpg  \n",
            " extracting: /content/Fights/train/images/fight_0756_frame333_jpg.rf.59178d03cf0ea33ac44300a2e64901dc.jpg  \n",
            " extracting: /content/Fights/train/images/fight_0768_frame390_jpg.rf.380bc6401e1ed4bf62b4f7959297cd34.jpg  \n",
            " extracting: /content/Fights/train/images/fight_0772_frame81_jpg.rf.06904f44dfe1b0be5bf87dede7b56161.jpg  \n",
            " extracting: /content/Fights/train/images/fight_0777_frame192_jpg.rf.f3eedafc5bdfb5d742c5cc858f625371.jpg  \n",
            " extracting: /content/Fights/train/images/fight_0778_frame264_jpg.rf.d8a75fa89e90a47062bb8eb646dc08f0.jpg  \n",
            " extracting: /content/Fights/train/images/fight_0789_frame12_jpg.rf.56e80357f28a937a37d839cfd792333f.jpg  \n",
            " extracting: /content/Fights/train/images/fight_0789_frame96_jpg.rf.79e9ae1c123ef3acee4da23eaef712e0.jpg  \n",
            " extracting: /content/Fights/train/images/fight_0798_frame264_jpg.rf.7f30035c4ee9a43e0f53bdd0f3fc984c.jpg  \n",
            " extracting: /content/Fights/train/images/fight_0801_frame325_jpg.rf.0845d6a99defe58f95523cd86b8d5d45.jpg  \n",
            " extracting: /content/Fights/train/images/fight_0801_frame435_jpg.rf.abfedac1dc57e37d0c8e324415f4e41a.jpg  \n",
            " extracting: /content/Fights/train/images/fight_0803_frame580_jpg.rf.f3afaa6b7a1c0202ad1331887deb3b42.jpg  \n",
            " extracting: /content/Fights/train/images/fight_0811_frame825_jpg.rf.c7cf03fb0002b2e76224461d64473e94.jpg  \n",
            " extracting: /content/Fights/train/images/fight_0831_frame1240_jpg.rf.6cd0c0a5cf089be98526b81caa3b04f2.jpg  \n",
            " extracting: /content/Fights/train/images/fight_0832_frame0_jpg.rf.fc653a5e6c7680090efc131d2932fa33.jpg  \n",
            " extracting: /content/Fights/train/images/fight_0832_frame205_jpg.rf.dddbf0d6af32bb42d649b6a04217efeb.jpg  \n",
            " extracting: /content/Fights/train/images/fight_0832_frame210_jpg.rf.fbb93788c010261ce6fad465ddef7c73.jpg  \n",
            " extracting: /content/Fights/train/images/fight_0832_frame220_jpg.rf.a58dde1131f688139c15b7cf8df4f2aa.jpg  \n",
            " extracting: /content/Fights/train/images/fight_0832_frame65_jpg.rf.b065cb4b5fe840d7475819ffd1f19201.jpg  \n",
            " extracting: /content/Fights/train/images/fight_0833_frame680_jpg.rf.5b35c282bf12d4d36f7cb5299c87ec05.jpg  \n",
            " extracting: /content/Fights/train/images/fight_0836_frame575_jpg.rf.02b6d7c19f9887f1663f7841fe8a30e8.jpg  \n",
            " extracting: /content/Fights/train/images/fight_0838_frame1355_jpg.rf.15ff247d6d06c78176e5aa8fb31621c8.jpg  \n",
            " extracting: /content/Fights/train/images/fight_0838_frame4095_jpg.rf.89f249b953108e915458ad36374d6af2.jpg  \n",
            " extracting: /content/Fights/train/images/fight_0838_frame4345_jpg.rf.661cc699739fb26bec4ecd32cf9bf902.jpg  \n",
            " extracting: /content/Fights/train/images/fight_0842_frame640_jpg.rf.4469b247c30436646b8810894dc200b9.jpg  \n",
            " extracting: /content/Fights/train/images/fight_0842_frame660_jpg.rf.138dff2537810b2e86c8b3505d9e1c88.jpg  \n",
            " extracting: /content/Fights/train/images/fight_0844_frame270_jpg.rf.7d5933b0b99200bfccf0280511b6ecd8.jpg  \n",
            " extracting: /content/Fights/train/images/fight_0844_frame580_jpg.rf.4537fa94b8737cf00c1b4cd5f5d403f9.jpg  \n",
            " extracting: /content/Fights/train/images/fight_0845_frame1735_jpg.rf.2f5e8d3ebbf543c94ee804a548b5a142.jpg  \n",
            " extracting: /content/Fights/train/images/fight_0847_frame725_jpg.rf.1fe1a6240d7c98c5458bb7405987bdf3.jpg  \n",
            " extracting: /content/Fights/train/images/fight_0849_frame780_jpg.rf.f1e0eeb2ca963fed752fc6c4a070929a.jpg  \n",
            " extracting: /content/Fights/train/images/fight_0853_frame2455_jpg.rf.37854a46029727a7ce2e358552f50eda.jpg  \n",
            " extracting: /content/Fights/train/images/fight_0853_frame2585_jpg.rf.1d1700c3c5efdde992e2f4d2716acd30.jpg  \n",
            " extracting: /content/Fights/train/images/fight_0853_frame2590_jpg.rf.8ef469751aedf25d9f173c84b4d7eb62.jpg  \n",
            " extracting: /content/Fights/train/images/fight_0857_frame145_jpg.rf.ec48977ee473506481514b1f8e3c83af.jpg  \n",
            " extracting: /content/Fights/train/images/fight_0858_frame530_jpg.rf.70008740ff98b2277e3fe863f39e6170.jpg  \n",
            " extracting: /content/Fights/train/images/fight_0860_frame185_jpg.rf.c5356415836006b836af452c268ee6e2.jpg  \n",
            " extracting: /content/Fights/train/images/fight_0860_frame195_jpg.rf.a0adea22e888186ac15d5e14630a6efc.jpg  \n",
            " extracting: /content/Fights/train/images/fight_0860_frame200_jpg.rf.6c5db0d0455a82db8cc260af999ac32c.jpg  \n",
            " extracting: /content/Fights/train/images/fight_0862_frame125_jpg.rf.f6628b46e777a250b980063c0b6c0825.jpg  \n",
            "   creating: /content/Fights/train/labels/\n",
            " extracting: /content/Fights/train/labels/V_1000_frame56_jpg.rf.e7096fd76980b9ba52c8f1a3d3850f56.txt  \n",
            " extracting: /content/Fights/train/labels/V_1000_frame70_jpg.rf.085d86f90081e980619e8498b0491cba.txt  \n",
            "  inflating: /content/Fights/train/labels/V_101_frame56_jpg.rf.10b20871c1284d004dbee76b89b34ac8.txt  \n",
            "  inflating: /content/Fights/train/labels/V_115_frame0_jpg.rf.c7f6843c905a240ad101ee906f7003fa.txt  \n",
            "  inflating: /content/Fights/train/labels/V_117_frame7_jpg.rf.52823143b20399c1c307957ec48f99dd.txt  \n",
            "  inflating: /content/Fights/train/labels/V_118_frame42_jpg.rf.36278dd12405242ceb057b029a5ed462.txt  \n",
            "  inflating: /content/Fights/train/labels/V_121_frame21_jpg.rf.86191693e504c95c632b0efdd77ca337.txt  \n",
            "  inflating: /content/Fights/train/labels/V_146_frame147_jpg.rf.adf4dd6a8c9482c9f61d7031e78d03dc.txt  \n",
            "  inflating: /content/Fights/train/labels/V_146_frame70_jpg.rf.a6b74a0db267cd8690b57044d72ae368.txt  \n",
            " extracting: /content/Fights/train/labels/V_157_frame0_jpg.rf.7e9abe1396dacf040f9a866271967e91.txt  \n",
            "  inflating: /content/Fights/train/labels/V_166_frame14_jpg.rf.f29889a9431d0ed6eb758b30a18fa233.txt  \n",
            "  inflating: /content/Fights/train/labels/V_1_frame49_jpg.rf.68990588049f12a08c0e49ab453dc694.txt  \n",
            "  inflating: /content/Fights/train/labels/V_1_frame63_jpg.rf.d25ec899a9dc0e9511d3d4377a995433.txt  \n",
            "  inflating: /content/Fights/train/labels/V_1_frame98_jpg.rf.5cfb680274db6c015e5cdf96d7e8dcec.txt  \n",
            "  inflating: /content/Fights/train/labels/V_203_frame0_jpg.rf.9b1f93bef0778a126f0c363255d7e9ca.txt  \n",
            "  inflating: /content/Fights/train/labels/V_203_frame70_jpg.rf.917d31b46362c90af716aa7ae367f977.txt  \n",
            "  inflating: /content/Fights/train/labels/V_204_frame147_jpg.rf.94e7cdecfddee084da87f781ddd8a8cd.txt  \n",
            "  inflating: /content/Fights/train/labels/V_204_frame21_jpg.rf.71df78b9cd23058c7cb61538a2f9257c.txt  \n",
            "  inflating: /content/Fights/train/labels/V_210_frame91_jpg.rf.d5fd07be61e8e1d70215b7906ad307bb.txt  \n",
            "  inflating: /content/Fights/train/labels/V_217_frame133_jpg.rf.988ab2ff40e0679c218ef5f05f4a5b61.txt  \n",
            "  inflating: /content/Fights/train/labels/V_277_frame98_jpg.rf.054ed7aa8cc097a2a50a395cbf8d4700.txt  \n",
            "  inflating: /content/Fights/train/labels/V_278_frame126_jpg.rf.9cd6dc44152838350716b574930b3482.txt  \n",
            "  inflating: /content/Fights/train/labels/V_290_frame35_jpg.rf.7a120710e8c0920c653d0fefe817b8cb.txt  \n",
            "  inflating: /content/Fights/train/labels/V_298_frame84_jpg.rf.d59d80c8473c0479edba816d55100ec6.txt  \n",
            "  inflating: /content/Fights/train/labels/V_300_frame7_jpg.rf.691e2adf4d2ca289daab2d4171a2f101.txt  \n",
            "  inflating: /content/Fights/train/labels/V_347_frame49_jpg.rf.8fe436631f527aa11b646078e1627d3a.txt  \n",
            "  inflating: /content/Fights/train/labels/V_350_frame84_jpg.rf.62ee2cfc682da24e692bc9807ae1eaf4.txt  \n",
            "  inflating: /content/Fights/train/labels/V_35_frame21_jpg.rf.0c8ef79f75d1c1618cc06826630e1382.txt  \n",
            "  inflating: /content/Fights/train/labels/V_360_frame7_jpg.rf.d670c8feb55cceaccfd1954720f78a82.txt  \n",
            "  inflating: /content/Fights/train/labels/V_398_frame1246_jpg.rf.30943b8ff569346a8ca77a1a70e5d110.txt  \n",
            "  inflating: /content/Fights/train/labels/V_415_frame28_jpg.rf.c298dff894323a5a09e4423c5bcc56c0.txt  \n",
            "  inflating: /content/Fights/train/labels/V_449_frame49_jpg.rf.093fccb77447cba48e7130fb5f3e58c6.txt  \n",
            "  inflating: /content/Fights/train/labels/V_473_frame42_jpg.rf.44c31693a332517cf07f54c39d4f9c7d.txt  \n",
            "  inflating: /content/Fights/train/labels/V_490_frame91_jpg.rf.21919839dd34945239cf9c36a76d4c27.txt  \n",
            "  inflating: /content/Fights/train/labels/V_4_frame70_jpg.rf.af19536b9fc864ab0e6458001cd68b25.txt  \n",
            "  inflating: /content/Fights/train/labels/V_507_frame98_jpg.rf.03f57c039e3f04554b21d8d7b2b677da.txt  \n",
            "  inflating: /content/Fights/train/labels/V_512_frame0_jpg.rf.1e41f18b16fdf340d09775d5f696f1d5.txt  \n",
            "  inflating: /content/Fights/train/labels/V_512_frame105_jpg.rf.34abdd88b07f9eac48e1353fd0352544.txt  \n",
            " extracting: /content/Fights/train/labels/V_513_frame91_jpg.rf.fe960efb9490989e7cda2d0cc116e11b.txt  \n",
            "  inflating: /content/Fights/train/labels/V_51_frame98_jpg.rf.29d77522288e18f1ddb8282f10a188d0.txt  \n",
            "  inflating: /content/Fights/train/labels/V_523_frame49_jpg.rf.51759e242ac1e183ec39270f87f30fdb.txt  \n",
            "  inflating: /content/Fights/train/labels/V_526_frame63_jpg.rf.46567f96d8499f1011ac2c896f94287e.txt  \n",
            "  inflating: /content/Fights/train/labels/V_546_frame126_jpg.rf.347896190717b6b119094f2d7a3f82c8.txt  \n",
            "  inflating: /content/Fights/train/labels/V_553_frame77_jpg.rf.f0cda2d4591e03aaea7aab85da54c647.txt  \n",
            "  inflating: /content/Fights/train/labels/V_553_frame7_jpg.rf.67c31a7b4b577c29f1105be2110df56a.txt  \n",
            "  inflating: /content/Fights/train/labels/V_553_frame84_jpg.rf.1fb145ad472fbf473f5301f6d1342f84.txt  \n",
            "  inflating: /content/Fights/train/labels/V_56_frame21_jpg.rf.7886941a8e579e7c1fceb703d9759fbe.txt  \n",
            "  inflating: /content/Fights/train/labels/V_571_frame119_jpg.rf.b0464aaa5ec2a4674591c874179b0ccf.txt  \n",
            "  inflating: /content/Fights/train/labels/V_585_frame140_jpg.rf.2302054a5e275e80e9ac48f242bd123d.txt  \n",
            "  inflating: /content/Fights/train/labels/V_585_frame77_jpg.rf.d07e1cb630bcae611e1f138cb37012e9.txt  \n",
            "  inflating: /content/Fights/train/labels/V_601_frame182_jpg.rf.6951b89511423054fb0d1aa334891483.txt  \n",
            "  inflating: /content/Fights/train/labels/V_602_frame28_jpg.rf.f8f1db07c38eff05ce88d6d9a96c2c26.txt  \n",
            "  inflating: /content/Fights/train/labels/V_602_frame42_jpg.rf.54f6d474fcd4caba15edb8726543d065.txt  \n",
            "  inflating: /content/Fights/train/labels/V_602_frame63_jpg.rf.2ba33659d3dde0ba6c4ae09beca34ca8.txt  \n",
            "  inflating: /content/Fights/train/labels/V_603_frame133_jpg.rf.5f73cf8c1256791c2ae463356b3a6be7.txt  \n",
            "  inflating: /content/Fights/train/labels/V_629_frame126_jpg.rf.983cb90608bd910240f4b531795dc0cf.txt  \n",
            "  inflating: /content/Fights/train/labels/V_629_frame21_jpg.rf.93c91fea40632cce580e2360cc8db424.txt  \n",
            "  inflating: /content/Fights/train/labels/V_629_frame42_jpg.rf.6aedc1ab643267d474ac00c41890db09.txt  \n",
            "  inflating: /content/Fights/train/labels/V_636_frame42_jpg.rf.ffcc86d263557a3d35bc287a89271d77.txt  \n",
            "  inflating: /content/Fights/train/labels/V_638_frame119_jpg.rf.27fc49cd1f961f1a6137c610b01470e3.txt  \n",
            "  inflating: /content/Fights/train/labels/V_651_frame21_jpg.rf.3d51457692bb764d1b76106366681408.txt  \n",
            "  inflating: /content/Fights/train/labels/V_653_frame119_jpg.rf.289fb9d792e5d387b6ea486bc98c9bbd.txt  \n",
            "  inflating: /content/Fights/train/labels/V_655_frame119_jpg.rf.ea0ab4a1c5b2186486b13ca69be49e4a.txt  \n",
            "  inflating: /content/Fights/train/labels/V_687_frame35_jpg.rf.63d067a9920a03341a6345bd8fc58c29.txt  \n",
            "  inflating: /content/Fights/train/labels/V_707_frame119_jpg.rf.8408baaf1b1aa5516efbf12498891474.txt  \n",
            "  inflating: /content/Fights/train/labels/V_718_frame63_jpg.rf.2d3f125144bf5842a4e74e43a9adbb81.txt  \n",
            "  inflating: /content/Fights/train/labels/V_71_frame147_jpg.rf.7642bedbe87d3162d18156950c6c2f6d.txt  \n",
            "  inflating: /content/Fights/train/labels/V_71_frame14_jpg.rf.a2c86d0d598289c1d2c1993ef2419226.txt  \n",
            "  inflating: /content/Fights/train/labels/V_71_frame7_jpg.rf.c645007cb67d72b4e251ebc5fc4e3dcb.txt  \n",
            "  inflating: /content/Fights/train/labels/V_722_frame84_jpg.rf.67f6993d1f06f90daefc96ef20797c20.txt  \n",
            "  inflating: /content/Fights/train/labels/V_743_frame21_jpg.rf.35f17dafcd0c36679067cfd392e13334.txt  \n",
            "  inflating: /content/Fights/train/labels/V_746_frame105_jpg.rf.84584f445f992d93c4a0dde454e472ea.txt  \n",
            "  inflating: /content/Fights/train/labels/V_747_frame126_jpg.rf.da6f586d1931e78eeeea893f4bd500b1.txt  \n",
            "  inflating: /content/Fights/train/labels/V_749_frame84_jpg.rf.48b8936dff70a366d230d63f2f2d17a2.txt  \n",
            "  inflating: /content/Fights/train/labels/V_74_frame0_jpg.rf.fb7d3d17e3b3f0924d12a6afce9903f4.txt  \n",
            "  inflating: /content/Fights/train/labels/V_74_frame7_jpg.rf.c9937be7fe00f5401ed2dc67d99e423d.txt  \n",
            " extracting: /content/Fights/train/labels/V_753_frame77_jpg.rf.809485dcbf3b8fdacafc05cc9ab84a32.txt  \n",
            " extracting: /content/Fights/train/labels/V_753_frame7_jpg.rf.cc74365d196caea90f90c5922286ee8e.txt  \n",
            "  inflating: /content/Fights/train/labels/V_753_frame98_jpg.rf.00d28f5a8a0a2317304bacda505827c3.txt  \n",
            "  inflating: /content/Fights/train/labels/V_758_frame63_jpg.rf.5876bdba031f900965ab18164db12ec6.txt  \n",
            "  inflating: /content/Fights/train/labels/V_760_frame7_jpg.rf.79d34d1d8195e58ed222a53540a6db27.txt  \n",
            "  inflating: /content/Fights/train/labels/V_763_frame63_jpg.rf.477318ec1edc846f2e1c96ee4821a37a.txt  \n",
            "  inflating: /content/Fights/train/labels/V_764_frame70_jpg.rf.7d62498170ace4c3b724fea3939c4205.txt  \n",
            " extracting: /content/Fights/train/labels/V_765_frame56_jpg.rf.5c88f160a11f2340e52241f7921acc75.txt  \n",
            "  inflating: /content/Fights/train/labels/V_766_frame112_jpg.rf.0e1241adfcc49b875d18577927b45476.txt  \n",
            "  inflating: /content/Fights/train/labels/V_766_frame119_jpg.rf.103a29fa1ada1d9bdd1c19f5937f314a.txt  \n",
            "  inflating: /content/Fights/train/labels/V_774_frame28_jpg.rf.506133783ea5b2d861c5a98ed4ddf64e.txt  \n",
            "  inflating: /content/Fights/train/labels/V_789_frame1421_jpg.rf.37e40a6a0e769396bd9250d115f715f0.txt  \n",
            "  inflating: /content/Fights/train/labels/V_789_frame1505_jpg.rf.405e48b904a2752107b3cd48f374bda6.txt  \n",
            "  inflating: /content/Fights/train/labels/V_789_frame2254_jpg.rf.1817dd1ee07f280bdb377b53c06991be.txt  \n",
            "  inflating: /content/Fights/train/labels/V_789_frame4851_jpg.rf.a656a7d1b4b379583d7180355e4cf888.txt  \n",
            "  inflating: /content/Fights/train/labels/V_789_frame742_jpg.rf.91952450e772a4a1e3b3b4cd177451e5.txt  \n",
            "  inflating: /content/Fights/train/labels/V_78_frame56_jpg.rf.a0e16dff63b071c3d009af05e980360e.txt  \n",
            "  inflating: /content/Fights/train/labels/V_800_frame49_jpg.rf.0458669e51d64dde7482ef6f2fa5a521.txt  \n",
            "  inflating: /content/Fights/train/labels/V_800_frame98_jpg.rf.2a00c2ea62a2287110434af04d441fd4.txt  \n",
            "  inflating: /content/Fights/train/labels/V_802_frame133_jpg.rf.eb36a4576b762563e8e790a4bc294e5e.txt  \n",
            "  inflating: /content/Fights/train/labels/V_805_frame105_jpg.rf.fe717a08df29c8eacb29e962f4375576.txt  \n",
            "  inflating: /content/Fights/train/labels/V_807_frame119_jpg.rf.e5b517570083fbf9fac5ce432828c164.txt  \n",
            "  inflating: /content/Fights/train/labels/V_807_frame126_jpg.rf.d126f0141b5eb136961bbcca2f957ac7.txt  \n",
            "  inflating: /content/Fights/train/labels/V_80_frame63_jpg.rf.98339fb18a4dbd04be4ce9e3e77d18db.txt  \n",
            "  inflating: /content/Fights/train/labels/V_810_frame112_jpg.rf.2a93c115722023694f561261f6ecd51d.txt  \n",
            "  inflating: /content/Fights/train/labels/V_812_frame84_jpg.rf.c60064ed275ac733dd41e7126a2b47d8.txt  \n",
            "  inflating: /content/Fights/train/labels/V_815_frame98_jpg.rf.ad2ef5eefbb0af07924c61e01a430857.txt  \n",
            "  inflating: /content/Fights/train/labels/V_817_frame126_jpg.rf.6217ad847bcf5b8ae6c09e36a267297e.txt  \n",
            "  inflating: /content/Fights/train/labels/V_817_frame154_jpg.rf.44c146256b763d74cd1052e8d40116ee.txt  \n",
            "  inflating: /content/Fights/train/labels/V_818_frame14_jpg.rf.6ffaa714991b2ac2cac506171b5d35fa.txt  \n",
            "  inflating: /content/Fights/train/labels/V_818_frame70_jpg.rf.63ecceaea6978cecc7cb3b91b4d63bf2.txt  \n",
            "  inflating: /content/Fights/train/labels/V_819_frame49_jpg.rf.13010c04015ff798e031b5f25051acc8.txt  \n",
            "  inflating: /content/Fights/train/labels/V_820_frame105_jpg.rf.3513b269f32d5d9a985f2b768a78d2cc.txt  \n",
            "  inflating: /content/Fights/train/labels/V_820_frame56_jpg.rf.f8999da7e8b89266833d45275b7c54cb.txt  \n",
            "  inflating: /content/Fights/train/labels/V_821_frame98_jpg.rf.48c6608fae3ec8c1dbe3dca6fe841880.txt  \n",
            "  inflating: /content/Fights/train/labels/V_823_frame49_jpg.rf.fbc4aaa7f1c49f110007e701e92a64e2.txt  \n",
            "  inflating: /content/Fights/train/labels/V_823_frame63_jpg.rf.401cd5c9daa1ebf9c939383e0e2e2d59.txt  \n",
            " extracting: /content/Fights/train/labels/V_823_frame70_jpg.rf.6b5f77e6dcfd9536e3d45d78f7e07a12.txt  \n",
            "  inflating: /content/Fights/train/labels/V_823_frame77_jpg.rf.53ee3f95d1029ad2856282a4f991f9c4.txt  \n",
            "  inflating: /content/Fights/train/labels/V_824_frame133_jpg.rf.10eed1a53910df7dce7824148811b1ad.txt  \n",
            "  inflating: /content/Fights/train/labels/V_824_frame84_jpg.rf.b9362a3966b9c3b4517408539bdf7bef.txt  \n",
            "  inflating: /content/Fights/train/labels/V_827_frame84_jpg.rf.928fec06b9a3826800ec0468e58f3382.txt  \n",
            "  inflating: /content/Fights/train/labels/V_828_frame105_jpg.rf.06d5afee80773739cbd08e07af964869.txt  \n",
            "  inflating: /content/Fights/train/labels/V_828_frame119_jpg.rf.bbdaa20c30ce8d6c3c438b9cbfa411fc.txt  \n",
            "  inflating: /content/Fights/train/labels/V_828_frame133_jpg.rf.c98bf0bf72003da6d0a04487b3b18282.txt  \n",
            "  inflating: /content/Fights/train/labels/V_828_frame140_jpg.rf.b06bbd2d21e5597150edca479c7e4205.txt  \n",
            "  inflating: /content/Fights/train/labels/V_828_frame21_jpg.rf.b1619301ac8e5e091273e0f4300c7516.txt  \n",
            "  inflating: /content/Fights/train/labels/V_828_frame28_jpg.rf.cfdfa16a06d426a066f9d16528e743e6.txt  \n",
            "  inflating: /content/Fights/train/labels/V_829_frame49_jpg.rf.323f65a01cb9ff45d3e349bf39fc7123.txt  \n",
            "  inflating: /content/Fights/train/labels/V_830_frame119_jpg.rf.809cd14d41c83990ed3a359f6eb31a38.txt  \n",
            "  inflating: /content/Fights/train/labels/V_831_frame119_jpg.rf.909c019e76e77ec4248d328b15065557.txt  \n",
            "  inflating: /content/Fights/train/labels/V_832_frame133_jpg.rf.f3c9dcb01309872c3db8d8bd094d0376.txt  \n",
            "  inflating: /content/Fights/train/labels/V_832_frame56_jpg.rf.aa45155147ab15c745485448c8aa5ccf.txt  \n",
            "  inflating: /content/Fights/train/labels/V_836_frame91_jpg.rf.f9ccea01427ab014d0d2c0613c2f8d0f.txt  \n",
            "  inflating: /content/Fights/train/labels/V_838_frame133_jpg.rf.3edd8c511ef496a8172ea8c96a3dfaa5.txt  \n",
            "  inflating: /content/Fights/train/labels/V_839_frame0_jpg.rf.08f8b29e863eaa2df56236094c9f5ec2.txt  \n",
            "  inflating: /content/Fights/train/labels/V_839_frame112_jpg.rf.8bf62cceb3c6250f3a34fd1083a119cf.txt  \n",
            "  inflating: /content/Fights/train/labels/V_843_frame42_jpg.rf.2995dddee62293fa352931c5664b47d5.txt  \n",
            " extracting: /content/Fights/train/labels/V_844_frame105_jpg.rf.ac9f78257f808f373600e9a6615e879b.txt  \n",
            "  inflating: /content/Fights/train/labels/V_844_frame126_jpg.rf.e9bac73467db137f674c631bf8c16518.txt  \n",
            "  inflating: /content/Fights/train/labels/V_844_frame140_jpg.rf.255f70255cae47dfd433776058dbcff0.txt  \n",
            "  inflating: /content/Fights/train/labels/V_845_frame14_jpg.rf.b52ede8348cad923732f05c6b50eeaef.txt  \n",
            "  inflating: /content/Fights/train/labels/V_847_frame42_jpg.rf.1a8d390a008ae6ac8e2326074d67e05b.txt  \n",
            "  inflating: /content/Fights/train/labels/V_848_frame77_jpg.rf.78537116b1a6743928792ab915657322.txt  \n",
            "  inflating: /content/Fights/train/labels/V_850_frame77_jpg.rf.84cff7d3d4b70e74dc8364124742a623.txt  \n",
            "  inflating: /content/Fights/train/labels/V_851_frame140_jpg.rf.d0e8e6391fdc5c6390c01cf37162165f.txt  \n",
            "  inflating: /content/Fights/train/labels/V_851_frame154_jpg.rf.bf042015bf3dfdc66ad767b50f03dc02.txt  \n",
            "  inflating: /content/Fights/train/labels/V_854_frame21_jpg.rf.7d71390471828a487a6403f91304efe9.txt  \n",
            "  inflating: /content/Fights/train/labels/V_855_frame105_jpg.rf.db5a171a2d7bcef2f49c42e934332f07.txt  \n",
            "  inflating: /content/Fights/train/labels/V_855_frame112_jpg.rf.e70e6b426f22e40df9b406455c2d0021.txt  \n",
            "  inflating: /content/Fights/train/labels/V_855_frame84_jpg.rf.20e56a41e05207a62f1f27bab9d7397d.txt  \n",
            "  inflating: /content/Fights/train/labels/V_856_frame14_jpg.rf.200bb3350fd36c739e94b08fb996a6f4.txt  \n",
            "  inflating: /content/Fights/train/labels/V_858_frame98_jpg.rf.aa20314592d6c60232e6bbddc325f0bf.txt  \n",
            "  inflating: /content/Fights/train/labels/V_859_frame77_jpg.rf.d692b81ca1fce235913d49df96d8a56f.txt  \n",
            "  inflating: /content/Fights/train/labels/V_860_frame77_jpg.rf.ab8567f61816c251be14de028faa1299.txt  \n",
            "  inflating: /content/Fights/train/labels/V_861_frame49_jpg.rf.2c4eb72c1998bbcd66621afa20ad14c1.txt  \n",
            "  inflating: /content/Fights/train/labels/V_861_frame56_jpg.rf.6a9cd3079793b8ce7776fab18a74e629.txt  \n",
            "  inflating: /content/Fights/train/labels/V_867_frame77_jpg.rf.d14fd8a38870a97e78d8a503547a2404.txt  \n",
            "  inflating: /content/Fights/train/labels/V_869_frame91_jpg.rf.6f494401d871f63c62ec97bbf7574e17.txt  \n",
            "  inflating: /content/Fights/train/labels/V_872_frame126_jpg.rf.d362c2bc2c2a7bf0023acbd31d665390.txt  \n",
            "  inflating: /content/Fights/train/labels/V_872_frame154_jpg.rf.3fc437d74f731e3d0262982dc1549c11.txt  \n",
            "  inflating: /content/Fights/train/labels/V_872_frame49_jpg.rf.741958b4069b01ef56d556d929f6cf38.txt  \n",
            "  inflating: /content/Fights/train/labels/V_879_frame70_jpg.rf.89f8fe5dd69a41e0067f1f76d033a9d8.txt  \n",
            "  inflating: /content/Fights/train/labels/V_882_frame105_jpg.rf.516893a3bad783f847985d3a58b9981a.txt  \n",
            "  inflating: /content/Fights/train/labels/V_883_frame0_jpg.rf.570f4483fba3501c04f2593bc78145d8.txt  \n",
            "  inflating: /content/Fights/train/labels/V_883_frame133_jpg.rf.ce922844e4a58b853c9af4270d63c83a.txt  \n",
            "  inflating: /content/Fights/train/labels/V_886_frame56_jpg.rf.326cc6e2db0955cbacea9cea32c72882.txt  \n",
            "  inflating: /content/Fights/train/labels/V_887_frame112_jpg.rf.d4d6c1729d186135fbd47bdfb6ddcd44.txt  \n",
            "  inflating: /content/Fights/train/labels/V_889_frame35_jpg.rf.8cef123fbfae916a519d7960aa8a9d73.txt  \n",
            "  inflating: /content/Fights/train/labels/V_889_frame7_jpg.rf.409d519db95d12506ebf8c62e39c68e9.txt  \n",
            "  inflating: /content/Fights/train/labels/V_889_frame91_jpg.rf.4fa99e7ab9278a6a0cb8a87ae1678a63.txt  \n",
            " extracting: /content/Fights/train/labels/V_890_frame84_jpg.rf.c15e32a771542cdbdad618fa81a75b59.txt  \n",
            " extracting: /content/Fights/train/labels/V_894_frame21_jpg.rf.4843e3553c9e8b664119e5dcba0d5200.txt  \n",
            "  inflating: /content/Fights/train/labels/V_894_frame42_jpg.rf.643ac8d7868b1e06c99cc27383d1384e.txt  \n",
            "  inflating: /content/Fights/train/labels/V_898_frame21_jpg.rf.f43b42d37eca64c4f92cf32382a4f053.txt  \n",
            "  inflating: /content/Fights/train/labels/V_898_frame98_jpg.rf.faafa2658f975f7f8bb86eb7b48e9525.txt  \n",
            "  inflating: /content/Fights/train/labels/V_899_frame21_jpg.rf.a12b8f273e2c8921feea23124f0863b0.txt  \n",
            "  inflating: /content/Fights/train/labels/V_89_frame119_jpg.rf.6a2045ebf38645e390a63d0c130e65dc.txt  \n",
            "  inflating: /content/Fights/train/labels/V_8_frame49_jpg.rf.5aa3dcb2444dda9820d74f83d7286988.txt  \n",
            "  inflating: /content/Fights/train/labels/V_902_frame42_jpg.rf.b1c9fc2ddaf80555fb032ff6c8c77e7b.txt  \n",
            "  inflating: /content/Fights/train/labels/V_903_frame112_jpg.rf.ce39600fcc93751b625dec980e44fdf4.txt  \n",
            "  inflating: /content/Fights/train/labels/V_903_frame98_jpg.rf.0a462aeaf491c06ecd2d9bc89e90c932.txt  \n",
            "  inflating: /content/Fights/train/labels/V_904_frame126_jpg.rf.18925aa5860ffb2fe590e39875f5e436.txt  \n",
            "  inflating: /content/Fights/train/labels/V_904_frame140_jpg.rf.d39c79e783ee56cdbe490dbe17cac331.txt  \n",
            "  inflating: /content/Fights/train/labels/V_904_frame49_jpg.rf.79cbe69136e732c0d69b877a0a18ef83.txt  \n",
            "  inflating: /content/Fights/train/labels/V_904_frame70_jpg.rf.5d5eec3c0d2d2413f88767d71249e07a.txt  \n",
            "  inflating: /content/Fights/train/labels/V_905_frame56_jpg.rf.513e1f689413a9faeb2f6967bc483eea.txt  \n",
            "  inflating: /content/Fights/train/labels/V_905_frame84_jpg.rf.3030ce29b76aedb96f4a65c29ef9f81d.txt  \n",
            " extracting: /content/Fights/train/labels/V_907_frame0_jpg.rf.e4fc2550ccf2a34ae642a954faf06326.txt  \n",
            " extracting: /content/Fights/train/labels/V_908_frame14_jpg.rf.7b1b0dc7d5648afbc2971720e7481950.txt  \n",
            "  inflating: /content/Fights/train/labels/V_908_frame70_jpg.rf.3efca4b161b778bd37089ef5dd77b3ab.txt  \n",
            "  inflating: /content/Fights/train/labels/V_909_frame49_jpg.rf.5d275278d510cf3210fbe7c3927fa06d.txt  \n",
            "  inflating: /content/Fights/train/labels/V_915_frame70_jpg.rf.c112ef278b8bbdb8e40a3967f440cba1.txt  \n",
            "  inflating: /content/Fights/train/labels/V_917_frame35_jpg.rf.85e6554f03c15301f580f7ca31820e18.txt  \n",
            "  inflating: /content/Fights/train/labels/V_917_frame70_jpg.rf.9b926ce91fef0e7079f66781a0bc064b.txt  \n",
            "  inflating: /content/Fights/train/labels/V_920_frame0_jpg.rf.9a41ad8a432ac217d3f401a15050b372.txt  \n",
            "  inflating: /content/Fights/train/labels/V_920_frame28_jpg.rf.4b1f5bdb01fb4d6a3477cc27498d97ce.txt  \n",
            "  inflating: /content/Fights/train/labels/V_922_frame105_jpg.rf.231066ca9b3dfeb011e96ced61261d16.txt  \n",
            "  inflating: /content/Fights/train/labels/V_923_frame14_jpg.rf.775e57898d448391616013501871e52f.txt  \n",
            "  inflating: /content/Fights/train/labels/V_925_frame84_jpg.rf.b5bf1a2de921987dcc40d33c4968826d.txt  \n",
            "  inflating: /content/Fights/train/labels/V_944_frame14_jpg.rf.3e3c562635800e5eebcab1002201c054.txt  \n",
            "  inflating: /content/Fights/train/labels/V_953_frame133_jpg.rf.4a0f625ad0dd04b22b3c4fe71c610b34.txt  \n",
            "  inflating: /content/Fights/train/labels/V_95_frame98_jpg.rf.114701a4aad5a1d755566c08f03ed259.txt  \n",
            "  inflating: /content/Fights/train/labels/V_970_frame77_jpg.rf.d45fdb40a5837cbee95f8a2848e2504d.txt  \n",
            "  inflating: /content/Fights/train/labels/V_97_frame140_jpg.rf.f5def2a1fac1fc29d3b13dbdade81351.txt  \n",
            "  inflating: /content/Fights/train/labels/V_98_frame133_jpg.rf.159e18dc5e3b9c7b77fb8e348c2a4005.txt  \n",
            " extracting: /content/Fights/train/labels/V_99_frame42_jpg.rf.483ddebc345af923ec1edeb86d46916c.txt  \n",
            "  inflating: /content/Fights/train/labels/ex_fight-101_jpg.rf.2d4bb10a55dc69a07576a0339f4efb73.txt  \n",
            "  inflating: /content/Fights/train/labels/ex_fight-10_jpg.rf.29189c863916a687e17b104cc2f236ed.txt  \n",
            "  inflating: /content/Fights/train/labels/ex_fight-43_jpg.rf.21316c1d8c846bfe1678088c476176f1.txt  \n",
            "  inflating: /content/Fights/train/labels/ex_fight-50_jpg.rf.8af2b734f5c7e98b34ed2ba5e00df08d.txt  \n",
            "  inflating: /content/Fights/train/labels/ex_fight-54_jpg.rf.aa76c0a1b59d66d9be9592f95df70037.txt  \n",
            "  inflating: /content/Fights/train/labels/ex_fight-5_jpg.rf.cb0ccc06ac353a9add20455981d94a0c.txt  \n",
            "  inflating: /content/Fights/train/labels/ex_fight-79_jpg.rf.cad7de4d0600c924de3c49ed66e2dcd5.txt  \n",
            "  inflating: /content/Fights/train/labels/ex_fight-86_jpg.rf.14427905c0ad5727c13e812d1395ffa2.txt  \n",
            "  inflating: /content/Fights/train/labels/ex_fight-88_jpg.rf.63a4f9cfe234110b917c2f58cdcfaac7.txt  \n",
            "  inflating: /content/Fights/train/labels/ex_fight-98_jpg.rf.52e941c024ab8cd735cffaf38d21ebca.txt  \n",
            "  inflating: /content/Fights/train/labels/ex_fight-9_jpg.rf.6ebfeca758bfdc2588bb04b1b1ba0e95.txt  \n",
            "  inflating: /content/Fights/train/labels/fight_0002_frame695_jpg.rf.46db480d9ac9d13b0821ba35acd9c3fd.txt  \n",
            " extracting: /content/Fights/train/labels/fight_0004_frame515_jpg.rf.abaf7fd6448bf46600eac704a1c43512.txt  \n",
            " extracting: /content/Fights/train/labels/fight_0007_frame190_jpg.rf.c18fa93fd5850c636adebb3564faa55d.txt  \n",
            "  inflating: /content/Fights/train/labels/fight_0024_frame215_jpg.rf.d17e37569b2514393310c2db4ec4845e.txt  \n",
            "  inflating: /content/Fights/train/labels/fight_0024_frame55_jpg.rf.891d5fdcf149877115cdab97f9576e84.txt  \n",
            "  inflating: /content/Fights/train/labels/fight_0028_frame1525_jpg.rf.5097b0012fe63fa642464cb9d86de2fc.txt  \n",
            "  inflating: /content/Fights/train/labels/fight_0042_frame2135_jpg.rf.bd36ca5e6ebba57fcdd06bb7c7196ebb.txt  \n",
            "  inflating: /content/Fights/train/labels/fight_0064_frame220_jpg.rf.b97e4dc45fba46a95077831cfedfc64a.txt  \n",
            "  inflating: /content/Fights/train/labels/fight_0065_frame1285_jpg.rf.4e99c71bf191f9f412a5e770499d8708.txt  \n",
            "  inflating: /content/Fights/train/labels/fight_0074_frame3500_jpg.rf.e617fbfedc29278446b689bb71713d1c.txt  \n",
            "  inflating: /content/Fights/train/labels/fight_0076_frame1120_jpg.rf.5c06d5db3218407c7f22b24185e4ac7e.txt  \n",
            "  inflating: /content/Fights/train/labels/fight_0082_frame1495_jpg.rf.0c67e0cc3803ccf93ffcb7d89916f22c.txt  \n",
            "  inflating: /content/Fights/train/labels/fight_0084_frame160_jpg.rf.e9d7096c24f4e19fbd631138b079edc2.txt  \n",
            "  inflating: /content/Fights/train/labels/fight_0084_frame70_jpg.rf.898f2ba6a5a4e8021bfd516b856642b2.txt  \n",
            "  inflating: /content/Fights/train/labels/fight_0084_frame750_jpg.rf.1d1660cb02a487185496a550bb2417f4.txt  \n",
            "  inflating: /content/Fights/train/labels/fight_0084_frame755_jpg.rf.910d10921b854fe570dd407b3e3cb09f.txt  \n",
            "  inflating: /content/Fights/train/labels/fight_0089_frame2045_jpg.rf.d5d83fb92f373b6abdeb315bebf223ec.txt  \n",
            "  inflating: /content/Fights/train/labels/fight_0117_frame185_jpg.rf.4024ebe4281be6e57dedb6dcaab18b94.txt  \n",
            "  inflating: /content/Fights/train/labels/fight_0119_frame160_jpg.rf.0997d8d7a2b6f24ab4eda40de2c06360.txt  \n",
            "  inflating: /content/Fights/train/labels/fight_0119_frame175_jpg.rf.a43f7f770f6806f7c77f3ad9f2fc157e.txt  \n",
            "  inflating: /content/Fights/train/labels/fight_0119_frame180_jpg.rf.d8828627bca96e322f6c0892da00d776.txt  \n",
            "  inflating: /content/Fights/train/labels/fight_0147_frame3650_jpg.rf.0850d43bab89a44028f141b877c4b98a.txt  \n",
            "  inflating: /content/Fights/train/labels/fight_0156_frame1785_jpg.rf.8d4a90098c0fd7190f7702acde956946.txt  \n",
            "  inflating: /content/Fights/train/labels/fight_0156_frame1810_jpg.rf.96f13816d1ecd1d139b919e914e283a8.txt  \n",
            "  inflating: /content/Fights/train/labels/fight_0168_frame1185_jpg.rf.7e7f0cceee4e27bfe704913177688a47.txt  \n",
            "  inflating: /content/Fights/train/labels/fight_0168_frame1200_jpg.rf.b70b4e88bacd8c3d5a3a9abfdf566482.txt  \n",
            "  inflating: /content/Fights/train/labels/fight_0504_frame185_jpg.rf.2107040378104b46220e212973c466ca.txt  \n",
            "  inflating: /content/Fights/train/labels/fight_0504_frame515_jpg.rf.d783756245bc8517e5de772db5c60f28.txt  \n",
            "  inflating: /content/Fights/train/labels/fight_0516_frame345_jpg.rf.4c55a05c9b54f76b7de4910d0caf6091.txt  \n",
            "  inflating: /content/Fights/train/labels/fight_0516_frame350_jpg.rf.c4973d5b7bb7f1d50675a4a064f0737d.txt  \n",
            "  inflating: /content/Fights/train/labels/fight_0527_frame100_jpg.rf.b66336011b206f353b11b87af695df6e.txt  \n",
            "  inflating: /content/Fights/train/labels/fight_0529_frame175_jpg.rf.eea3baaea153a30c5cb214c8a962301a.txt  \n",
            "  inflating: /content/Fights/train/labels/fight_0529_frame320_jpg.rf.8288fbaa9811c6b5d4235fb485dee301.txt  \n",
            "  inflating: /content/Fights/train/labels/fight_0529_frame325_jpg.rf.edc0e67a18636d73c83834ee9d9b1962.txt  \n",
            "  inflating: /content/Fights/train/labels/fight_0529_frame440_jpg.rf.061c85d47290ec46492a5e783c36df0e.txt  \n",
            "  inflating: /content/Fights/train/labels/fight_0533_frame400_jpg.rf.d612120d1313f169f7464636143e6550.txt  \n",
            " extracting: /content/Fights/train/labels/fight_0536_frame255_jpg.rf.0ce9cb436db11f0cff87fafb188bc258.txt  \n",
            "  inflating: /content/Fights/train/labels/fight_0540_frame205_jpg.rf.1796965071657310f7fa28640df96e37.txt  \n",
            "  inflating: /content/Fights/train/labels/fight_0540_frame20_jpg.rf.e863e53510159dc009f5652bc668071e.txt  \n",
            "  inflating: /content/Fights/train/labels/fight_0542_frame1205_jpg.rf.d652565112a9d23dcf5eb12924750650.txt  \n",
            "  inflating: /content/Fights/train/labels/fight_0542_frame1295_jpg.rf.0975f07276cc66e8d545c665c054df4d.txt  \n",
            "  inflating: /content/Fights/train/labels/fight_0543_frame1565_jpg.rf.d53a63261835209024bdcf1952019482.txt  \n",
            "  inflating: /content/Fights/train/labels/fight_0548_frame175_jpg.rf.635f420f13cdbff3a9df0ae7a3a55a1f.txt  \n",
            "  inflating: /content/Fights/train/labels/fight_0549_frame185_jpg.rf.0ef10a643b35ce8b9b278bc24af1c047.txt  \n",
            "  inflating: /content/Fights/train/labels/fight_0549_frame205_jpg.rf.0a6499984f94238d7bc36491d0d1cc6d.txt  \n",
            "  inflating: /content/Fights/train/labels/fight_0551_frame1135_jpg.rf.c9b0ef5589cf020deedba5caa302488a.txt  \n",
            "  inflating: /content/Fights/train/labels/fight_0551_frame1240_jpg.rf.5da4d27cf5ff8907939aad49b891535d.txt  \n",
            "  inflating: /content/Fights/train/labels/fight_0551_frame1285_jpg.rf.f767867fa3dc3bd54f64c024849c6688.txt  \n",
            "  inflating: /content/Fights/train/labels/fight_0551_frame1685_jpg.rf.9c838325d411a3f13bc1feb15f8404a9.txt  \n",
            "  inflating: /content/Fights/train/labels/fight_0551_frame1690_jpg.rf.f0837c1602c9c32801ec6515165fd7ff.txt  \n",
            "  inflating: /content/Fights/train/labels/fight_0551_frame1795_jpg.rf.044fb82493b60daf738b9fac6a3347de.txt  \n",
            "  inflating: /content/Fights/train/labels/fight_0551_frame1940_jpg.rf.b7c94b1c38077e2c4d2dd3f7fa191928.txt  \n",
            "  inflating: /content/Fights/train/labels/fight_0551_frame2095_jpg.rf.3a63b65fd7aab0d0e9ae7de6d4e105e0.txt  \n",
            "  inflating: /content/Fights/train/labels/fight_0551_frame2160_jpg.rf.0e6e265c4827bb271c2b230e52350892.txt  \n",
            "  inflating: /content/Fights/train/labels/fight_0551_frame2330_jpg.rf.82dc6cd80101e11ba8af99d757042670.txt  \n",
            "  inflating: /content/Fights/train/labels/fight_0551_frame3095_jpg.rf.41cdf4f615fc87fb26afbf383b8b8694.txt  \n",
            "  inflating: /content/Fights/train/labels/fight_0551_frame310_jpg.rf.16a730fdf3693320f37cc2a388e21e77.txt  \n",
            "  inflating: /content/Fights/train/labels/fight_0551_frame320_jpg.rf.2c20bb9062684710fc1f35a4ea8e66e6.txt  \n",
            "  inflating: /content/Fights/train/labels/fight_0560_frame1310_jpg.rf.b00b6096b0c47f7b63cc837af05a3fd4.txt  \n",
            "  inflating: /content/Fights/train/labels/fight_0560_frame1775_jpg.rf.858d2bdca06e14e740ef7f42dd7ebc0b.txt  \n",
            "  inflating: /content/Fights/train/labels/fight_0560_frame1805_jpg.rf.5191a777529576bd8a51bea61547a12f.txt  \n",
            "  inflating: /content/Fights/train/labels/fight_0568_frame155_jpg.rf.2d769830e1d039cab1db97bad32ec44a.txt  \n",
            "  inflating: /content/Fights/train/labels/fight_0572_frame280_jpg.rf.bf759f007481d339c2dea4d1cdc5af80.txt  \n",
            "  inflating: /content/Fights/train/labels/fight_0582_frame1310_jpg.rf.796e655f5881395e568c87aa15826bea.txt  \n",
            "  inflating: /content/Fights/train/labels/fight_0582_frame270_jpg.rf.070f803642147471027160e99ed72c8a.txt  \n",
            "  inflating: /content/Fights/train/labels/fight_0582_frame275_jpg.rf.17623e4a4b909c56a6dc3bd2c8e39fe6.txt  \n",
            "  inflating: /content/Fights/train/labels/fight_0582_frame430_jpg.rf.8884f3428b5066bbc3ef6ed0a3b1fd3f.txt  \n",
            "  inflating: /content/Fights/train/labels/fight_0582_frame815_jpg.rf.63944e8fc082ac21820f5a08758f7a64.txt  \n",
            "  inflating: /content/Fights/train/labels/fight_0589_frame205_jpg.rf.07aa7eec15e02e0e91e2a50abfb892db.txt  \n",
            "  inflating: /content/Fights/train/labels/fight_0590_frame365_jpg.rf.33177febf4ee8af223a8106d9d490136.txt  \n",
            "  inflating: /content/Fights/train/labels/fight_0590_frame410_jpg.rf.1faa011590f6e242f465a5092bc90dc0.txt  \n",
            "  inflating: /content/Fights/train/labels/fight_0590_frame60_jpg.rf.5e38f40e3885411f0e076e3452728261.txt  \n",
            "  inflating: /content/Fights/train/labels/fight_0620_frame30_jpg.rf.5504ee9d8644cbdc09534cb6077186b5.txt  \n",
            "  inflating: /content/Fights/train/labels/fight_0620_frame480_jpg.rf.57e8af5c7f0fd1089a672d16d8888310.txt  \n",
            "  inflating: /content/Fights/train/labels/fight_0620_frame582_jpg.rf.51fb523b229982593cd4ad2427f22acc.txt  \n",
            "  inflating: /content/Fights/train/labels/fight_0620_frame585_jpg.rf.4c18f858e28d28dd8977497533b59664.txt  \n",
            "  inflating: /content/Fights/train/labels/fight_0620_frame621_jpg.rf.6dda0a526b51df6081aee21c3edd7f01.txt  \n",
            "  inflating: /content/Fights/train/labels/fight_0620_frame813_jpg.rf.f89ecd41b093a3943709472dd0b34d2e.txt  \n",
            "  inflating: /content/Fights/train/labels/fight_0620_frame837_jpg.rf.e4b19f1596538af73432f6b2e20d176a.txt  \n",
            "  inflating: /content/Fights/train/labels/fight_0620_frame846_jpg.rf.898fe35dba0b698fee2a0b23bed31df2.txt  \n",
            "  inflating: /content/Fights/train/labels/fight_0627_frame33_jpg.rf.8544cb834118c06cab2150f6aac47de4.txt  \n",
            "  inflating: /content/Fights/train/labels/fight_0627_frame42_jpg.rf.9338367ec198405aa854b3853d6796f0.txt  \n",
            "  inflating: /content/Fights/train/labels/fight_0627_frame72_jpg.rf.6dd0450bd937af08684e57b7863bef2a.txt  \n",
            "  inflating: /content/Fights/train/labels/fight_0627_frame9_jpg.rf.09ac11f856c669b83d3dfa2484f8bc21.txt  \n",
            " extracting: /content/Fights/train/labels/fight_0630_frame327_jpg.rf.67a092aed0a4d2891ebcb1fd9cc4524b.txt  \n",
            "  inflating: /content/Fights/train/labels/fight_0645_frame450_jpg.rf.1f3a171b1b25077ce4fcd9b97dfb7202.txt  \n",
            "  inflating: /content/Fights/train/labels/fight_0645_frame516_jpg.rf.5d0b64077176860b6a6b639ef0be67f2.txt  \n",
            "  inflating: /content/Fights/train/labels/fight_0655_frame606_jpg.rf.9131a857888c713458203cd0ddadb821.txt  \n",
            "  inflating: /content/Fights/train/labels/fight_0655_frame636_jpg.rf.4b08bf35b42d176fe19388009a07ca47.txt  \n",
            "  inflating: /content/Fights/train/labels/fight_0656_frame1479_jpg.rf.ab1ef8b4775838be8401680b4e67c317.txt  \n",
            "  inflating: /content/Fights/train/labels/fight_0656_frame1482_jpg.rf.c78429c09aa10bc386b72f5f33a493fe.txt  \n",
            "  inflating: /content/Fights/train/labels/fight_0672_frame1959_jpg.rf.a45f7ca6ce4692ee9e7b7d34cab76da4.txt  \n",
            "  inflating: /content/Fights/train/labels/fight_0683_frame3252_jpg.rf.438ca6a1206c6126d623a8ced1d51f21.txt  \n",
            "  inflating: /content/Fights/train/labels/fight_0685_frame228_jpg.rf.5d7d7e2cfc34a8f817828d311080a2a9.txt  \n",
            " extracting: /content/Fights/train/labels/fight_0685_frame243_jpg.rf.626d8261498405fec871f7b9afc037a9.txt  \n",
            "  inflating: /content/Fights/train/labels/fight_0685_frame468_jpg.rf.80c819c0f84d2fcbd49078ba1eb1e9d2.txt  \n",
            "  inflating: /content/Fights/train/labels/fight_0685_frame480_jpg.rf.e7f40682b434c497e8b13e958b3b56a8.txt  \n",
            "  inflating: /content/Fights/train/labels/fight_0694_frame117_jpg.rf.1ee59505ef2b0b94edaecdabe8272a65.txt  \n",
            "  inflating: /content/Fights/train/labels/fight_0696_frame6_jpg.rf.e77b645b1eea8b23c9f51ef2c11c03ac.txt  \n",
            "  inflating: /content/Fights/train/labels/fight_0713_frame0_jpg.rf.4c0c7bb08e865881848e766bb9f23b44.txt  \n",
            "  inflating: /content/Fights/train/labels/fight_0713_frame102_jpg.rf.879e15d150b4e069454ab6e1b2ae3dea.txt  \n",
            "  inflating: /content/Fights/train/labels/fight_0713_frame108_jpg.rf.525bf6bd3f35f530abe7892c313d143e.txt  \n",
            "  inflating: /content/Fights/train/labels/fight_0713_frame183_jpg.rf.2dc859446cfee995d1d6761487c362ce.txt  \n",
            "  inflating: /content/Fights/train/labels/fight_0716_frame102_jpg.rf.cc86d6a765bfbd3c11fb015385fa4c44.txt  \n",
            "  inflating: /content/Fights/train/labels/fight_0716_frame33_jpg.rf.c66e502b7b977f9e9032288b40d8f8ff.txt  \n",
            "  inflating: /content/Fights/train/labels/fight_0724_frame138_jpg.rf.f597a100829fec240a012a3be79e234e.txt  \n",
            "  inflating: /content/Fights/train/labels/fight_0724_frame180_jpg.rf.06ca9f586cb26cfd47912672f6236f38.txt  \n",
            "  inflating: /content/Fights/train/labels/fight_0726_frame138_jpg.rf.ec71e02e4dca1de24b8011af8dd2942c.txt  \n",
            "  inflating: /content/Fights/train/labels/fight_0726_frame294_jpg.rf.7778c25d2adcade2778cb9b324944504.txt  \n",
            "  inflating: /content/Fights/train/labels/fight_0726_frame297_jpg.rf.74dc2a583a111ca5267cd2046b95a7d7.txt  \n",
            "  inflating: /content/Fights/train/labels/fight_0739_frame135_jpg.rf.f31cccfd5abd053db49c4ad88ac71684.txt  \n",
            "  inflating: /content/Fights/train/labels/fight_0739_frame30_jpg.rf.6cc1b56e16fc6a654820e23bd01405bb.txt  \n",
            "  inflating: /content/Fights/train/labels/fight_0739_frame33_jpg.rf.738d1249d314609360b02aefbe496ae4.txt  \n",
            "  inflating: /content/Fights/train/labels/fight_0740_frame36_jpg.rf.7ff8260dbdf1b53b622a95e6db51ddfc.txt  \n",
            "  inflating: /content/Fights/train/labels/fight_0749_frame69_jpg.rf.d0da94a0a43ca92c3d0fcc244e1a91c4.txt  \n",
            "  inflating: /content/Fights/train/labels/fight_0749_frame75_jpg.rf.d88bb38713374e3ee3dfd7a2b85f24eb.txt  \n",
            "  inflating: /content/Fights/train/labels/fight_0751_frame228_jpg.rf.bf89ab00af9c4ac1b8dff7c65cfcb3de.txt  \n",
            "  inflating: /content/Fights/train/labels/fight_0756_frame333_jpg.rf.59178d03cf0ea33ac44300a2e64901dc.txt  \n",
            "  inflating: /content/Fights/train/labels/fight_0768_frame390_jpg.rf.380bc6401e1ed4bf62b4f7959297cd34.txt  \n",
            "  inflating: /content/Fights/train/labels/fight_0772_frame81_jpg.rf.06904f44dfe1b0be5bf87dede7b56161.txt  \n",
            "  inflating: /content/Fights/train/labels/fight_0777_frame192_jpg.rf.f3eedafc5bdfb5d742c5cc858f625371.txt  \n",
            "  inflating: /content/Fights/train/labels/fight_0778_frame264_jpg.rf.d8a75fa89e90a47062bb8eb646dc08f0.txt  \n",
            "  inflating: /content/Fights/train/labels/fight_0789_frame12_jpg.rf.56e80357f28a937a37d839cfd792333f.txt  \n",
            " extracting: /content/Fights/train/labels/fight_0789_frame96_jpg.rf.79e9ae1c123ef3acee4da23eaef712e0.txt  \n",
            "  inflating: /content/Fights/train/labels/fight_0798_frame264_jpg.rf.7f30035c4ee9a43e0f53bdd0f3fc984c.txt  \n",
            "  inflating: /content/Fights/train/labels/fight_0801_frame325_jpg.rf.0845d6a99defe58f95523cd86b8d5d45.txt  \n",
            "  inflating: /content/Fights/train/labels/fight_0801_frame435_jpg.rf.abfedac1dc57e37d0c8e324415f4e41a.txt  \n",
            " extracting: /content/Fights/train/labels/fight_0803_frame580_jpg.rf.f3afaa6b7a1c0202ad1331887deb3b42.txt  \n",
            "  inflating: /content/Fights/train/labels/fight_0811_frame825_jpg.rf.c7cf03fb0002b2e76224461d64473e94.txt  \n",
            "  inflating: /content/Fights/train/labels/fight_0831_frame1240_jpg.rf.6cd0c0a5cf089be98526b81caa3b04f2.txt  \n",
            "  inflating: /content/Fights/train/labels/fight_0832_frame0_jpg.rf.fc653a5e6c7680090efc131d2932fa33.txt  \n",
            "  inflating: /content/Fights/train/labels/fight_0832_frame205_jpg.rf.dddbf0d6af32bb42d649b6a04217efeb.txt  \n",
            "  inflating: /content/Fights/train/labels/fight_0832_frame210_jpg.rf.fbb93788c010261ce6fad465ddef7c73.txt  \n",
            "  inflating: /content/Fights/train/labels/fight_0832_frame220_jpg.rf.a58dde1131f688139c15b7cf8df4f2aa.txt  \n",
            "  inflating: /content/Fights/train/labels/fight_0832_frame65_jpg.rf.b065cb4b5fe840d7475819ffd1f19201.txt  \n",
            "  inflating: /content/Fights/train/labels/fight_0833_frame680_jpg.rf.5b35c282bf12d4d36f7cb5299c87ec05.txt  \n",
            "  inflating: /content/Fights/train/labels/fight_0836_frame575_jpg.rf.02b6d7c19f9887f1663f7841fe8a30e8.txt  \n",
            "  inflating: /content/Fights/train/labels/fight_0838_frame1355_jpg.rf.15ff247d6d06c78176e5aa8fb31621c8.txt  \n",
            "  inflating: /content/Fights/train/labels/fight_0838_frame4095_jpg.rf.89f249b953108e915458ad36374d6af2.txt  \n",
            "  inflating: /content/Fights/train/labels/fight_0838_frame4345_jpg.rf.661cc699739fb26bec4ecd32cf9bf902.txt  \n",
            "  inflating: /content/Fights/train/labels/fight_0842_frame640_jpg.rf.4469b247c30436646b8810894dc200b9.txt  \n",
            "  inflating: /content/Fights/train/labels/fight_0842_frame660_jpg.rf.138dff2537810b2e86c8b3505d9e1c88.txt  \n",
            "  inflating: /content/Fights/train/labels/fight_0844_frame270_jpg.rf.7d5933b0b99200bfccf0280511b6ecd8.txt  \n",
            "  inflating: /content/Fights/train/labels/fight_0844_frame580_jpg.rf.4537fa94b8737cf00c1b4cd5f5d403f9.txt  \n",
            " extracting: /content/Fights/train/labels/fight_0845_frame1735_jpg.rf.2f5e8d3ebbf543c94ee804a548b5a142.txt  \n",
            "  inflating: /content/Fights/train/labels/fight_0847_frame725_jpg.rf.1fe1a6240d7c98c5458bb7405987bdf3.txt  \n",
            " extracting: /content/Fights/train/labels/fight_0849_frame780_jpg.rf.f1e0eeb2ca963fed752fc6c4a070929a.txt  \n",
            "  inflating: /content/Fights/train/labels/fight_0853_frame2455_jpg.rf.37854a46029727a7ce2e358552f50eda.txt  \n",
            "  inflating: /content/Fights/train/labels/fight_0853_frame2585_jpg.rf.1d1700c3c5efdde992e2f4d2716acd30.txt  \n",
            "  inflating: /content/Fights/train/labels/fight_0853_frame2590_jpg.rf.8ef469751aedf25d9f173c84b4d7eb62.txt  \n",
            "  inflating: /content/Fights/train/labels/fight_0857_frame145_jpg.rf.ec48977ee473506481514b1f8e3c83af.txt  \n",
            "  inflating: /content/Fights/train/labels/fight_0858_frame530_jpg.rf.70008740ff98b2277e3fe863f39e6170.txt  \n",
            "  inflating: /content/Fights/train/labels/fight_0860_frame185_jpg.rf.c5356415836006b836af452c268ee6e2.txt  \n",
            "  inflating: /content/Fights/train/labels/fight_0860_frame195_jpg.rf.a0adea22e888186ac15d5e14630a6efc.txt  \n",
            "  inflating: /content/Fights/train/labels/fight_0860_frame200_jpg.rf.6c5db0d0455a82db8cc260af999ac32c.txt  \n",
            "  inflating: /content/Fights/train/labels/fight_0862_frame125_jpg.rf.f6628b46e777a250b980063c0b6c0825.txt  \n",
            "   creating: /content/Fights/valid/\n",
            "   creating: /content/Fights/valid/images/\n",
            " extracting: /content/Fights/valid/images/V_203_frame7_jpg.rf.9a4785e4df5c19034cae6c4c117020c7.jpg  \n",
            " extracting: /content/Fights/valid/images/V_280_frame70_jpg.rf.3f6c093567be9e5093a3911f3099dfe0.jpg  \n",
            " extracting: /content/Fights/valid/images/V_333_frame126_jpg.rf.71dc5344155034febb8edfd2fb7a61cd.jpg  \n",
            " extracting: /content/Fights/valid/images/V_333_frame63_jpg.rf.9dbe11fc0d914917d1bfea2c1aae7dbc.jpg  \n",
            " extracting: /content/Fights/valid/images/V_339_frame105_jpg.rf.3e948b5f0fd39e5407ffb7f211186fa5.jpg  \n",
            " extracting: /content/Fights/valid/images/V_370_frame14_jpg.rf.5bbea4fea153174877ae2369c41310a3.jpg  \n",
            " extracting: /content/Fights/valid/images/V_442_frame91_jpg.rf.478a0849dfe23e7c387a423055f2e883.jpg  \n",
            " extracting: /content/Fights/valid/images/V_511_frame63_jpg.rf.c1d1ac3b2d38c7a81f63dddf1f6b52b0.jpg  \n",
            " extracting: /content/Fights/valid/images/V_537_frame119_jpg.rf.29aa569f2147163feed87f42f256e01d.jpg  \n",
            " extracting: /content/Fights/valid/images/V_581_frame77_jpg.rf.f759fc67c68d0d3eeb278c6f6195564e.jpg  \n",
            " extracting: /content/Fights/valid/images/V_629_frame112_jpg.rf.e741f89f00ddffc55f7f6c35e643284c.jpg  \n",
            " extracting: /content/Fights/valid/images/V_743_frame126_jpg.rf.e33d666dd6cd8e53d519d35b27cfc723.jpg  \n",
            " extracting: /content/Fights/valid/images/V_805_frame112_jpg.rf.1f93506e807644ff2f14d22c1c287d4d.jpg  \n",
            " extracting: /content/Fights/valid/images/V_818_frame84_jpg.rf.406f19b6c88b539ea2254af47596c141.jpg  \n",
            " extracting: /content/Fights/valid/images/V_836_frame56_jpg.rf.54bded723c06e1ab3f6f1e3cc83808df.jpg  \n",
            " extracting: /content/Fights/valid/images/V_844_frame0_jpg.rf.da4d0691bac575556e211cb305bcf506.jpg  \n",
            " extracting: /content/Fights/valid/images/V_853_frame112_jpg.rf.cbf7685ada393da7d3476a8d1721d3be.jpg  \n",
            " extracting: /content/Fights/valid/images/V_855_frame98_jpg.rf.8468d8a8e0c5ab17eb18dce5bfcc7e7e.jpg  \n",
            " extracting: /content/Fights/valid/images/V_858_frame70_jpg.rf.e86a4d2004998638a35b06aebcdab2e8.jpg  \n",
            " extracting: /content/Fights/valid/images/V_861_frame126_jpg.rf.266b6ca6678a6e3fef57ae9611e907e4.jpg  \n",
            " extracting: /content/Fights/valid/images/V_865_frame105_jpg.rf.32ef1785045f1aee175a0b7ad92a6744.jpg  \n",
            " extracting: /content/Fights/valid/images/V_872_frame14_jpg.rf.a9b5b58a0feab1b6ca239c06df6d011a.jpg  \n",
            " extracting: /content/Fights/valid/images/V_872_frame77_jpg.rf.9bfa292466116dab5d0769b565a69138.jpg  \n",
            " extracting: /content/Fights/valid/images/V_873_frame14_jpg.rf.f819cea26d03d0c132e0b66a4e0da324.jpg  \n",
            " extracting: /content/Fights/valid/images/V_895_frame28_jpg.rf.e33e41cac102ca38fd5c3a8ac5a9a501.jpg  \n",
            " extracting: /content/Fights/valid/images/V_897_frame119_jpg.rf.db565c64b26d45a8c6df99690fa432cd.jpg  \n",
            " extracting: /content/Fights/valid/images/V_905_frame42_jpg.rf.13295862dc8a8a390bdbb70709a7a798.jpg  \n",
            " extracting: /content/Fights/valid/images/V_907_frame161_jpg.rf.3d83fb75d3efe3ce2521ee3bb5bcab67.jpg  \n",
            " extracting: /content/Fights/valid/images/V_908_frame77_jpg.rf.8037bcc7435bf8d0e4ffc1a78a26b595.jpg  \n",
            " extracting: /content/Fights/valid/images/V_917_frame56_jpg.rf.714d2b485086759b80f0e829ca311d70.jpg  \n",
            " extracting: /content/Fights/valid/images/ex_fight-61_jpg.rf.46fdb006533c7f9e79b8cfd5f5bba641.jpg  \n",
            " extracting: /content/Fights/valid/images/fight_0004_frame695_jpg.rf.7741a9c568073d6ee63e9b8570f13637.jpg  \n",
            " extracting: /content/Fights/valid/images/fight_0007_frame830_jpg.rf.b4bc1fce6d9ae791201421c6d922a779.jpg  \n",
            " extracting: /content/Fights/valid/images/fight_0033_frame1490_jpg.rf.5952884dedf45cdd1ab4feec6031fc51.jpg  \n",
            " extracting: /content/Fights/valid/images/fight_0034_frame1130_jpg.rf.2820a0d7982d9a5ce4d87fb77002cc4d.jpg  \n",
            " extracting: /content/Fights/valid/images/fight_0060_frame3565_jpg.rf.73b1022d7af243bfd7c26360bc1ce4be.jpg  \n",
            " extracting: /content/Fights/valid/images/fight_0091_frame280_jpg.rf.748302d162d17328332cffbe63e88b44.jpg  \n",
            " extracting: /content/Fights/valid/images/fight_0169_frame2690_jpg.rf.5e7e29889ee0722fdf711ae8d3a131cd.jpg  \n",
            " extracting: /content/Fights/valid/images/fight_0186_frame710_jpg.rf.c612d738fe358277692e2cee4c7d78aa.jpg  \n",
            " extracting: /content/Fights/valid/images/fight_0194_frame2275_jpg.rf.e8be7d4a8594184ac38312f2e67858b3.jpg  \n",
            " extracting: /content/Fights/valid/images/fight_0504_frame190_jpg.rf.7ed34f04ee09a7a9f24230d9b2e2ab0e.jpg  \n",
            " extracting: /content/Fights/valid/images/fight_0531_frame195_jpg.rf.38c099913726ebb960ab0ee75fb70a61.jpg  \n",
            " extracting: /content/Fights/valid/images/fight_0532_frame285_jpg.rf.6bc6e6d8b5a50c5cab5961ff548942e8.jpg  \n",
            " extracting: /content/Fights/valid/images/fight_0533_frame425_jpg.rf.10c91a11fee126456dd396a6960ce7c5.jpg  \n",
            " extracting: /content/Fights/valid/images/fight_0534_frame455_jpg.rf.66fec20f4be8e4d5c0ce89aa4fd3e02b.jpg  \n",
            " extracting: /content/Fights/valid/images/fight_0551_frame1835_jpg.rf.49d4ddfeecab4adc872d94900cd74830.jpg  \n",
            " extracting: /content/Fights/valid/images/fight_0551_frame2090_jpg.rf.3357b9639bc8a6b1963819f193e670d8.jpg  \n",
            " extracting: /content/Fights/valid/images/fight_0551_frame2480_jpg.rf.246bbb0b754a60db197ade1c0ed9266a.jpg  \n",
            " extracting: /content/Fights/valid/images/fight_0551_frame325_jpg.rf.38ab2656d3cddb0b7c8dfbff43e7451a.jpg  \n",
            " extracting: /content/Fights/valid/images/fight_0582_frame305_jpg.rf.22fafe1cfe08fbe868245933c5c93017.jpg  \n",
            " extracting: /content/Fights/valid/images/fight_0590_frame400_jpg.rf.0a94fc48ad54f8914c4a5ae02a1c3a73.jpg  \n",
            " extracting: /content/Fights/valid/images/fight_0620_frame564_jpg.rf.cd83fc9bb67adbc833d279d157fca425.jpg  \n",
            " extracting: /content/Fights/valid/images/fight_0627_frame69_jpg.rf.5e010c7ca48bb00a652c1ecfca44794e.jpg  \n",
            " extracting: /content/Fights/valid/images/fight_0628_frame978_jpg.rf.208435e46c95ecd4782d164ee0543be8.jpg  \n",
            " extracting: /content/Fights/valid/images/fight_0751_frame231_jpg.rf.d634b4a25f58a5a96657917d7ece0057.jpg  \n",
            " extracting: /content/Fights/valid/images/fight_0853_frame2450_jpg.rf.040b1600df6ccce4c2945d52e79e5a27.jpg  \n",
            "   creating: /content/Fights/valid/labels/\n",
            " extracting: /content/Fights/valid/labels/V_203_frame7_jpg.rf.9a4785e4df5c19034cae6c4c117020c7.txt  \n",
            "  inflating: /content/Fights/valid/labels/V_280_frame70_jpg.rf.3f6c093567be9e5093a3911f3099dfe0.txt  \n",
            "  inflating: /content/Fights/valid/labels/V_333_frame126_jpg.rf.71dc5344155034febb8edfd2fb7a61cd.txt  \n",
            "  inflating: /content/Fights/valid/labels/V_333_frame63_jpg.rf.9dbe11fc0d914917d1bfea2c1aae7dbc.txt  \n",
            "  inflating: /content/Fights/valid/labels/V_339_frame105_jpg.rf.3e948b5f0fd39e5407ffb7f211186fa5.txt  \n",
            "  inflating: /content/Fights/valid/labels/V_370_frame14_jpg.rf.5bbea4fea153174877ae2369c41310a3.txt  \n",
            "  inflating: /content/Fights/valid/labels/V_442_frame91_jpg.rf.478a0849dfe23e7c387a423055f2e883.txt  \n",
            " extracting: /content/Fights/valid/labels/V_511_frame63_jpg.rf.c1d1ac3b2d38c7a81f63dddf1f6b52b0.txt  \n",
            "  inflating: /content/Fights/valid/labels/V_537_frame119_jpg.rf.29aa569f2147163feed87f42f256e01d.txt  \n",
            "  inflating: /content/Fights/valid/labels/V_581_frame77_jpg.rf.f759fc67c68d0d3eeb278c6f6195564e.txt  \n",
            "  inflating: /content/Fights/valid/labels/V_629_frame112_jpg.rf.e741f89f00ddffc55f7f6c35e643284c.txt  \n",
            " extracting: /content/Fights/valid/labels/V_743_frame126_jpg.rf.e33d666dd6cd8e53d519d35b27cfc723.txt  \n",
            "  inflating: /content/Fights/valid/labels/V_805_frame112_jpg.rf.1f93506e807644ff2f14d22c1c287d4d.txt  \n",
            "  inflating: /content/Fights/valid/labels/V_818_frame84_jpg.rf.406f19b6c88b539ea2254af47596c141.txt  \n",
            "  inflating: /content/Fights/valid/labels/V_836_frame56_jpg.rf.54bded723c06e1ab3f6f1e3cc83808df.txt  \n",
            " extracting: /content/Fights/valid/labels/V_844_frame0_jpg.rf.da4d0691bac575556e211cb305bcf506.txt  \n",
            " extracting: /content/Fights/valid/labels/V_853_frame112_jpg.rf.cbf7685ada393da7d3476a8d1721d3be.txt  \n",
            "  inflating: /content/Fights/valid/labels/V_855_frame98_jpg.rf.8468d8a8e0c5ab17eb18dce5bfcc7e7e.txt  \n",
            "  inflating: /content/Fights/valid/labels/V_858_frame70_jpg.rf.e86a4d2004998638a35b06aebcdab2e8.txt  \n",
            "  inflating: /content/Fights/valid/labels/V_861_frame126_jpg.rf.266b6ca6678a6e3fef57ae9611e907e4.txt  \n",
            "  inflating: /content/Fights/valid/labels/V_865_frame105_jpg.rf.32ef1785045f1aee175a0b7ad92a6744.txt  \n",
            "  inflating: /content/Fights/valid/labels/V_872_frame14_jpg.rf.a9b5b58a0feab1b6ca239c06df6d011a.txt  \n",
            "  inflating: /content/Fights/valid/labels/V_872_frame77_jpg.rf.9bfa292466116dab5d0769b565a69138.txt  \n",
            "  inflating: /content/Fights/valid/labels/V_873_frame14_jpg.rf.f819cea26d03d0c132e0b66a4e0da324.txt  \n",
            "  inflating: /content/Fights/valid/labels/V_895_frame28_jpg.rf.e33e41cac102ca38fd5c3a8ac5a9a501.txt  \n",
            "  inflating: /content/Fights/valid/labels/V_897_frame119_jpg.rf.db565c64b26d45a8c6df99690fa432cd.txt  \n",
            "  inflating: /content/Fights/valid/labels/V_905_frame42_jpg.rf.13295862dc8a8a390bdbb70709a7a798.txt  \n",
            "  inflating: /content/Fights/valid/labels/V_907_frame161_jpg.rf.3d83fb75d3efe3ce2521ee3bb5bcab67.txt  \n",
            " extracting: /content/Fights/valid/labels/V_908_frame77_jpg.rf.8037bcc7435bf8d0e4ffc1a78a26b595.txt  \n",
            "  inflating: /content/Fights/valid/labels/V_917_frame56_jpg.rf.714d2b485086759b80f0e829ca311d70.txt  \n",
            "  inflating: /content/Fights/valid/labels/ex_fight-61_jpg.rf.46fdb006533c7f9e79b8cfd5f5bba641.txt  \n",
            "  inflating: /content/Fights/valid/labels/fight_0004_frame695_jpg.rf.7741a9c568073d6ee63e9b8570f13637.txt  \n",
            "  inflating: /content/Fights/valid/labels/fight_0007_frame830_jpg.rf.b4bc1fce6d9ae791201421c6d922a779.txt  \n",
            "  inflating: /content/Fights/valid/labels/fight_0033_frame1490_jpg.rf.5952884dedf45cdd1ab4feec6031fc51.txt  \n",
            "  inflating: /content/Fights/valid/labels/fight_0034_frame1130_jpg.rf.2820a0d7982d9a5ce4d87fb77002cc4d.txt  \n",
            "  inflating: /content/Fights/valid/labels/fight_0060_frame3565_jpg.rf.73b1022d7af243bfd7c26360bc1ce4be.txt  \n",
            "  inflating: /content/Fights/valid/labels/fight_0091_frame280_jpg.rf.748302d162d17328332cffbe63e88b44.txt  \n",
            "  inflating: /content/Fights/valid/labels/fight_0169_frame2690_jpg.rf.5e7e29889ee0722fdf711ae8d3a131cd.txt  \n",
            "  inflating: /content/Fights/valid/labels/fight_0186_frame710_jpg.rf.c612d738fe358277692e2cee4c7d78aa.txt  \n",
            " extracting: /content/Fights/valid/labels/fight_0194_frame2275_jpg.rf.e8be7d4a8594184ac38312f2e67858b3.txt  \n",
            "  inflating: /content/Fights/valid/labels/fight_0504_frame190_jpg.rf.7ed34f04ee09a7a9f24230d9b2e2ab0e.txt  \n",
            "  inflating: /content/Fights/valid/labels/fight_0531_frame195_jpg.rf.38c099913726ebb960ab0ee75fb70a61.txt  \n",
            "  inflating: /content/Fights/valid/labels/fight_0532_frame285_jpg.rf.6bc6e6d8b5a50c5cab5961ff548942e8.txt  \n",
            "  inflating: /content/Fights/valid/labels/fight_0533_frame425_jpg.rf.10c91a11fee126456dd396a6960ce7c5.txt  \n",
            "  inflating: /content/Fights/valid/labels/fight_0534_frame455_jpg.rf.66fec20f4be8e4d5c0ce89aa4fd3e02b.txt  \n",
            "  inflating: /content/Fights/valid/labels/fight_0551_frame1835_jpg.rf.49d4ddfeecab4adc872d94900cd74830.txt  \n",
            "  inflating: /content/Fights/valid/labels/fight_0551_frame2090_jpg.rf.3357b9639bc8a6b1963819f193e670d8.txt  \n",
            "  inflating: /content/Fights/valid/labels/fight_0551_frame2480_jpg.rf.246bbb0b754a60db197ade1c0ed9266a.txt  \n",
            "  inflating: /content/Fights/valid/labels/fight_0551_frame325_jpg.rf.38ab2656d3cddb0b7c8dfbff43e7451a.txt  \n",
            "  inflating: /content/Fights/valid/labels/fight_0582_frame305_jpg.rf.22fafe1cfe08fbe868245933c5c93017.txt  \n",
            "  inflating: /content/Fights/valid/labels/fight_0590_frame400_jpg.rf.0a94fc48ad54f8914c4a5ae02a1c3a73.txt  \n",
            "  inflating: /content/Fights/valid/labels/fight_0620_frame564_jpg.rf.cd83fc9bb67adbc833d279d157fca425.txt  \n",
            "  inflating: /content/Fights/valid/labels/fight_0627_frame69_jpg.rf.5e010c7ca48bb00a652c1ecfca44794e.txt  \n",
            "  inflating: /content/Fights/valid/labels/fight_0628_frame978_jpg.rf.208435e46c95ecd4782d164ee0543be8.txt  \n",
            "  inflating: /content/Fights/valid/labels/fight_0751_frame231_jpg.rf.d634b4a25f58a5a96657917d7ece0057.txt  \n",
            "  inflating: /content/Fights/valid/labels/fight_0853_frame2450_jpg.rf.040b1600df6ccce4c2945d52e79e5a27.txt  \n"
          ]
        }
      ]
    },
    {
      "cell_type": "markdown",
      "source": [
        "Training Fight Model"
      ],
      "metadata": {
        "id": "pp98CevuExRO"
      }
    },
    {
      "cell_type": "code",
      "source": [
        "from ultralytics import YOLO\n",
        "\n",
        "# Load a pretrained model (or 'yolov8n.pt' for scratch)\n",
        "model = YOLO(\"yolov8n.pt\")\n",
        "\n",
        "# Train the model\n",
        "results = model.train(\n",
        "    data=\"/content/Fights/data.yaml\",  # Path to dataset config\n",
        "    epochs=30,                                 # Number of training cycles\n",
        "    imgsz=640,                                 # Image size\n",
        "    batch=16,                                  # Increase if GPU has memory\n",
        "    name=\"Fights\"                     # Saves results to\n",
        ")"
      ],
      "metadata": {
        "colab": {
          "base_uri": "https://localhost:8080/"
        },
        "id": "lkxfJUP3Ez-E",
        "outputId": "93f41149-8eb5-4308-e1f9-1a96e9249833",
        "collapsed": true
      },
      "execution_count": null,
      "outputs": [
        {
          "output_type": "stream",
          "name": "stdout",
          "text": [
            "Ultralytics 8.3.134 🚀 Python-3.11.12 torch-2.6.0+cu124 CUDA:0 (Tesla T4, 15095MiB)\n",
            "\u001b[34m\u001b[1mengine/trainer: \u001b[0magnostic_nms=False, amp=True, augment=False, auto_augment=randaugment, batch=16, bgr=0.0, box=7.5, cache=False, cfg=None, classes=None, close_mosaic=10, cls=0.5, conf=None, copy_paste=0.0, copy_paste_mode=flip, cos_lr=False, cutmix=0.0, data=/content/Fights/data.yaml, degrees=0.0, deterministic=True, device=None, dfl=1.5, dnn=False, dropout=0.0, dynamic=False, embed=None, epochs=30, erasing=0.4, exist_ok=False, fliplr=0.5, flipud=0.0, format=torchscript, fraction=1.0, freeze=None, half=False, hsv_h=0.015, hsv_s=0.7, hsv_v=0.4, imgsz=640, int8=False, iou=0.7, keras=False, kobj=1.0, line_width=None, lr0=0.01, lrf=0.01, mask_ratio=4, max_det=300, mixup=0.0, mode=train, model=yolov8n.pt, momentum=0.937, mosaic=1.0, multi_scale=False, name=Fights, nbs=64, nms=False, opset=None, optimize=False, optimizer=auto, overlap_mask=True, patience=100, perspective=0.0, plots=True, pose=12.0, pretrained=True, profile=False, project=None, rect=False, resume=False, retina_masks=False, save=True, save_conf=False, save_crop=False, save_dir=runs/detect/Fights, save_frames=False, save_json=False, save_period=-1, save_txt=False, scale=0.5, seed=0, shear=0.0, show=False, show_boxes=True, show_conf=True, show_labels=True, simplify=True, single_cls=False, source=None, split=val, stream_buffer=False, task=detect, time=None, tracker=botsort.yaml, translate=0.1, val=True, verbose=True, vid_stride=1, visualize=False, warmup_bias_lr=0.1, warmup_epochs=3.0, warmup_momentum=0.8, weight_decay=0.0005, workers=8, workspace=None\n",
            "Overriding model.yaml nc=80 with nc=1\n",
            "\n",
            "                   from  n    params  module                                       arguments                     \n",
            "  0                  -1  1       464  ultralytics.nn.modules.conv.Conv             [3, 16, 3, 2]                 \n",
            "  1                  -1  1      4672  ultralytics.nn.modules.conv.Conv             [16, 32, 3, 2]                \n",
            "  2                  -1  1      7360  ultralytics.nn.modules.block.C2f             [32, 32, 1, True]             \n",
            "  3                  -1  1     18560  ultralytics.nn.modules.conv.Conv             [32, 64, 3, 2]                \n",
            "  4                  -1  2     49664  ultralytics.nn.modules.block.C2f             [64, 64, 2, True]             \n",
            "  5                  -1  1     73984  ultralytics.nn.modules.conv.Conv             [64, 128, 3, 2]               \n",
            "  6                  -1  2    197632  ultralytics.nn.modules.block.C2f             [128, 128, 2, True]           \n",
            "  7                  -1  1    295424  ultralytics.nn.modules.conv.Conv             [128, 256, 3, 2]              \n",
            "  8                  -1  1    460288  ultralytics.nn.modules.block.C2f             [256, 256, 1, True]           \n",
            "  9                  -1  1    164608  ultralytics.nn.modules.block.SPPF            [256, 256, 5]                 \n",
            " 10                  -1  1         0  torch.nn.modules.upsampling.Upsample         [None, 2, 'nearest']          \n",
            " 11             [-1, 6]  1         0  ultralytics.nn.modules.conv.Concat           [1]                           \n",
            " 12                  -1  1    148224  ultralytics.nn.modules.block.C2f             [384, 128, 1]                 \n",
            " 13                  -1  1         0  torch.nn.modules.upsampling.Upsample         [None, 2, 'nearest']          \n",
            " 14             [-1, 4]  1         0  ultralytics.nn.modules.conv.Concat           [1]                           \n",
            " 15                  -1  1     37248  ultralytics.nn.modules.block.C2f             [192, 64, 1]                  \n",
            " 16                  -1  1     36992  ultralytics.nn.modules.conv.Conv             [64, 64, 3, 2]                \n",
            " 17            [-1, 12]  1         0  ultralytics.nn.modules.conv.Concat           [1]                           \n",
            " 18                  -1  1    123648  ultralytics.nn.modules.block.C2f             [192, 128, 1]                 \n",
            " 19                  -1  1    147712  ultralytics.nn.modules.conv.Conv             [128, 128, 3, 2]              \n",
            " 20             [-1, 9]  1         0  ultralytics.nn.modules.conv.Concat           [1]                           \n",
            " 21                  -1  1    493056  ultralytics.nn.modules.block.C2f             [384, 256, 1]                 \n",
            " 22        [15, 18, 21]  1    751507  ultralytics.nn.modules.head.Detect           [1, [64, 128, 256]]           \n",
            "Model summary: 129 layers, 3,011,043 parameters, 3,011,027 gradients, 8.2 GFLOPs\n",
            "\n",
            "Transferred 319/355 items from pretrained weights\n",
            "Freezing layer 'model.22.dfl.conv.weight'\n",
            "\u001b[34m\u001b[1mAMP: \u001b[0mrunning Automatic Mixed Precision (AMP) checks...\n",
            "\u001b[34m\u001b[1mAMP: \u001b[0mchecks passed ✅\n",
            "\u001b[34m\u001b[1mtrain: \u001b[0mFast image access ✅ (ping: 0.0±0.0 ms, read: 1240.0±482.1 MB/s, size: 39.5 KB)\n"
          ]
        },
        {
          "output_type": "stream",
          "name": "stderr",
          "text": [
            "\u001b[34m\u001b[1mtrain: \u001b[0mScanning /content/Fights/train/labels... 370 images, 0 backgrounds, 0 corrupt: 100%|██████████| 370/370 [00:00<00:00, 2544.51it/s]"
          ]
        },
        {
          "output_type": "stream",
          "name": "stdout",
          "text": [
            "\u001b[34m\u001b[1mtrain: \u001b[0mNew cache created: /content/Fights/train/labels.cache\n",
            "\u001b[34m\u001b[1malbumentations: \u001b[0mBlur(p=0.01, blur_limit=(3, 7)), MedianBlur(p=0.01, blur_limit=(3, 7)), ToGray(p=0.01, method='weighted_average', num_output_channels=3), CLAHE(p=0.01, clip_limit=(1.0, 4.0), tile_grid_size=(8, 8))\n"
          ]
        },
        {
          "output_type": "stream",
          "name": "stderr",
          "text": [
            "\n"
          ]
        },
        {
          "output_type": "stream",
          "name": "stdout",
          "text": [
            "\u001b[34m\u001b[1mval: \u001b[0mFast image access ✅ (ping: 0.0±0.0 ms, read: 368.1±122.5 MB/s, size: 36.5 KB)\n"
          ]
        },
        {
          "output_type": "stream",
          "name": "stderr",
          "text": [
            "\u001b[34m\u001b[1mval: \u001b[0mScanning /content/Fights/valid/labels... 56 images, 0 backgrounds, 0 corrupt: 100%|██████████| 56/56 [00:00<00:00, 955.20it/s]"
          ]
        },
        {
          "output_type": "stream",
          "name": "stdout",
          "text": [
            "\u001b[34m\u001b[1mval: \u001b[0mNew cache created: /content/Fights/valid/labels.cache\n"
          ]
        },
        {
          "output_type": "stream",
          "name": "stderr",
          "text": [
            "\n"
          ]
        },
        {
          "output_type": "stream",
          "name": "stdout",
          "text": [
            "Plotting labels to runs/detect/Fights/labels.jpg... \n",
            "\u001b[34m\u001b[1moptimizer:\u001b[0m 'optimizer=auto' found, ignoring 'lr0=0.01' and 'momentum=0.937' and determining best 'optimizer', 'lr0' and 'momentum' automatically... \n",
            "\u001b[34m\u001b[1moptimizer:\u001b[0m AdamW(lr=0.002, momentum=0.9) with parameter groups 57 weight(decay=0.0), 64 weight(decay=0.0005), 63 bias(decay=0.0)\n",
            "Image sizes 640 train, 640 val\n",
            "Using 2 dataloader workers\n",
            "Logging results to \u001b[1mruns/detect/Fights\u001b[0m\n",
            "Starting training for 30 epochs...\n",
            "\n",
            "      Epoch    GPU_mem   box_loss   cls_loss   dfl_loss  Instances       Size\n"
          ]
        },
        {
          "output_type": "stream",
          "name": "stderr",
          "text": [
            "       1/30      2.23G      1.482      2.467      1.766          5        640: 100%|██████████| 24/24 [00:08<00:00,  2.77it/s]\n",
            "                 Class     Images  Instances      Box(P          R      mAP50  mAP50-95): 100%|██████████| 2/2 [00:00<00:00,  3.39it/s]"
          ]
        },
        {
          "output_type": "stream",
          "name": "stdout",
          "text": [
            "                   all         56         56    0.00321      0.964      0.379      0.131\n"
          ]
        },
        {
          "output_type": "stream",
          "name": "stderr",
          "text": [
            "\n"
          ]
        },
        {
          "output_type": "stream",
          "name": "stdout",
          "text": [
            "\n",
            "      Epoch    GPU_mem   box_loss   cls_loss   dfl_loss  Instances       Size\n"
          ]
        },
        {
          "output_type": "stream",
          "name": "stderr",
          "text": [
            "       2/30      2.69G      1.463      2.126      1.794          5        640: 100%|██████████| 24/24 [00:05<00:00,  4.06it/s]\n",
            "                 Class     Images  Instances      Box(P          R      mAP50  mAP50-95): 100%|██████████| 2/2 [00:00<00:00,  2.72it/s]"
          ]
        },
        {
          "output_type": "stream",
          "name": "stdout",
          "text": [
            "                   all         56         56      0.292      0.375        0.3      0.124\n"
          ]
        },
        {
          "output_type": "stream",
          "name": "stderr",
          "text": [
            "\n"
          ]
        },
        {
          "output_type": "stream",
          "name": "stdout",
          "text": [
            "\n",
            "      Epoch    GPU_mem   box_loss   cls_loss   dfl_loss  Instances       Size\n"
          ]
        },
        {
          "output_type": "stream",
          "name": "stderr",
          "text": [
            "       3/30      2.69G      1.594      2.088      1.827          7        640: 100%|██████████| 24/24 [00:06<00:00,  3.44it/s]\n",
            "                 Class     Images  Instances      Box(P          R      mAP50  mAP50-95): 100%|██████████| 2/2 [00:00<00:00,  2.89it/s]"
          ]
        },
        {
          "output_type": "stream",
          "name": "stdout",
          "text": [
            "                   all         56         56      0.295      0.339      0.191     0.0718\n"
          ]
        },
        {
          "output_type": "stream",
          "name": "stderr",
          "text": [
            "\n"
          ]
        },
        {
          "output_type": "stream",
          "name": "stdout",
          "text": [
            "\n",
            "      Epoch    GPU_mem   box_loss   cls_loss   dfl_loss  Instances       Size\n"
          ]
        },
        {
          "output_type": "stream",
          "name": "stderr",
          "text": [
            "       4/30      2.69G      1.622      2.071      1.866          7        640: 100%|██████████| 24/24 [00:06<00:00,  3.93it/s]\n",
            "                 Class     Images  Instances      Box(P          R      mAP50  mAP50-95): 100%|██████████| 2/2 [00:00<00:00,  2.18it/s]"
          ]
        },
        {
          "output_type": "stream",
          "name": "stdout",
          "text": [
            "                   all         56         56      0.155      0.196      0.107     0.0315\n"
          ]
        },
        {
          "output_type": "stream",
          "name": "stderr",
          "text": [
            "\n"
          ]
        },
        {
          "output_type": "stream",
          "name": "stdout",
          "text": [
            "\n",
            "      Epoch    GPU_mem   box_loss   cls_loss   dfl_loss  Instances       Size\n"
          ]
        },
        {
          "output_type": "stream",
          "name": "stderr",
          "text": [
            "       5/30      2.69G       1.61      1.959      1.819          8        640: 100%|██████████| 24/24 [00:06<00:00,  3.88it/s]\n",
            "                 Class     Images  Instances      Box(P          R      mAP50  mAP50-95): 100%|██████████| 2/2 [00:00<00:00,  2.87it/s]"
          ]
        },
        {
          "output_type": "stream",
          "name": "stdout",
          "text": [
            "                   all         56         56      0.272      0.411      0.293      0.101\n"
          ]
        },
        {
          "output_type": "stream",
          "name": "stderr",
          "text": [
            "\n"
          ]
        },
        {
          "output_type": "stream",
          "name": "stdout",
          "text": [
            "\n",
            "      Epoch    GPU_mem   box_loss   cls_loss   dfl_loss  Instances       Size\n"
          ]
        },
        {
          "output_type": "stream",
          "name": "stderr",
          "text": [
            "       6/30      2.69G      1.619      1.913      1.805          5        640: 100%|██████████| 24/24 [00:06<00:00,  3.78it/s]\n",
            "                 Class     Images  Instances      Box(P          R      mAP50  mAP50-95): 100%|██████████| 2/2 [00:01<00:00,  1.60it/s]"
          ]
        },
        {
          "output_type": "stream",
          "name": "stdout",
          "text": [
            "                   all         56         56      0.307      0.375      0.251     0.0773\n"
          ]
        },
        {
          "output_type": "stream",
          "name": "stderr",
          "text": [
            "\n"
          ]
        },
        {
          "output_type": "stream",
          "name": "stdout",
          "text": [
            "\n",
            "      Epoch    GPU_mem   box_loss   cls_loss   dfl_loss  Instances       Size\n"
          ]
        },
        {
          "output_type": "stream",
          "name": "stderr",
          "text": [
            "       7/30      2.69G      1.613      1.952      1.873          6        640: 100%|██████████| 24/24 [00:05<00:00,  4.24it/s]\n",
            "                 Class     Images  Instances      Box(P          R      mAP50  mAP50-95): 100%|██████████| 2/2 [00:00<00:00,  2.72it/s]"
          ]
        },
        {
          "output_type": "stream",
          "name": "stdout",
          "text": [
            "                   all         56         56      0.228      0.357      0.235     0.0949\n"
          ]
        },
        {
          "output_type": "stream",
          "name": "stderr",
          "text": [
            "\n"
          ]
        },
        {
          "output_type": "stream",
          "name": "stdout",
          "text": [
            "\n",
            "      Epoch    GPU_mem   box_loss   cls_loss   dfl_loss  Instances       Size\n"
          ]
        },
        {
          "output_type": "stream",
          "name": "stderr",
          "text": [
            "       8/30      2.69G      1.563      1.839      1.824          3        640: 100%|██████████| 24/24 [00:07<00:00,  3.42it/s]\n",
            "                 Class     Images  Instances      Box(P          R      mAP50  mAP50-95): 100%|██████████| 2/2 [00:00<00:00,  2.76it/s]"
          ]
        },
        {
          "output_type": "stream",
          "name": "stdout",
          "text": [
            "                   all         56         56      0.533      0.536      0.471      0.149\n"
          ]
        },
        {
          "output_type": "stream",
          "name": "stderr",
          "text": [
            "\n"
          ]
        },
        {
          "output_type": "stream",
          "name": "stdout",
          "text": [
            "\n",
            "      Epoch    GPU_mem   box_loss   cls_loss   dfl_loss  Instances       Size\n"
          ]
        },
        {
          "output_type": "stream",
          "name": "stderr",
          "text": [
            "       9/30      2.71G      1.605      1.792      1.798          8        640: 100%|██████████| 24/24 [00:05<00:00,  4.22it/s]\n",
            "                 Class     Images  Instances      Box(P          R      mAP50  mAP50-95): 100%|██████████| 2/2 [00:00<00:00,  2.92it/s]"
          ]
        },
        {
          "output_type": "stream",
          "name": "stdout",
          "text": [
            "                   all         56         56       0.24      0.501      0.296     0.0999\n"
          ]
        },
        {
          "output_type": "stream",
          "name": "stderr",
          "text": [
            "\n"
          ]
        },
        {
          "output_type": "stream",
          "name": "stdout",
          "text": [
            "\n",
            "      Epoch    GPU_mem   box_loss   cls_loss   dfl_loss  Instances       Size\n"
          ]
        },
        {
          "output_type": "stream",
          "name": "stderr",
          "text": [
            "      10/30      2.73G      1.597      1.755      1.809          4        640: 100%|██████████| 24/24 [00:07<00:00,  3.41it/s]\n",
            "                 Class     Images  Instances      Box(P          R      mAP50  mAP50-95): 100%|██████████| 2/2 [00:00<00:00,  3.05it/s]"
          ]
        },
        {
          "output_type": "stream",
          "name": "stdout",
          "text": [
            "                   all         56         56      0.331      0.283      0.317      0.128\n"
          ]
        },
        {
          "output_type": "stream",
          "name": "stderr",
          "text": [
            "\n"
          ]
        },
        {
          "output_type": "stream",
          "name": "stdout",
          "text": [
            "\n",
            "      Epoch    GPU_mem   box_loss   cls_loss   dfl_loss  Instances       Size\n"
          ]
        },
        {
          "output_type": "stream",
          "name": "stderr",
          "text": [
            "      11/30      2.74G       1.57      1.755      1.785          8        640: 100%|██████████| 24/24 [00:06<00:00,  3.46it/s]\n",
            "                 Class     Images  Instances      Box(P          R      mAP50  mAP50-95): 100%|██████████| 2/2 [00:01<00:00,  1.51it/s]"
          ]
        },
        {
          "output_type": "stream",
          "name": "stdout",
          "text": [
            "                   all         56         56      0.371      0.559      0.444      0.171\n"
          ]
        },
        {
          "output_type": "stream",
          "name": "stderr",
          "text": [
            "\n"
          ]
        },
        {
          "output_type": "stream",
          "name": "stdout",
          "text": [
            "\n",
            "      Epoch    GPU_mem   box_loss   cls_loss   dfl_loss  Instances       Size\n"
          ]
        },
        {
          "output_type": "stream",
          "name": "stderr",
          "text": [
            "      12/30      2.76G      1.534      1.714      1.779          2        640: 100%|██████████| 24/24 [00:06<00:00,  3.88it/s]\n",
            "                 Class     Images  Instances      Box(P          R      mAP50  mAP50-95): 100%|██████████| 2/2 [00:00<00:00,  2.64it/s]"
          ]
        },
        {
          "output_type": "stream",
          "name": "stdout",
          "text": [
            "                   all         56         56      0.445      0.446      0.427      0.171\n"
          ]
        },
        {
          "output_type": "stream",
          "name": "stderr",
          "text": [
            "\n"
          ]
        },
        {
          "output_type": "stream",
          "name": "stdout",
          "text": [
            "\n",
            "      Epoch    GPU_mem   box_loss   cls_loss   dfl_loss  Instances       Size\n"
          ]
        },
        {
          "output_type": "stream",
          "name": "stderr",
          "text": [
            "      13/30      2.78G      1.469      1.565      1.713          5        640: 100%|██████████| 24/24 [00:07<00:00,  3.43it/s]\n",
            "                 Class     Images  Instances      Box(P          R      mAP50  mAP50-95): 100%|██████████| 2/2 [00:00<00:00,  3.43it/s]"
          ]
        },
        {
          "output_type": "stream",
          "name": "stdout",
          "text": [
            "                   all         56         56      0.448      0.589       0.49      0.216\n"
          ]
        },
        {
          "output_type": "stream",
          "name": "stderr",
          "text": [
            "\n"
          ]
        },
        {
          "output_type": "stream",
          "name": "stdout",
          "text": [
            "\n",
            "      Epoch    GPU_mem   box_loss   cls_loss   dfl_loss  Instances       Size\n"
          ]
        },
        {
          "output_type": "stream",
          "name": "stderr",
          "text": [
            "      14/30      2.79G      1.529      1.563      1.764          3        640: 100%|██████████| 24/24 [00:05<00:00,  4.27it/s]\n",
            "                 Class     Images  Instances      Box(P          R      mAP50  mAP50-95): 100%|██████████| 2/2 [00:00<00:00,  2.79it/s]"
          ]
        },
        {
          "output_type": "stream",
          "name": "stdout",
          "text": [
            "                   all         56         56      0.604      0.709      0.635       0.27\n"
          ]
        },
        {
          "output_type": "stream",
          "name": "stderr",
          "text": [
            "\n"
          ]
        },
        {
          "output_type": "stream",
          "name": "stdout",
          "text": [
            "\n",
            "      Epoch    GPU_mem   box_loss   cls_loss   dfl_loss  Instances       Size\n"
          ]
        },
        {
          "output_type": "stream",
          "name": "stderr",
          "text": [
            "      15/30      2.81G      1.465      1.567      1.744          2        640: 100%|██████████| 24/24 [00:06<00:00,  3.44it/s]\n",
            "                 Class     Images  Instances      Box(P          R      mAP50  mAP50-95): 100%|██████████| 2/2 [00:00<00:00,  2.67it/s]"
          ]
        },
        {
          "output_type": "stream",
          "name": "stdout",
          "text": [
            "                   all         56         56      0.706      0.685      0.714      0.274\n"
          ]
        },
        {
          "output_type": "stream",
          "name": "stderr",
          "text": [
            "\n"
          ]
        },
        {
          "output_type": "stream",
          "name": "stdout",
          "text": [
            "\n",
            "      Epoch    GPU_mem   box_loss   cls_loss   dfl_loss  Instances       Size\n"
          ]
        },
        {
          "output_type": "stream",
          "name": "stderr",
          "text": [
            "      16/30      2.83G      1.428      1.496       1.69          8        640: 100%|██████████| 24/24 [00:05<00:00,  4.17it/s]\n",
            "                 Class     Images  Instances      Box(P          R      mAP50  mAP50-95): 100%|██████████| 2/2 [00:00<00:00,  3.25it/s]"
          ]
        },
        {
          "output_type": "stream",
          "name": "stdout",
          "text": [
            "                   all         56         56      0.747      0.633      0.747      0.336\n"
          ]
        },
        {
          "output_type": "stream",
          "name": "stderr",
          "text": [
            "\n"
          ]
        },
        {
          "output_type": "stream",
          "name": "stdout",
          "text": [
            "\n",
            "      Epoch    GPU_mem   box_loss   cls_loss   dfl_loss  Instances       Size\n"
          ]
        },
        {
          "output_type": "stream",
          "name": "stderr",
          "text": [
            "      17/30      2.85G      1.431      1.473      1.686          5        640: 100%|██████████| 24/24 [00:06<00:00,  3.50it/s]\n",
            "                 Class     Images  Instances      Box(P          R      mAP50  mAP50-95): 100%|██████████| 2/2 [00:00<00:00,  2.78it/s]"
          ]
        },
        {
          "output_type": "stream",
          "name": "stdout",
          "text": [
            "                   all         56         56      0.736      0.695      0.688      0.321\n"
          ]
        },
        {
          "output_type": "stream",
          "name": "stderr",
          "text": [
            "\n"
          ]
        },
        {
          "output_type": "stream",
          "name": "stdout",
          "text": [
            "\n",
            "      Epoch    GPU_mem   box_loss   cls_loss   dfl_loss  Instances       Size\n"
          ]
        },
        {
          "output_type": "stream",
          "name": "stderr",
          "text": [
            "      18/30      2.86G      1.435      1.477      1.681          3        640: 100%|██████████| 24/24 [00:05<00:00,  4.09it/s]\n",
            "                 Class     Images  Instances      Box(P          R      mAP50  mAP50-95): 100%|██████████| 2/2 [00:00<00:00,  2.36it/s]"
          ]
        },
        {
          "output_type": "stream",
          "name": "stdout",
          "text": [
            "                   all         56         56       0.67      0.714      0.686      0.326\n"
          ]
        },
        {
          "output_type": "stream",
          "name": "stderr",
          "text": [
            "\n"
          ]
        },
        {
          "output_type": "stream",
          "name": "stdout",
          "text": [
            "\n",
            "      Epoch    GPU_mem   box_loss   cls_loss   dfl_loss  Instances       Size\n"
          ]
        },
        {
          "output_type": "stream",
          "name": "stderr",
          "text": [
            "      19/30      2.88G      1.391       1.36      1.654          5        640: 100%|██████████| 24/24 [00:06<00:00,  3.72it/s]\n",
            "                 Class     Images  Instances      Box(P          R      mAP50  mAP50-95): 100%|██████████| 2/2 [00:00<00:00,  2.85it/s]"
          ]
        },
        {
          "output_type": "stream",
          "name": "stdout",
          "text": [
            "                   all         56         56      0.831      0.714      0.768      0.395\n"
          ]
        },
        {
          "output_type": "stream",
          "name": "stderr",
          "text": [
            "\n"
          ]
        },
        {
          "output_type": "stream",
          "name": "stdout",
          "text": [
            "\n",
            "      Epoch    GPU_mem   box_loss   cls_loss   dfl_loss  Instances       Size\n"
          ]
        },
        {
          "output_type": "stream",
          "name": "stderr",
          "text": [
            "      20/30       2.9G      1.401      1.349      1.632          7        640: 100%|██████████| 24/24 [00:06<00:00,  3.91it/s]\n",
            "                 Class     Images  Instances      Box(P          R      mAP50  mAP50-95): 100%|██████████| 2/2 [00:01<00:00,  1.76it/s]"
          ]
        },
        {
          "output_type": "stream",
          "name": "stdout",
          "text": [
            "                   all         56         56      0.737      0.714       0.72      0.344\n"
          ]
        },
        {
          "output_type": "stream",
          "name": "stderr",
          "text": [
            "\n"
          ]
        },
        {
          "output_type": "stream",
          "name": "stdout",
          "text": [
            "Closing dataloader mosaic\n",
            "\u001b[34m\u001b[1malbumentations: \u001b[0mBlur(p=0.01, blur_limit=(3, 7)), MedianBlur(p=0.01, blur_limit=(3, 7)), ToGray(p=0.01, method='weighted_average', num_output_channels=3), CLAHE(p=0.01, clip_limit=(1.0, 4.0), tile_grid_size=(8, 8))\n",
            "\n",
            "      Epoch    GPU_mem   box_loss   cls_loss   dfl_loss  Instances       Size\n"
          ]
        },
        {
          "output_type": "stream",
          "name": "stderr",
          "text": [
            "      21/30      2.91G      1.404      1.416      1.885          2        640: 100%|██████████| 24/24 [00:07<00:00,  3.29it/s]\n",
            "                 Class     Images  Instances      Box(P          R      mAP50  mAP50-95): 100%|██████████| 2/2 [00:00<00:00,  3.37it/s]\n"
          ]
        },
        {
          "output_type": "stream",
          "name": "stdout",
          "text": [
            "                   all         56         56      0.734      0.641      0.665      0.303\n",
            "\n",
            "      Epoch    GPU_mem   box_loss   cls_loss   dfl_loss  Instances       Size\n"
          ]
        },
        {
          "output_type": "stream",
          "name": "stderr",
          "text": [
            "      22/30      2.93G      1.387      1.295      1.813          2        640: 100%|██████████| 24/24 [00:06<00:00,  3.57it/s]\n",
            "                 Class     Images  Instances      Box(P          R      mAP50  mAP50-95): 100%|██████████| 2/2 [00:00<00:00,  3.04it/s]"
          ]
        },
        {
          "output_type": "stream",
          "name": "stdout",
          "text": [
            "                   all         56         56      0.823      0.746       0.74      0.309\n"
          ]
        },
        {
          "output_type": "stream",
          "name": "stderr",
          "text": [
            "\n"
          ]
        },
        {
          "output_type": "stream",
          "name": "stdout",
          "text": [
            "\n",
            "      Epoch    GPU_mem   box_loss   cls_loss   dfl_loss  Instances       Size\n"
          ]
        },
        {
          "output_type": "stream",
          "name": "stderr",
          "text": [
            "      23/30      2.95G      1.354      1.217      1.814          2        640: 100%|██████████| 24/24 [00:05<00:00,  4.37it/s]\n",
            "                 Class     Images  Instances      Box(P          R      mAP50  mAP50-95): 100%|██████████| 2/2 [00:00<00:00,  3.12it/s]"
          ]
        },
        {
          "output_type": "stream",
          "name": "stdout",
          "text": [
            "                   all         56         56      0.797      0.772       0.79      0.365\n"
          ]
        },
        {
          "output_type": "stream",
          "name": "stderr",
          "text": [
            "\n"
          ]
        },
        {
          "output_type": "stream",
          "name": "stdout",
          "text": [
            "\n",
            "      Epoch    GPU_mem   box_loss   cls_loss   dfl_loss  Instances       Size\n"
          ]
        },
        {
          "output_type": "stream",
          "name": "stderr",
          "text": [
            "      24/30      2.96G      1.317      1.198      1.786          2        640: 100%|██████████| 24/24 [00:06<00:00,  3.49it/s]\n",
            "                 Class     Images  Instances      Box(P          R      mAP50  mAP50-95): 100%|██████████| 2/2 [00:00<00:00,  3.28it/s]\n"
          ]
        },
        {
          "output_type": "stream",
          "name": "stdout",
          "text": [
            "                   all         56         56      0.842       0.75      0.839      0.414\n",
            "\n",
            "      Epoch    GPU_mem   box_loss   cls_loss   dfl_loss  Instances       Size\n"
          ]
        },
        {
          "output_type": "stream",
          "name": "stderr",
          "text": [
            "      25/30      2.98G      1.199      1.113      1.721          2        640: 100%|██████████| 24/24 [00:05<00:00,  4.53it/s]\n",
            "                 Class     Images  Instances      Box(P          R      mAP50  mAP50-95): 100%|██████████| 2/2 [00:00<00:00,  3.37it/s]"
          ]
        },
        {
          "output_type": "stream",
          "name": "stdout",
          "text": [
            "                   all         56         56      0.772      0.845      0.842      0.455\n"
          ]
        },
        {
          "output_type": "stream",
          "name": "stderr",
          "text": [
            "\n"
          ]
        },
        {
          "output_type": "stream",
          "name": "stdout",
          "text": [
            "\n",
            "      Epoch    GPU_mem   box_loss   cls_loss   dfl_loss  Instances       Size\n"
          ]
        },
        {
          "output_type": "stream",
          "name": "stderr",
          "text": [
            "      26/30         3G      1.278      1.157      1.721          2        640: 100%|██████████| 24/24 [00:07<00:00,  3.05it/s]\n",
            "                 Class     Images  Instances      Box(P          R      mAP50  mAP50-95): 100%|██████████| 2/2 [00:00<00:00,  3.45it/s]"
          ]
        },
        {
          "output_type": "stream",
          "name": "stdout",
          "text": [
            "                   all         56         56      0.772      0.857       0.83      0.437\n"
          ]
        },
        {
          "output_type": "stream",
          "name": "stderr",
          "text": [
            "\n"
          ]
        },
        {
          "output_type": "stream",
          "name": "stdout",
          "text": [
            "\n",
            "      Epoch    GPU_mem   box_loss   cls_loss   dfl_loss  Instances       Size\n"
          ]
        },
        {
          "output_type": "stream",
          "name": "stderr",
          "text": [
            "      27/30      3.02G       1.18      1.081      1.674          2        640: 100%|██████████| 24/24 [00:06<00:00,  3.78it/s]\n",
            "                 Class     Images  Instances      Box(P          R      mAP50  mAP50-95): 100%|██████████| 2/2 [00:01<00:00,  1.79it/s]"
          ]
        },
        {
          "output_type": "stream",
          "name": "stdout",
          "text": [
            "                   all         56         56      0.842      0.759      0.846      0.445\n"
          ]
        },
        {
          "output_type": "stream",
          "name": "stderr",
          "text": [
            "\n"
          ]
        },
        {
          "output_type": "stream",
          "name": "stdout",
          "text": [
            "\n",
            "      Epoch    GPU_mem   box_loss   cls_loss   dfl_loss  Instances       Size\n"
          ]
        },
        {
          "output_type": "stream",
          "name": "stderr",
          "text": [
            "      28/30      3.03G      1.202      1.082      1.665          2        640: 100%|██████████| 24/24 [00:06<00:00,  3.85it/s]\n",
            "                 Class     Images  Instances      Box(P          R      mAP50  mAP50-95): 100%|██████████| 2/2 [00:00<00:00,  2.18it/s]"
          ]
        },
        {
          "output_type": "stream",
          "name": "stdout",
          "text": [
            "                   all         56         56      0.828      0.821      0.853      0.475\n"
          ]
        },
        {
          "output_type": "stream",
          "name": "stderr",
          "text": [
            "\n"
          ]
        },
        {
          "output_type": "stream",
          "name": "stdout",
          "text": [
            "\n",
            "      Epoch    GPU_mem   box_loss   cls_loss   dfl_loss  Instances       Size\n"
          ]
        },
        {
          "output_type": "stream",
          "name": "stderr",
          "text": [
            "      29/30      3.05G      1.135     0.9955       1.59          2        640: 100%|██████████| 24/24 [00:07<00:00,  3.30it/s]\n",
            "                 Class     Images  Instances      Box(P          R      mAP50  mAP50-95): 100%|██████████| 2/2 [00:00<00:00,  3.60it/s]"
          ]
        },
        {
          "output_type": "stream",
          "name": "stdout",
          "text": [
            "                   all         56         56      0.838      0.839      0.837       0.45\n"
          ]
        },
        {
          "output_type": "stream",
          "name": "stderr",
          "text": [
            "\n"
          ]
        },
        {
          "output_type": "stream",
          "name": "stdout",
          "text": [
            "\n",
            "      Epoch    GPU_mem   box_loss   cls_loss   dfl_loss  Instances       Size\n"
          ]
        },
        {
          "output_type": "stream",
          "name": "stderr",
          "text": [
            "      30/30      3.07G      1.102     0.9588      1.587          2        640: 100%|██████████| 24/24 [00:06<00:00,  3.91it/s]\n",
            "                 Class     Images  Instances      Box(P          R      mAP50  mAP50-95): 100%|██████████| 2/2 [00:00<00:00,  2.87it/s]"
          ]
        },
        {
          "output_type": "stream",
          "name": "stdout",
          "text": [
            "                   all         56         56      0.825      0.857      0.871      0.473\n"
          ]
        },
        {
          "output_type": "stream",
          "name": "stderr",
          "text": [
            "\n"
          ]
        },
        {
          "output_type": "stream",
          "name": "stdout",
          "text": [
            "\n",
            "30 epochs completed in 0.064 hours.\n",
            "Optimizer stripped from runs/detect/Fights/weights/last.pt, 6.2MB\n",
            "Optimizer stripped from runs/detect/Fights/weights/best.pt, 6.2MB\n",
            "\n",
            "Validating runs/detect/Fights/weights/best.pt...\n",
            "Ultralytics 8.3.134 🚀 Python-3.11.12 torch-2.6.0+cu124 CUDA:0 (Tesla T4, 15095MiB)\n",
            "Model summary (fused): 72 layers, 3,005,843 parameters, 0 gradients, 8.1 GFLOPs\n"
          ]
        },
        {
          "output_type": "stream",
          "name": "stderr",
          "text": [
            "                 Class     Images  Instances      Box(P          R      mAP50  mAP50-95): 100%|██████████| 2/2 [00:00<00:00,  2.44it/s]\n"
          ]
        },
        {
          "output_type": "stream",
          "name": "stdout",
          "text": [
            "                   all         56         56      0.828      0.821      0.853      0.477\n",
            "Speed: 0.2ms preprocess, 2.1ms inference, 0.0ms loss, 3.9ms postprocess per image\n",
            "Results saved to \u001b[1mruns/detect/Fights\u001b[0m\n"
          ]
        }
      ]
    },
    {
      "cell_type": "markdown",
      "source": [
        "Zipping for download"
      ],
      "metadata": {
        "id": "Jlg7gwN4RMZa"
      }
    },
    {
      "cell_type": "code",
      "source": [
        "!zip -r models.zip /content/runs/detect  # Replace with your folder path"
      ],
      "metadata": {
        "colab": {
          "base_uri": "https://localhost:8080/"
        },
        "id": "cixwAjQnRPlW",
        "outputId": "1a274b06-cdbc-4c58-98b3-9e4b5df91fcd",
        "collapsed": true
      },
      "execution_count": null,
      "outputs": [
        {
          "output_type": "stream",
          "name": "stdout",
          "text": [
            "  adding: content/runs/detect/ (stored 0%)\n",
            "  adding: content/runs/detect/Placard-stick/ (stored 0%)\n",
            "  adding: content/runs/detect/Placard-stick/confusion_matrix_normalized.png (deflated 33%)\n",
            "  adding: content/runs/detect/Placard-stick/train_batch0.jpg (deflated 4%)\n",
            "  adding: content/runs/detect/Placard-stick/labels.jpg (deflated 24%)\n",
            "  adding: content/runs/detect/Placard-stick/args.yaml (deflated 53%)\n",
            "  adding: content/runs/detect/Placard-stick/P_curve.png (deflated 13%)\n",
            "  adding: content/runs/detect/Placard-stick/F1_curve.png (deflated 20%)\n",
            "  adding: content/runs/detect/Placard-stick/train_batch1.jpg (deflated 2%)\n",
            "  adding: content/runs/detect/Placard-stick/PR_curve.png (deflated 27%)\n",
            "  adding: content/runs/detect/Placard-stick/train_batch62.jpg (deflated 5%)\n",
            "  adding: content/runs/detect/Placard-stick/weights/ (stored 0%)\n",
            "  adding: content/runs/detect/Placard-stick/weights/best.pt (deflated 9%)\n",
            "  adding: content/runs/detect/Placard-stick/weights/last.pt (deflated 9%)\n",
            "  adding: content/runs/detect/Placard-stick/val_batch0_labels.jpg (deflated 21%)\n",
            "  adding: content/runs/detect/Placard-stick/train_batch61.jpg (deflated 11%)\n",
            "  adding: content/runs/detect/Placard-stick/R_curve.png (deflated 21%)\n",
            "  adding: content/runs/detect/Placard-stick/val_batch0_pred.jpg (deflated 23%)\n",
            "  adding: content/runs/detect/Placard-stick/results.csv (deflated 61%)\n",
            "  adding: content/runs/detect/Placard-stick/labels_correlogram.jpg (deflated 41%)\n",
            "  adding: content/runs/detect/Placard-stick/results.png (deflated 6%)\n",
            "  adding: content/runs/detect/Placard-stick/confusion_matrix.png (deflated 35%)\n",
            "  adding: content/runs/detect/Placard-stick/train_batch2.jpg (deflated 3%)\n",
            "  adding: content/runs/detect/Placard-stick/train_batch60.jpg (deflated 6%)\n",
            "  adding: content/runs/detect/Fights/ (stored 0%)\n",
            "  adding: content/runs/detect/Fights/confusion_matrix_normalized.png (deflated 39%)\n",
            "  adding: content/runs/detect/Fights/train_batch482.jpg (deflated 10%)\n",
            "  adding: content/runs/detect/Fights/train_batch0.jpg (deflated 6%)\n",
            "  adding: content/runs/detect/Fights/labels.jpg (deflated 25%)\n",
            "  adding: content/runs/detect/Fights/args.yaml (deflated 53%)\n",
            "  adding: content/runs/detect/Fights/P_curve.png (deflated 15%)\n",
            "  adding: content/runs/detect/Fights/F1_curve.png (deflated 14%)\n",
            "  adding: content/runs/detect/Fights/train_batch1.jpg (deflated 4%)\n",
            "  adding: content/runs/detect/Fights/val_batch1_labels.jpg (deflated 9%)\n",
            "  adding: content/runs/detect/Fights/train_batch481.jpg (deflated 10%)\n",
            "  adding: content/runs/detect/Fights/val_batch1_pred.jpg (deflated 9%)\n",
            "  adding: content/runs/detect/Fights/PR_curve.png (deflated 26%)\n",
            "  adding: content/runs/detect/Fights/weights/ (stored 0%)\n",
            "  adding: content/runs/detect/Fights/weights/best.pt (deflated 10%)\n",
            "  adding: content/runs/detect/Fights/weights/last.pt (deflated 10%)\n",
            "  adding: content/runs/detect/Fights/val_batch0_labels.jpg (deflated 11%)\n",
            "  adding: content/runs/detect/Fights/R_curve.png (deflated 15%)\n",
            "  adding: content/runs/detect/Fights/val_batch0_pred.jpg (deflated 11%)\n",
            "  adding: content/runs/detect/Fights/results.csv (deflated 58%)\n",
            "  adding: content/runs/detect/Fights/train_batch480.jpg (deflated 6%)\n",
            "  adding: content/runs/detect/Fights/labels_correlogram.jpg (deflated 40%)\n",
            "  adding: content/runs/detect/Fights/results.png (deflated 6%)\n",
            "  adding: content/runs/detect/Fights/confusion_matrix.png (deflated 43%)\n",
            "  adding: content/runs/detect/Fights/train_batch2.jpg (deflated 5%)\n"
          ]
        }
      ]
    },
    {
      "cell_type": "markdown",
      "source": [
        "Checking Placard Accuracy"
      ],
      "metadata": {
        "id": "KDdmLIPtX0wz"
      }
    },
    {
      "cell_type": "code",
      "source": [
        "from ultralytics import YOLO\n",
        "\n",
        "model = YOLO('/content/runs/detect/Placard-stick/weights/best.pt')\n",
        "metrics = model.val()\n",
        "print(metrics)  # Contains precision, recall, mAP, etc.\n"
      ],
      "metadata": {
        "colab": {
          "base_uri": "https://localhost:8080/"
        },
        "id": "q3Y7mC9YX6JX",
        "outputId": "09ac5eb3-6e92-45bb-f1a7-03dccb7d6e8d"
      },
      "execution_count": null,
      "outputs": [
        {
          "output_type": "stream",
          "name": "stdout",
          "text": [
            "Ultralytics 8.3.134 🚀 Python-3.11.12 torch-2.6.0+cu124 CUDA:0 (Tesla T4, 15095MiB)\n",
            "Model summary (fused): 72 layers, 3,006,233 parameters, 0 gradients, 8.1 GFLOPs\n",
            "\u001b[34m\u001b[1mval: \u001b[0mFast image access ✅ (ping: 0.0±0.0 ms, read: 864.2±340.1 MB/s, size: 33.6 KB)\n"
          ]
        },
        {
          "output_type": "stream",
          "name": "stderr",
          "text": [
            "\u001b[34m\u001b[1mval: \u001b[0mScanning /content/Placard/valid/labels.cache... 7 images, 0 backgrounds, 0 corrupt: 100%|██████████| 7/7 [00:00<?, ?it/s]"
          ]
        },
        {
          "output_type": "stream",
          "name": "stdout",
          "text": [
            "WARNING ⚠️ Box and segment counts should be equal, but got len(segments) = 6, len(boxes) = 46. To resolve this only boxes will be used and all segments will be removed. To avoid this please supply either a detect or segment dataset, not a detect-segment mixed dataset.\n"
          ]
        },
        {
          "output_type": "stream",
          "name": "stderr",
          "text": [
            "\n",
            "                 Class     Images  Instances      Box(P          R      mAP50  mAP50-95): 100%|██████████| 1/1 [00:00<00:00,  5.16it/s]\n"
          ]
        },
        {
          "output_type": "stream",
          "name": "stdout",
          "text": [
            "                   all          7         46       0.41      0.261       0.19       0.11\n",
            "                Sticks          7         46       0.41      0.261       0.19       0.11\n",
            "Speed: 0.3ms preprocess, 15.2ms inference, 0.0ms loss, 3.1ms postprocess per image\n",
            "Results saved to \u001b[1mruns/detect/val\u001b[0m\n",
            "ultralytics.utils.metrics.DetMetrics object with attributes:\n",
            "\n",
            "ap_class_index: array([2])\n",
            "box: ultralytics.utils.metrics.Metric object\n",
            "confusion_matrix: <ultralytics.utils.metrics.ConfusionMatrix object at 0x7d5aa94e6650>\n",
            "curves: ['Precision-Recall(B)', 'F1-Confidence(B)', 'Precision-Confidence(B)', 'Recall-Confidence(B)']\n",
            "curves_results: [[array([          0,    0.001001,    0.002002,    0.003003,    0.004004,    0.005005,    0.006006,    0.007007,    0.008008,    0.009009,     0.01001,    0.011011,    0.012012,    0.013013,    0.014014,    0.015015,    0.016016,    0.017017,    0.018018,    0.019019,     0.02002,    0.021021,    0.022022,    0.023023,\n",
            "          0.024024,    0.025025,    0.026026,    0.027027,    0.028028,    0.029029,     0.03003,    0.031031,    0.032032,    0.033033,    0.034034,    0.035035,    0.036036,    0.037037,    0.038038,    0.039039,     0.04004,    0.041041,    0.042042,    0.043043,    0.044044,    0.045045,    0.046046,    0.047047,\n",
            "          0.048048,    0.049049,     0.05005,    0.051051,    0.052052,    0.053053,    0.054054,    0.055055,    0.056056,    0.057057,    0.058058,    0.059059,     0.06006,    0.061061,    0.062062,    0.063063,    0.064064,    0.065065,    0.066066,    0.067067,    0.068068,    0.069069,     0.07007,    0.071071,\n",
            "          0.072072,    0.073073,    0.074074,    0.075075,    0.076076,    0.077077,    0.078078,    0.079079,     0.08008,    0.081081,    0.082082,    0.083083,    0.084084,    0.085085,    0.086086,    0.087087,    0.088088,    0.089089,     0.09009,    0.091091,    0.092092,    0.093093,    0.094094,    0.095095,\n",
            "          0.096096,    0.097097,    0.098098,    0.099099,      0.1001,      0.1011,      0.1021,      0.1031,      0.1041,     0.10511,     0.10611,     0.10711,     0.10811,     0.10911,     0.11011,     0.11111,     0.11211,     0.11311,     0.11411,     0.11512,     0.11612,     0.11712,     0.11812,     0.11912,\n",
            "           0.12012,     0.12112,     0.12212,     0.12312,     0.12412,     0.12513,     0.12613,     0.12713,     0.12813,     0.12913,     0.13013,     0.13113,     0.13213,     0.13313,     0.13413,     0.13514,     0.13614,     0.13714,     0.13814,     0.13914,     0.14014,     0.14114,     0.14214,     0.14314,\n",
            "           0.14414,     0.14515,     0.14615,     0.14715,     0.14815,     0.14915,     0.15015,     0.15115,     0.15215,     0.15315,     0.15415,     0.15516,     0.15616,     0.15716,     0.15816,     0.15916,     0.16016,     0.16116,     0.16216,     0.16316,     0.16416,     0.16517,     0.16617,     0.16717,\n",
            "           0.16817,     0.16917,     0.17017,     0.17117,     0.17217,     0.17317,     0.17417,     0.17518,     0.17618,     0.17718,     0.17818,     0.17918,     0.18018,     0.18118,     0.18218,     0.18318,     0.18418,     0.18519,     0.18619,     0.18719,     0.18819,     0.18919,     0.19019,     0.19119,\n",
            "           0.19219,     0.19319,     0.19419,      0.1952,      0.1962,      0.1972,      0.1982,      0.1992,      0.2002,      0.2012,      0.2022,      0.2032,      0.2042,     0.20521,     0.20621,     0.20721,     0.20821,     0.20921,     0.21021,     0.21121,     0.21221,     0.21321,     0.21421,     0.21522,\n",
            "           0.21622,     0.21722,     0.21822,     0.21922,     0.22022,     0.22122,     0.22222,     0.22322,     0.22422,     0.22523,     0.22623,     0.22723,     0.22823,     0.22923,     0.23023,     0.23123,     0.23223,     0.23323,     0.23423,     0.23524,     0.23624,     0.23724,     0.23824,     0.23924,\n",
            "           0.24024,     0.24124,     0.24224,     0.24324,     0.24424,     0.24525,     0.24625,     0.24725,     0.24825,     0.24925,     0.25025,     0.25125,     0.25225,     0.25325,     0.25425,     0.25526,     0.25626,     0.25726,     0.25826,     0.25926,     0.26026,     0.26126,     0.26226,     0.26326,\n",
            "           0.26426,     0.26527,     0.26627,     0.26727,     0.26827,     0.26927,     0.27027,     0.27127,     0.27227,     0.27327,     0.27427,     0.27528,     0.27628,     0.27728,     0.27828,     0.27928,     0.28028,     0.28128,     0.28228,     0.28328,     0.28428,     0.28529,     0.28629,     0.28729,\n",
            "           0.28829,     0.28929,     0.29029,     0.29129,     0.29229,     0.29329,     0.29429,      0.2953,      0.2963,      0.2973,      0.2983,      0.2993,      0.3003,      0.3013,      0.3023,      0.3033,      0.3043,     0.30531,     0.30631,     0.30731,     0.30831,     0.30931,     0.31031,     0.31131,\n",
            "           0.31231,     0.31331,     0.31431,     0.31532,     0.31632,     0.31732,     0.31832,     0.31932,     0.32032,     0.32132,     0.32232,     0.32332,     0.32432,     0.32533,     0.32633,     0.32733,     0.32833,     0.32933,     0.33033,     0.33133,     0.33233,     0.33333,     0.33433,     0.33534,\n",
            "           0.33634,     0.33734,     0.33834,     0.33934,     0.34034,     0.34134,     0.34234,     0.34334,     0.34434,     0.34535,     0.34635,     0.34735,     0.34835,     0.34935,     0.35035,     0.35135,     0.35235,     0.35335,     0.35435,     0.35536,     0.35636,     0.35736,     0.35836,     0.35936,\n",
            "           0.36036,     0.36136,     0.36236,     0.36336,     0.36436,     0.36537,     0.36637,     0.36737,     0.36837,     0.36937,     0.37037,     0.37137,     0.37237,     0.37337,     0.37437,     0.37538,     0.37638,     0.37738,     0.37838,     0.37938,     0.38038,     0.38138,     0.38238,     0.38338,\n",
            "           0.38438,     0.38539,     0.38639,     0.38739,     0.38839,     0.38939,     0.39039,     0.39139,     0.39239,     0.39339,     0.39439,      0.3954,      0.3964,      0.3974,      0.3984,      0.3994,      0.4004,      0.4014,      0.4024,      0.4034,      0.4044,     0.40541,     0.40641,     0.40741,\n",
            "           0.40841,     0.40941,     0.41041,     0.41141,     0.41241,     0.41341,     0.41441,     0.41542,     0.41642,     0.41742,     0.41842,     0.41942,     0.42042,     0.42142,     0.42242,     0.42342,     0.42442,     0.42543,     0.42643,     0.42743,     0.42843,     0.42943,     0.43043,     0.43143,\n",
            "           0.43243,     0.43343,     0.43443,     0.43544,     0.43644,     0.43744,     0.43844,     0.43944,     0.44044,     0.44144,     0.44244,     0.44344,     0.44444,     0.44545,     0.44645,     0.44745,     0.44845,     0.44945,     0.45045,     0.45145,     0.45245,     0.45345,     0.45445,     0.45546,\n",
            "           0.45646,     0.45746,     0.45846,     0.45946,     0.46046,     0.46146,     0.46246,     0.46346,     0.46446,     0.46547,     0.46647,     0.46747,     0.46847,     0.46947,     0.47047,     0.47147,     0.47247,     0.47347,     0.47447,     0.47548,     0.47648,     0.47748,     0.47848,     0.47948,\n",
            "           0.48048,     0.48148,     0.48248,     0.48348,     0.48448,     0.48549,     0.48649,     0.48749,     0.48849,     0.48949,     0.49049,     0.49149,     0.49249,     0.49349,     0.49449,      0.4955,      0.4965,      0.4975,      0.4985,      0.4995,      0.5005,      0.5015,      0.5025,      0.5035,\n",
            "            0.5045,     0.50551,     0.50651,     0.50751,     0.50851,     0.50951,     0.51051,     0.51151,     0.51251,     0.51351,     0.51451,     0.51552,     0.51652,     0.51752,     0.51852,     0.51952,     0.52052,     0.52152,     0.52252,     0.52352,     0.52452,     0.52553,     0.52653,     0.52753,\n",
            "           0.52853,     0.52953,     0.53053,     0.53153,     0.53253,     0.53353,     0.53453,     0.53554,     0.53654,     0.53754,     0.53854,     0.53954,     0.54054,     0.54154,     0.54254,     0.54354,     0.54454,     0.54555,     0.54655,     0.54755,     0.54855,     0.54955,     0.55055,     0.55155,\n",
            "           0.55255,     0.55355,     0.55455,     0.55556,     0.55656,     0.55756,     0.55856,     0.55956,     0.56056,     0.56156,     0.56256,     0.56356,     0.56456,     0.56557,     0.56657,     0.56757,     0.56857,     0.56957,     0.57057,     0.57157,     0.57257,     0.57357,     0.57457,     0.57558,\n",
            "           0.57658,     0.57758,     0.57858,     0.57958,     0.58058,     0.58158,     0.58258,     0.58358,     0.58458,     0.58559,     0.58659,     0.58759,     0.58859,     0.58959,     0.59059,     0.59159,     0.59259,     0.59359,     0.59459,      0.5956,      0.5966,      0.5976,      0.5986,      0.5996,\n",
            "            0.6006,      0.6016,      0.6026,      0.6036,      0.6046,     0.60561,     0.60661,     0.60761,     0.60861,     0.60961,     0.61061,     0.61161,     0.61261,     0.61361,     0.61461,     0.61562,     0.61662,     0.61762,     0.61862,     0.61962,     0.62062,     0.62162,     0.62262,     0.62362,\n",
            "           0.62462,     0.62563,     0.62663,     0.62763,     0.62863,     0.62963,     0.63063,     0.63163,     0.63263,     0.63363,     0.63463,     0.63564,     0.63664,     0.63764,     0.63864,     0.63964,     0.64064,     0.64164,     0.64264,     0.64364,     0.64464,     0.64565,     0.64665,     0.64765,\n",
            "           0.64865,     0.64965,     0.65065,     0.65165,     0.65265,     0.65365,     0.65465,     0.65566,     0.65666,     0.65766,     0.65866,     0.65966,     0.66066,     0.66166,     0.66266,     0.66366,     0.66466,     0.66567,     0.66667,     0.66767,     0.66867,     0.66967,     0.67067,     0.67167,\n",
            "           0.67267,     0.67367,     0.67467,     0.67568,     0.67668,     0.67768,     0.67868,     0.67968,     0.68068,     0.68168,     0.68268,     0.68368,     0.68468,     0.68569,     0.68669,     0.68769,     0.68869,     0.68969,     0.69069,     0.69169,     0.69269,     0.69369,     0.69469,      0.6957,\n",
            "            0.6967,      0.6977,      0.6987,      0.6997,      0.7007,      0.7017,      0.7027,      0.7037,      0.7047,     0.70571,     0.70671,     0.70771,     0.70871,     0.70971,     0.71071,     0.71171,     0.71271,     0.71371,     0.71471,     0.71572,     0.71672,     0.71772,     0.71872,     0.71972,\n",
            "           0.72072,     0.72172,     0.72272,     0.72372,     0.72472,     0.72573,     0.72673,     0.72773,     0.72873,     0.72973,     0.73073,     0.73173,     0.73273,     0.73373,     0.73473,     0.73574,     0.73674,     0.73774,     0.73874,     0.73974,     0.74074,     0.74174,     0.74274,     0.74374,\n",
            "           0.74474,     0.74575,     0.74675,     0.74775,     0.74875,     0.74975,     0.75075,     0.75175,     0.75275,     0.75375,     0.75475,     0.75576,     0.75676,     0.75776,     0.75876,     0.75976,     0.76076,     0.76176,     0.76276,     0.76376,     0.76476,     0.76577,     0.76677,     0.76777,\n",
            "           0.76877,     0.76977,     0.77077,     0.77177,     0.77277,     0.77377,     0.77477,     0.77578,     0.77678,     0.77778,     0.77878,     0.77978,     0.78078,     0.78178,     0.78278,     0.78378,     0.78478,     0.78579,     0.78679,     0.78779,     0.78879,     0.78979,     0.79079,     0.79179,\n",
            "           0.79279,     0.79379,     0.79479,      0.7958,      0.7968,      0.7978,      0.7988,      0.7998,      0.8008,      0.8018,      0.8028,      0.8038,      0.8048,     0.80581,     0.80681,     0.80781,     0.80881,     0.80981,     0.81081,     0.81181,     0.81281,     0.81381,     0.81481,     0.81582,\n",
            "           0.81682,     0.81782,     0.81882,     0.81982,     0.82082,     0.82182,     0.82282,     0.82382,     0.82482,     0.82583,     0.82683,     0.82783,     0.82883,     0.82983,     0.83083,     0.83183,     0.83283,     0.83383,     0.83483,     0.83584,     0.83684,     0.83784,     0.83884,     0.83984,\n",
            "           0.84084,     0.84184,     0.84284,     0.84384,     0.84484,     0.84585,     0.84685,     0.84785,     0.84885,     0.84985,     0.85085,     0.85185,     0.85285,     0.85385,     0.85485,     0.85586,     0.85686,     0.85786,     0.85886,     0.85986,     0.86086,     0.86186,     0.86286,     0.86386,\n",
            "           0.86486,     0.86587,     0.86687,     0.86787,     0.86887,     0.86987,     0.87087,     0.87187,     0.87287,     0.87387,     0.87487,     0.87588,     0.87688,     0.87788,     0.87888,     0.87988,     0.88088,     0.88188,     0.88288,     0.88388,     0.88488,     0.88589,     0.88689,     0.88789,\n",
            "           0.88889,     0.88989,     0.89089,     0.89189,     0.89289,     0.89389,     0.89489,      0.8959,      0.8969,      0.8979,      0.8989,      0.8999,      0.9009,      0.9019,      0.9029,      0.9039,      0.9049,     0.90591,     0.90691,     0.90791,     0.90891,     0.90991,     0.91091,     0.91191,\n",
            "           0.91291,     0.91391,     0.91491,     0.91592,     0.91692,     0.91792,     0.91892,     0.91992,     0.92092,     0.92192,     0.92292,     0.92392,     0.92492,     0.92593,     0.92693,     0.92793,     0.92893,     0.92993,     0.93093,     0.93193,     0.93293,     0.93393,     0.93493,     0.93594,\n",
            "           0.93694,     0.93794,     0.93894,     0.93994,     0.94094,     0.94194,     0.94294,     0.94394,     0.94494,     0.94595,     0.94695,     0.94795,     0.94895,     0.94995,     0.95095,     0.95195,     0.95295,     0.95395,     0.95495,     0.95596,     0.95696,     0.95796,     0.95896,     0.95996,\n",
            "           0.96096,     0.96196,     0.96296,     0.96396,     0.96496,     0.96597,     0.96697,     0.96797,     0.96897,     0.96997,     0.97097,     0.97197,     0.97297,     0.97397,     0.97497,     0.97598,     0.97698,     0.97798,     0.97898,     0.97998,     0.98098,     0.98198,     0.98298,     0.98398,\n",
            "           0.98498,     0.98599,     0.98699,     0.98799,     0.98899,     0.98999,     0.99099,     0.99199,     0.99299,     0.99399,     0.99499,       0.996,       0.997,       0.998,       0.999,           1]), array([[          1,           1,           1,           1,           1,           1,           1,           1,           1,           1,           1,           1,           1,           1,           1,           1,           1,           1,           1,           1,           1,           1,         0.8,\n",
            "                0.8,         0.8,         0.8,         0.8,         0.8,         0.8,         0.8,         0.8,         0.8,         0.8,         0.8,         0.8,         0.8,         0.8,         0.8,         0.8,         0.8,         0.8,         0.8,         0.8,         0.8,         0.8,         0.8,\n",
            "                0.8,         0.8,         0.8,         0.8,         0.8,         0.8,         0.8,         0.8,         0.8,         0.8,         0.8,         0.8,         0.8,         0.8,         0.8,         0.8,         0.8,         0.8,         0.8,         0.8,         0.8,         0.8,         0.8,\n",
            "                0.8,         0.8,         0.8,         0.8,         0.8,         0.8,         0.8,         0.8,         0.8,         0.8,         0.8,         0.8,         0.8,         0.8,         0.8,         0.8,         0.8,         0.8,         0.5,         0.5,         0.5,         0.5,         0.5,\n",
            "                0.5,         0.5,         0.5,         0.5,         0.5,         0.5,         0.5,         0.5,         0.5,         0.5,         0.5,         0.5,         0.5,         0.5,         0.5,         0.5,         0.5,         0.5,         0.5,         0.5,         0.5,         0.5,         0.5,\n",
            "                0.5,         0.5,         0.5,         0.5,         0.5,         0.5,         0.5,         0.5,         0.5,         0.5,         0.5,         0.5,         0.5,         0.5,         0.5,         0.5,         0.5,         0.5,         0.5,         0.5,         0.5,         0.5,         0.5,\n",
            "                0.5,         0.5,         0.5,         0.5,         0.5,         0.5,         0.5,         0.5,         0.5,         0.5,         0.5,         0.5,         0.5,         0.5,         0.5,         0.5,         0.5,         0.5,         0.5,         0.5,         0.5,         0.5,         0.5,\n",
            "                0.5,         0.5,         0.5,         0.5,         0.5,         0.5,         0.5,         0.5,         0.5,         0.5,         0.5,         0.5,         0.5,        0.44,        0.44,        0.44,        0.44,        0.44,        0.44,        0.44,        0.44,        0.44,        0.44,\n",
            "               0.44,        0.44,        0.44,        0.44,        0.44,        0.44,        0.44,        0.44,        0.44,        0.44,        0.44,        0.44,        0.44,        0.44,        0.44,        0.44,        0.44,        0.44,        0.44,        0.44,        0.44,        0.44,        0.44,\n",
            "               0.44,        0.44,        0.44,        0.44,        0.44,        0.44,        0.44,        0.44,        0.44,        0.44,        0.44,        0.44,        0.44,        0.44,        0.44,        0.44,        0.44,        0.44,        0.44,        0.44,        0.44,        0.44,        0.44,\n",
            "               0.44,        0.44,        0.44,        0.44,        0.44,        0.44,        0.44,        0.44,        0.44,     0.41379,     0.41379,     0.41379,     0.41379,     0.41379,     0.41379,     0.41379,     0.41379,     0.41379,     0.41379,     0.41379,     0.41379,     0.41379,     0.41379,\n",
            "            0.41379,     0.41379,     0.41379,     0.41379,     0.41379,     0.41379,     0.41379,     0.41379,     0.23214,     0.23214,     0.23214,     0.23214,     0.23214,     0.23214,     0.23214,     0.23214,     0.23214,     0.23214,     0.23214,     0.23214,     0.23214,     0.23214,     0.23214,\n",
            "            0.23214,     0.23214,     0.23214,     0.23214,     0.23214,     0.23214,     0.23214,     0.17284,     0.17284,     0.17284,     0.17284,     0.17284,     0.17284,     0.17284,     0.17284,     0.17284,     0.17284,     0.17284,     0.17284,     0.17284,     0.17284,     0.17284,     0.17284,\n",
            "            0.17284,     0.17284,     0.17284,     0.17284,     0.17284,     0.17284,     0.16484,     0.16484,     0.16484,     0.16484,     0.16484,     0.16484,     0.16484,     0.16484,     0.16484,     0.16484,     0.16484,     0.16484,     0.16484,     0.16484,     0.16484,     0.16484,     0.16484,\n",
            "            0.16484,     0.16484,     0.16484,     0.16484,        0.16,        0.16,        0.16,        0.16,        0.16,        0.16,        0.16,        0.16,        0.16,        0.16,        0.16,        0.16,        0.16,        0.16,        0.16,        0.16,        0.16,        0.16,        0.16,\n",
            "               0.16,        0.16,        0.16,     0.14655,     0.14655,     0.14655,     0.14655,     0.14655,     0.14655,     0.14655,     0.14655,     0.14655,     0.14655,     0.14655,     0.14655,     0.14655,     0.14655,     0.14655,     0.14655,     0.14655,     0.14655,     0.14655,     0.14655,\n",
            "            0.14655,     0.14655,     0.13043,     0.13043,     0.13043,     0.13043,     0.13043,     0.13043,     0.13043,     0.13043,     0.13043,     0.13043,     0.13043,     0.13043,     0.13043,     0.13043,     0.13043,     0.13043,     0.13043,     0.13043,     0.13043,     0.13043,     0.13043,\n",
            "            0.11585,     0.11585,     0.11585,     0.11585,     0.11585,     0.11585,     0.11585,     0.11585,     0.11585,     0.11585,     0.11585,     0.11585,     0.11585,     0.11585,     0.11585,     0.11585,     0.11585,     0.11585,     0.11585,     0.11585,     0.11585,     0.11585,    0.088889,\n",
            "           0.088889,    0.088889,    0.088889,    0.088889,    0.088889,    0.088889,    0.088889,    0.088889,    0.088889,    0.088889,    0.088889,    0.088889,    0.088889,    0.088889,    0.088889,    0.088889,    0.088889,    0.088889,    0.088889,    0.088889,    0.088889,    0.025777,    0.025731,\n",
            "           0.025685,     0.02564,    0.025594,    0.025548,    0.025502,    0.025457,    0.025411,    0.025365,     0.02532,    0.025274,    0.025228,    0.025183,    0.025137,    0.025091,    0.025045,       0.025,    0.024954,    0.024908,    0.024863,    0.024817,    0.024771,    0.024725,     0.02468,\n",
            "           0.024634,    0.024588,    0.024543,    0.024497,    0.024451,    0.024406,     0.02436,    0.024314,    0.024268,    0.024223,    0.024177,    0.024131,    0.024086,     0.02404,    0.023994,    0.023949,    0.023903,    0.023857,    0.023811,    0.023766,     0.02372,    0.023674,    0.023629,\n",
            "           0.023583,    0.023537,    0.023491,    0.023446,      0.0234,    0.023354,    0.023309,    0.023263,    0.023217,    0.023172,    0.023126,     0.02308,    0.023034,    0.022989,    0.022943,    0.022897,    0.022852,    0.022806,     0.02276,    0.022715,    0.022669,    0.022623,    0.022577,\n",
            "           0.022532,    0.022486,     0.02244,    0.022395,    0.022349,    0.022303,    0.022257,    0.022212,    0.022166,     0.02212,    0.022075,    0.022029,    0.021983,    0.021938,    0.021892,    0.021846,      0.0218,    0.021755,    0.021709,    0.021663,    0.021618,    0.021572,    0.021526,\n",
            "           0.021481,    0.021435,    0.021389,    0.021343,    0.021298,    0.021252,    0.021206,    0.021161,    0.021115,    0.021069,    0.021024,    0.020978,    0.020932,    0.020886,    0.020841,    0.020795,    0.020749,    0.020704,    0.020658,    0.020612,    0.020566,    0.020521,    0.020475,\n",
            "           0.020429,    0.020384,    0.020338,    0.020292,    0.020247,    0.020201,    0.020155,    0.020109,    0.020064,    0.020018,    0.019972,    0.019927,    0.019881,    0.019835,     0.01979,    0.019744,    0.019698,    0.019652,    0.019607,    0.019561,    0.019515,     0.01947,    0.019424,\n",
            "           0.019378,    0.019332,    0.019287,    0.019241,    0.019195,     0.01915,    0.019104,    0.019058,    0.019013,    0.018967,    0.018921,    0.018875,     0.01883,    0.018784,    0.018738,    0.018693,    0.018647,    0.018601,    0.018556,     0.01851,    0.018464,    0.018418,    0.018373,\n",
            "           0.018327,    0.018281,    0.018236,     0.01819,    0.018144,    0.018098,    0.018053,    0.018007,    0.017961,    0.017916,     0.01787,    0.017824,    0.017779,    0.017733,    0.017687,    0.017641,    0.017596,     0.01755,    0.017504,    0.017459,    0.017413,    0.017367,    0.017322,\n",
            "           0.017276,     0.01723,    0.017184,    0.017139,    0.017093,    0.017047,    0.017002,    0.016956,     0.01691,    0.016865,    0.016819,    0.016773,    0.016727,    0.016682,    0.016636,     0.01659,    0.016545,    0.016499,    0.016453,    0.016407,    0.016362,    0.016316,     0.01627,\n",
            "           0.016225,    0.016179,    0.016133,    0.016088,    0.016042,    0.015996,     0.01595,    0.015905,    0.015859,    0.015813,    0.015768,    0.015722,    0.015676,    0.015631,    0.015585,    0.015539,    0.015493,    0.015448,    0.015402,    0.015356,    0.015311,    0.015265,    0.015219,\n",
            "           0.015173,    0.015128,    0.015082,    0.015036,    0.014991,    0.014945,    0.014899,    0.014854,    0.014808,    0.014762,    0.014716,    0.014671,    0.014625,    0.014579,    0.014534,    0.014488,    0.014442,    0.014397,    0.014351,    0.014305,    0.014259,    0.014214,    0.014168,\n",
            "           0.014122,    0.014077,    0.014031,    0.013985,    0.013939,    0.013894,    0.013848,    0.013802,    0.013757,    0.013711,    0.013665,     0.01362,    0.013574,    0.013528,    0.013482,    0.013437,    0.013391,    0.013345,      0.0133,    0.013254,    0.013208,    0.013163,    0.013117,\n",
            "           0.013071,    0.013025,     0.01298,    0.012934,    0.012888,    0.012843,    0.012797,    0.012751,    0.012706,     0.01266,    0.012614,    0.012568,    0.012523,    0.012477,    0.012431,    0.012386,     0.01234,    0.012294,    0.012248,    0.012203,    0.012157,    0.012111,    0.012066,\n",
            "            0.01202,    0.011974,    0.011929,    0.011883,    0.011837,    0.011791,    0.011746,      0.0117,    0.011654,    0.011609,    0.011563,    0.011517,    0.011472,    0.011426,     0.01138,    0.011334,    0.011289,    0.011243,    0.011197,    0.011152,    0.011106,     0.01106,    0.011014,\n",
            "           0.010969,    0.010923,    0.010877,    0.010832,    0.010786,     0.01074,    0.010695,    0.010649,    0.010603,    0.010557,    0.010512,    0.010466,     0.01042,    0.010375,    0.010329,    0.010283,    0.010238,    0.010192,    0.010146,      0.0101,    0.010055,    0.010009,   0.0099633,\n",
            "          0.0099176,   0.0098719,   0.0098262,   0.0097805,   0.0097348,   0.0096891,   0.0096434,   0.0095977,    0.009552,   0.0095063,   0.0094606,   0.0094149,   0.0093692,   0.0093235,   0.0092778,   0.0092321,   0.0091864,   0.0091407,    0.009095,   0.0090492,   0.0090035,   0.0089578,   0.0089121,\n",
            "          0.0088664,   0.0088207,    0.008775,   0.0087293,   0.0086836,   0.0086379,   0.0085922,   0.0085465,   0.0085008,   0.0084551,   0.0084094,   0.0083637,    0.008318,   0.0082723,   0.0082266,   0.0081809,   0.0081352,   0.0080895,   0.0080438,   0.0079981,   0.0079524,   0.0079067,    0.007861,\n",
            "          0.0078153,   0.0077696,   0.0077239,   0.0076781,   0.0076324,   0.0075867,    0.007541,   0.0074953,   0.0074496,   0.0074039,   0.0073582,   0.0073125,   0.0072668,   0.0072211,   0.0071754,   0.0071297,    0.007084,   0.0070383,   0.0069926,   0.0069469,   0.0069012,   0.0068555,   0.0068098,\n",
            "          0.0067641,   0.0067184,   0.0066727,    0.006627,   0.0065813,   0.0065356,   0.0064899,   0.0064442,   0.0063985,   0.0063528,   0.0063071,   0.0062613,   0.0062156,   0.0061699,   0.0061242,   0.0060785,   0.0060328,   0.0059871,   0.0059414,   0.0058957,     0.00585,   0.0058043,   0.0057586,\n",
            "          0.0057129,   0.0056672,   0.0056215,   0.0055758,   0.0055301,   0.0054844,   0.0054387,    0.005393,   0.0053473,   0.0053016,   0.0052559,   0.0052102,   0.0051645,   0.0051188,   0.0050731,   0.0050274,   0.0049817,    0.004936,   0.0048903,   0.0048445,   0.0047988,   0.0047531,   0.0047074,\n",
            "          0.0046617,    0.004616,   0.0045703,   0.0045246,   0.0044789,   0.0044332,   0.0043875,   0.0043418,   0.0042961,   0.0042504,   0.0042047,    0.004159,   0.0041133,   0.0040676,   0.0040219,   0.0039762,   0.0039305,   0.0038848,   0.0038391,   0.0037934,   0.0037477,    0.003702,   0.0036563,\n",
            "          0.0036106,   0.0035649,   0.0035192,   0.0034734,   0.0034277,    0.003382,   0.0033363,   0.0032906,   0.0032449,   0.0031992,   0.0031535,   0.0031078,   0.0030621,   0.0030164,   0.0029707,    0.002925,   0.0028793,   0.0028336,   0.0027879,   0.0027422,   0.0026965,   0.0026508,   0.0026051,\n",
            "          0.0025594,   0.0025137,    0.002468,   0.0024223,   0.0023766,   0.0023309,   0.0022852,   0.0022395,   0.0021938,   0.0021481,   0.0021024,   0.0020566,   0.0020109,   0.0019652,   0.0019195,   0.0018738,   0.0018281,   0.0017824,   0.0017367,    0.001691,   0.0016453,   0.0015996,   0.0015539,\n",
            "          0.0015082,   0.0014625,   0.0014168,   0.0013711,   0.0013254,   0.0012797,    0.001234,   0.0011883,   0.0011426,   0.0010969,   0.0010512,   0.0010055,  0.00095977,  0.00091407,  0.00086836,  0.00082266,  0.00077696,  0.00073125,  0.00068555,  0.00063985,  0.00059414,  0.00054844,  0.00050274,\n",
            "         0.00045703,  0.00041133,  0.00036563,  0.00031992,  0.00027422,  0.00022852,  0.00018281,  0.00013711,  9.1407e-05,  4.5703e-05,           0]]), 'Recall', 'Precision'], [array([          0,    0.001001,    0.002002,    0.003003,    0.004004,    0.005005,    0.006006,    0.007007,    0.008008,    0.009009,     0.01001,    0.011011,    0.012012,    0.013013,    0.014014,    0.015015,    0.016016,    0.017017,    0.018018,    0.019019,     0.02002,    0.021021,    0.022022,    0.023023,\n",
            "          0.024024,    0.025025,    0.026026,    0.027027,    0.028028,    0.029029,     0.03003,    0.031031,    0.032032,    0.033033,    0.034034,    0.035035,    0.036036,    0.037037,    0.038038,    0.039039,     0.04004,    0.041041,    0.042042,    0.043043,    0.044044,    0.045045,    0.046046,    0.047047,\n",
            "          0.048048,    0.049049,     0.05005,    0.051051,    0.052052,    0.053053,    0.054054,    0.055055,    0.056056,    0.057057,    0.058058,    0.059059,     0.06006,    0.061061,    0.062062,    0.063063,    0.064064,    0.065065,    0.066066,    0.067067,    0.068068,    0.069069,     0.07007,    0.071071,\n",
            "          0.072072,    0.073073,    0.074074,    0.075075,    0.076076,    0.077077,    0.078078,    0.079079,     0.08008,    0.081081,    0.082082,    0.083083,    0.084084,    0.085085,    0.086086,    0.087087,    0.088088,    0.089089,     0.09009,    0.091091,    0.092092,    0.093093,    0.094094,    0.095095,\n",
            "          0.096096,    0.097097,    0.098098,    0.099099,      0.1001,      0.1011,      0.1021,      0.1031,      0.1041,     0.10511,     0.10611,     0.10711,     0.10811,     0.10911,     0.11011,     0.11111,     0.11211,     0.11311,     0.11411,     0.11512,     0.11612,     0.11712,     0.11812,     0.11912,\n",
            "           0.12012,     0.12112,     0.12212,     0.12312,     0.12412,     0.12513,     0.12613,     0.12713,     0.12813,     0.12913,     0.13013,     0.13113,     0.13213,     0.13313,     0.13413,     0.13514,     0.13614,     0.13714,     0.13814,     0.13914,     0.14014,     0.14114,     0.14214,     0.14314,\n",
            "           0.14414,     0.14515,     0.14615,     0.14715,     0.14815,     0.14915,     0.15015,     0.15115,     0.15215,     0.15315,     0.15415,     0.15516,     0.15616,     0.15716,     0.15816,     0.15916,     0.16016,     0.16116,     0.16216,     0.16316,     0.16416,     0.16517,     0.16617,     0.16717,\n",
            "           0.16817,     0.16917,     0.17017,     0.17117,     0.17217,     0.17317,     0.17417,     0.17518,     0.17618,     0.17718,     0.17818,     0.17918,     0.18018,     0.18118,     0.18218,     0.18318,     0.18418,     0.18519,     0.18619,     0.18719,     0.18819,     0.18919,     0.19019,     0.19119,\n",
            "           0.19219,     0.19319,     0.19419,      0.1952,      0.1962,      0.1972,      0.1982,      0.1992,      0.2002,      0.2012,      0.2022,      0.2032,      0.2042,     0.20521,     0.20621,     0.20721,     0.20821,     0.20921,     0.21021,     0.21121,     0.21221,     0.21321,     0.21421,     0.21522,\n",
            "           0.21622,     0.21722,     0.21822,     0.21922,     0.22022,     0.22122,     0.22222,     0.22322,     0.22422,     0.22523,     0.22623,     0.22723,     0.22823,     0.22923,     0.23023,     0.23123,     0.23223,     0.23323,     0.23423,     0.23524,     0.23624,     0.23724,     0.23824,     0.23924,\n",
            "           0.24024,     0.24124,     0.24224,     0.24324,     0.24424,     0.24525,     0.24625,     0.24725,     0.24825,     0.24925,     0.25025,     0.25125,     0.25225,     0.25325,     0.25425,     0.25526,     0.25626,     0.25726,     0.25826,     0.25926,     0.26026,     0.26126,     0.26226,     0.26326,\n",
            "           0.26426,     0.26527,     0.26627,     0.26727,     0.26827,     0.26927,     0.27027,     0.27127,     0.27227,     0.27327,     0.27427,     0.27528,     0.27628,     0.27728,     0.27828,     0.27928,     0.28028,     0.28128,     0.28228,     0.28328,     0.28428,     0.28529,     0.28629,     0.28729,\n",
            "           0.28829,     0.28929,     0.29029,     0.29129,     0.29229,     0.29329,     0.29429,      0.2953,      0.2963,      0.2973,      0.2983,      0.2993,      0.3003,      0.3013,      0.3023,      0.3033,      0.3043,     0.30531,     0.30631,     0.30731,     0.30831,     0.30931,     0.31031,     0.31131,\n",
            "           0.31231,     0.31331,     0.31431,     0.31532,     0.31632,     0.31732,     0.31832,     0.31932,     0.32032,     0.32132,     0.32232,     0.32332,     0.32432,     0.32533,     0.32633,     0.32733,     0.32833,     0.32933,     0.33033,     0.33133,     0.33233,     0.33333,     0.33433,     0.33534,\n",
            "           0.33634,     0.33734,     0.33834,     0.33934,     0.34034,     0.34134,     0.34234,     0.34334,     0.34434,     0.34535,     0.34635,     0.34735,     0.34835,     0.34935,     0.35035,     0.35135,     0.35235,     0.35335,     0.35435,     0.35536,     0.35636,     0.35736,     0.35836,     0.35936,\n",
            "           0.36036,     0.36136,     0.36236,     0.36336,     0.36436,     0.36537,     0.36637,     0.36737,     0.36837,     0.36937,     0.37037,     0.37137,     0.37237,     0.37337,     0.37437,     0.37538,     0.37638,     0.37738,     0.37838,     0.37938,     0.38038,     0.38138,     0.38238,     0.38338,\n",
            "           0.38438,     0.38539,     0.38639,     0.38739,     0.38839,     0.38939,     0.39039,     0.39139,     0.39239,     0.39339,     0.39439,      0.3954,      0.3964,      0.3974,      0.3984,      0.3994,      0.4004,      0.4014,      0.4024,      0.4034,      0.4044,     0.40541,     0.40641,     0.40741,\n",
            "           0.40841,     0.40941,     0.41041,     0.41141,     0.41241,     0.41341,     0.41441,     0.41542,     0.41642,     0.41742,     0.41842,     0.41942,     0.42042,     0.42142,     0.42242,     0.42342,     0.42442,     0.42543,     0.42643,     0.42743,     0.42843,     0.42943,     0.43043,     0.43143,\n",
            "           0.43243,     0.43343,     0.43443,     0.43544,     0.43644,     0.43744,     0.43844,     0.43944,     0.44044,     0.44144,     0.44244,     0.44344,     0.44444,     0.44545,     0.44645,     0.44745,     0.44845,     0.44945,     0.45045,     0.45145,     0.45245,     0.45345,     0.45445,     0.45546,\n",
            "           0.45646,     0.45746,     0.45846,     0.45946,     0.46046,     0.46146,     0.46246,     0.46346,     0.46446,     0.46547,     0.46647,     0.46747,     0.46847,     0.46947,     0.47047,     0.47147,     0.47247,     0.47347,     0.47447,     0.47548,     0.47648,     0.47748,     0.47848,     0.47948,\n",
            "           0.48048,     0.48148,     0.48248,     0.48348,     0.48448,     0.48549,     0.48649,     0.48749,     0.48849,     0.48949,     0.49049,     0.49149,     0.49249,     0.49349,     0.49449,      0.4955,      0.4965,      0.4975,      0.4985,      0.4995,      0.5005,      0.5015,      0.5025,      0.5035,\n",
            "            0.5045,     0.50551,     0.50651,     0.50751,     0.50851,     0.50951,     0.51051,     0.51151,     0.51251,     0.51351,     0.51451,     0.51552,     0.51652,     0.51752,     0.51852,     0.51952,     0.52052,     0.52152,     0.52252,     0.52352,     0.52452,     0.52553,     0.52653,     0.52753,\n",
            "           0.52853,     0.52953,     0.53053,     0.53153,     0.53253,     0.53353,     0.53453,     0.53554,     0.53654,     0.53754,     0.53854,     0.53954,     0.54054,     0.54154,     0.54254,     0.54354,     0.54454,     0.54555,     0.54655,     0.54755,     0.54855,     0.54955,     0.55055,     0.55155,\n",
            "           0.55255,     0.55355,     0.55455,     0.55556,     0.55656,     0.55756,     0.55856,     0.55956,     0.56056,     0.56156,     0.56256,     0.56356,     0.56456,     0.56557,     0.56657,     0.56757,     0.56857,     0.56957,     0.57057,     0.57157,     0.57257,     0.57357,     0.57457,     0.57558,\n",
            "           0.57658,     0.57758,     0.57858,     0.57958,     0.58058,     0.58158,     0.58258,     0.58358,     0.58458,     0.58559,     0.58659,     0.58759,     0.58859,     0.58959,     0.59059,     0.59159,     0.59259,     0.59359,     0.59459,      0.5956,      0.5966,      0.5976,      0.5986,      0.5996,\n",
            "            0.6006,      0.6016,      0.6026,      0.6036,      0.6046,     0.60561,     0.60661,     0.60761,     0.60861,     0.60961,     0.61061,     0.61161,     0.61261,     0.61361,     0.61461,     0.61562,     0.61662,     0.61762,     0.61862,     0.61962,     0.62062,     0.62162,     0.62262,     0.62362,\n",
            "           0.62462,     0.62563,     0.62663,     0.62763,     0.62863,     0.62963,     0.63063,     0.63163,     0.63263,     0.63363,     0.63463,     0.63564,     0.63664,     0.63764,     0.63864,     0.63964,     0.64064,     0.64164,     0.64264,     0.64364,     0.64464,     0.64565,     0.64665,     0.64765,\n",
            "           0.64865,     0.64965,     0.65065,     0.65165,     0.65265,     0.65365,     0.65465,     0.65566,     0.65666,     0.65766,     0.65866,     0.65966,     0.66066,     0.66166,     0.66266,     0.66366,     0.66466,     0.66567,     0.66667,     0.66767,     0.66867,     0.66967,     0.67067,     0.67167,\n",
            "           0.67267,     0.67367,     0.67467,     0.67568,     0.67668,     0.67768,     0.67868,     0.67968,     0.68068,     0.68168,     0.68268,     0.68368,     0.68468,     0.68569,     0.68669,     0.68769,     0.68869,     0.68969,     0.69069,     0.69169,     0.69269,     0.69369,     0.69469,      0.6957,\n",
            "            0.6967,      0.6977,      0.6987,      0.6997,      0.7007,      0.7017,      0.7027,      0.7037,      0.7047,     0.70571,     0.70671,     0.70771,     0.70871,     0.70971,     0.71071,     0.71171,     0.71271,     0.71371,     0.71471,     0.71572,     0.71672,     0.71772,     0.71872,     0.71972,\n",
            "           0.72072,     0.72172,     0.72272,     0.72372,     0.72472,     0.72573,     0.72673,     0.72773,     0.72873,     0.72973,     0.73073,     0.73173,     0.73273,     0.73373,     0.73473,     0.73574,     0.73674,     0.73774,     0.73874,     0.73974,     0.74074,     0.74174,     0.74274,     0.74374,\n",
            "           0.74474,     0.74575,     0.74675,     0.74775,     0.74875,     0.74975,     0.75075,     0.75175,     0.75275,     0.75375,     0.75475,     0.75576,     0.75676,     0.75776,     0.75876,     0.75976,     0.76076,     0.76176,     0.76276,     0.76376,     0.76476,     0.76577,     0.76677,     0.76777,\n",
            "           0.76877,     0.76977,     0.77077,     0.77177,     0.77277,     0.77377,     0.77477,     0.77578,     0.77678,     0.77778,     0.77878,     0.77978,     0.78078,     0.78178,     0.78278,     0.78378,     0.78478,     0.78579,     0.78679,     0.78779,     0.78879,     0.78979,     0.79079,     0.79179,\n",
            "           0.79279,     0.79379,     0.79479,      0.7958,      0.7968,      0.7978,      0.7988,      0.7998,      0.8008,      0.8018,      0.8028,      0.8038,      0.8048,     0.80581,     0.80681,     0.80781,     0.80881,     0.80981,     0.81081,     0.81181,     0.81281,     0.81381,     0.81481,     0.81582,\n",
            "           0.81682,     0.81782,     0.81882,     0.81982,     0.82082,     0.82182,     0.82282,     0.82382,     0.82482,     0.82583,     0.82683,     0.82783,     0.82883,     0.82983,     0.83083,     0.83183,     0.83283,     0.83383,     0.83483,     0.83584,     0.83684,     0.83784,     0.83884,     0.83984,\n",
            "           0.84084,     0.84184,     0.84284,     0.84384,     0.84484,     0.84585,     0.84685,     0.84785,     0.84885,     0.84985,     0.85085,     0.85185,     0.85285,     0.85385,     0.85485,     0.85586,     0.85686,     0.85786,     0.85886,     0.85986,     0.86086,     0.86186,     0.86286,     0.86386,\n",
            "           0.86486,     0.86587,     0.86687,     0.86787,     0.86887,     0.86987,     0.87087,     0.87187,     0.87287,     0.87387,     0.87487,     0.87588,     0.87688,     0.87788,     0.87888,     0.87988,     0.88088,     0.88188,     0.88288,     0.88388,     0.88488,     0.88589,     0.88689,     0.88789,\n",
            "           0.88889,     0.88989,     0.89089,     0.89189,     0.89289,     0.89389,     0.89489,      0.8959,      0.8969,      0.8979,      0.8989,      0.8999,      0.9009,      0.9019,      0.9029,      0.9039,      0.9049,     0.90591,     0.90691,     0.90791,     0.90891,     0.90991,     0.91091,     0.91191,\n",
            "           0.91291,     0.91391,     0.91491,     0.91592,     0.91692,     0.91792,     0.91892,     0.91992,     0.92092,     0.92192,     0.92292,     0.92392,     0.92492,     0.92593,     0.92693,     0.92793,     0.92893,     0.92993,     0.93093,     0.93193,     0.93293,     0.93393,     0.93493,     0.93594,\n",
            "           0.93694,     0.93794,     0.93894,     0.93994,     0.94094,     0.94194,     0.94294,     0.94394,     0.94494,     0.94595,     0.94695,     0.94795,     0.94895,     0.94995,     0.95095,     0.95195,     0.95295,     0.95395,     0.95495,     0.95596,     0.95696,     0.95796,     0.95896,     0.95996,\n",
            "           0.96096,     0.96196,     0.96296,     0.96396,     0.96496,     0.96597,     0.96697,     0.96797,     0.96897,     0.96997,     0.97097,     0.97197,     0.97297,     0.97397,     0.97497,     0.97598,     0.97698,     0.97798,     0.97898,     0.97998,     0.98098,     0.98198,     0.98298,     0.98398,\n",
            "           0.98498,     0.98599,     0.98699,     0.98799,     0.98899,     0.98999,     0.99099,     0.99199,     0.99299,     0.99399,     0.99499,       0.996,       0.997,       0.998,       0.999,           1]), array([[   0.048721,    0.048721,    0.048721,     0.07369,    0.096315,     0.12572,     0.14146,     0.15623,     0.16746,     0.17324,     0.18212,     0.19136,     0.18703,     0.19322,     0.19986,     0.20007,     0.20792,     0.20983,     0.21635,     0.21215,     0.21573,     0.20773,     0.20849,\n",
            "            0.20952,     0.21158,     0.21604,      0.2181,     0.20906,     0.21069,     0.21211,     0.21528,     0.21713,     0.21959,     0.22236,     0.22422,     0.22646,     0.22854,     0.23195,     0.23268,     0.23326,     0.23384,     0.23643,     0.23703,     0.23762,     0.23822,     0.24109,\n",
            "            0.24444,     0.24557,     0.24596,     0.24634,     0.24673,     0.24711,     0.24749,     0.24978,      0.2532,      0.2542,     0.23766,     0.24274,     0.24501,     0.24638,     0.24768,     0.24875,     0.24982,     0.25282,     0.25346,      0.2541,     0.25474,     0.25535,     0.25571,\n",
            "            0.25606,     0.25642,     0.25677,     0.25712,     0.25748,     0.25783,     0.25958,     0.26163,     0.26268,     0.26372,     0.26401,     0.26429,     0.26457,     0.26485,     0.26512,      0.2654,     0.26568,     0.26595,     0.26623,      0.2665,     0.26838,     0.27024,     0.27108,\n",
            "             0.2719,     0.27272,     0.27347,     0.27422,     0.27496,      0.2757,     0.28015,     0.28155,     0.28368,     0.28615,     0.28742,     0.28867,     0.28955,     0.29019,     0.29083,     0.29146,      0.2921,      0.2927,     0.29293,     0.29317,     0.29341,     0.29364,     0.29388,\n",
            "            0.29411,     0.29434,     0.29458,     0.29481,     0.29504,     0.29527,     0.29551,     0.29574,     0.29597,      0.2962,      0.3001,      0.3003,      0.3005,      0.3007,      0.3009,      0.3011,      0.3013,      0.3015,      0.3017,      0.3019,      0.3021,      0.3023,      0.3025,\n",
            "             0.3027,     0.30289,     0.30309,     0.30329,     0.30348,     0.30368,     0.30392,     0.30423,     0.30453,     0.30484,     0.30514,     0.30545,     0.30575,     0.30605,     0.30635,     0.30665,     0.30695,     0.30725,     0.30755,     0.30784,     0.30814,     0.30844,     0.30873,\n",
            "            0.30902,     0.30932,     0.30961,      0.3099,     0.31019,     0.31048,     0.31077,     0.31106,     0.31134,     0.31163,     0.31416,     0.31635,     0.31755,     0.31874,     0.31991,     0.31917,     0.31828,     0.31739,      0.3165,      0.3156,     0.31471,     0.31381,     0.31292,\n",
            "            0.31202,     0.31113,     0.31023,     0.30934,     0.30844,     0.30755,     0.30665,     0.30575,     0.30486,     0.30396,     0.30306,     0.30216,     0.30126,     0.30037,     0.29947,     0.29857,     0.29767,     0.29743,     0.29764,     0.29786,     0.29808,      0.2983,     0.29852,\n",
            "            0.29873,     0.29895,     0.29916,     0.29938,     0.29959,      0.2998,     0.30002,     0.30023,     0.30044,     0.30065,     0.30087,     0.30108,     0.30129,     0.30273,     0.30496,     0.30841,     0.30624,     0.30043,     0.29461,     0.28878,     0.28579,     0.28596,     0.28613,\n",
            "             0.2863,     0.28647,     0.28664,      0.2868,     0.28697,     0.28714,      0.2873,     0.28747,     0.28763,      0.2878,     0.28796,     0.28813,     0.28829,     0.28845,     0.28861,     0.28878,     0.28894,      0.2891,     0.28926,     0.28942,     0.28958,     0.28975,     0.28852,\n",
            "            0.28428,     0.28004,     0.27578,     0.27152,     0.26725,     0.26498,     0.26565,     0.26632,     0.26698,     0.26763,     0.26827,     0.26643,     0.26089,     0.25533,     0.24977,     0.24419,     0.24259,     0.24283,     0.24307,      0.2433,     0.24354,     0.24377,     0.24401,\n",
            "            0.24424,     0.24447,      0.2447,     0.24493,     0.24516,     0.24539,     0.24562,     0.24584,     0.24607,     0.25019,     0.25061,     0.25103,     0.25144,     0.25185,     0.25225,     0.25266,     0.25305,     0.25345,     0.25384,     0.25522,     0.25702,     0.25746,     0.25597,\n",
            "            0.25448,     0.25298,     0.25149,     0.24999,     0.24849,     0.24699,     0.24549,     0.24399,     0.24249,     0.24099,     0.23949,     0.23798,     0.23647,     0.23497,     0.23346,     0.23195,     0.23044,     0.22888,     0.22724,     0.22561,     0.22397,     0.22233,     0.22069,\n",
            "            0.21905,      0.2174,     0.21576,     0.21412,     0.21247,     0.21082,     0.20918,     0.20753,     0.20588,     0.20422,     0.20257,     0.20092,     0.20015,      0.2005,     0.20084,     0.20117,      0.2015,     0.20183,     0.20216,     0.20248,     0.20279,     0.20311,     0.20341,\n",
            "            0.20366,     0.20391,     0.20416,      0.2044,     0.20465,     0.20489,     0.20512,     0.20536,     0.20559,     0.20583,     0.20606,     0.20628,     0.20651,     0.20674,     0.20119,     0.18038,     0.17557,     0.17574,     0.17591,     0.17608,     0.17625,     0.17641,     0.17658,\n",
            "            0.17674,      0.1769,     0.17707,     0.17722,     0.17738,     0.17754,      0.1777,     0.17785,       0.178,     0.17816,     0.17831,     0.17846,     0.17846,     0.17796,     0.17747,     0.17697,     0.17648,     0.17598,     0.17549,     0.17499,      0.1745,       0.174,     0.17351,\n",
            "            0.17301,     0.17251,     0.17202,     0.17152,     0.17103,     0.17053,     0.17003,     0.16954,     0.16904,     0.16854,     0.16805,     0.16755,     0.16705,     0.16656,     0.16606,     0.16556,     0.16506,     0.16457,     0.16407,     0.16357,     0.16307,     0.16258,     0.16208,\n",
            "            0.16158,     0.16108,     0.16058,     0.16008,     0.15959,     0.15909,     0.15859,     0.15809,     0.15759,     0.15709,     0.15659,     0.15609,     0.15559,     0.15509,     0.15459,     0.15409,     0.15359,     0.15309,     0.15259,     0.15209,     0.15159,     0.15109,     0.15059,\n",
            "            0.15009,     0.14959,     0.14909,     0.14859,     0.14808,     0.14758,     0.14708,     0.14658,     0.14608,     0.14557,     0.14572,     0.14606,     0.14639,     0.14672,     0.14704,     0.14735,     0.14765,     0.14795,     0.14816,     0.14819,     0.14822,     0.14825,     0.14828,\n",
            "            0.14831,     0.14834,     0.14837,      0.1484,     0.14843,     0.14846,     0.14849,     0.14852,     0.14855,     0.14858,     0.14861,     0.14864,     0.14867,      0.1487,     0.14873,     0.14876,     0.14879,     0.14882,     0.14885,     0.14888,     0.14891,     0.14894,     0.14897,\n",
            "              0.149,     0.14902,     0.14905,     0.14908,     0.14911,     0.14914,     0.14917,      0.1492,     0.14923,     0.14925,     0.14928,     0.14931,     0.14934,     0.14937,     0.14939,     0.14942,     0.14945,     0.14948,     0.14951,     0.14953,     0.14956,     0.14959,     0.14962,\n",
            "            0.14964,     0.14967,      0.1497,     0.14973,     0.14975,     0.14978,     0.14981,     0.14984,     0.14986,     0.14989,     0.14992,     0.14994,     0.14997,        0.15,     0.15002,     0.15005,     0.15008,      0.1501,     0.15013,     0.15016,     0.15018,     0.15021,     0.15023,\n",
            "            0.15026,     0.15029,     0.15031,     0.15034,     0.15036,     0.15039,     0.15042,     0.15044,     0.15047,     0.15049,     0.15052,     0.15054,     0.15057,     0.15059,     0.15062,     0.15065,     0.15067,      0.1507,     0.15072,     0.15075,     0.15077,      0.1508,     0.15082,\n",
            "            0.15085,     0.15087,      0.1509,     0.15092,     0.15095,     0.15102,     0.15109,     0.15116,     0.15123,      0.1513,     0.15137,     0.15144,     0.15151,     0.15157,     0.15164,     0.15171,     0.15178,     0.15184,     0.15191,     0.15197,     0.15204,      0.1521,     0.15217,\n",
            "            0.15223,      0.1523,     0.15236,     0.15242,     0.15248,     0.15255,     0.15261,     0.15267,     0.15273,     0.15279,     0.15285,     0.15291,     0.15297,     0.15303,     0.15309,     0.15315,     0.15321,     0.15327,     0.15332,     0.15338,     0.15344,     0.15349,     0.15355,\n",
            "            0.15361,     0.15366,     0.15372,     0.15377,     0.15383,     0.15675,     0.15591,     0.15492,     0.15394,     0.15295,     0.15196,     0.15098,     0.14999,       0.149,     0.14801,     0.14702,     0.14602,     0.14503,     0.14404,     0.14304,     0.14205,     0.14105,     0.14006,\n",
            "            0.13906,     0.13806,     0.13706,     0.13606,     0.13506,     0.13406,     0.13306,     0.13205,     0.13105,     0.13004,     0.12904,     0.12803,     0.12702,     0.12602,     0.12501,       0.124,     0.12299,     0.12197,     0.12096,     0.11996,      0.1191,     0.11824,     0.11738,\n",
            "            0.11652,     0.11566,      0.1148,     0.11394,     0.11308,     0.11222,     0.11135,     0.11049,     0.10963,     0.10876,      0.1079,     0.10703,     0.10617,      0.1053,     0.10444,     0.10357,      0.1027,     0.10183,     0.10097,      0.1001,    0.099227,    0.098357,    0.097486,\n",
            "           0.096614,    0.095743,     0.09487,    0.093997,    0.093123,    0.092249,    0.091374,    0.090499,    0.089623,    0.088746,    0.087869,    0.086991,    0.086112,    0.085233,    0.084353,    0.083473,    0.082592,     0.08171,     0.08071,    0.079699,    0.078688,    0.077676,    0.076663,\n",
            "           0.075651,    0.074637,    0.073624,     0.07261,    0.071595,     0.07058,    0.069565,    0.068549,    0.067532,    0.066515,    0.065497,    0.064479,    0.063461,    0.062442,    0.061422,    0.060401,     0.05938,    0.058359,    0.057337,    0.056314,     0.05529,    0.054266,    0.053241,\n",
            "           0.052215,    0.051189,    0.050162,    0.049134,    0.048105,    0.047076,    0.046045,    0.045014,    0.043982,    0.042949,    0.041915,    0.041686,    0.041712,    0.041736,     0.04176,    0.041784,    0.041806,    0.041828,     0.04185,    0.041871,    0.041891,    0.041911,     0.04193,\n",
            "           0.041949,    0.041968,    0.041986,    0.042003,    0.042021,    0.042037,    0.042054,     0.04207,    0.042086,    0.042101,    0.042116,    0.042131,    0.042145,    0.042159,    0.042173,    0.042186,      0.0422,    0.042212,    0.042225,    0.042238,     0.04225,    0.042262,    0.042273,\n",
            "           0.042285,    0.042296,    0.042307,    0.042318,    0.042329,    0.042339,     0.04235,     0.04236,     0.04237,    0.042379,    0.042389,    0.042398,    0.042408,    0.042417,    0.042426,    0.042434,    0.042443,    0.042452,     0.04246,    0.042468,    0.042476,    0.042484,    0.042492,\n",
            "             0.0425,    0.042507,    0.042515,    0.042522,    0.042529,    0.042537,    0.042544,    0.042551,           0,           0,           0,           0,           0,           0,           0,           0,           0,           0,           0,           0,           0,           0,           0,\n",
            "                  0,           0,           0,           0,           0,           0,           0,           0,           0,           0,           0,           0,           0,           0,           0,           0,           0,           0,           0,           0,           0,           0,           0,\n",
            "                  0,           0,           0,           0,           0,           0,           0,           0,           0,           0,           0,           0,           0,           0,           0,           0,           0,           0,           0,           0,           0,           0,           0,\n",
            "                  0,           0,           0,           0,           0,           0,           0,           0,           0,           0,           0,           0,           0,           0,           0,           0,           0,           0,           0,           0,           0,           0,           0,\n",
            "                  0,           0,           0,           0,           0,           0,           0,           0,           0,           0,           0,           0,           0,           0,           0,           0,           0,           0,           0,           0,           0,           0,           0,\n",
            "                  0,           0,           0,           0,           0,           0,           0,           0,           0,           0,           0,           0,           0,           0,           0,           0,           0,           0,           0,           0,           0,           0,           0,\n",
            "                  0,           0,           0,           0,           0,           0,           0,           0,           0,           0,           0,           0,           0,           0,           0,           0,           0,           0,           0,           0,           0,           0,           0,\n",
            "                  0,           0,           0,           0,           0,           0,           0,           0,           0,           0,           0,           0,           0,           0,           0,           0,           0,           0,           0,           0,           0,           0,           0,\n",
            "                  0,           0,           0,           0,           0,           0,           0,           0,           0,           0,           0,           0,           0,           0,           0,           0,           0,           0,           0,           0,           0,           0,           0,\n",
            "                  0,           0,           0,           0,           0,           0,           0,           0,           0,           0,           0]]), 'Confidence', 'F1'], [array([          0,    0.001001,    0.002002,    0.003003,    0.004004,    0.005005,    0.006006,    0.007007,    0.008008,    0.009009,     0.01001,    0.011011,    0.012012,    0.013013,    0.014014,    0.015015,    0.016016,    0.017017,    0.018018,    0.019019,     0.02002,    0.021021,    0.022022,    0.023023,\n",
            "          0.024024,    0.025025,    0.026026,    0.027027,    0.028028,    0.029029,     0.03003,    0.031031,    0.032032,    0.033033,    0.034034,    0.035035,    0.036036,    0.037037,    0.038038,    0.039039,     0.04004,    0.041041,    0.042042,    0.043043,    0.044044,    0.045045,    0.046046,    0.047047,\n",
            "          0.048048,    0.049049,     0.05005,    0.051051,    0.052052,    0.053053,    0.054054,    0.055055,    0.056056,    0.057057,    0.058058,    0.059059,     0.06006,    0.061061,    0.062062,    0.063063,    0.064064,    0.065065,    0.066066,    0.067067,    0.068068,    0.069069,     0.07007,    0.071071,\n",
            "          0.072072,    0.073073,    0.074074,    0.075075,    0.076076,    0.077077,    0.078078,    0.079079,     0.08008,    0.081081,    0.082082,    0.083083,    0.084084,    0.085085,    0.086086,    0.087087,    0.088088,    0.089089,     0.09009,    0.091091,    0.092092,    0.093093,    0.094094,    0.095095,\n",
            "          0.096096,    0.097097,    0.098098,    0.099099,      0.1001,      0.1011,      0.1021,      0.1031,      0.1041,     0.10511,     0.10611,     0.10711,     0.10811,     0.10911,     0.11011,     0.11111,     0.11211,     0.11311,     0.11411,     0.11512,     0.11612,     0.11712,     0.11812,     0.11912,\n",
            "           0.12012,     0.12112,     0.12212,     0.12312,     0.12412,     0.12513,     0.12613,     0.12713,     0.12813,     0.12913,     0.13013,     0.13113,     0.13213,     0.13313,     0.13413,     0.13514,     0.13614,     0.13714,     0.13814,     0.13914,     0.14014,     0.14114,     0.14214,     0.14314,\n",
            "           0.14414,     0.14515,     0.14615,     0.14715,     0.14815,     0.14915,     0.15015,     0.15115,     0.15215,     0.15315,     0.15415,     0.15516,     0.15616,     0.15716,     0.15816,     0.15916,     0.16016,     0.16116,     0.16216,     0.16316,     0.16416,     0.16517,     0.16617,     0.16717,\n",
            "           0.16817,     0.16917,     0.17017,     0.17117,     0.17217,     0.17317,     0.17417,     0.17518,     0.17618,     0.17718,     0.17818,     0.17918,     0.18018,     0.18118,     0.18218,     0.18318,     0.18418,     0.18519,     0.18619,     0.18719,     0.18819,     0.18919,     0.19019,     0.19119,\n",
            "           0.19219,     0.19319,     0.19419,      0.1952,      0.1962,      0.1972,      0.1982,      0.1992,      0.2002,      0.2012,      0.2022,      0.2032,      0.2042,     0.20521,     0.20621,     0.20721,     0.20821,     0.20921,     0.21021,     0.21121,     0.21221,     0.21321,     0.21421,     0.21522,\n",
            "           0.21622,     0.21722,     0.21822,     0.21922,     0.22022,     0.22122,     0.22222,     0.22322,     0.22422,     0.22523,     0.22623,     0.22723,     0.22823,     0.22923,     0.23023,     0.23123,     0.23223,     0.23323,     0.23423,     0.23524,     0.23624,     0.23724,     0.23824,     0.23924,\n",
            "           0.24024,     0.24124,     0.24224,     0.24324,     0.24424,     0.24525,     0.24625,     0.24725,     0.24825,     0.24925,     0.25025,     0.25125,     0.25225,     0.25325,     0.25425,     0.25526,     0.25626,     0.25726,     0.25826,     0.25926,     0.26026,     0.26126,     0.26226,     0.26326,\n",
            "           0.26426,     0.26527,     0.26627,     0.26727,     0.26827,     0.26927,     0.27027,     0.27127,     0.27227,     0.27327,     0.27427,     0.27528,     0.27628,     0.27728,     0.27828,     0.27928,     0.28028,     0.28128,     0.28228,     0.28328,     0.28428,     0.28529,     0.28629,     0.28729,\n",
            "           0.28829,     0.28929,     0.29029,     0.29129,     0.29229,     0.29329,     0.29429,      0.2953,      0.2963,      0.2973,      0.2983,      0.2993,      0.3003,      0.3013,      0.3023,      0.3033,      0.3043,     0.30531,     0.30631,     0.30731,     0.30831,     0.30931,     0.31031,     0.31131,\n",
            "           0.31231,     0.31331,     0.31431,     0.31532,     0.31632,     0.31732,     0.31832,     0.31932,     0.32032,     0.32132,     0.32232,     0.32332,     0.32432,     0.32533,     0.32633,     0.32733,     0.32833,     0.32933,     0.33033,     0.33133,     0.33233,     0.33333,     0.33433,     0.33534,\n",
            "           0.33634,     0.33734,     0.33834,     0.33934,     0.34034,     0.34134,     0.34234,     0.34334,     0.34434,     0.34535,     0.34635,     0.34735,     0.34835,     0.34935,     0.35035,     0.35135,     0.35235,     0.35335,     0.35435,     0.35536,     0.35636,     0.35736,     0.35836,     0.35936,\n",
            "           0.36036,     0.36136,     0.36236,     0.36336,     0.36436,     0.36537,     0.36637,     0.36737,     0.36837,     0.36937,     0.37037,     0.37137,     0.37237,     0.37337,     0.37437,     0.37538,     0.37638,     0.37738,     0.37838,     0.37938,     0.38038,     0.38138,     0.38238,     0.38338,\n",
            "           0.38438,     0.38539,     0.38639,     0.38739,     0.38839,     0.38939,     0.39039,     0.39139,     0.39239,     0.39339,     0.39439,      0.3954,      0.3964,      0.3974,      0.3984,      0.3994,      0.4004,      0.4014,      0.4024,      0.4034,      0.4044,     0.40541,     0.40641,     0.40741,\n",
            "           0.40841,     0.40941,     0.41041,     0.41141,     0.41241,     0.41341,     0.41441,     0.41542,     0.41642,     0.41742,     0.41842,     0.41942,     0.42042,     0.42142,     0.42242,     0.42342,     0.42442,     0.42543,     0.42643,     0.42743,     0.42843,     0.42943,     0.43043,     0.43143,\n",
            "           0.43243,     0.43343,     0.43443,     0.43544,     0.43644,     0.43744,     0.43844,     0.43944,     0.44044,     0.44144,     0.44244,     0.44344,     0.44444,     0.44545,     0.44645,     0.44745,     0.44845,     0.44945,     0.45045,     0.45145,     0.45245,     0.45345,     0.45445,     0.45546,\n",
            "           0.45646,     0.45746,     0.45846,     0.45946,     0.46046,     0.46146,     0.46246,     0.46346,     0.46446,     0.46547,     0.46647,     0.46747,     0.46847,     0.46947,     0.47047,     0.47147,     0.47247,     0.47347,     0.47447,     0.47548,     0.47648,     0.47748,     0.47848,     0.47948,\n",
            "           0.48048,     0.48148,     0.48248,     0.48348,     0.48448,     0.48549,     0.48649,     0.48749,     0.48849,     0.48949,     0.49049,     0.49149,     0.49249,     0.49349,     0.49449,      0.4955,      0.4965,      0.4975,      0.4985,      0.4995,      0.5005,      0.5015,      0.5025,      0.5035,\n",
            "            0.5045,     0.50551,     0.50651,     0.50751,     0.50851,     0.50951,     0.51051,     0.51151,     0.51251,     0.51351,     0.51451,     0.51552,     0.51652,     0.51752,     0.51852,     0.51952,     0.52052,     0.52152,     0.52252,     0.52352,     0.52452,     0.52553,     0.52653,     0.52753,\n",
            "           0.52853,     0.52953,     0.53053,     0.53153,     0.53253,     0.53353,     0.53453,     0.53554,     0.53654,     0.53754,     0.53854,     0.53954,     0.54054,     0.54154,     0.54254,     0.54354,     0.54454,     0.54555,     0.54655,     0.54755,     0.54855,     0.54955,     0.55055,     0.55155,\n",
            "           0.55255,     0.55355,     0.55455,     0.55556,     0.55656,     0.55756,     0.55856,     0.55956,     0.56056,     0.56156,     0.56256,     0.56356,     0.56456,     0.56557,     0.56657,     0.56757,     0.56857,     0.56957,     0.57057,     0.57157,     0.57257,     0.57357,     0.57457,     0.57558,\n",
            "           0.57658,     0.57758,     0.57858,     0.57958,     0.58058,     0.58158,     0.58258,     0.58358,     0.58458,     0.58559,     0.58659,     0.58759,     0.58859,     0.58959,     0.59059,     0.59159,     0.59259,     0.59359,     0.59459,      0.5956,      0.5966,      0.5976,      0.5986,      0.5996,\n",
            "            0.6006,      0.6016,      0.6026,      0.6036,      0.6046,     0.60561,     0.60661,     0.60761,     0.60861,     0.60961,     0.61061,     0.61161,     0.61261,     0.61361,     0.61461,     0.61562,     0.61662,     0.61762,     0.61862,     0.61962,     0.62062,     0.62162,     0.62262,     0.62362,\n",
            "           0.62462,     0.62563,     0.62663,     0.62763,     0.62863,     0.62963,     0.63063,     0.63163,     0.63263,     0.63363,     0.63463,     0.63564,     0.63664,     0.63764,     0.63864,     0.63964,     0.64064,     0.64164,     0.64264,     0.64364,     0.64464,     0.64565,     0.64665,     0.64765,\n",
            "           0.64865,     0.64965,     0.65065,     0.65165,     0.65265,     0.65365,     0.65465,     0.65566,     0.65666,     0.65766,     0.65866,     0.65966,     0.66066,     0.66166,     0.66266,     0.66366,     0.66466,     0.66567,     0.66667,     0.66767,     0.66867,     0.66967,     0.67067,     0.67167,\n",
            "           0.67267,     0.67367,     0.67467,     0.67568,     0.67668,     0.67768,     0.67868,     0.67968,     0.68068,     0.68168,     0.68268,     0.68368,     0.68468,     0.68569,     0.68669,     0.68769,     0.68869,     0.68969,     0.69069,     0.69169,     0.69269,     0.69369,     0.69469,      0.6957,\n",
            "            0.6967,      0.6977,      0.6987,      0.6997,      0.7007,      0.7017,      0.7027,      0.7037,      0.7047,     0.70571,     0.70671,     0.70771,     0.70871,     0.70971,     0.71071,     0.71171,     0.71271,     0.71371,     0.71471,     0.71572,     0.71672,     0.71772,     0.71872,     0.71972,\n",
            "           0.72072,     0.72172,     0.72272,     0.72372,     0.72472,     0.72573,     0.72673,     0.72773,     0.72873,     0.72973,     0.73073,     0.73173,     0.73273,     0.73373,     0.73473,     0.73574,     0.73674,     0.73774,     0.73874,     0.73974,     0.74074,     0.74174,     0.74274,     0.74374,\n",
            "           0.74474,     0.74575,     0.74675,     0.74775,     0.74875,     0.74975,     0.75075,     0.75175,     0.75275,     0.75375,     0.75475,     0.75576,     0.75676,     0.75776,     0.75876,     0.75976,     0.76076,     0.76176,     0.76276,     0.76376,     0.76476,     0.76577,     0.76677,     0.76777,\n",
            "           0.76877,     0.76977,     0.77077,     0.77177,     0.77277,     0.77377,     0.77477,     0.77578,     0.77678,     0.77778,     0.77878,     0.77978,     0.78078,     0.78178,     0.78278,     0.78378,     0.78478,     0.78579,     0.78679,     0.78779,     0.78879,     0.78979,     0.79079,     0.79179,\n",
            "           0.79279,     0.79379,     0.79479,      0.7958,      0.7968,      0.7978,      0.7988,      0.7998,      0.8008,      0.8018,      0.8028,      0.8038,      0.8048,     0.80581,     0.80681,     0.80781,     0.80881,     0.80981,     0.81081,     0.81181,     0.81281,     0.81381,     0.81481,     0.81582,\n",
            "           0.81682,     0.81782,     0.81882,     0.81982,     0.82082,     0.82182,     0.82282,     0.82382,     0.82482,     0.82583,     0.82683,     0.82783,     0.82883,     0.82983,     0.83083,     0.83183,     0.83283,     0.83383,     0.83483,     0.83584,     0.83684,     0.83784,     0.83884,     0.83984,\n",
            "           0.84084,     0.84184,     0.84284,     0.84384,     0.84484,     0.84585,     0.84685,     0.84785,     0.84885,     0.84985,     0.85085,     0.85185,     0.85285,     0.85385,     0.85485,     0.85586,     0.85686,     0.85786,     0.85886,     0.85986,     0.86086,     0.86186,     0.86286,     0.86386,\n",
            "           0.86486,     0.86587,     0.86687,     0.86787,     0.86887,     0.86987,     0.87087,     0.87187,     0.87287,     0.87387,     0.87487,     0.87588,     0.87688,     0.87788,     0.87888,     0.87988,     0.88088,     0.88188,     0.88288,     0.88388,     0.88488,     0.88589,     0.88689,     0.88789,\n",
            "           0.88889,     0.88989,     0.89089,     0.89189,     0.89289,     0.89389,     0.89489,      0.8959,      0.8969,      0.8979,      0.8989,      0.8999,      0.9009,      0.9019,      0.9029,      0.9039,      0.9049,     0.90591,     0.90691,     0.90791,     0.90891,     0.90991,     0.91091,     0.91191,\n",
            "           0.91291,     0.91391,     0.91491,     0.91592,     0.91692,     0.91792,     0.91892,     0.91992,     0.92092,     0.92192,     0.92292,     0.92392,     0.92492,     0.92593,     0.92693,     0.92793,     0.92893,     0.92993,     0.93093,     0.93193,     0.93293,     0.93393,     0.93493,     0.93594,\n",
            "           0.93694,     0.93794,     0.93894,     0.93994,     0.94094,     0.94194,     0.94294,     0.94394,     0.94494,     0.94595,     0.94695,     0.94795,     0.94895,     0.94995,     0.95095,     0.95195,     0.95295,     0.95395,     0.95495,     0.95596,     0.95696,     0.95796,     0.95896,     0.95996,\n",
            "           0.96096,     0.96196,     0.96296,     0.96396,     0.96496,     0.96597,     0.96697,     0.96797,     0.96897,     0.96997,     0.97097,     0.97197,     0.97297,     0.97397,     0.97497,     0.97598,     0.97698,     0.97798,     0.97898,     0.97998,     0.98098,     0.98198,     0.98298,     0.98398,\n",
            "           0.98498,     0.98599,     0.98699,     0.98799,     0.98899,     0.98999,     0.99099,     0.99199,     0.99299,     0.99399,     0.99499,       0.996,       0.997,       0.998,       0.999,           1]), array([[   0.025806,    0.025806,    0.025806,    0.040256,    0.054156,    0.073487,    0.084473,    0.096335,     0.10502,     0.11125,     0.11868,     0.12665,      0.1252,     0.13081,     0.13696,     0.14042,     0.14828,     0.15023,       0.157,     0.15722,     0.16119,     0.15768,     0.15856,\n",
            "            0.15974,     0.16216,     0.16745,     0.16994,     0.16449,     0.16795,     0.16976,     0.17386,     0.17629,     0.17956,     0.18328,     0.18582,     0.18893,     0.19184,     0.19669,     0.19775,     0.19858,     0.19942,     0.20322,      0.2041,     0.20499,     0.20588,     0.21021,\n",
            "            0.21536,     0.21712,     0.21772,     0.21833,     0.21893,     0.21953,     0.22013,     0.22378,     0.22934,     0.23098,     0.21824,     0.22697,     0.23098,     0.23342,     0.23575,     0.23771,     0.23967,     0.24526,     0.24647,     0.24768,     0.24889,     0.25006,     0.25074,\n",
            "            0.25143,     0.25211,      0.2528,     0.25349,     0.25417,     0.25486,     0.25831,     0.26239,     0.26451,     0.26662,     0.26723,      0.2678,     0.26837,     0.26895,     0.26952,     0.27009,     0.27067,     0.27124,     0.27181,     0.27239,     0.27633,     0.28031,     0.28211,\n",
            "            0.28391,     0.28571,     0.28736,     0.28901,     0.29066,     0.29231,      0.3025,     0.30579,     0.31086,     0.31685,     0.31998,      0.3231,     0.32531,     0.32694,     0.32856,     0.33019,     0.33181,     0.33337,     0.33399,      0.3346,     0.33522,     0.33583,     0.33645,\n",
            "            0.33706,     0.33767,     0.33829,      0.3389,     0.33952,     0.34013,     0.34075,     0.34136,     0.34197,     0.34259,     0.35321,     0.35377,     0.35433,     0.35489,     0.35545,     0.35601,     0.35657,     0.35713,     0.35769,     0.35826,     0.35882,     0.35938,     0.35994,\n",
            "             0.3605,     0.36106,     0.36162,     0.36218,     0.36274,      0.3633,     0.36399,     0.36487,     0.36576,     0.36664,     0.36752,      0.3684,     0.36928,     0.37016,     0.37104,     0.37193,     0.37281,     0.37369,     0.37457,     0.37545,     0.37633,     0.37722,      0.3781,\n",
            "            0.37898,     0.37986,     0.38074,     0.38163,     0.38251,     0.38339,     0.38427,     0.38515,     0.38604,     0.38692,     0.39482,     0.40181,     0.40571,      0.4096,      0.4135,     0.41303,      0.4122,     0.41138,     0.41055,     0.40972,      0.4089,     0.40807,     0.40725,\n",
            "            0.40642,     0.40559,     0.40477,     0.40394,     0.40311,     0.40229,     0.40146,     0.40064,     0.39981,     0.39898,     0.39816,     0.39733,      0.3965,     0.39568,     0.39485,     0.39402,      0.3932,     0.39331,     0.39407,     0.39484,     0.39561,     0.39637,     0.39714,\n",
            "            0.39791,     0.39867,     0.39944,      0.4002,     0.40097,     0.40174,      0.4025,     0.40327,     0.40404,      0.4048,     0.40557,     0.40634,      0.4071,     0.41243,     0.42078,     0.43422,     0.43649,     0.43087,     0.42524,     0.41961,     0.41701,     0.41773,     0.41845,\n",
            "            0.41917,     0.41989,     0.42061,     0.42133,     0.42205,     0.42277,     0.42349,     0.42421,     0.42493,     0.42565,     0.42637,     0.42709,     0.42781,     0.42853,     0.42925,     0.42997,     0.43069,     0.43141,     0.43213,     0.43285,     0.43357,     0.43429,     0.43342,\n",
            "            0.42907,     0.42472,     0.42038,     0.41603,     0.41168,      0.4104,     0.41365,     0.41689,     0.42014,     0.42339,     0.42663,     0.42614,     0.42008,     0.41403,     0.40797,     0.40191,      0.4009,     0.40221,     0.40352,     0.40483,     0.40614,     0.40745,     0.40876,\n",
            "            0.41007,     0.41138,     0.41269,       0.414,     0.41531,     0.41662,     0.41793,     0.41924,     0.42055,     0.44567,     0.44834,     0.45101,     0.45369,     0.45636,     0.45903,      0.4617,     0.46438,     0.46705,     0.46972,     0.47932,     0.49226,      0.4993,     0.49754,\n",
            "            0.49579,     0.49404,     0.49228,     0.49053,     0.48878,     0.48703,     0.48527,     0.48352,     0.48177,     0.48001,     0.47826,     0.47651,     0.47476,       0.473,     0.47125,      0.4695,     0.46774,     0.46585,     0.46373,      0.4616,     0.45948,     0.45735,     0.45523,\n",
            "            0.45311,     0.45098,     0.44886,     0.44674,     0.44461,     0.44249,     0.44036,     0.43824,     0.43612,     0.43399,     0.43187,     0.42975,     0.42999,     0.43318,     0.43636,     0.43955,     0.44273,     0.44592,      0.4491,     0.45228,     0.45547,     0.45865,     0.46178,\n",
            "            0.46438,     0.46697,     0.46957,     0.47216,     0.47476,     0.47736,     0.47995,     0.48255,     0.48514,     0.48774,     0.49033,     0.49293,     0.49552,     0.49812,     0.49171,     0.46164,     0.45632,     0.45865,     0.46098,      0.4633,     0.46563,     0.46796,     0.47029,\n",
            "            0.47261,     0.47494,     0.47727,      0.4796,     0.48192,     0.48425,     0.48658,      0.4889,     0.49123,     0.49356,     0.49589,     0.49821,     0.49981,     0.49897,     0.49813,      0.4973,     0.49646,     0.49563,     0.49479,     0.49396,     0.49312,     0.49228,     0.49145,\n",
            "            0.49061,     0.48978,     0.48894,     0.48811,     0.48727,     0.48643,      0.4856,     0.48476,     0.48393,     0.48309,     0.48225,     0.48142,     0.48058,     0.47975,     0.47891,     0.47808,     0.47724,      0.4764,     0.47557,     0.47473,      0.4739,     0.47306,     0.47223,\n",
            "            0.47139,     0.47055,     0.46972,     0.46888,     0.46805,     0.46721,     0.46637,     0.46554,      0.4647,     0.46387,     0.46303,      0.4622,     0.46136,     0.46052,     0.45969,     0.45885,     0.45802,     0.45718,     0.45635,     0.45551,     0.45467,     0.45384,       0.453,\n",
            "            0.45217,     0.45133,     0.45049,     0.44966,     0.44882,     0.44799,     0.44715,     0.44632,     0.44548,     0.44464,     0.44945,     0.45603,      0.4626,     0.46918,     0.47576,     0.48233,     0.48891,     0.49549,     0.50022,     0.50093,     0.50163,     0.50234,     0.50304,\n",
            "            0.50375,     0.50445,     0.50516,     0.50586,     0.50657,     0.50727,     0.50798,     0.50868,     0.50939,      0.5101,      0.5108,     0.51151,     0.51221,     0.51292,     0.51362,     0.51433,     0.51503,     0.51574,     0.51644,     0.51715,     0.51785,     0.51856,     0.51926,\n",
            "            0.51997,     0.52068,     0.52138,     0.52209,     0.52279,      0.5235,      0.5242,     0.52491,     0.52561,     0.52632,     0.52702,     0.52773,     0.52843,     0.52914,     0.52984,     0.53055,     0.53125,     0.53196,     0.53267,     0.53337,     0.53408,     0.53478,     0.53549,\n",
            "            0.53619,      0.5369,      0.5376,     0.53831,     0.53901,     0.53972,     0.54042,     0.54113,     0.54183,     0.54254,     0.54324,     0.54395,     0.54466,     0.54536,     0.54607,     0.54677,     0.54748,     0.54818,     0.54889,     0.54959,      0.5503,       0.551,     0.55171,\n",
            "            0.55241,     0.55312,     0.55382,     0.55453,     0.55523,     0.55594,     0.55665,     0.55735,     0.55806,     0.55876,     0.55947,     0.56017,     0.56088,     0.56158,     0.56229,     0.56299,      0.5637,      0.5644,     0.56511,     0.56581,     0.56652,     0.56722,     0.56793,\n",
            "            0.56864,     0.56934,     0.57005,     0.57075,     0.57151,     0.57356,     0.57562,     0.57767,     0.57973,     0.58178,     0.58384,     0.58589,     0.58795,        0.59,     0.59205,     0.59411,     0.59616,     0.59822,     0.60027,     0.60233,     0.60438,     0.60643,     0.60849,\n",
            "            0.61054,      0.6126,     0.61465,     0.61671,     0.61876,     0.62082,     0.62287,     0.62492,     0.62698,     0.62903,     0.63109,     0.63314,      0.6352,     0.63725,     0.63931,     0.64136,     0.64341,     0.64547,     0.64752,     0.64958,     0.65163,     0.65369,     0.65574,\n",
            "             0.6578,     0.65985,      0.6619,     0.66396,     0.66601,     0.79396,     0.79869,     0.79733,     0.79598,     0.79463,     0.79327,     0.79192,     0.79056,     0.78921,     0.78785,      0.7865,     0.78514,     0.78379,     0.78244,     0.78108,     0.77973,     0.77837,     0.77702,\n",
            "            0.77566,     0.77431,     0.77295,      0.7716,     0.77025,     0.76889,     0.76754,     0.76618,     0.76483,     0.76347,     0.76212,     0.76076,     0.75941,     0.75806,      0.7567,     0.75535,     0.75399,     0.75264,     0.75128,      0.7499,     0.74801,     0.74613,     0.74424,\n",
            "            0.74235,     0.74046,     0.73857,     0.73669,      0.7348,     0.73291,     0.73102,     0.72913,     0.72725,     0.72536,     0.72347,     0.72158,     0.71969,     0.71781,     0.71592,     0.71403,     0.71214,     0.71025,     0.70837,     0.70648,     0.70459,      0.7027,     0.70081,\n",
            "            0.69893,     0.69704,     0.69515,     0.69326,     0.69138,     0.68949,      0.6876,     0.68571,     0.68382,     0.68194,     0.68005,     0.67816,     0.67627,     0.67438,      0.6725,     0.67061,     0.66872,     0.66683,     0.66278,     0.65853,     0.65427,     0.65001,     0.64575,\n",
            "             0.6415,     0.63724,     0.63298,     0.62873,     0.62447,     0.62021,     0.61596,      0.6117,     0.60744,     0.60319,     0.59893,     0.59467,     0.59042,     0.58616,      0.5819,     0.57765,     0.57339,     0.56913,     0.56487,     0.56062,     0.55636,      0.5521,     0.54785,\n",
            "            0.54359,     0.53933,     0.53508,     0.53082,     0.52656,     0.52231,     0.51805,     0.51379,     0.50954,     0.50528,     0.50102,     0.50574,      0.5133,     0.52086,     0.52842,     0.53598,     0.54354,      0.5511,     0.55866,     0.56622,     0.57378,     0.58134,      0.5889,\n",
            "            0.59646,     0.60402,     0.61157,     0.61913,     0.62669,     0.63425,     0.64181,     0.64937,     0.65693,     0.66449,     0.67205,     0.67961,     0.68717,     0.69473,     0.70229,     0.70985,      0.7174,     0.72496,     0.73252,     0.74008,     0.74764,      0.7552,     0.76276,\n",
            "            0.77032,     0.77788,     0.78544,       0.793,     0.80056,     0.80812,     0.81567,     0.82323,     0.83079,     0.83835,     0.84591,     0.85347,     0.86103,     0.86859,     0.87615,     0.88371,     0.89127,     0.89883,     0.90639,     0.91395,      0.9215,     0.92906,     0.93662,\n",
            "            0.94418,     0.95174,      0.9593,     0.96686,     0.97442,     0.98198,     0.98954,      0.9971,           1,           1,           1,           1,           1,           1,           1,           1,           1,           1,           1,           1,           1,           1,           1,\n",
            "                  1,           1,           1,           1,           1,           1,           1,           1,           1,           1,           1,           1,           1,           1,           1,           1,           1,           1,           1,           1,           1,           1,           1,\n",
            "                  1,           1,           1,           1,           1,           1,           1,           1,           1,           1,           1,           1,           1,           1,           1,           1,           1,           1,           1,           1,           1,           1,           1,\n",
            "                  1,           1,           1,           1,           1,           1,           1,           1,           1,           1,           1,           1,           1,           1,           1,           1,           1,           1,           1,           1,           1,           1,           1,\n",
            "                  1,           1,           1,           1,           1,           1,           1,           1,           1,           1,           1,           1,           1,           1,           1,           1,           1,           1,           1,           1,           1,           1,           1,\n",
            "                  1,           1,           1,           1,           1,           1,           1,           1,           1,           1,           1,           1,           1,           1,           1,           1,           1,           1,           1,           1,           1,           1,           1,\n",
            "                  1,           1,           1,           1,           1,           1,           1,           1,           1,           1,           1,           1,           1,           1,           1,           1,           1,           1,           1,           1,           1,           1,           1,\n",
            "                  1,           1,           1,           1,           1,           1,           1,           1,           1,           1,           1,           1,           1,           1,           1,           1,           1,           1,           1,           1,           1,           1,           1,\n",
            "                  1,           1,           1,           1,           1,           1,           1,           1,           1,           1,           1,           1,           1,           1,           1,           1,           1,           1,           1,           1,           1,           1,           1,\n",
            "                  1,           1,           1,           1,           1,           1,           1,           1,           1,           1,           1]]), 'Confidence', 'Precision'], [array([          0,    0.001001,    0.002002,    0.003003,    0.004004,    0.005005,    0.006006,    0.007007,    0.008008,    0.009009,     0.01001,    0.011011,    0.012012,    0.013013,    0.014014,    0.015015,    0.016016,    0.017017,    0.018018,    0.019019,     0.02002,    0.021021,    0.022022,    0.023023,\n",
            "          0.024024,    0.025025,    0.026026,    0.027027,    0.028028,    0.029029,     0.03003,    0.031031,    0.032032,    0.033033,    0.034034,    0.035035,    0.036036,    0.037037,    0.038038,    0.039039,     0.04004,    0.041041,    0.042042,    0.043043,    0.044044,    0.045045,    0.046046,    0.047047,\n",
            "          0.048048,    0.049049,     0.05005,    0.051051,    0.052052,    0.053053,    0.054054,    0.055055,    0.056056,    0.057057,    0.058058,    0.059059,     0.06006,    0.061061,    0.062062,    0.063063,    0.064064,    0.065065,    0.066066,    0.067067,    0.068068,    0.069069,     0.07007,    0.071071,\n",
            "          0.072072,    0.073073,    0.074074,    0.075075,    0.076076,    0.077077,    0.078078,    0.079079,     0.08008,    0.081081,    0.082082,    0.083083,    0.084084,    0.085085,    0.086086,    0.087087,    0.088088,    0.089089,     0.09009,    0.091091,    0.092092,    0.093093,    0.094094,    0.095095,\n",
            "          0.096096,    0.097097,    0.098098,    0.099099,      0.1001,      0.1011,      0.1021,      0.1031,      0.1041,     0.10511,     0.10611,     0.10711,     0.10811,     0.10911,     0.11011,     0.11111,     0.11211,     0.11311,     0.11411,     0.11512,     0.11612,     0.11712,     0.11812,     0.11912,\n",
            "           0.12012,     0.12112,     0.12212,     0.12312,     0.12412,     0.12513,     0.12613,     0.12713,     0.12813,     0.12913,     0.13013,     0.13113,     0.13213,     0.13313,     0.13413,     0.13514,     0.13614,     0.13714,     0.13814,     0.13914,     0.14014,     0.14114,     0.14214,     0.14314,\n",
            "           0.14414,     0.14515,     0.14615,     0.14715,     0.14815,     0.14915,     0.15015,     0.15115,     0.15215,     0.15315,     0.15415,     0.15516,     0.15616,     0.15716,     0.15816,     0.15916,     0.16016,     0.16116,     0.16216,     0.16316,     0.16416,     0.16517,     0.16617,     0.16717,\n",
            "           0.16817,     0.16917,     0.17017,     0.17117,     0.17217,     0.17317,     0.17417,     0.17518,     0.17618,     0.17718,     0.17818,     0.17918,     0.18018,     0.18118,     0.18218,     0.18318,     0.18418,     0.18519,     0.18619,     0.18719,     0.18819,     0.18919,     0.19019,     0.19119,\n",
            "           0.19219,     0.19319,     0.19419,      0.1952,      0.1962,      0.1972,      0.1982,      0.1992,      0.2002,      0.2012,      0.2022,      0.2032,      0.2042,     0.20521,     0.20621,     0.20721,     0.20821,     0.20921,     0.21021,     0.21121,     0.21221,     0.21321,     0.21421,     0.21522,\n",
            "           0.21622,     0.21722,     0.21822,     0.21922,     0.22022,     0.22122,     0.22222,     0.22322,     0.22422,     0.22523,     0.22623,     0.22723,     0.22823,     0.22923,     0.23023,     0.23123,     0.23223,     0.23323,     0.23423,     0.23524,     0.23624,     0.23724,     0.23824,     0.23924,\n",
            "           0.24024,     0.24124,     0.24224,     0.24324,     0.24424,     0.24525,     0.24625,     0.24725,     0.24825,     0.24925,     0.25025,     0.25125,     0.25225,     0.25325,     0.25425,     0.25526,     0.25626,     0.25726,     0.25826,     0.25926,     0.26026,     0.26126,     0.26226,     0.26326,\n",
            "           0.26426,     0.26527,     0.26627,     0.26727,     0.26827,     0.26927,     0.27027,     0.27127,     0.27227,     0.27327,     0.27427,     0.27528,     0.27628,     0.27728,     0.27828,     0.27928,     0.28028,     0.28128,     0.28228,     0.28328,     0.28428,     0.28529,     0.28629,     0.28729,\n",
            "           0.28829,     0.28929,     0.29029,     0.29129,     0.29229,     0.29329,     0.29429,      0.2953,      0.2963,      0.2973,      0.2983,      0.2993,      0.3003,      0.3013,      0.3023,      0.3033,      0.3043,     0.30531,     0.30631,     0.30731,     0.30831,     0.30931,     0.31031,     0.31131,\n",
            "           0.31231,     0.31331,     0.31431,     0.31532,     0.31632,     0.31732,     0.31832,     0.31932,     0.32032,     0.32132,     0.32232,     0.32332,     0.32432,     0.32533,     0.32633,     0.32733,     0.32833,     0.32933,     0.33033,     0.33133,     0.33233,     0.33333,     0.33433,     0.33534,\n",
            "           0.33634,     0.33734,     0.33834,     0.33934,     0.34034,     0.34134,     0.34234,     0.34334,     0.34434,     0.34535,     0.34635,     0.34735,     0.34835,     0.34935,     0.35035,     0.35135,     0.35235,     0.35335,     0.35435,     0.35536,     0.35636,     0.35736,     0.35836,     0.35936,\n",
            "           0.36036,     0.36136,     0.36236,     0.36336,     0.36436,     0.36537,     0.36637,     0.36737,     0.36837,     0.36937,     0.37037,     0.37137,     0.37237,     0.37337,     0.37437,     0.37538,     0.37638,     0.37738,     0.37838,     0.37938,     0.38038,     0.38138,     0.38238,     0.38338,\n",
            "           0.38438,     0.38539,     0.38639,     0.38739,     0.38839,     0.38939,     0.39039,     0.39139,     0.39239,     0.39339,     0.39439,      0.3954,      0.3964,      0.3974,      0.3984,      0.3994,      0.4004,      0.4014,      0.4024,      0.4034,      0.4044,     0.40541,     0.40641,     0.40741,\n",
            "           0.40841,     0.40941,     0.41041,     0.41141,     0.41241,     0.41341,     0.41441,     0.41542,     0.41642,     0.41742,     0.41842,     0.41942,     0.42042,     0.42142,     0.42242,     0.42342,     0.42442,     0.42543,     0.42643,     0.42743,     0.42843,     0.42943,     0.43043,     0.43143,\n",
            "           0.43243,     0.43343,     0.43443,     0.43544,     0.43644,     0.43744,     0.43844,     0.43944,     0.44044,     0.44144,     0.44244,     0.44344,     0.44444,     0.44545,     0.44645,     0.44745,     0.44845,     0.44945,     0.45045,     0.45145,     0.45245,     0.45345,     0.45445,     0.45546,\n",
            "           0.45646,     0.45746,     0.45846,     0.45946,     0.46046,     0.46146,     0.46246,     0.46346,     0.46446,     0.46547,     0.46647,     0.46747,     0.46847,     0.46947,     0.47047,     0.47147,     0.47247,     0.47347,     0.47447,     0.47548,     0.47648,     0.47748,     0.47848,     0.47948,\n",
            "           0.48048,     0.48148,     0.48248,     0.48348,     0.48448,     0.48549,     0.48649,     0.48749,     0.48849,     0.48949,     0.49049,     0.49149,     0.49249,     0.49349,     0.49449,      0.4955,      0.4965,      0.4975,      0.4985,      0.4995,      0.5005,      0.5015,      0.5025,      0.5035,\n",
            "            0.5045,     0.50551,     0.50651,     0.50751,     0.50851,     0.50951,     0.51051,     0.51151,     0.51251,     0.51351,     0.51451,     0.51552,     0.51652,     0.51752,     0.51852,     0.51952,     0.52052,     0.52152,     0.52252,     0.52352,     0.52452,     0.52553,     0.52653,     0.52753,\n",
            "           0.52853,     0.52953,     0.53053,     0.53153,     0.53253,     0.53353,     0.53453,     0.53554,     0.53654,     0.53754,     0.53854,     0.53954,     0.54054,     0.54154,     0.54254,     0.54354,     0.54454,     0.54555,     0.54655,     0.54755,     0.54855,     0.54955,     0.55055,     0.55155,\n",
            "           0.55255,     0.55355,     0.55455,     0.55556,     0.55656,     0.55756,     0.55856,     0.55956,     0.56056,     0.56156,     0.56256,     0.56356,     0.56456,     0.56557,     0.56657,     0.56757,     0.56857,     0.56957,     0.57057,     0.57157,     0.57257,     0.57357,     0.57457,     0.57558,\n",
            "           0.57658,     0.57758,     0.57858,     0.57958,     0.58058,     0.58158,     0.58258,     0.58358,     0.58458,     0.58559,     0.58659,     0.58759,     0.58859,     0.58959,     0.59059,     0.59159,     0.59259,     0.59359,     0.59459,      0.5956,      0.5966,      0.5976,      0.5986,      0.5996,\n",
            "            0.6006,      0.6016,      0.6026,      0.6036,      0.6046,     0.60561,     0.60661,     0.60761,     0.60861,     0.60961,     0.61061,     0.61161,     0.61261,     0.61361,     0.61461,     0.61562,     0.61662,     0.61762,     0.61862,     0.61962,     0.62062,     0.62162,     0.62262,     0.62362,\n",
            "           0.62462,     0.62563,     0.62663,     0.62763,     0.62863,     0.62963,     0.63063,     0.63163,     0.63263,     0.63363,     0.63463,     0.63564,     0.63664,     0.63764,     0.63864,     0.63964,     0.64064,     0.64164,     0.64264,     0.64364,     0.64464,     0.64565,     0.64665,     0.64765,\n",
            "           0.64865,     0.64965,     0.65065,     0.65165,     0.65265,     0.65365,     0.65465,     0.65566,     0.65666,     0.65766,     0.65866,     0.65966,     0.66066,     0.66166,     0.66266,     0.66366,     0.66466,     0.66567,     0.66667,     0.66767,     0.66867,     0.66967,     0.67067,     0.67167,\n",
            "           0.67267,     0.67367,     0.67467,     0.67568,     0.67668,     0.67768,     0.67868,     0.67968,     0.68068,     0.68168,     0.68268,     0.68368,     0.68468,     0.68569,     0.68669,     0.68769,     0.68869,     0.68969,     0.69069,     0.69169,     0.69269,     0.69369,     0.69469,      0.6957,\n",
            "            0.6967,      0.6977,      0.6987,      0.6997,      0.7007,      0.7017,      0.7027,      0.7037,      0.7047,     0.70571,     0.70671,     0.70771,     0.70871,     0.70971,     0.71071,     0.71171,     0.71271,     0.71371,     0.71471,     0.71572,     0.71672,     0.71772,     0.71872,     0.71972,\n",
            "           0.72072,     0.72172,     0.72272,     0.72372,     0.72472,     0.72573,     0.72673,     0.72773,     0.72873,     0.72973,     0.73073,     0.73173,     0.73273,     0.73373,     0.73473,     0.73574,     0.73674,     0.73774,     0.73874,     0.73974,     0.74074,     0.74174,     0.74274,     0.74374,\n",
            "           0.74474,     0.74575,     0.74675,     0.74775,     0.74875,     0.74975,     0.75075,     0.75175,     0.75275,     0.75375,     0.75475,     0.75576,     0.75676,     0.75776,     0.75876,     0.75976,     0.76076,     0.76176,     0.76276,     0.76376,     0.76476,     0.76577,     0.76677,     0.76777,\n",
            "           0.76877,     0.76977,     0.77077,     0.77177,     0.77277,     0.77377,     0.77477,     0.77578,     0.77678,     0.77778,     0.77878,     0.77978,     0.78078,     0.78178,     0.78278,     0.78378,     0.78478,     0.78579,     0.78679,     0.78779,     0.78879,     0.78979,     0.79079,     0.79179,\n",
            "           0.79279,     0.79379,     0.79479,      0.7958,      0.7968,      0.7978,      0.7988,      0.7998,      0.8008,      0.8018,      0.8028,      0.8038,      0.8048,     0.80581,     0.80681,     0.80781,     0.80881,     0.80981,     0.81081,     0.81181,     0.81281,     0.81381,     0.81481,     0.81582,\n",
            "           0.81682,     0.81782,     0.81882,     0.81982,     0.82082,     0.82182,     0.82282,     0.82382,     0.82482,     0.82583,     0.82683,     0.82783,     0.82883,     0.82983,     0.83083,     0.83183,     0.83283,     0.83383,     0.83483,     0.83584,     0.83684,     0.83784,     0.83884,     0.83984,\n",
            "           0.84084,     0.84184,     0.84284,     0.84384,     0.84484,     0.84585,     0.84685,     0.84785,     0.84885,     0.84985,     0.85085,     0.85185,     0.85285,     0.85385,     0.85485,     0.85586,     0.85686,     0.85786,     0.85886,     0.85986,     0.86086,     0.86186,     0.86286,     0.86386,\n",
            "           0.86486,     0.86587,     0.86687,     0.86787,     0.86887,     0.86987,     0.87087,     0.87187,     0.87287,     0.87387,     0.87487,     0.87588,     0.87688,     0.87788,     0.87888,     0.87988,     0.88088,     0.88188,     0.88288,     0.88388,     0.88488,     0.88589,     0.88689,     0.88789,\n",
            "           0.88889,     0.88989,     0.89089,     0.89189,     0.89289,     0.89389,     0.89489,      0.8959,      0.8969,      0.8979,      0.8989,      0.8999,      0.9009,      0.9019,      0.9029,      0.9039,      0.9049,     0.90591,     0.90691,     0.90791,     0.90891,     0.90991,     0.91091,     0.91191,\n",
            "           0.91291,     0.91391,     0.91491,     0.91592,     0.91692,     0.91792,     0.91892,     0.91992,     0.92092,     0.92192,     0.92292,     0.92392,     0.92492,     0.92593,     0.92693,     0.92793,     0.92893,     0.92993,     0.93093,     0.93193,     0.93293,     0.93393,     0.93493,     0.93594,\n",
            "           0.93694,     0.93794,     0.93894,     0.93994,     0.94094,     0.94194,     0.94294,     0.94394,     0.94494,     0.94595,     0.94695,     0.94795,     0.94895,     0.94995,     0.95095,     0.95195,     0.95295,     0.95395,     0.95495,     0.95596,     0.95696,     0.95796,     0.95896,     0.95996,\n",
            "           0.96096,     0.96196,     0.96296,     0.96396,     0.96496,     0.96597,     0.96697,     0.96797,     0.96897,     0.96997,     0.97097,     0.97197,     0.97297,     0.97397,     0.97497,     0.97598,     0.97698,     0.97798,     0.97898,     0.97998,     0.98098,     0.98198,     0.98298,     0.98398,\n",
            "           0.98498,     0.98599,     0.98699,     0.98799,     0.98899,     0.98999,     0.99099,     0.99199,     0.99299,     0.99399,     0.99499,       0.996,       0.997,       0.998,       0.999,           1]), array([[    0.43478,     0.43478,     0.43478,     0.43478,     0.43478,     0.43478,     0.43478,     0.41304,     0.41304,      0.3913,      0.3913,      0.3913,     0.36957,     0.36957,     0.36957,     0.34783,     0.34783,     0.34783,     0.34783,     0.32609,     0.32609,     0.30435,     0.30435,\n",
            "            0.30435,     0.30435,     0.30435,     0.30435,     0.28678,     0.28261,     0.28261,     0.28261,     0.28261,     0.28261,     0.28261,     0.28261,     0.28261,     0.28261,     0.28261,     0.28261,     0.28261,     0.28261,     0.28261,     0.28261,     0.28261,     0.28261,     0.28261,\n",
            "            0.28261,     0.28261,     0.28261,     0.28261,     0.28261,     0.28261,     0.28261,     0.28261,     0.28261,     0.28261,     0.26087,     0.26087,     0.26087,     0.26087,     0.26087,     0.26087,     0.26087,     0.26087,     0.26087,     0.26087,     0.26087,     0.26087,     0.26087,\n",
            "            0.26087,     0.26087,     0.26087,     0.26087,     0.26087,     0.26087,     0.26087,     0.26087,     0.26087,     0.26087,     0.26087,     0.26087,     0.26087,     0.26087,     0.26087,     0.26087,     0.26087,     0.26087,     0.26087,     0.26087,     0.26087,     0.26087,     0.26087,\n",
            "            0.26087,     0.26087,     0.26087,     0.26087,     0.26087,     0.26087,     0.26087,     0.26087,     0.26087,     0.26087,     0.26087,     0.26087,     0.26087,     0.26087,     0.26087,     0.26087,     0.26087,     0.26087,     0.26087,     0.26087,     0.26087,     0.26087,     0.26087,\n",
            "            0.26087,     0.26087,     0.26087,     0.26087,     0.26087,     0.26087,     0.26087,     0.26087,     0.26087,     0.26087,     0.26087,     0.26087,     0.26087,     0.26087,     0.26087,     0.26087,     0.26087,     0.26087,     0.26087,     0.26087,     0.26087,     0.26087,     0.26087,\n",
            "            0.26087,     0.26087,     0.26087,     0.26087,     0.26087,     0.26087,     0.26087,     0.26087,     0.26087,     0.26087,     0.26087,     0.26087,     0.26087,     0.26087,     0.26087,     0.26087,     0.26087,     0.26087,     0.26087,     0.26087,     0.26087,     0.26087,     0.26087,\n",
            "            0.26087,     0.26087,     0.26087,     0.26087,     0.26087,     0.26087,     0.26087,     0.26087,     0.26087,     0.26087,     0.26087,     0.26087,     0.26087,     0.26087,     0.26087,     0.26008,     0.25922,     0.25836,      0.2575,     0.25664,     0.25579,     0.25493,     0.25407,\n",
            "            0.25321,     0.25235,      0.2515,     0.25064,     0.24978,     0.24892,     0.24806,     0.24721,     0.24635,     0.24549,     0.24463,     0.24377,     0.24292,     0.24206,      0.2412,     0.24034,     0.23949,     0.23913,     0.23913,     0.23913,     0.23913,     0.23913,     0.23913,\n",
            "            0.23913,     0.23913,     0.23913,     0.23913,     0.23913,     0.23913,     0.23913,     0.23913,     0.23913,     0.23913,     0.23913,     0.23913,     0.23913,     0.23913,     0.23913,     0.23913,     0.23586,     0.23062,     0.22538,     0.22014,     0.21739,     0.21739,     0.21739,\n",
            "            0.21739,     0.21739,     0.21739,     0.21739,     0.21739,     0.21739,     0.21739,     0.21739,     0.21739,     0.21739,     0.21739,     0.21739,     0.21739,     0.21739,     0.21739,     0.21739,     0.21739,     0.21739,     0.21739,     0.21739,     0.21739,     0.21739,     0.21623,\n",
            "            0.21256,     0.20888,      0.2052,     0.20152,     0.19784,     0.19565,     0.19565,     0.19565,     0.19565,     0.19565,     0.19565,      0.1938,     0.18919,     0.18458,     0.17998,     0.17537,     0.17391,     0.17391,     0.17391,     0.17391,     0.17391,     0.17391,     0.17391,\n",
            "            0.17391,     0.17391,     0.17391,     0.17391,     0.17391,     0.17391,     0.17391,     0.17391,     0.17391,     0.17391,     0.17391,     0.17391,     0.17391,     0.17391,     0.17391,     0.17391,     0.17391,     0.17391,     0.17391,     0.17391,     0.17391,     0.17345,     0.17231,\n",
            "            0.17117,     0.17002,     0.16888,     0.16774,     0.16659,     0.16545,     0.16431,     0.16317,     0.16202,     0.16088,     0.15974,     0.15859,     0.15745,     0.15631,     0.15516,     0.15402,     0.15288,     0.15171,      0.1505,     0.14928,     0.14807,     0.14686,     0.14565,\n",
            "            0.14444,     0.14322,     0.14201,      0.1408,     0.13959,     0.13838,     0.13716,     0.13595,     0.13474,     0.13353,     0.13232,     0.13111,     0.13043,     0.13043,     0.13043,     0.13043,     0.13043,     0.13043,     0.13043,     0.13043,     0.13043,     0.13043,     0.13043,\n",
            "            0.13043,     0.13043,     0.13043,     0.13043,     0.13043,     0.13043,     0.13043,     0.13043,     0.13043,     0.13043,     0.13043,     0.13043,     0.13043,     0.13043,     0.12647,     0.11209,      0.1087,      0.1087,      0.1087,      0.1087,      0.1087,      0.1087,      0.1087,\n",
            "             0.1087,      0.1087,      0.1087,      0.1087,      0.1087,      0.1087,      0.1087,      0.1087,      0.1087,      0.1087,      0.1087,      0.1087,     0.10862,     0.10829,     0.10797,     0.10764,     0.10731,     0.10698,     0.10666,     0.10633,       0.106,     0.10568,     0.10535,\n",
            "            0.10502,      0.1047,     0.10437,     0.10404,     0.10371,     0.10339,     0.10306,     0.10273,     0.10241,     0.10208,     0.10175,     0.10142,      0.1011,     0.10077,     0.10044,     0.10012,     0.09979,    0.099462,    0.099135,    0.098808,    0.098481,    0.098154,    0.097827,\n",
            "             0.0975,    0.097173,    0.096846,    0.096519,    0.096192,    0.095865,    0.095538,    0.095211,    0.094884,    0.094557,     0.09423,    0.093903,    0.093576,    0.093249,    0.092922,    0.092595,    0.092267,     0.09194,    0.091613,    0.091286,    0.090959,    0.090632,    0.090305,\n",
            "           0.089978,    0.089651,    0.089324,    0.088997,     0.08867,    0.088343,    0.088016,    0.087689,    0.087362,    0.087035,    0.086957,    0.086957,    0.086957,    0.086957,    0.086957,    0.086957,    0.086957,    0.086957,    0.086957,    0.086957,    0.086957,    0.086957,    0.086957,\n",
            "           0.086957,    0.086957,    0.086957,    0.086957,    0.086957,    0.086957,    0.086957,    0.086957,    0.086957,    0.086957,    0.086957,    0.086957,    0.086957,    0.086957,    0.086957,    0.086957,    0.086957,    0.086957,    0.086957,    0.086957,    0.086957,    0.086957,    0.086957,\n",
            "           0.086957,    0.086957,    0.086957,    0.086957,    0.086957,    0.086957,    0.086957,    0.086957,    0.086957,    0.086957,    0.086957,    0.086957,    0.086957,    0.086957,    0.086957,    0.086957,    0.086957,    0.086957,    0.086957,    0.086957,    0.086957,    0.086957,    0.086957,\n",
            "           0.086957,    0.086957,    0.086957,    0.086957,    0.086957,    0.086957,    0.086957,    0.086957,    0.086957,    0.086957,    0.086957,    0.086957,    0.086957,    0.086957,    0.086957,    0.086957,    0.086957,    0.086957,    0.086957,    0.086957,    0.086957,    0.086957,    0.086957,\n",
            "           0.086957,    0.086957,    0.086957,    0.086957,    0.086957,    0.086957,    0.086957,    0.086957,    0.086957,    0.086957,    0.086957,    0.086957,    0.086957,    0.086957,    0.086957,    0.086957,    0.086957,    0.086957,    0.086957,    0.086957,    0.086957,    0.086957,    0.086957,\n",
            "           0.086957,    0.086957,    0.086957,    0.086957,    0.086957,    0.086957,    0.086957,    0.086957,    0.086957,    0.086957,    0.086957,    0.086957,    0.086957,    0.086957,    0.086957,    0.086957,    0.086957,    0.086957,    0.086957,    0.086957,    0.086957,    0.086957,    0.086957,\n",
            "           0.086957,    0.086957,    0.086957,    0.086957,    0.086957,    0.086957,    0.086957,    0.086957,    0.086957,    0.086957,    0.086957,    0.086957,    0.086957,    0.086957,    0.086957,    0.086957,    0.086957,    0.086957,    0.086957,    0.086957,    0.086957,    0.086957,    0.086957,\n",
            "           0.086957,    0.086957,    0.086957,    0.086957,    0.086957,    0.086957,    0.086387,    0.085798,    0.085209,     0.08462,    0.084031,    0.083442,    0.082853,    0.082264,    0.081676,    0.081087,    0.080498,    0.079909,     0.07932,    0.078731,    0.078142,    0.077553,    0.076964,\n",
            "           0.076376,    0.075787,    0.075198,    0.074609,     0.07402,    0.073431,    0.072842,    0.072253,    0.071664,    0.071076,    0.070487,    0.069898,    0.069309,     0.06872,    0.068131,    0.067542,    0.066953,    0.066364,    0.065776,    0.065192,    0.064699,    0.064207,    0.063714,\n",
            "           0.063222,    0.062729,    0.062237,    0.061744,    0.061252,    0.060759,    0.060267,    0.059774,    0.059282,    0.058789,    0.058297,    0.057804,    0.057312,    0.056819,    0.056327,    0.055834,    0.055342,    0.054849,    0.054357,    0.053864,    0.053371,    0.052879,    0.052386,\n",
            "           0.051894,    0.051401,    0.050909,    0.050416,    0.049924,    0.049431,    0.048939,    0.048446,    0.047954,    0.047461,    0.046969,    0.046476,    0.045984,    0.045491,    0.044999,    0.044506,    0.044014,    0.043521,    0.042972,    0.042416,    0.041861,    0.041306,    0.040751,\n",
            "           0.040195,     0.03964,    0.039085,     0.03853,    0.037974,    0.037419,    0.036864,    0.036309,    0.035753,    0.035198,    0.034643,    0.034088,    0.033532,    0.032977,    0.032422,    0.031867,    0.031312,    0.030756,    0.030201,    0.029646,    0.029091,    0.028535,     0.02798,\n",
            "           0.027425,     0.02687,    0.026314,    0.025759,    0.025204,    0.024649,    0.024093,    0.023538,    0.022983,    0.022428,    0.021872,    0.021739,    0.021739,    0.021739,    0.021739,    0.021739,    0.021739,    0.021739,    0.021739,    0.021739,    0.021739,    0.021739,    0.021739,\n",
            "           0.021739,    0.021739,    0.021739,    0.021739,    0.021739,    0.021739,    0.021739,    0.021739,    0.021739,    0.021739,    0.021739,    0.021739,    0.021739,    0.021739,    0.021739,    0.021739,    0.021739,    0.021739,    0.021739,    0.021739,    0.021739,    0.021739,    0.021739,\n",
            "           0.021739,    0.021739,    0.021739,    0.021739,    0.021739,    0.021739,    0.021739,    0.021739,    0.021739,    0.021739,    0.021739,    0.021739,    0.021739,    0.021739,    0.021739,    0.021739,    0.021739,    0.021739,    0.021739,    0.021739,    0.021739,    0.021739,    0.021739,\n",
            "           0.021739,    0.021739,    0.021739,    0.021739,    0.021739,    0.021739,    0.021739,    0.021739,           0,           0,           0,           0,           0,           0,           0,           0,           0,           0,           0,           0,           0,           0,           0,\n",
            "                  0,           0,           0,           0,           0,           0,           0,           0,           0,           0,           0,           0,           0,           0,           0,           0,           0,           0,           0,           0,           0,           0,           0,\n",
            "                  0,           0,           0,           0,           0,           0,           0,           0,           0,           0,           0,           0,           0,           0,           0,           0,           0,           0,           0,           0,           0,           0,           0,\n",
            "                  0,           0,           0,           0,           0,           0,           0,           0,           0,           0,           0,           0,           0,           0,           0,           0,           0,           0,           0,           0,           0,           0,           0,\n",
            "                  0,           0,           0,           0,           0,           0,           0,           0,           0,           0,           0,           0,           0,           0,           0,           0,           0,           0,           0,           0,           0,           0,           0,\n",
            "                  0,           0,           0,           0,           0,           0,           0,           0,           0,           0,           0,           0,           0,           0,           0,           0,           0,           0,           0,           0,           0,           0,           0,\n",
            "                  0,           0,           0,           0,           0,           0,           0,           0,           0,           0,           0,           0,           0,           0,           0,           0,           0,           0,           0,           0,           0,           0,           0,\n",
            "                  0,           0,           0,           0,           0,           0,           0,           0,           0,           0,           0,           0,           0,           0,           0,           0,           0,           0,           0,           0,           0,           0,           0,\n",
            "                  0,           0,           0,           0,           0,           0,           0,           0,           0,           0,           0,           0,           0,           0,           0,           0,           0,           0,           0,           0,           0,           0,           0,\n",
            "                  0,           0,           0,           0,           0,           0,           0,           0,           0,           0,           0]]), 'Confidence', 'Recall']]\n",
            "fitness: np.float64(0.11785955500796719)\n",
            "keys: ['metrics/precision(B)', 'metrics/recall(B)', 'metrics/mAP50(B)', 'metrics/mAP50-95(B)']\n",
            "maps: array([    0.10988,     0.10988,     0.10988])\n",
            "names: {0: 'Guns', 1: 'Placards', 2: 'Sticks'}\n",
            "plot: True\n",
            "results_dict: {'metrics/precision(B)': np.float64(0.40960194812149087), 'metrics/recall(B)': np.float64(0.2608695652173913), 'metrics/mAP50(B)': np.float64(0.18963602046681338), 'metrics/mAP50-95(B)': np.float64(0.1098843921792065), 'fitness': np.float64(0.11785955500796719)}\n",
            "save_dir: PosixPath('runs/detect/val')\n",
            "speed: {'preprocess': 0.2616238571460729, 'inference': 15.19048214286808, 'loss': 0.001059428573820956, 'postprocess': 3.0929182857042696}\n",
            "task: 'detect'\n"
          ]
        }
      ]
    },
    {
      "cell_type": "markdown",
      "source": [
        "Checking Fights Accuracy"
      ],
      "metadata": {
        "id": "QsYDJ8rGX7P_"
      }
    },
    {
      "cell_type": "code",
      "source": [
        "from ultralytics import YOLO\n",
        "\n",
        "model = YOLO('/content/runs/detect/Fights/weights/best.pt')\n",
        "metrics = model.val()\n",
        "print(metrics)  # Contains precision, recall, mAP, etc.\n"
      ],
      "metadata": {
        "colab": {
          "base_uri": "https://localhost:8080/"
        },
        "id": "uGlocdBpX-tx",
        "outputId": "39c1bb2b-b78d-45ae-eb72-3dc449146007"
      },
      "execution_count": null,
      "outputs": [
        {
          "output_type": "stream",
          "name": "stdout",
          "text": [
            "Ultralytics 8.3.134 🚀 Python-3.11.12 torch-2.6.0+cu124 CUDA:0 (Tesla T4, 15095MiB)\n",
            "Model summary (fused): 72 layers, 3,005,843 parameters, 0 gradients, 8.1 GFLOPs\n",
            "\u001b[34m\u001b[1mval: \u001b[0mFast image access ✅ (ping: 0.0±0.0 ms, read: 894.9±436.0 MB/s, size: 40.8 KB)\n"
          ]
        },
        {
          "output_type": "stream",
          "name": "stderr",
          "text": [
            "\u001b[34m\u001b[1mval: \u001b[0mScanning /content/Fights/valid/labels.cache... 56 images, 0 backgrounds, 0 corrupt: 100%|██████████| 56/56 [00:00<?, ?it/s]\n",
            "                 Class     Images  Instances      Box(P          R      mAP50  mAP50-95): 100%|██████████| 4/4 [00:02<00:00,  1.94it/s]\n"
          ]
        },
        {
          "output_type": "stream",
          "name": "stdout",
          "text": [
            "                   all         56         56      0.828      0.821      0.853      0.475\n",
            "Speed: 4.8ms preprocess, 10.9ms inference, 0.0ms loss, 3.6ms postprocess per image\n",
            "Results saved to \u001b[1mruns/detect/val2\u001b[0m\n",
            "ultralytics.utils.metrics.DetMetrics object with attributes:\n",
            "\n",
            "ap_class_index: array([0])\n",
            "box: ultralytics.utils.metrics.Metric object\n",
            "confusion_matrix: <ultralytics.utils.metrics.ConfusionMatrix object at 0x7d5aa9430250>\n",
            "curves: ['Precision-Recall(B)', 'F1-Confidence(B)', 'Precision-Confidence(B)', 'Recall-Confidence(B)']\n",
            "curves_results: [[array([          0,    0.001001,    0.002002,    0.003003,    0.004004,    0.005005,    0.006006,    0.007007,    0.008008,    0.009009,     0.01001,    0.011011,    0.012012,    0.013013,    0.014014,    0.015015,    0.016016,    0.017017,    0.018018,    0.019019,     0.02002,    0.021021,    0.022022,    0.023023,\n",
            "          0.024024,    0.025025,    0.026026,    0.027027,    0.028028,    0.029029,     0.03003,    0.031031,    0.032032,    0.033033,    0.034034,    0.035035,    0.036036,    0.037037,    0.038038,    0.039039,     0.04004,    0.041041,    0.042042,    0.043043,    0.044044,    0.045045,    0.046046,    0.047047,\n",
            "          0.048048,    0.049049,     0.05005,    0.051051,    0.052052,    0.053053,    0.054054,    0.055055,    0.056056,    0.057057,    0.058058,    0.059059,     0.06006,    0.061061,    0.062062,    0.063063,    0.064064,    0.065065,    0.066066,    0.067067,    0.068068,    0.069069,     0.07007,    0.071071,\n",
            "          0.072072,    0.073073,    0.074074,    0.075075,    0.076076,    0.077077,    0.078078,    0.079079,     0.08008,    0.081081,    0.082082,    0.083083,    0.084084,    0.085085,    0.086086,    0.087087,    0.088088,    0.089089,     0.09009,    0.091091,    0.092092,    0.093093,    0.094094,    0.095095,\n",
            "          0.096096,    0.097097,    0.098098,    0.099099,      0.1001,      0.1011,      0.1021,      0.1031,      0.1041,     0.10511,     0.10611,     0.10711,     0.10811,     0.10911,     0.11011,     0.11111,     0.11211,     0.11311,     0.11411,     0.11512,     0.11612,     0.11712,     0.11812,     0.11912,\n",
            "           0.12012,     0.12112,     0.12212,     0.12312,     0.12412,     0.12513,     0.12613,     0.12713,     0.12813,     0.12913,     0.13013,     0.13113,     0.13213,     0.13313,     0.13413,     0.13514,     0.13614,     0.13714,     0.13814,     0.13914,     0.14014,     0.14114,     0.14214,     0.14314,\n",
            "           0.14414,     0.14515,     0.14615,     0.14715,     0.14815,     0.14915,     0.15015,     0.15115,     0.15215,     0.15315,     0.15415,     0.15516,     0.15616,     0.15716,     0.15816,     0.15916,     0.16016,     0.16116,     0.16216,     0.16316,     0.16416,     0.16517,     0.16617,     0.16717,\n",
            "           0.16817,     0.16917,     0.17017,     0.17117,     0.17217,     0.17317,     0.17417,     0.17518,     0.17618,     0.17718,     0.17818,     0.17918,     0.18018,     0.18118,     0.18218,     0.18318,     0.18418,     0.18519,     0.18619,     0.18719,     0.18819,     0.18919,     0.19019,     0.19119,\n",
            "           0.19219,     0.19319,     0.19419,      0.1952,      0.1962,      0.1972,      0.1982,      0.1992,      0.2002,      0.2012,      0.2022,      0.2032,      0.2042,     0.20521,     0.20621,     0.20721,     0.20821,     0.20921,     0.21021,     0.21121,     0.21221,     0.21321,     0.21421,     0.21522,\n",
            "           0.21622,     0.21722,     0.21822,     0.21922,     0.22022,     0.22122,     0.22222,     0.22322,     0.22422,     0.22523,     0.22623,     0.22723,     0.22823,     0.22923,     0.23023,     0.23123,     0.23223,     0.23323,     0.23423,     0.23524,     0.23624,     0.23724,     0.23824,     0.23924,\n",
            "           0.24024,     0.24124,     0.24224,     0.24324,     0.24424,     0.24525,     0.24625,     0.24725,     0.24825,     0.24925,     0.25025,     0.25125,     0.25225,     0.25325,     0.25425,     0.25526,     0.25626,     0.25726,     0.25826,     0.25926,     0.26026,     0.26126,     0.26226,     0.26326,\n",
            "           0.26426,     0.26527,     0.26627,     0.26727,     0.26827,     0.26927,     0.27027,     0.27127,     0.27227,     0.27327,     0.27427,     0.27528,     0.27628,     0.27728,     0.27828,     0.27928,     0.28028,     0.28128,     0.28228,     0.28328,     0.28428,     0.28529,     0.28629,     0.28729,\n",
            "           0.28829,     0.28929,     0.29029,     0.29129,     0.29229,     0.29329,     0.29429,      0.2953,      0.2963,      0.2973,      0.2983,      0.2993,      0.3003,      0.3013,      0.3023,      0.3033,      0.3043,     0.30531,     0.30631,     0.30731,     0.30831,     0.30931,     0.31031,     0.31131,\n",
            "           0.31231,     0.31331,     0.31431,     0.31532,     0.31632,     0.31732,     0.31832,     0.31932,     0.32032,     0.32132,     0.32232,     0.32332,     0.32432,     0.32533,     0.32633,     0.32733,     0.32833,     0.32933,     0.33033,     0.33133,     0.33233,     0.33333,     0.33433,     0.33534,\n",
            "           0.33634,     0.33734,     0.33834,     0.33934,     0.34034,     0.34134,     0.34234,     0.34334,     0.34434,     0.34535,     0.34635,     0.34735,     0.34835,     0.34935,     0.35035,     0.35135,     0.35235,     0.35335,     0.35435,     0.35536,     0.35636,     0.35736,     0.35836,     0.35936,\n",
            "           0.36036,     0.36136,     0.36236,     0.36336,     0.36436,     0.36537,     0.36637,     0.36737,     0.36837,     0.36937,     0.37037,     0.37137,     0.37237,     0.37337,     0.37437,     0.37538,     0.37638,     0.37738,     0.37838,     0.37938,     0.38038,     0.38138,     0.38238,     0.38338,\n",
            "           0.38438,     0.38539,     0.38639,     0.38739,     0.38839,     0.38939,     0.39039,     0.39139,     0.39239,     0.39339,     0.39439,      0.3954,      0.3964,      0.3974,      0.3984,      0.3994,      0.4004,      0.4014,      0.4024,      0.4034,      0.4044,     0.40541,     0.40641,     0.40741,\n",
            "           0.40841,     0.40941,     0.41041,     0.41141,     0.41241,     0.41341,     0.41441,     0.41542,     0.41642,     0.41742,     0.41842,     0.41942,     0.42042,     0.42142,     0.42242,     0.42342,     0.42442,     0.42543,     0.42643,     0.42743,     0.42843,     0.42943,     0.43043,     0.43143,\n",
            "           0.43243,     0.43343,     0.43443,     0.43544,     0.43644,     0.43744,     0.43844,     0.43944,     0.44044,     0.44144,     0.44244,     0.44344,     0.44444,     0.44545,     0.44645,     0.44745,     0.44845,     0.44945,     0.45045,     0.45145,     0.45245,     0.45345,     0.45445,     0.45546,\n",
            "           0.45646,     0.45746,     0.45846,     0.45946,     0.46046,     0.46146,     0.46246,     0.46346,     0.46446,     0.46547,     0.46647,     0.46747,     0.46847,     0.46947,     0.47047,     0.47147,     0.47247,     0.47347,     0.47447,     0.47548,     0.47648,     0.47748,     0.47848,     0.47948,\n",
            "           0.48048,     0.48148,     0.48248,     0.48348,     0.48448,     0.48549,     0.48649,     0.48749,     0.48849,     0.48949,     0.49049,     0.49149,     0.49249,     0.49349,     0.49449,      0.4955,      0.4965,      0.4975,      0.4985,      0.4995,      0.5005,      0.5015,      0.5025,      0.5035,\n",
            "            0.5045,     0.50551,     0.50651,     0.50751,     0.50851,     0.50951,     0.51051,     0.51151,     0.51251,     0.51351,     0.51451,     0.51552,     0.51652,     0.51752,     0.51852,     0.51952,     0.52052,     0.52152,     0.52252,     0.52352,     0.52452,     0.52553,     0.52653,     0.52753,\n",
            "           0.52853,     0.52953,     0.53053,     0.53153,     0.53253,     0.53353,     0.53453,     0.53554,     0.53654,     0.53754,     0.53854,     0.53954,     0.54054,     0.54154,     0.54254,     0.54354,     0.54454,     0.54555,     0.54655,     0.54755,     0.54855,     0.54955,     0.55055,     0.55155,\n",
            "           0.55255,     0.55355,     0.55455,     0.55556,     0.55656,     0.55756,     0.55856,     0.55956,     0.56056,     0.56156,     0.56256,     0.56356,     0.56456,     0.56557,     0.56657,     0.56757,     0.56857,     0.56957,     0.57057,     0.57157,     0.57257,     0.57357,     0.57457,     0.57558,\n",
            "           0.57658,     0.57758,     0.57858,     0.57958,     0.58058,     0.58158,     0.58258,     0.58358,     0.58458,     0.58559,     0.58659,     0.58759,     0.58859,     0.58959,     0.59059,     0.59159,     0.59259,     0.59359,     0.59459,      0.5956,      0.5966,      0.5976,      0.5986,      0.5996,\n",
            "            0.6006,      0.6016,      0.6026,      0.6036,      0.6046,     0.60561,     0.60661,     0.60761,     0.60861,     0.60961,     0.61061,     0.61161,     0.61261,     0.61361,     0.61461,     0.61562,     0.61662,     0.61762,     0.61862,     0.61962,     0.62062,     0.62162,     0.62262,     0.62362,\n",
            "           0.62462,     0.62563,     0.62663,     0.62763,     0.62863,     0.62963,     0.63063,     0.63163,     0.63263,     0.63363,     0.63463,     0.63564,     0.63664,     0.63764,     0.63864,     0.63964,     0.64064,     0.64164,     0.64264,     0.64364,     0.64464,     0.64565,     0.64665,     0.64765,\n",
            "           0.64865,     0.64965,     0.65065,     0.65165,     0.65265,     0.65365,     0.65465,     0.65566,     0.65666,     0.65766,     0.65866,     0.65966,     0.66066,     0.66166,     0.66266,     0.66366,     0.66466,     0.66567,     0.66667,     0.66767,     0.66867,     0.66967,     0.67067,     0.67167,\n",
            "           0.67267,     0.67367,     0.67467,     0.67568,     0.67668,     0.67768,     0.67868,     0.67968,     0.68068,     0.68168,     0.68268,     0.68368,     0.68468,     0.68569,     0.68669,     0.68769,     0.68869,     0.68969,     0.69069,     0.69169,     0.69269,     0.69369,     0.69469,      0.6957,\n",
            "            0.6967,      0.6977,      0.6987,      0.6997,      0.7007,      0.7017,      0.7027,      0.7037,      0.7047,     0.70571,     0.70671,     0.70771,     0.70871,     0.70971,     0.71071,     0.71171,     0.71271,     0.71371,     0.71471,     0.71572,     0.71672,     0.71772,     0.71872,     0.71972,\n",
            "           0.72072,     0.72172,     0.72272,     0.72372,     0.72472,     0.72573,     0.72673,     0.72773,     0.72873,     0.72973,     0.73073,     0.73173,     0.73273,     0.73373,     0.73473,     0.73574,     0.73674,     0.73774,     0.73874,     0.73974,     0.74074,     0.74174,     0.74274,     0.74374,\n",
            "           0.74474,     0.74575,     0.74675,     0.74775,     0.74875,     0.74975,     0.75075,     0.75175,     0.75275,     0.75375,     0.75475,     0.75576,     0.75676,     0.75776,     0.75876,     0.75976,     0.76076,     0.76176,     0.76276,     0.76376,     0.76476,     0.76577,     0.76677,     0.76777,\n",
            "           0.76877,     0.76977,     0.77077,     0.77177,     0.77277,     0.77377,     0.77477,     0.77578,     0.77678,     0.77778,     0.77878,     0.77978,     0.78078,     0.78178,     0.78278,     0.78378,     0.78478,     0.78579,     0.78679,     0.78779,     0.78879,     0.78979,     0.79079,     0.79179,\n",
            "           0.79279,     0.79379,     0.79479,      0.7958,      0.7968,      0.7978,      0.7988,      0.7998,      0.8008,      0.8018,      0.8028,      0.8038,      0.8048,     0.80581,     0.80681,     0.80781,     0.80881,     0.80981,     0.81081,     0.81181,     0.81281,     0.81381,     0.81481,     0.81582,\n",
            "           0.81682,     0.81782,     0.81882,     0.81982,     0.82082,     0.82182,     0.82282,     0.82382,     0.82482,     0.82583,     0.82683,     0.82783,     0.82883,     0.82983,     0.83083,     0.83183,     0.83283,     0.83383,     0.83483,     0.83584,     0.83684,     0.83784,     0.83884,     0.83984,\n",
            "           0.84084,     0.84184,     0.84284,     0.84384,     0.84484,     0.84585,     0.84685,     0.84785,     0.84885,     0.84985,     0.85085,     0.85185,     0.85285,     0.85385,     0.85485,     0.85586,     0.85686,     0.85786,     0.85886,     0.85986,     0.86086,     0.86186,     0.86286,     0.86386,\n",
            "           0.86486,     0.86587,     0.86687,     0.86787,     0.86887,     0.86987,     0.87087,     0.87187,     0.87287,     0.87387,     0.87487,     0.87588,     0.87688,     0.87788,     0.87888,     0.87988,     0.88088,     0.88188,     0.88288,     0.88388,     0.88488,     0.88589,     0.88689,     0.88789,\n",
            "           0.88889,     0.88989,     0.89089,     0.89189,     0.89289,     0.89389,     0.89489,      0.8959,      0.8969,      0.8979,      0.8989,      0.8999,      0.9009,      0.9019,      0.9029,      0.9039,      0.9049,     0.90591,     0.90691,     0.90791,     0.90891,     0.90991,     0.91091,     0.91191,\n",
            "           0.91291,     0.91391,     0.91491,     0.91592,     0.91692,     0.91792,     0.91892,     0.91992,     0.92092,     0.92192,     0.92292,     0.92392,     0.92492,     0.92593,     0.92693,     0.92793,     0.92893,     0.92993,     0.93093,     0.93193,     0.93293,     0.93393,     0.93493,     0.93594,\n",
            "           0.93694,     0.93794,     0.93894,     0.93994,     0.94094,     0.94194,     0.94294,     0.94394,     0.94494,     0.94595,     0.94695,     0.94795,     0.94895,     0.94995,     0.95095,     0.95195,     0.95295,     0.95395,     0.95495,     0.95596,     0.95696,     0.95796,     0.95896,     0.95996,\n",
            "           0.96096,     0.96196,     0.96296,     0.96396,     0.96496,     0.96597,     0.96697,     0.96797,     0.96897,     0.96997,     0.97097,     0.97197,     0.97297,     0.97397,     0.97497,     0.97598,     0.97698,     0.97798,     0.97898,     0.97998,     0.98098,     0.98198,     0.98298,     0.98398,\n",
            "           0.98498,     0.98599,     0.98699,     0.98799,     0.98899,     0.98999,     0.99099,     0.99199,     0.99299,     0.99399,     0.99499,       0.996,       0.997,       0.998,       0.999,           1]), array([[          1,           1,           1,           1,           1,           1,           1,           1,           1,           1,           1,           1,           1,           1,           1,           1,           1,           1,           1,           1,           1,           1,           1,\n",
            "                  1,           1,           1,           1,           1,           1,           1,           1,           1,           1,           1,           1,           1,           1,           1,           1,           1,           1,           1,           1,           1,           1,           1,\n",
            "                  1,           1,           1,           1,           1,           1,           1,           1,           1,           1,           1,           1,           1,           1,           1,           1,           1,           1,           1,           1,           1,           1,           1,\n",
            "                  1,           1,           1,           1,           1,           1,           1,           1,           1,           1,           1,           1,           1,           1,           1,           1,           1,           1,           1,           1,           1,           1,           1,\n",
            "                  1,           1,           1,           1,           1,           1,           1,           1,           1,           1,           1,           1,           1,           1,           1,           1,           1,           1,           1,           1,           1,           1,           1,\n",
            "                  1,           1,           1,           1,           1,           1,           1,           1,           1,           1,           1,           1,           1,           1,           1,           1,           1,           1,           1,           1,           1,           1,           1,\n",
            "                  1,           1,           1,           1,           1,           1,           1,           1,           1,           1,           1,           1,           1,           1,           1,           1,           1,           1,           1,           1,           1,           1,           1,\n",
            "                  1,           1,           1,           1,           1,           1,           1,           1,           1,           1,           1,           1,           1,           1,           1,           1,           1,           1,           1,           1,           1,           1,           1,\n",
            "                  1,           1,           1,           1,           1,           1,           1,           1,           1,           1,           1,           1,           1,           1,           1,           1,           1,           1,           1,           1,           1,           1,           1,\n",
            "                  1,           1,           1,           1,           1,           1,           1,           1,           1,           1,           1,           1,           1,           1,           1,           1,           1,           1,           1,           1,           1,           1,           1,\n",
            "                  1,           1,           1,           1,           1,           1,           1,           1,           1,           1,           1,           1,           1,           1,           1,           1,           1,           1,           1,           1,           1,           1,           1,\n",
            "                  1,           1,           1,           1,           1,           1,           1,           1,           1,           1,           1,           1,           1,           1,           1,           1,           1,           1,           1,           1,           1,           1,           1,\n",
            "                  1,           1,           1,           1,           1,           1,           1,           1,           1,           1,           1,           1,           1,           1,           1,           1,           1,           1,           1,           1,           1,           1,           1,\n",
            "                  1,           1,           1,           1,           1,           1,           1,           1,           1,           1,           1,           1,           1,           1,           1,           1,           1,           1,           1,           1,           1,           1,           1,\n",
            "               0.95,        0.95,        0.95,        0.95,        0.95,        0.95,        0.95,        0.95,        0.95,        0.95,        0.95,        0.95,        0.95,        0.95,        0.95,        0.95,        0.95,     0.93548,     0.93548,     0.93548,     0.93548,     0.93548,     0.93548,\n",
            "            0.93548,     0.93548,     0.93548,     0.93548,     0.93548,     0.93548,     0.93548,     0.93548,     0.93548,     0.93548,     0.93548,     0.93548,     0.93548,     0.93548,     0.93548,     0.93548,     0.93548,     0.93548,     0.93548,     0.93548,     0.93548,     0.93548,     0.93548,\n",
            "            0.93548,     0.93548,     0.93548,     0.93548,     0.93548,     0.93548,     0.93548,     0.93548,     0.93548,     0.93548,     0.93548,     0.93548,     0.93548,     0.93548,     0.93548,     0.93548,     0.93548,     0.93548,     0.93548,     0.93548,     0.93548,     0.93548,     0.93548,\n",
            "            0.93548,     0.93548,     0.93548,     0.93548,     0.93548,     0.93548,     0.93548,     0.93548,     0.93548,     0.93548,     0.93548,     0.93548,     0.93548,     0.93548,     0.93548,     0.93548,     0.93548,     0.93548,     0.93548,     0.93548,     0.93548,     0.93548,     0.93548,\n",
            "            0.93548,     0.93548,     0.93548,     0.93548,     0.93548,     0.93548,     0.93548,     0.93548,     0.93548,     0.93548,     0.93548,     0.93548,     0.93548,     0.93548,     0.93548,     0.93548,     0.93548,     0.93548,     0.93548,     0.93548,     0.93548,     0.93548,     0.93548,\n",
            "            0.93548,     0.93548,     0.93548,     0.93548,     0.93548,     0.93548,     0.93548,     0.93548,     0.93548,     0.93548,     0.93548,     0.93548,     0.93548,     0.93548,     0.93548,     0.93548,     0.93548,     0.93548,     0.93548,     0.93548,     0.93548,     0.93548,     0.93548,\n",
            "            0.93548,     0.93548,     0.93548,     0.93548,     0.93548,     0.93548,     0.93548,     0.93548,     0.93548,     0.93548,     0.93548,     0.93548,     0.93548,     0.93548,     0.93548,     0.93548,     0.93548,     0.93548,     0.93548,     0.93548,     0.93548,     0.93548,     0.93548,\n",
            "            0.93548,     0.93548,     0.93548,     0.93548,     0.93548,     0.93548,     0.93548,     0.93548,     0.93548,     0.93548,     0.93548,     0.93548,     0.93548,     0.93548,     0.93548,     0.93548,     0.93548,     0.93548,     0.93548,     0.93548,     0.93548,     0.93548,     0.93548,\n",
            "            0.93548,     0.93548,     0.93548,     0.93548,     0.93548,     0.93548,     0.93548,     0.93548,     0.93548,     0.93548,     0.93548,     0.93548,     0.91667,     0.91667,     0.91667,     0.91667,     0.91667,     0.91667,     0.91667,     0.91667,     0.91667,     0.91667,     0.91667,\n",
            "            0.91667,     0.91667,     0.91667,     0.91667,     0.91667,     0.91667,     0.91667,     0.91667,     0.91667,     0.91667,     0.91667,     0.91667,     0.91667,     0.91667,     0.91667,     0.91667,     0.91667,     0.91667,     0.91667,     0.91667,     0.91667,     0.91667,     0.91667,\n",
            "            0.91667,     0.91667,     0.91667,     0.91667,     0.91667,     0.91667,     0.91667,     0.91667,     0.91667,     0.91667,     0.91667,     0.91667,     0.91667,     0.91667,     0.91667,     0.91667,     0.91667,     0.91667,     0.91667,     0.91667,     0.91667,     0.91667,     0.91667,\n",
            "            0.91667,     0.91667,     0.91667,     0.91667,     0.91667,     0.91667,     0.91667,     0.91667,     0.91667,     0.91667,     0.91667,     0.91667,     0.91667,     0.91667,     0.87179,     0.87179,     0.87179,     0.87179,     0.87179,     0.87179,     0.87179,     0.87179,     0.87179,\n",
            "            0.87179,     0.87179,     0.87179,     0.87179,     0.87179,     0.87179,     0.87179,     0.87179,     0.87179,     0.84444,     0.84444,     0.84444,     0.84444,     0.84444,     0.84444,     0.84444,     0.84444,     0.84444,     0.84444,     0.84444,     0.84444,     0.84444,     0.84444,\n",
            "            0.84444,     0.84444,     0.84444,     0.84444,     0.84444,     0.84444,     0.84444,     0.84444,     0.84444,     0.84444,     0.84444,     0.84444,     0.84444,     0.84444,     0.84444,     0.84444,     0.84444,     0.84444,     0.84444,     0.84444,     0.84444,     0.84444,     0.84444,\n",
            "            0.84444,     0.84444,     0.84444,     0.84444,     0.84444,     0.84444,     0.84444,     0.84444,     0.84444,     0.84444,     0.84444,     0.84444,     0.84444,     0.84444,     0.84444,     0.84444,     0.84444,     0.84444,     0.84444,     0.84444,     0.84444,     0.84444,     0.84444,\n",
            "            0.84444,     0.84444,     0.84444,     0.84444,     0.84444,     0.84444,     0.84444,     0.84444,     0.84444,     0.84444,     0.84444,     0.83636,     0.83636,     0.83636,     0.83636,     0.83636,     0.83636,     0.83636,     0.83636,     0.83636,     0.83636,     0.83636,     0.83636,\n",
            "            0.83636,     0.83636,     0.83636,     0.83636,     0.83636,     0.83636,     0.83636,     0.83636,     0.83636,     0.83636,     0.83636,     0.83636,     0.83636,     0.83636,     0.83636,     0.83636,     0.83636,     0.83636,     0.83636,     0.83636,     0.83636,     0.83636,     0.83636,\n",
            "            0.83636,     0.83636,     0.83636,     0.83636,     0.83636,     0.83636,     0.83636,     0.83636,     0.83636,     0.83636,     0.83636,     0.83636,     0.83636,     0.83636,     0.83636,     0.83636,     0.83636,     0.83636,     0.83636,     0.83636,     0.83636,     0.83636,     0.83636,\n",
            "            0.83636,     0.83636,     0.83636,     0.83636,     0.83636,     0.83636,     0.83636,     0.83636,     0.83636,     0.83636,     0.83636,     0.83636,     0.83636,     0.83636,     0.83636,     0.83636,     0.83636,     0.83636,     0.83636,     0.83636,     0.83636,     0.83636,     0.83636,\n",
            "            0.83636,     0.83636,     0.83636,     0.83636,     0.83636,     0.83636,     0.83636,     0.83636,     0.83636,     0.83636,     0.83636,     0.83636,     0.83636,     0.83636,     0.83636,     0.83636,     0.83636,     0.83636,     0.83636,     0.83636,     0.83636,     0.83636,     0.83636,\n",
            "            0.83636,     0.83636,     0.83636,     0.83636,     0.83636,     0.83636,     0.83636,     0.83636,     0.83636,     0.83636,     0.83636,     0.83636,     0.83636,     0.83636,     0.83636,     0.83636,     0.83636,     0.83636,     0.83636,     0.83636,     0.83636,     0.83636,     0.83636,\n",
            "            0.83636,     0.83636,     0.83636,     0.83636,     0.83636,     0.83636,     0.83636,     0.83636,     0.83636,     0.83636,     0.83636,     0.83636,     0.83636,     0.83636,     0.83636,     0.83636,     0.81356,     0.81356,     0.81356,     0.81356,     0.81356,     0.81356,     0.81356,\n",
            "            0.81356,     0.81356,     0.81356,     0.81356,     0.81356,     0.81356,     0.81356,     0.81356,     0.81356,     0.81356,     0.81356,     0.81356,     0.81356,     0.81356,     0.81356,     0.81356,     0.81356,     0.81356,     0.81356,     0.81356,     0.81356,     0.81356,     0.81356,\n",
            "            0.81356,     0.81356,     0.81356,     0.81356,     0.81356,     0.81356,     0.77778,     0.77778,     0.77778,     0.77778,     0.77778,     0.77778,     0.77778,     0.77778,     0.77778,     0.77778,     0.77778,     0.77778,     0.77778,     0.77778,     0.77778,     0.77778,     0.77778,\n",
            "            0.77778,     0.72464,     0.72464,     0.72464,     0.72464,     0.72464,     0.72464,     0.72464,     0.72464,     0.72464,     0.72464,     0.72464,     0.72464,     0.72464,     0.72464,     0.72464,     0.72464,     0.72464,     0.66234,     0.66234,     0.66234,     0.66234,     0.66234,\n",
            "            0.66234,     0.66234,     0.66234,     0.66234,     0.66234,     0.66234,     0.66234,     0.66234,     0.66234,     0.66234,     0.66234,     0.66234,     0.66234,     0.47273,     0.47273,     0.47273,     0.47273,     0.47273,     0.47273,     0.47273,     0.47273,     0.47273,     0.47273,\n",
            "            0.47273,     0.47273,     0.47273,     0.47273,     0.47273,     0.47273,     0.47273,     0.47273,     0.33974,     0.33974,     0.33974,     0.33974,     0.33974,     0.33974,     0.33974,     0.33974,     0.33974,     0.33974,     0.33974,     0.33974,     0.33974,     0.33974,     0.33974,\n",
            "            0.33974,     0.33974,     0.33974,     0.10998,     0.10998,     0.10998,     0.10998,     0.10998,     0.10998,     0.10998,     0.10998,     0.10998,     0.10998,     0.10998,     0.10998,     0.10998,     0.10998,     0.10998,     0.10998,     0.10998,     0.10998,     0.10536,     0.10536,\n",
            "            0.10536,     0.10536,     0.10536,     0.10536,     0.10536,     0.10536,     0.10536,     0.10536,     0.10536,     0.10536,     0.10536,     0.10536,     0.10536,     0.10536,     0.10536,     0.10536,   0.0082617,   0.0077757,   0.0072898,   0.0068038,   0.0063178,   0.0058318,   0.0053458,\n",
            "          0.0048598,   0.0043739,   0.0038879,   0.0034019,   0.0029159,   0.0024299,   0.0019439,    0.001458,  0.00097197,  0.00048598,           0]]), 'Recall', 'Precision'], [array([          0,    0.001001,    0.002002,    0.003003,    0.004004,    0.005005,    0.006006,    0.007007,    0.008008,    0.009009,     0.01001,    0.011011,    0.012012,    0.013013,    0.014014,    0.015015,    0.016016,    0.017017,    0.018018,    0.019019,     0.02002,    0.021021,    0.022022,    0.023023,\n",
            "          0.024024,    0.025025,    0.026026,    0.027027,    0.028028,    0.029029,     0.03003,    0.031031,    0.032032,    0.033033,    0.034034,    0.035035,    0.036036,    0.037037,    0.038038,    0.039039,     0.04004,    0.041041,    0.042042,    0.043043,    0.044044,    0.045045,    0.046046,    0.047047,\n",
            "          0.048048,    0.049049,     0.05005,    0.051051,    0.052052,    0.053053,    0.054054,    0.055055,    0.056056,    0.057057,    0.058058,    0.059059,     0.06006,    0.061061,    0.062062,    0.063063,    0.064064,    0.065065,    0.066066,    0.067067,    0.068068,    0.069069,     0.07007,    0.071071,\n",
            "          0.072072,    0.073073,    0.074074,    0.075075,    0.076076,    0.077077,    0.078078,    0.079079,     0.08008,    0.081081,    0.082082,    0.083083,    0.084084,    0.085085,    0.086086,    0.087087,    0.088088,    0.089089,     0.09009,    0.091091,    0.092092,    0.093093,    0.094094,    0.095095,\n",
            "          0.096096,    0.097097,    0.098098,    0.099099,      0.1001,      0.1011,      0.1021,      0.1031,      0.1041,     0.10511,     0.10611,     0.10711,     0.10811,     0.10911,     0.11011,     0.11111,     0.11211,     0.11311,     0.11411,     0.11512,     0.11612,     0.11712,     0.11812,     0.11912,\n",
            "           0.12012,     0.12112,     0.12212,     0.12312,     0.12412,     0.12513,     0.12613,     0.12713,     0.12813,     0.12913,     0.13013,     0.13113,     0.13213,     0.13313,     0.13413,     0.13514,     0.13614,     0.13714,     0.13814,     0.13914,     0.14014,     0.14114,     0.14214,     0.14314,\n",
            "           0.14414,     0.14515,     0.14615,     0.14715,     0.14815,     0.14915,     0.15015,     0.15115,     0.15215,     0.15315,     0.15415,     0.15516,     0.15616,     0.15716,     0.15816,     0.15916,     0.16016,     0.16116,     0.16216,     0.16316,     0.16416,     0.16517,     0.16617,     0.16717,\n",
            "           0.16817,     0.16917,     0.17017,     0.17117,     0.17217,     0.17317,     0.17417,     0.17518,     0.17618,     0.17718,     0.17818,     0.17918,     0.18018,     0.18118,     0.18218,     0.18318,     0.18418,     0.18519,     0.18619,     0.18719,     0.18819,     0.18919,     0.19019,     0.19119,\n",
            "           0.19219,     0.19319,     0.19419,      0.1952,      0.1962,      0.1972,      0.1982,      0.1992,      0.2002,      0.2012,      0.2022,      0.2032,      0.2042,     0.20521,     0.20621,     0.20721,     0.20821,     0.20921,     0.21021,     0.21121,     0.21221,     0.21321,     0.21421,     0.21522,\n",
            "           0.21622,     0.21722,     0.21822,     0.21922,     0.22022,     0.22122,     0.22222,     0.22322,     0.22422,     0.22523,     0.22623,     0.22723,     0.22823,     0.22923,     0.23023,     0.23123,     0.23223,     0.23323,     0.23423,     0.23524,     0.23624,     0.23724,     0.23824,     0.23924,\n",
            "           0.24024,     0.24124,     0.24224,     0.24324,     0.24424,     0.24525,     0.24625,     0.24725,     0.24825,     0.24925,     0.25025,     0.25125,     0.25225,     0.25325,     0.25425,     0.25526,     0.25626,     0.25726,     0.25826,     0.25926,     0.26026,     0.26126,     0.26226,     0.26326,\n",
            "           0.26426,     0.26527,     0.26627,     0.26727,     0.26827,     0.26927,     0.27027,     0.27127,     0.27227,     0.27327,     0.27427,     0.27528,     0.27628,     0.27728,     0.27828,     0.27928,     0.28028,     0.28128,     0.28228,     0.28328,     0.28428,     0.28529,     0.28629,     0.28729,\n",
            "           0.28829,     0.28929,     0.29029,     0.29129,     0.29229,     0.29329,     0.29429,      0.2953,      0.2963,      0.2973,      0.2983,      0.2993,      0.3003,      0.3013,      0.3023,      0.3033,      0.3043,     0.30531,     0.30631,     0.30731,     0.30831,     0.30931,     0.31031,     0.31131,\n",
            "           0.31231,     0.31331,     0.31431,     0.31532,     0.31632,     0.31732,     0.31832,     0.31932,     0.32032,     0.32132,     0.32232,     0.32332,     0.32432,     0.32533,     0.32633,     0.32733,     0.32833,     0.32933,     0.33033,     0.33133,     0.33233,     0.33333,     0.33433,     0.33534,\n",
            "           0.33634,     0.33734,     0.33834,     0.33934,     0.34034,     0.34134,     0.34234,     0.34334,     0.34434,     0.34535,     0.34635,     0.34735,     0.34835,     0.34935,     0.35035,     0.35135,     0.35235,     0.35335,     0.35435,     0.35536,     0.35636,     0.35736,     0.35836,     0.35936,\n",
            "           0.36036,     0.36136,     0.36236,     0.36336,     0.36436,     0.36537,     0.36637,     0.36737,     0.36837,     0.36937,     0.37037,     0.37137,     0.37237,     0.37337,     0.37437,     0.37538,     0.37638,     0.37738,     0.37838,     0.37938,     0.38038,     0.38138,     0.38238,     0.38338,\n",
            "           0.38438,     0.38539,     0.38639,     0.38739,     0.38839,     0.38939,     0.39039,     0.39139,     0.39239,     0.39339,     0.39439,      0.3954,      0.3964,      0.3974,      0.3984,      0.3994,      0.4004,      0.4014,      0.4024,      0.4034,      0.4044,     0.40541,     0.40641,     0.40741,\n",
            "           0.40841,     0.40941,     0.41041,     0.41141,     0.41241,     0.41341,     0.41441,     0.41542,     0.41642,     0.41742,     0.41842,     0.41942,     0.42042,     0.42142,     0.42242,     0.42342,     0.42442,     0.42543,     0.42643,     0.42743,     0.42843,     0.42943,     0.43043,     0.43143,\n",
            "           0.43243,     0.43343,     0.43443,     0.43544,     0.43644,     0.43744,     0.43844,     0.43944,     0.44044,     0.44144,     0.44244,     0.44344,     0.44444,     0.44545,     0.44645,     0.44745,     0.44845,     0.44945,     0.45045,     0.45145,     0.45245,     0.45345,     0.45445,     0.45546,\n",
            "           0.45646,     0.45746,     0.45846,     0.45946,     0.46046,     0.46146,     0.46246,     0.46346,     0.46446,     0.46547,     0.46647,     0.46747,     0.46847,     0.46947,     0.47047,     0.47147,     0.47247,     0.47347,     0.47447,     0.47548,     0.47648,     0.47748,     0.47848,     0.47948,\n",
            "           0.48048,     0.48148,     0.48248,     0.48348,     0.48448,     0.48549,     0.48649,     0.48749,     0.48849,     0.48949,     0.49049,     0.49149,     0.49249,     0.49349,     0.49449,      0.4955,      0.4965,      0.4975,      0.4985,      0.4995,      0.5005,      0.5015,      0.5025,      0.5035,\n",
            "            0.5045,     0.50551,     0.50651,     0.50751,     0.50851,     0.50951,     0.51051,     0.51151,     0.51251,     0.51351,     0.51451,     0.51552,     0.51652,     0.51752,     0.51852,     0.51952,     0.52052,     0.52152,     0.52252,     0.52352,     0.52452,     0.52553,     0.52653,     0.52753,\n",
            "           0.52853,     0.52953,     0.53053,     0.53153,     0.53253,     0.53353,     0.53453,     0.53554,     0.53654,     0.53754,     0.53854,     0.53954,     0.54054,     0.54154,     0.54254,     0.54354,     0.54454,     0.54555,     0.54655,     0.54755,     0.54855,     0.54955,     0.55055,     0.55155,\n",
            "           0.55255,     0.55355,     0.55455,     0.55556,     0.55656,     0.55756,     0.55856,     0.55956,     0.56056,     0.56156,     0.56256,     0.56356,     0.56456,     0.56557,     0.56657,     0.56757,     0.56857,     0.56957,     0.57057,     0.57157,     0.57257,     0.57357,     0.57457,     0.57558,\n",
            "           0.57658,     0.57758,     0.57858,     0.57958,     0.58058,     0.58158,     0.58258,     0.58358,     0.58458,     0.58559,     0.58659,     0.58759,     0.58859,     0.58959,     0.59059,     0.59159,     0.59259,     0.59359,     0.59459,      0.5956,      0.5966,      0.5976,      0.5986,      0.5996,\n",
            "            0.6006,      0.6016,      0.6026,      0.6036,      0.6046,     0.60561,     0.60661,     0.60761,     0.60861,     0.60961,     0.61061,     0.61161,     0.61261,     0.61361,     0.61461,     0.61562,     0.61662,     0.61762,     0.61862,     0.61962,     0.62062,     0.62162,     0.62262,     0.62362,\n",
            "           0.62462,     0.62563,     0.62663,     0.62763,     0.62863,     0.62963,     0.63063,     0.63163,     0.63263,     0.63363,     0.63463,     0.63564,     0.63664,     0.63764,     0.63864,     0.63964,     0.64064,     0.64164,     0.64264,     0.64364,     0.64464,     0.64565,     0.64665,     0.64765,\n",
            "           0.64865,     0.64965,     0.65065,     0.65165,     0.65265,     0.65365,     0.65465,     0.65566,     0.65666,     0.65766,     0.65866,     0.65966,     0.66066,     0.66166,     0.66266,     0.66366,     0.66466,     0.66567,     0.66667,     0.66767,     0.66867,     0.66967,     0.67067,     0.67167,\n",
            "           0.67267,     0.67367,     0.67467,     0.67568,     0.67668,     0.67768,     0.67868,     0.67968,     0.68068,     0.68168,     0.68268,     0.68368,     0.68468,     0.68569,     0.68669,     0.68769,     0.68869,     0.68969,     0.69069,     0.69169,     0.69269,     0.69369,     0.69469,      0.6957,\n",
            "            0.6967,      0.6977,      0.6987,      0.6997,      0.7007,      0.7017,      0.7027,      0.7037,      0.7047,     0.70571,     0.70671,     0.70771,     0.70871,     0.70971,     0.71071,     0.71171,     0.71271,     0.71371,     0.71471,     0.71572,     0.71672,     0.71772,     0.71872,     0.71972,\n",
            "           0.72072,     0.72172,     0.72272,     0.72372,     0.72472,     0.72573,     0.72673,     0.72773,     0.72873,     0.72973,     0.73073,     0.73173,     0.73273,     0.73373,     0.73473,     0.73574,     0.73674,     0.73774,     0.73874,     0.73974,     0.74074,     0.74174,     0.74274,     0.74374,\n",
            "           0.74474,     0.74575,     0.74675,     0.74775,     0.74875,     0.74975,     0.75075,     0.75175,     0.75275,     0.75375,     0.75475,     0.75576,     0.75676,     0.75776,     0.75876,     0.75976,     0.76076,     0.76176,     0.76276,     0.76376,     0.76476,     0.76577,     0.76677,     0.76777,\n",
            "           0.76877,     0.76977,     0.77077,     0.77177,     0.77277,     0.77377,     0.77477,     0.77578,     0.77678,     0.77778,     0.77878,     0.77978,     0.78078,     0.78178,     0.78278,     0.78378,     0.78478,     0.78579,     0.78679,     0.78779,     0.78879,     0.78979,     0.79079,     0.79179,\n",
            "           0.79279,     0.79379,     0.79479,      0.7958,      0.7968,      0.7978,      0.7988,      0.7998,      0.8008,      0.8018,      0.8028,      0.8038,      0.8048,     0.80581,     0.80681,     0.80781,     0.80881,     0.80981,     0.81081,     0.81181,     0.81281,     0.81381,     0.81481,     0.81582,\n",
            "           0.81682,     0.81782,     0.81882,     0.81982,     0.82082,     0.82182,     0.82282,     0.82382,     0.82482,     0.82583,     0.82683,     0.82783,     0.82883,     0.82983,     0.83083,     0.83183,     0.83283,     0.83383,     0.83483,     0.83584,     0.83684,     0.83784,     0.83884,     0.83984,\n",
            "           0.84084,     0.84184,     0.84284,     0.84384,     0.84484,     0.84585,     0.84685,     0.84785,     0.84885,     0.84985,     0.85085,     0.85185,     0.85285,     0.85385,     0.85485,     0.85586,     0.85686,     0.85786,     0.85886,     0.85986,     0.86086,     0.86186,     0.86286,     0.86386,\n",
            "           0.86486,     0.86587,     0.86687,     0.86787,     0.86887,     0.86987,     0.87087,     0.87187,     0.87287,     0.87387,     0.87487,     0.87588,     0.87688,     0.87788,     0.87888,     0.87988,     0.88088,     0.88188,     0.88288,     0.88388,     0.88488,     0.88589,     0.88689,     0.88789,\n",
            "           0.88889,     0.88989,     0.89089,     0.89189,     0.89289,     0.89389,     0.89489,      0.8959,      0.8969,      0.8979,      0.8989,      0.8999,      0.9009,      0.9019,      0.9029,      0.9039,      0.9049,     0.90591,     0.90691,     0.90791,     0.90891,     0.90991,     0.91091,     0.91191,\n",
            "           0.91291,     0.91391,     0.91491,     0.91592,     0.91692,     0.91792,     0.91892,     0.91992,     0.92092,     0.92192,     0.92292,     0.92392,     0.92492,     0.92593,     0.92693,     0.92793,     0.92893,     0.92993,     0.93093,     0.93193,     0.93293,     0.93393,     0.93493,     0.93594,\n",
            "           0.93694,     0.93794,     0.93894,     0.93994,     0.94094,     0.94194,     0.94294,     0.94394,     0.94494,     0.94595,     0.94695,     0.94795,     0.94895,     0.94995,     0.95095,     0.95195,     0.95295,     0.95395,     0.95495,     0.95596,     0.95696,     0.95796,     0.95896,     0.95996,\n",
            "           0.96096,     0.96196,     0.96296,     0.96396,     0.96496,     0.96597,     0.96697,     0.96797,     0.96897,     0.96997,     0.97097,     0.97197,     0.97297,     0.97397,     0.97497,     0.97598,     0.97698,     0.97798,     0.97898,     0.97998,     0.98098,     0.98198,     0.98298,     0.98398,\n",
            "           0.98498,     0.98599,     0.98699,     0.98799,     0.98899,     0.98999,     0.99099,     0.99199,     0.99299,     0.99399,     0.99499,       0.996,       0.997,       0.998,       0.999,           1]), array([[   0.017187,    0.017227,    0.099165,     0.15056,      0.1889,     0.21367,     0.23877,     0.26188,     0.28099,     0.29782,     0.30729,     0.31823,     0.33217,     0.33887,     0.34729,     0.36058,     0.37192,     0.38683,     0.40137,     0.41589,     0.42591,     0.43306,     0.43442,\n",
            "            0.44775,     0.45852,     0.46549,     0.47293,     0.48199,     0.48399,     0.48888,     0.48935,     0.48981,     0.49028,      0.4908,     0.49622,     0.49743,      0.4953,      0.4965,      0.4978,     0.50011,     0.50171,     0.50416,     0.50732,     0.51108,     0.51592,     0.52311,\n",
            "            0.52452,     0.52947,     0.53487,     0.53971,     0.54179,     0.54604,     0.55039,     0.55111,     0.55183,     0.55255,     0.55333,     0.55467,     0.55601,     0.55704,     0.55802,     0.55901,     0.56244,     0.56573,     0.56948,     0.57154,      0.5744,     0.57779,     0.57933,\n",
            "            0.58087,     0.58705,     0.59314,     0.59911,      0.6012,     0.60173,     0.60226,     0.60279,     0.60332,     0.60385,     0.60438,     0.60486,     0.60528,     0.60571,     0.60614,     0.60656,     0.60699,     0.60741,     0.60784,     0.60835,     0.60922,     0.61009,     0.61096,\n",
            "            0.61235,      0.6229,     0.62524,      0.6234,     0.62806,     0.63366,     0.63416,     0.63466,     0.63516,     0.63565,     0.63615,     0.63664,     0.63714,     0.63768,     0.63833,     0.63899,     0.63964,     0.64029,     0.64095,     0.64253,     0.65234,     0.65478,     0.65615,\n",
            "            0.65751,     0.65915,     0.66098,     0.66303,     0.66571,     0.66855,     0.67147,     0.67436,     0.67594,     0.67666,     0.67738,      0.6781,     0.67882,     0.67954,     0.68022,     0.68082,     0.68143,     0.68204,     0.68264,     0.68325,     0.68385,     0.68445,     0.68553,\n",
            "            0.68672,     0.68791,     0.68909,      0.6987,     0.69893,     0.69916,     0.69939,     0.69962,     0.69984,     0.70007,      0.7003,     0.70053,     0.70076,     0.70099,     0.70122,     0.70144,     0.70167,      0.7019,     0.70213,     0.70236,     0.70258,     0.70281,     0.70304,\n",
            "            0.70327,     0.70383,     0.70575,     0.70766,     0.70858,     0.70896,     0.70933,     0.70971,     0.71009,     0.71047,     0.71084,     0.71122,     0.71159,     0.71197,     0.71235,     0.71272,      0.7131,     0.71358,     0.71418,     0.71477,     0.71536,     0.71596,     0.71655,\n",
            "            0.71714,     0.71773,     0.71833,     0.71917,     0.72001,     0.72084,     0.72168,     0.72251,     0.72335,     0.72379,      0.7242,     0.72461,     0.72502,     0.72543,     0.72584,     0.72625,     0.72665,     0.72706,     0.72747,     0.72788,     0.72829,     0.72902,     0.73051,\n",
            "              0.732,     0.73349,     0.73652,     0.74085,     0.74493,     0.74579,     0.74664,     0.74749,     0.74834,     0.74919,     0.75019,     0.75395,     0.75608,     0.75701,     0.75794,     0.75886,     0.75978,      0.7607,     0.76217,     0.76425,     0.76632,     0.76567,      0.7639,\n",
            "            0.76214,     0.76037,      0.7586,     0.75804,     0.75913,     0.76022,     0.76131,      0.7624,     0.76388,     0.76837,     0.77066,     0.77243,      0.7742,     0.78736,      0.7885,     0.78959,     0.79068,     0.79177,     0.79286,     0.79394,     0.79503,     0.79611,     0.79719,\n",
            "            0.79827,     0.79935,       0.799,     0.79647,     0.79393,     0.79139,     0.79163,     0.79386,     0.79608,     0.79723,     0.79791,     0.79859,     0.79926,     0.79994,     0.80062,     0.80129,     0.80197,     0.80264,     0.80332,     0.80407,     0.80483,     0.80558,     0.80633,\n",
            "            0.80708,     0.80782,     0.80857,     0.80932,     0.81076,     0.81512,     0.81551,     0.82079,     0.82332,     0.82583,     0.82789,     0.82892,     0.82995,     0.83098,     0.83201,     0.83303,     0.83405,     0.82738,     0.82194,       0.819,     0.81605,     0.81449,     0.81541,\n",
            "            0.81633,     0.81724,     0.81816,     0.81907,     0.81998,     0.82089,     0.82147,     0.82159,      0.8217,     0.82182,     0.82193,     0.82205,     0.82216,     0.82228,     0.82239,      0.8225,     0.82262,     0.82273,     0.82285,     0.82296,     0.82307,     0.82319,      0.8233,\n",
            "            0.82342,     0.82353,     0.82364,     0.82376,     0.82387,     0.82399,      0.8241,     0.82421,     0.82433,     0.82444,     0.82456,     0.82467,     0.82478,      0.8249,     0.82501,     0.82512,     0.82524,     0.82535,     0.82546,     0.82558,     0.82569,      0.8258,     0.82592,\n",
            "            0.82603,     0.82614,     0.82626,     0.82637,     0.82648,      0.8266,     0.82671,     0.82682,     0.82694,     0.82705,     0.82716,     0.82727,     0.82739,      0.8275,     0.82761,     0.82773,     0.82784,     0.82795,     0.82806,     0.82818,     0.82829,      0.8284,     0.82851,\n",
            "            0.82863,     0.82874,     0.82864,     0.82769,     0.82675,     0.82581,     0.82486,     0.82391,     0.82296,     0.82202,     0.82107,     0.82011,     0.81916,     0.81821,     0.81744,     0.81668,     0.81592,     0.81516,      0.8144,     0.81363,     0.81287,      0.8121,     0.81134,\n",
            "            0.81057,      0.8098,     0.80904,     0.80827,      0.8075,     0.80341,     0.79842,     0.79596,     0.79539,     0.79481,     0.79423,     0.79365,     0.79307,     0.79249,      0.7919,     0.79132,     0.79074,     0.79016,     0.78958,     0.78899,     0.78841,     0.78783,     0.78724,\n",
            "            0.78666,     0.78607,     0.78549,     0.78485,     0.78406,     0.78327,     0.78248,     0.78169,      0.7809,     0.78011,     0.77931,     0.77852,     0.77773,     0.77693,     0.77614,     0.77534,     0.77454,     0.77374,     0.77008,     0.76568,     0.76184,     0.76138,     0.76092,\n",
            "            0.76046,        0.76,     0.75954,     0.75907,     0.75861,     0.75815,     0.75769,     0.75723,     0.75676,      0.7563,     0.75584,     0.75538,     0.75491,     0.75445,     0.75399,     0.75352,     0.75306,     0.75259,     0.75213,     0.75166,      0.7512,     0.75073,     0.75027,\n",
            "            0.73802,     0.73872,     0.73942,     0.74012,     0.74082,     0.74151,     0.74221,      0.7429,     0.74359,     0.74428,     0.74497,     0.74575,     0.74655,     0.74735,     0.74814,     0.74894,     0.74973,     0.75052,     0.75131,     0.75209,     0.75032,     0.74612,     0.74191,\n",
            "            0.73673,     0.73074,     0.72542,     0.72105,     0.71665,     0.71292,     0.70998,     0.70702,     0.70406,     0.70108,     0.70152,     0.70201,      0.7025,       0.703,     0.70349,     0.70398,     0.70447,     0.70496,     0.70544,     0.70593,     0.70642,      0.7069,     0.70738,\n",
            "            0.70787,     0.70838,     0.70991,     0.71144,     0.71295,     0.71446,     0.71567,     0.71463,     0.71359,     0.71255,     0.71151,     0.71047,     0.70942,     0.70838,     0.70733,     0.70628,     0.70523,     0.70418,     0.70312,     0.70219,     0.70332,     0.70444,     0.70556,\n",
            "            0.70667,     0.70778,     0.70888,     0.71005,     0.71143,     0.71279,     0.71414,     0.71549,     0.71683,     0.71581,     0.71308,     0.71033,     0.70757,      0.7048,     0.69378,     0.68828,     0.68748,     0.68668,     0.68588,     0.68508,     0.68428,     0.68348,     0.68268,\n",
            "            0.68187,     0.68107,     0.68026,     0.67946,     0.67865,     0.67784,     0.67703,     0.67622,     0.67541,      0.6746,     0.67397,     0.67355,     0.67314,     0.67272,     0.67231,     0.67189,     0.67147,     0.67106,     0.67064,     0.67022,      0.6698,     0.66939,     0.66897,\n",
            "            0.66855,     0.66813,     0.66771,     0.66729,     0.66687,     0.66645,     0.66604,     0.66562,      0.6652,     0.66478,     0.66435,     0.66393,     0.66351,     0.66309,     0.66267,     0.66225,     0.66183,      0.6614,     0.66098,     0.66056,     0.66014,     0.65971,     0.65929,\n",
            "            0.65997,     0.66161,     0.66324,     0.66486,     0.66646,     0.66174,     0.65603,     0.65055,     0.64654,     0.64251,     0.63845,     0.63489,      0.6331,      0.6313,      0.6295,     0.62769,     0.62588,     0.62407,     0.62225,     0.62043,     0.61838,     0.61561,     0.61283,\n",
            "            0.61005,     0.60725,     0.60445,     0.60206,     0.60077,     0.59949,      0.5982,     0.59692,     0.59563,     0.59433,     0.59304,     0.59174,     0.59044,     0.58914,     0.58784,     0.58654,     0.58424,     0.57344,     0.56748,     0.56663,     0.56577,     0.56491,     0.56405,\n",
            "            0.56319,     0.56234,     0.56147,     0.56061,     0.55975,     0.55889,     0.55802,     0.55716,     0.55629,     0.55542,     0.55456,     0.55369,     0.55282,     0.55195,     0.55107,      0.5502,     0.54046,     0.53087,     0.52824,     0.52561,     0.52296,     0.52031,     0.51765,\n",
            "            0.51498,     0.51213,     0.50853,      0.5049,     0.50126,     0.49761,     0.49394,     0.49892,     0.49762,     0.49632,     0.49502,     0.49371,     0.49241,      0.4911,     0.48979,     0.48847,     0.48716,     0.48584,     0.48452,      0.4832,     0.48188,     0.48055,     0.48041,\n",
            "             0.4811,     0.48178,     0.48246,     0.48313,     0.48379,     0.48445,     0.48511,     0.48576,      0.4864,     0.48591,     0.48524,     0.48457,     0.48391,     0.48324,     0.48257,      0.4819,     0.48123,     0.48056,     0.47989,     0.47921,     0.47854,     0.47787,     0.47719,\n",
            "            0.47652,     0.47585,     0.47517,     0.47449,     0.47382,     0.47314,     0.47246,     0.47178,      0.4711,     0.47042,     0.46974,     0.46906,     0.46838,      0.4677,     0.46702,     0.46633,     0.46499,     0.46003,     0.45503,        0.45,     0.44494,     0.44084,     0.43682,\n",
            "            0.43278,     0.42872,     0.42464,     0.41908,     0.41192,     0.40471,     0.39823,     0.39321,     0.38815,     0.38306,     0.37794,     0.37152,     0.36469,     0.35781,     0.35017,     0.34082,     0.33137,     0.31974,     0.30698,     0.29863,     0.29225,     0.28582,     0.27934,\n",
            "            0.27298,     0.26669,     0.26034,     0.25395,      0.2486,     0.24494,     0.24127,     0.23759,     0.23389,     0.23017,     0.22644,     0.22269,     0.21596,     0.20876,      0.2015,     0.19418,     0.19264,     0.19165,     0.19066,     0.18966,     0.18867,     0.18767,     0.18667,\n",
            "            0.18567,     0.18467,     0.18367,     0.18267,     0.18167,     0.18066,     0.17966,     0.17865,     0.17764,     0.17663,     0.17562,     0.17461,      0.1736,     0.17259,     0.17157,     0.17056,     0.16954,     0.16852,      0.1675,     0.16648,     0.16546,     0.16444,     0.15921,\n",
            "            0.14979,     0.14027,     0.13236,     0.12886,     0.12534,     0.12181,     0.11827,     0.11471,     0.11114,     0.10756,     0.10396,     0.10129,     0.10018,    0.099079,    0.097974,    0.096868,     0.09576,    0.094651,    0.093541,     0.09243,    0.091317,    0.090203,    0.089088,\n",
            "           0.087971,    0.086853,    0.085734,    0.084613,    0.083491,    0.082368,    0.081244,    0.080118,    0.078991,    0.077862,    0.076732,    0.075601,    0.074469,    0.073335,      0.0722,    0.071063,    0.069925,    0.068413,    0.064889,    0.061353,    0.057804,    0.054242,    0.050667,\n",
            "           0.047079,    0.043477,    0.039862,    0.036234,           0,           0,           0,           0,           0,           0,           0,           0,           0,           0,           0,           0,           0,           0,           0,           0,           0,           0,           0,\n",
            "                  0,           0,           0,           0,           0,           0,           0,           0,           0,           0,           0,           0,           0,           0,           0,           0,           0,           0,           0,           0,           0,           0,           0,\n",
            "                  0,           0,           0,           0,           0,           0,           0,           0,           0,           0,           0,           0,           0,           0,           0,           0,           0,           0,           0,           0,           0,           0,           0,\n",
            "                  0,           0,           0,           0,           0,           0,           0,           0,           0,           0,           0,           0,           0,           0,           0,           0,           0,           0,           0,           0,           0,           0,           0,\n",
            "                  0,           0,           0,           0,           0,           0,           0,           0,           0,           0,           0,           0,           0,           0,           0,           0,           0,           0,           0,           0,           0,           0,           0,\n",
            "                  0,           0,           0,           0,           0,           0,           0,           0,           0,           0,           0,           0,           0,           0,           0,           0,           0,           0,           0,           0,           0,           0,           0,\n",
            "                  0,           0,           0,           0,           0,           0,           0,           0,           0,           0,           0]]), 'Confidence', 'F1'], [array([          0,    0.001001,    0.002002,    0.003003,    0.004004,    0.005005,    0.006006,    0.007007,    0.008008,    0.009009,     0.01001,    0.011011,    0.012012,    0.013013,    0.014014,    0.015015,    0.016016,    0.017017,    0.018018,    0.019019,     0.02002,    0.021021,    0.022022,    0.023023,\n",
            "          0.024024,    0.025025,    0.026026,    0.027027,    0.028028,    0.029029,     0.03003,    0.031031,    0.032032,    0.033033,    0.034034,    0.035035,    0.036036,    0.037037,    0.038038,    0.039039,     0.04004,    0.041041,    0.042042,    0.043043,    0.044044,    0.045045,    0.046046,    0.047047,\n",
            "          0.048048,    0.049049,     0.05005,    0.051051,    0.052052,    0.053053,    0.054054,    0.055055,    0.056056,    0.057057,    0.058058,    0.059059,     0.06006,    0.061061,    0.062062,    0.063063,    0.064064,    0.065065,    0.066066,    0.067067,    0.068068,    0.069069,     0.07007,    0.071071,\n",
            "          0.072072,    0.073073,    0.074074,    0.075075,    0.076076,    0.077077,    0.078078,    0.079079,     0.08008,    0.081081,    0.082082,    0.083083,    0.084084,    0.085085,    0.086086,    0.087087,    0.088088,    0.089089,     0.09009,    0.091091,    0.092092,    0.093093,    0.094094,    0.095095,\n",
            "          0.096096,    0.097097,    0.098098,    0.099099,      0.1001,      0.1011,      0.1021,      0.1031,      0.1041,     0.10511,     0.10611,     0.10711,     0.10811,     0.10911,     0.11011,     0.11111,     0.11211,     0.11311,     0.11411,     0.11512,     0.11612,     0.11712,     0.11812,     0.11912,\n",
            "           0.12012,     0.12112,     0.12212,     0.12312,     0.12412,     0.12513,     0.12613,     0.12713,     0.12813,     0.12913,     0.13013,     0.13113,     0.13213,     0.13313,     0.13413,     0.13514,     0.13614,     0.13714,     0.13814,     0.13914,     0.14014,     0.14114,     0.14214,     0.14314,\n",
            "           0.14414,     0.14515,     0.14615,     0.14715,     0.14815,     0.14915,     0.15015,     0.15115,     0.15215,     0.15315,     0.15415,     0.15516,     0.15616,     0.15716,     0.15816,     0.15916,     0.16016,     0.16116,     0.16216,     0.16316,     0.16416,     0.16517,     0.16617,     0.16717,\n",
            "           0.16817,     0.16917,     0.17017,     0.17117,     0.17217,     0.17317,     0.17417,     0.17518,     0.17618,     0.17718,     0.17818,     0.17918,     0.18018,     0.18118,     0.18218,     0.18318,     0.18418,     0.18519,     0.18619,     0.18719,     0.18819,     0.18919,     0.19019,     0.19119,\n",
            "           0.19219,     0.19319,     0.19419,      0.1952,      0.1962,      0.1972,      0.1982,      0.1992,      0.2002,      0.2012,      0.2022,      0.2032,      0.2042,     0.20521,     0.20621,     0.20721,     0.20821,     0.20921,     0.21021,     0.21121,     0.21221,     0.21321,     0.21421,     0.21522,\n",
            "           0.21622,     0.21722,     0.21822,     0.21922,     0.22022,     0.22122,     0.22222,     0.22322,     0.22422,     0.22523,     0.22623,     0.22723,     0.22823,     0.22923,     0.23023,     0.23123,     0.23223,     0.23323,     0.23423,     0.23524,     0.23624,     0.23724,     0.23824,     0.23924,\n",
            "           0.24024,     0.24124,     0.24224,     0.24324,     0.24424,     0.24525,     0.24625,     0.24725,     0.24825,     0.24925,     0.25025,     0.25125,     0.25225,     0.25325,     0.25425,     0.25526,     0.25626,     0.25726,     0.25826,     0.25926,     0.26026,     0.26126,     0.26226,     0.26326,\n",
            "           0.26426,     0.26527,     0.26627,     0.26727,     0.26827,     0.26927,     0.27027,     0.27127,     0.27227,     0.27327,     0.27427,     0.27528,     0.27628,     0.27728,     0.27828,     0.27928,     0.28028,     0.28128,     0.28228,     0.28328,     0.28428,     0.28529,     0.28629,     0.28729,\n",
            "           0.28829,     0.28929,     0.29029,     0.29129,     0.29229,     0.29329,     0.29429,      0.2953,      0.2963,      0.2973,      0.2983,      0.2993,      0.3003,      0.3013,      0.3023,      0.3033,      0.3043,     0.30531,     0.30631,     0.30731,     0.30831,     0.30931,     0.31031,     0.31131,\n",
            "           0.31231,     0.31331,     0.31431,     0.31532,     0.31632,     0.31732,     0.31832,     0.31932,     0.32032,     0.32132,     0.32232,     0.32332,     0.32432,     0.32533,     0.32633,     0.32733,     0.32833,     0.32933,     0.33033,     0.33133,     0.33233,     0.33333,     0.33433,     0.33534,\n",
            "           0.33634,     0.33734,     0.33834,     0.33934,     0.34034,     0.34134,     0.34234,     0.34334,     0.34434,     0.34535,     0.34635,     0.34735,     0.34835,     0.34935,     0.35035,     0.35135,     0.35235,     0.35335,     0.35435,     0.35536,     0.35636,     0.35736,     0.35836,     0.35936,\n",
            "           0.36036,     0.36136,     0.36236,     0.36336,     0.36436,     0.36537,     0.36637,     0.36737,     0.36837,     0.36937,     0.37037,     0.37137,     0.37237,     0.37337,     0.37437,     0.37538,     0.37638,     0.37738,     0.37838,     0.37938,     0.38038,     0.38138,     0.38238,     0.38338,\n",
            "           0.38438,     0.38539,     0.38639,     0.38739,     0.38839,     0.38939,     0.39039,     0.39139,     0.39239,     0.39339,     0.39439,      0.3954,      0.3964,      0.3974,      0.3984,      0.3994,      0.4004,      0.4014,      0.4024,      0.4034,      0.4044,     0.40541,     0.40641,     0.40741,\n",
            "           0.40841,     0.40941,     0.41041,     0.41141,     0.41241,     0.41341,     0.41441,     0.41542,     0.41642,     0.41742,     0.41842,     0.41942,     0.42042,     0.42142,     0.42242,     0.42342,     0.42442,     0.42543,     0.42643,     0.42743,     0.42843,     0.42943,     0.43043,     0.43143,\n",
            "           0.43243,     0.43343,     0.43443,     0.43544,     0.43644,     0.43744,     0.43844,     0.43944,     0.44044,     0.44144,     0.44244,     0.44344,     0.44444,     0.44545,     0.44645,     0.44745,     0.44845,     0.44945,     0.45045,     0.45145,     0.45245,     0.45345,     0.45445,     0.45546,\n",
            "           0.45646,     0.45746,     0.45846,     0.45946,     0.46046,     0.46146,     0.46246,     0.46346,     0.46446,     0.46547,     0.46647,     0.46747,     0.46847,     0.46947,     0.47047,     0.47147,     0.47247,     0.47347,     0.47447,     0.47548,     0.47648,     0.47748,     0.47848,     0.47948,\n",
            "           0.48048,     0.48148,     0.48248,     0.48348,     0.48448,     0.48549,     0.48649,     0.48749,     0.48849,     0.48949,     0.49049,     0.49149,     0.49249,     0.49349,     0.49449,      0.4955,      0.4965,      0.4975,      0.4985,      0.4995,      0.5005,      0.5015,      0.5025,      0.5035,\n",
            "            0.5045,     0.50551,     0.50651,     0.50751,     0.50851,     0.50951,     0.51051,     0.51151,     0.51251,     0.51351,     0.51451,     0.51552,     0.51652,     0.51752,     0.51852,     0.51952,     0.52052,     0.52152,     0.52252,     0.52352,     0.52452,     0.52553,     0.52653,     0.52753,\n",
            "           0.52853,     0.52953,     0.53053,     0.53153,     0.53253,     0.53353,     0.53453,     0.53554,     0.53654,     0.53754,     0.53854,     0.53954,     0.54054,     0.54154,     0.54254,     0.54354,     0.54454,     0.54555,     0.54655,     0.54755,     0.54855,     0.54955,     0.55055,     0.55155,\n",
            "           0.55255,     0.55355,     0.55455,     0.55556,     0.55656,     0.55756,     0.55856,     0.55956,     0.56056,     0.56156,     0.56256,     0.56356,     0.56456,     0.56557,     0.56657,     0.56757,     0.56857,     0.56957,     0.57057,     0.57157,     0.57257,     0.57357,     0.57457,     0.57558,\n",
            "           0.57658,     0.57758,     0.57858,     0.57958,     0.58058,     0.58158,     0.58258,     0.58358,     0.58458,     0.58559,     0.58659,     0.58759,     0.58859,     0.58959,     0.59059,     0.59159,     0.59259,     0.59359,     0.59459,      0.5956,      0.5966,      0.5976,      0.5986,      0.5996,\n",
            "            0.6006,      0.6016,      0.6026,      0.6036,      0.6046,     0.60561,     0.60661,     0.60761,     0.60861,     0.60961,     0.61061,     0.61161,     0.61261,     0.61361,     0.61461,     0.61562,     0.61662,     0.61762,     0.61862,     0.61962,     0.62062,     0.62162,     0.62262,     0.62362,\n",
            "           0.62462,     0.62563,     0.62663,     0.62763,     0.62863,     0.62963,     0.63063,     0.63163,     0.63263,     0.63363,     0.63463,     0.63564,     0.63664,     0.63764,     0.63864,     0.63964,     0.64064,     0.64164,     0.64264,     0.64364,     0.64464,     0.64565,     0.64665,     0.64765,\n",
            "           0.64865,     0.64965,     0.65065,     0.65165,     0.65265,     0.65365,     0.65465,     0.65566,     0.65666,     0.65766,     0.65866,     0.65966,     0.66066,     0.66166,     0.66266,     0.66366,     0.66466,     0.66567,     0.66667,     0.66767,     0.66867,     0.66967,     0.67067,     0.67167,\n",
            "           0.67267,     0.67367,     0.67467,     0.67568,     0.67668,     0.67768,     0.67868,     0.67968,     0.68068,     0.68168,     0.68268,     0.68368,     0.68468,     0.68569,     0.68669,     0.68769,     0.68869,     0.68969,     0.69069,     0.69169,     0.69269,     0.69369,     0.69469,      0.6957,\n",
            "            0.6967,      0.6977,      0.6987,      0.6997,      0.7007,      0.7017,      0.7027,      0.7037,      0.7047,     0.70571,     0.70671,     0.70771,     0.70871,     0.70971,     0.71071,     0.71171,     0.71271,     0.71371,     0.71471,     0.71572,     0.71672,     0.71772,     0.71872,     0.71972,\n",
            "           0.72072,     0.72172,     0.72272,     0.72372,     0.72472,     0.72573,     0.72673,     0.72773,     0.72873,     0.72973,     0.73073,     0.73173,     0.73273,     0.73373,     0.73473,     0.73574,     0.73674,     0.73774,     0.73874,     0.73974,     0.74074,     0.74174,     0.74274,     0.74374,\n",
            "           0.74474,     0.74575,     0.74675,     0.74775,     0.74875,     0.74975,     0.75075,     0.75175,     0.75275,     0.75375,     0.75475,     0.75576,     0.75676,     0.75776,     0.75876,     0.75976,     0.76076,     0.76176,     0.76276,     0.76376,     0.76476,     0.76577,     0.76677,     0.76777,\n",
            "           0.76877,     0.76977,     0.77077,     0.77177,     0.77277,     0.77377,     0.77477,     0.77578,     0.77678,     0.77778,     0.77878,     0.77978,     0.78078,     0.78178,     0.78278,     0.78378,     0.78478,     0.78579,     0.78679,     0.78779,     0.78879,     0.78979,     0.79079,     0.79179,\n",
            "           0.79279,     0.79379,     0.79479,      0.7958,      0.7968,      0.7978,      0.7988,      0.7998,      0.8008,      0.8018,      0.8028,      0.8038,      0.8048,     0.80581,     0.80681,     0.80781,     0.80881,     0.80981,     0.81081,     0.81181,     0.81281,     0.81381,     0.81481,     0.81582,\n",
            "           0.81682,     0.81782,     0.81882,     0.81982,     0.82082,     0.82182,     0.82282,     0.82382,     0.82482,     0.82583,     0.82683,     0.82783,     0.82883,     0.82983,     0.83083,     0.83183,     0.83283,     0.83383,     0.83483,     0.83584,     0.83684,     0.83784,     0.83884,     0.83984,\n",
            "           0.84084,     0.84184,     0.84284,     0.84384,     0.84484,     0.84585,     0.84685,     0.84785,     0.84885,     0.84985,     0.85085,     0.85185,     0.85285,     0.85385,     0.85485,     0.85586,     0.85686,     0.85786,     0.85886,     0.85986,     0.86086,     0.86186,     0.86286,     0.86386,\n",
            "           0.86486,     0.86587,     0.86687,     0.86787,     0.86887,     0.86987,     0.87087,     0.87187,     0.87287,     0.87387,     0.87487,     0.87588,     0.87688,     0.87788,     0.87888,     0.87988,     0.88088,     0.88188,     0.88288,     0.88388,     0.88488,     0.88589,     0.88689,     0.88789,\n",
            "           0.88889,     0.88989,     0.89089,     0.89189,     0.89289,     0.89389,     0.89489,      0.8959,      0.8969,      0.8979,      0.8989,      0.8999,      0.9009,      0.9019,      0.9029,      0.9039,      0.9049,     0.90591,     0.90691,     0.90791,     0.90891,     0.90991,     0.91091,     0.91191,\n",
            "           0.91291,     0.91391,     0.91491,     0.91592,     0.91692,     0.91792,     0.91892,     0.91992,     0.92092,     0.92192,     0.92292,     0.92392,     0.92492,     0.92593,     0.92693,     0.92793,     0.92893,     0.92993,     0.93093,     0.93193,     0.93293,     0.93393,     0.93493,     0.93594,\n",
            "           0.93694,     0.93794,     0.93894,     0.93994,     0.94094,     0.94194,     0.94294,     0.94394,     0.94494,     0.94595,     0.94695,     0.94795,     0.94895,     0.94995,     0.95095,     0.95195,     0.95295,     0.95395,     0.95495,     0.95596,     0.95696,     0.95796,     0.95896,     0.95996,\n",
            "           0.96096,     0.96196,     0.96296,     0.96396,     0.96496,     0.96597,     0.96697,     0.96797,     0.96897,     0.96997,     0.97097,     0.97197,     0.97297,     0.97397,     0.97497,     0.97598,     0.97698,     0.97798,     0.97898,     0.97998,     0.98098,     0.98198,     0.98298,     0.98398,\n",
            "           0.98498,     0.98599,     0.98699,     0.98799,     0.98899,     0.98999,     0.99099,     0.99199,     0.99299,     0.99399,     0.99499,       0.996,       0.997,       0.998,       0.999,           1]), array([[  0.0086696,     0.00869,    0.052219,    0.081531,     0.10471,     0.12043,     0.13662,     0.15196,     0.16498,     0.17671,     0.18342,     0.19127,     0.20144,     0.20638,     0.21267,     0.22272,     0.23144,     0.24309,     0.25469,      0.2665,     0.27478,     0.28076,     0.28191,\n",
            "            0.29324,     0.30255,     0.30864,     0.31522,     0.32332,     0.32513,     0.32956,     0.32998,      0.3304,     0.33083,     0.33131,     0.33626,     0.33738,     0.33772,     0.33884,     0.34004,     0.34221,     0.34371,     0.34601,     0.34899,     0.35256,     0.35719,     0.36412,\n",
            "            0.36549,     0.37031,     0.37562,      0.3804,     0.38247,     0.38673,      0.3911,     0.39183,     0.39256,     0.39329,     0.39408,     0.39544,     0.39681,     0.39785,     0.39886,     0.39987,     0.40339,     0.40678,     0.41067,     0.41282,      0.4158,     0.41937,     0.42099,\n",
            "            0.42262,     0.42919,     0.43573,     0.44221,      0.4445,     0.44508,     0.44566,     0.44623,     0.44681,     0.44739,     0.44797,      0.4485,     0.44897,     0.44944,     0.44991,     0.45038,     0.45085,     0.45132,     0.45179,     0.45235,     0.45332,     0.45428,     0.45525,\n",
            "            0.45679,     0.46863,     0.47199,      0.4739,      0.4793,     0.48586,     0.48644,     0.48703,     0.48762,      0.4882,     0.48879,     0.48937,     0.48996,      0.4906,     0.49137,     0.49215,     0.49292,      0.4937,     0.49448,     0.49636,     0.50817,     0.51114,     0.51281,\n",
            "            0.51447,     0.51648,     0.51874,     0.52126,     0.52459,     0.52813,     0.53177,     0.53541,      0.5374,     0.53831,     0.53922,     0.54014,     0.54105,     0.54197,     0.54283,      0.5436,     0.54438,     0.54515,     0.54592,      0.5467,     0.54747,     0.54824,     0.54963,\n",
            "            0.55116,     0.55269,     0.55422,     0.56676,     0.56706,     0.56736,     0.56766,     0.56796,     0.56827,     0.56857,     0.56887,     0.56917,     0.56947,     0.56977,     0.57008,     0.57038,     0.57068,     0.57098,     0.57128,     0.57159,     0.57189,     0.57219,     0.57249,\n",
            "            0.57279,     0.57354,      0.5761,     0.57865,     0.57987,     0.58038,     0.58089,     0.58139,      0.5819,     0.58241,     0.58291,     0.58342,     0.58392,     0.58443,     0.58494,     0.58544,     0.58595,      0.5866,     0.58741,     0.58821,     0.58902,     0.58982,     0.59063,\n",
            "            0.59143,     0.59224,     0.59305,      0.5942,     0.59534,     0.59649,     0.59763,     0.59878,     0.59992,     0.60053,     0.60109,     0.60166,     0.60222,     0.60279,     0.60335,     0.60392,     0.60448,     0.60505,     0.60561,     0.60618,     0.60675,     0.60776,     0.60984,\n",
            "            0.61192,       0.614,     0.61827,     0.62439,     0.63021,     0.63143,     0.63266,     0.63388,     0.63511,     0.63634,     0.63777,     0.64323,     0.64634,      0.6477,     0.64905,     0.65041,     0.65177,     0.65312,     0.65528,     0.65836,     0.66144,     0.66174,      0.6609,\n",
            "            0.66006,     0.65922,     0.65838,     0.65859,     0.66024,      0.6619,     0.66355,     0.66521,     0.66747,     0.67435,     0.67789,     0.68064,     0.68338,     0.70417,     0.70598,     0.70773,     0.70949,     0.71124,       0.713,     0.71476,     0.71652,     0.71828,     0.72005,\n",
            "            0.72181,     0.72357,     0.72422,     0.72316,     0.72209,     0.72103,     0.72276,     0.72649,     0.73022,     0.73215,      0.7333,     0.73445,     0.73559,     0.73674,     0.73789,     0.73904,     0.74019,     0.74134,      0.7425,     0.74378,     0.74507,     0.74636,     0.74765,\n",
            "            0.74894,     0.75023,     0.75152,      0.7528,      0.7553,      0.7629,     0.77773,      0.7874,     0.79206,     0.79672,     0.80057,      0.8025,     0.80444,     0.80637,      0.8083,     0.81023,     0.81216,     0.81123,      0.8095,     0.80856,     0.80762,     0.80767,     0.80948,\n",
            "            0.81129,      0.8131,     0.81491,     0.81672,     0.81854,     0.82035,     0.82152,     0.82175,     0.82198,     0.82221,     0.82244,     0.82267,      0.8229,     0.82312,     0.82335,     0.82358,     0.82381,     0.82404,     0.82427,      0.8245,     0.82473,     0.82496,     0.82519,\n",
            "            0.82542,     0.82564,     0.82587,      0.8261,     0.82633,     0.82656,     0.82679,     0.82702,     0.82725,     0.82748,     0.82771,     0.82793,     0.82816,     0.82839,     0.82862,     0.82885,     0.82908,     0.82931,     0.82954,     0.82977,        0.83,     0.83023,     0.83045,\n",
            "            0.83068,     0.83091,     0.83114,     0.83137,      0.8316,     0.83183,     0.83206,     0.83229,     0.83252,     0.83275,     0.83297,      0.8332,     0.83343,     0.83366,     0.83389,     0.83412,     0.83435,     0.83458,     0.83481,     0.83504,     0.83527,     0.83549,     0.83572,\n",
            "            0.83595,     0.83618,     0.83631,     0.83604,     0.83577,      0.8355,     0.83523,     0.83496,     0.83469,     0.83442,     0.83415,     0.83388,     0.83361,     0.83334,     0.83312,      0.8329,     0.83267,     0.83245,     0.83223,     0.83201,     0.83179,     0.83157,     0.83134,\n",
            "            0.83112,      0.8309,     0.83068,     0.83046,     0.83023,     0.82902,     0.82755,     0.82682,     0.82665,     0.82647,      0.8263,     0.82612,     0.82594,     0.82577,     0.82559,     0.82542,     0.82524,     0.82507,     0.82489,     0.82471,     0.82454,     0.82436,     0.82419,\n",
            "            0.82401,     0.82384,     0.82366,     0.82347,     0.82322,     0.82298,     0.82274,     0.82249,     0.82225,       0.822,     0.82176,     0.82151,     0.82127,     0.82103,     0.82078,     0.82054,     0.82029,     0.82005,     0.81889,     0.81751,      0.8163,     0.81616,     0.81601,\n",
            "            0.81586,     0.81571,     0.81556,     0.81541,     0.81526,     0.81511,     0.81497,     0.81482,     0.81467,     0.81452,     0.81437,     0.81422,     0.81407,     0.81392,     0.81378,     0.81363,     0.81348,     0.81333,     0.81318,     0.81303,     0.81288,     0.81273,     0.81259,\n",
            "            0.80889,     0.81058,     0.81227,     0.81395,     0.81564,     0.81733,     0.81901,      0.8207,     0.82239,     0.82408,     0.82576,     0.82768,     0.82966,     0.83163,     0.83361,     0.83558,     0.83756,     0.83954,     0.84151,     0.84349,     0.84383,     0.84264,     0.84145,\n",
            "            0.83995,     0.83821,     0.83665,     0.83534,     0.83404,     0.83291,     0.83201,      0.8311,     0.83019,     0.82928,     0.83063,     0.83202,      0.8334,     0.83479,     0.83618,     0.83756,     0.83895,     0.84034,     0.84172,     0.84311,      0.8445,     0.84588,     0.84727,\n",
            "            0.84866,     0.85014,     0.85457,       0.859,     0.86343,     0.86786,     0.87177,     0.87151,     0.87125,     0.87099,     0.87073,     0.87047,     0.87022,     0.86996,      0.8697,     0.86944,     0.86918,     0.86892,     0.86866,     0.86862,     0.87208,     0.87554,       0.879,\n",
            "            0.88246,     0.88592,     0.88938,     0.89308,     0.89743,     0.90178,     0.90613,     0.91048,     0.91483,      0.9164,     0.91593,     0.91547,       0.915,     0.91454,     0.91261,     0.91165,     0.91151,     0.91136,     0.91121,     0.91107,     0.91092,     0.91078,     0.91063,\n",
            "            0.91048,     0.91034,     0.91019,     0.91005,      0.9099,     0.90975,     0.90961,     0.90946,     0.90932,     0.90917,     0.90906,     0.90898,      0.9089,     0.90882,     0.90874,     0.90866,     0.90858,      0.9085,     0.90842,     0.90834,     0.90826,     0.90819,     0.90811,\n",
            "            0.90803,     0.90795,     0.90787,     0.90779,     0.90771,     0.90763,     0.90755,     0.90747,     0.90739,     0.90732,     0.90724,     0.90716,     0.90708,       0.907,     0.90692,     0.90684,     0.90676,     0.90668,      0.9066,     0.90652,     0.90645,     0.90637,     0.90629,\n",
            "            0.90956,     0.91584,     0.92212,     0.92839,     0.93467,      0.9348,       0.934,     0.93324,     0.93266,     0.93207,     0.93149,     0.93097,      0.9307,     0.93042,     0.93015,     0.92988,      0.9296,     0.92933,     0.92905,     0.92878,     0.92846,     0.92802,     0.92758,\n",
            "            0.92713,     0.92669,     0.92625,     0.92587,     0.92565,     0.92543,     0.92522,       0.925,     0.92478,     0.92457,     0.92435,     0.92414,     0.92392,      0.9237,     0.92349,     0.92327,     0.92288,     0.92097,     0.91992,     0.91976,      0.9196,     0.91944,     0.91928,\n",
            "            0.91912,     0.91896,     0.91879,     0.91863,     0.91847,     0.91831,     0.91815,     0.91799,     0.91783,     0.91767,     0.91751,     0.91735,     0.91719,     0.91703,     0.91686,      0.9167,     0.91477,     0.91288,     0.91232,     0.91177,     0.91121,     0.91065,      0.9101,\n",
            "            0.90954,     0.90894,     0.90812,      0.9073,     0.90649,     0.90567,     0.90486,     0.94986,     0.94968,     0.94951,     0.94934,     0.94917,     0.94899,     0.94882,     0.94865,     0.94848,      0.9483,     0.94813,     0.94796,     0.94779,     0.94761,     0.94744,     0.95054,\n",
            "            0.95596,     0.96138,     0.96679,     0.97221,     0.97763,     0.98304,     0.98846,     0.99388,     0.99929,           1,           1,           1,           1,           1,           1,           1,           1,           1,           1,           1,           1,           1,           1,\n",
            "                  1,           1,           1,           1,           1,           1,           1,           1,           1,           1,           1,           1,           1,           1,           1,           1,           1,           1,           1,           1,           1,           1,           1,\n",
            "                  1,           1,           1,           1,           1,           1,           1,           1,           1,           1,           1,           1,           1,           1,           1,           1,           1,           1,           1,           1,           1,           1,           1,\n",
            "                  1,           1,           1,           1,           1,           1,           1,           1,           1,           1,           1,           1,           1,           1,           1,           1,           1,           1,           1,           1,           1,           1,           1,\n",
            "                  1,           1,           1,           1,           1,           1,           1,           1,           1,           1,           1,           1,           1,           1,           1,           1,           1,           1,           1,           1,           1,           1,           1,\n",
            "                  1,           1,           1,           1,           1,           1,           1,           1,           1,           1,           1,           1,           1,           1,           1,           1,           1,           1,           1,           1,           1,           1,           1,\n",
            "                  1,           1,           1,           1,           1,           1,           1,           1,           1,           1,           1,           1,           1,           1,           1,           1,           1,           1,           1,           1,           1,           1,           1,\n",
            "                  1,           1,           1,           1,           1,           1,           1,           1,           1,           1,           1,           1,           1,           1,           1,           1,           1,           1,           1,           1,           1,           1,           1,\n",
            "                  1,           1,           1,           1,           1,           1,           1,           1,           1,           1,           1,           1,           1,           1,           1,           1,           1,           1,           1,           1,           1,           1,           1,\n",
            "                  1,           1,           1,           1,           1,           1,           1,           1,           1,           1,           1,           1,           1,           1,           1,           1,           1,           1,           1,           1,           1,           1,           1,\n",
            "                  1,           1,           1,           1,           1,           1,           1,           1,           1,           1,           1,           1,           1,           1,           1,           1,           1,           1,           1,           1,           1,           1,           1,\n",
            "                  1,           1,           1,           1,           1,           1,           1,           1,           1,           1,           1,           1,           1,           1,           1,           1,           1,           1,           1,           1,           1,           1,           1,\n",
            "                  1,           1,           1,           1,           1,           1,           1,           1,           1,           1,           1,           1,           1,           1,           1,           1,           1,           1,           1,           1,           1,           1,           1,\n",
            "                  1,           1,           1,           1,           1,           1,           1,           1,           1,           1,           1]]), 'Confidence', 'Precision'], [array([          0,    0.001001,    0.002002,    0.003003,    0.004004,    0.005005,    0.006006,    0.007007,    0.008008,    0.009009,     0.01001,    0.011011,    0.012012,    0.013013,    0.014014,    0.015015,    0.016016,    0.017017,    0.018018,    0.019019,     0.02002,    0.021021,    0.022022,    0.023023,\n",
            "          0.024024,    0.025025,    0.026026,    0.027027,    0.028028,    0.029029,     0.03003,    0.031031,    0.032032,    0.033033,    0.034034,    0.035035,    0.036036,    0.037037,    0.038038,    0.039039,     0.04004,    0.041041,    0.042042,    0.043043,    0.044044,    0.045045,    0.046046,    0.047047,\n",
            "          0.048048,    0.049049,     0.05005,    0.051051,    0.052052,    0.053053,    0.054054,    0.055055,    0.056056,    0.057057,    0.058058,    0.059059,     0.06006,    0.061061,    0.062062,    0.063063,    0.064064,    0.065065,    0.066066,    0.067067,    0.068068,    0.069069,     0.07007,    0.071071,\n",
            "          0.072072,    0.073073,    0.074074,    0.075075,    0.076076,    0.077077,    0.078078,    0.079079,     0.08008,    0.081081,    0.082082,    0.083083,    0.084084,    0.085085,    0.086086,    0.087087,    0.088088,    0.089089,     0.09009,    0.091091,    0.092092,    0.093093,    0.094094,    0.095095,\n",
            "          0.096096,    0.097097,    0.098098,    0.099099,      0.1001,      0.1011,      0.1021,      0.1031,      0.1041,     0.10511,     0.10611,     0.10711,     0.10811,     0.10911,     0.11011,     0.11111,     0.11211,     0.11311,     0.11411,     0.11512,     0.11612,     0.11712,     0.11812,     0.11912,\n",
            "           0.12012,     0.12112,     0.12212,     0.12312,     0.12412,     0.12513,     0.12613,     0.12713,     0.12813,     0.12913,     0.13013,     0.13113,     0.13213,     0.13313,     0.13413,     0.13514,     0.13614,     0.13714,     0.13814,     0.13914,     0.14014,     0.14114,     0.14214,     0.14314,\n",
            "           0.14414,     0.14515,     0.14615,     0.14715,     0.14815,     0.14915,     0.15015,     0.15115,     0.15215,     0.15315,     0.15415,     0.15516,     0.15616,     0.15716,     0.15816,     0.15916,     0.16016,     0.16116,     0.16216,     0.16316,     0.16416,     0.16517,     0.16617,     0.16717,\n",
            "           0.16817,     0.16917,     0.17017,     0.17117,     0.17217,     0.17317,     0.17417,     0.17518,     0.17618,     0.17718,     0.17818,     0.17918,     0.18018,     0.18118,     0.18218,     0.18318,     0.18418,     0.18519,     0.18619,     0.18719,     0.18819,     0.18919,     0.19019,     0.19119,\n",
            "           0.19219,     0.19319,     0.19419,      0.1952,      0.1962,      0.1972,      0.1982,      0.1992,      0.2002,      0.2012,      0.2022,      0.2032,      0.2042,     0.20521,     0.20621,     0.20721,     0.20821,     0.20921,     0.21021,     0.21121,     0.21221,     0.21321,     0.21421,     0.21522,\n",
            "           0.21622,     0.21722,     0.21822,     0.21922,     0.22022,     0.22122,     0.22222,     0.22322,     0.22422,     0.22523,     0.22623,     0.22723,     0.22823,     0.22923,     0.23023,     0.23123,     0.23223,     0.23323,     0.23423,     0.23524,     0.23624,     0.23724,     0.23824,     0.23924,\n",
            "           0.24024,     0.24124,     0.24224,     0.24324,     0.24424,     0.24525,     0.24625,     0.24725,     0.24825,     0.24925,     0.25025,     0.25125,     0.25225,     0.25325,     0.25425,     0.25526,     0.25626,     0.25726,     0.25826,     0.25926,     0.26026,     0.26126,     0.26226,     0.26326,\n",
            "           0.26426,     0.26527,     0.26627,     0.26727,     0.26827,     0.26927,     0.27027,     0.27127,     0.27227,     0.27327,     0.27427,     0.27528,     0.27628,     0.27728,     0.27828,     0.27928,     0.28028,     0.28128,     0.28228,     0.28328,     0.28428,     0.28529,     0.28629,     0.28729,\n",
            "           0.28829,     0.28929,     0.29029,     0.29129,     0.29229,     0.29329,     0.29429,      0.2953,      0.2963,      0.2973,      0.2983,      0.2993,      0.3003,      0.3013,      0.3023,      0.3033,      0.3043,     0.30531,     0.30631,     0.30731,     0.30831,     0.30931,     0.31031,     0.31131,\n",
            "           0.31231,     0.31331,     0.31431,     0.31532,     0.31632,     0.31732,     0.31832,     0.31932,     0.32032,     0.32132,     0.32232,     0.32332,     0.32432,     0.32533,     0.32633,     0.32733,     0.32833,     0.32933,     0.33033,     0.33133,     0.33233,     0.33333,     0.33433,     0.33534,\n",
            "           0.33634,     0.33734,     0.33834,     0.33934,     0.34034,     0.34134,     0.34234,     0.34334,     0.34434,     0.34535,     0.34635,     0.34735,     0.34835,     0.34935,     0.35035,     0.35135,     0.35235,     0.35335,     0.35435,     0.35536,     0.35636,     0.35736,     0.35836,     0.35936,\n",
            "           0.36036,     0.36136,     0.36236,     0.36336,     0.36436,     0.36537,     0.36637,     0.36737,     0.36837,     0.36937,     0.37037,     0.37137,     0.37237,     0.37337,     0.37437,     0.37538,     0.37638,     0.37738,     0.37838,     0.37938,     0.38038,     0.38138,     0.38238,     0.38338,\n",
            "           0.38438,     0.38539,     0.38639,     0.38739,     0.38839,     0.38939,     0.39039,     0.39139,     0.39239,     0.39339,     0.39439,      0.3954,      0.3964,      0.3974,      0.3984,      0.3994,      0.4004,      0.4014,      0.4024,      0.4034,      0.4044,     0.40541,     0.40641,     0.40741,\n",
            "           0.40841,     0.40941,     0.41041,     0.41141,     0.41241,     0.41341,     0.41441,     0.41542,     0.41642,     0.41742,     0.41842,     0.41942,     0.42042,     0.42142,     0.42242,     0.42342,     0.42442,     0.42543,     0.42643,     0.42743,     0.42843,     0.42943,     0.43043,     0.43143,\n",
            "           0.43243,     0.43343,     0.43443,     0.43544,     0.43644,     0.43744,     0.43844,     0.43944,     0.44044,     0.44144,     0.44244,     0.44344,     0.44444,     0.44545,     0.44645,     0.44745,     0.44845,     0.44945,     0.45045,     0.45145,     0.45245,     0.45345,     0.45445,     0.45546,\n",
            "           0.45646,     0.45746,     0.45846,     0.45946,     0.46046,     0.46146,     0.46246,     0.46346,     0.46446,     0.46547,     0.46647,     0.46747,     0.46847,     0.46947,     0.47047,     0.47147,     0.47247,     0.47347,     0.47447,     0.47548,     0.47648,     0.47748,     0.47848,     0.47948,\n",
            "           0.48048,     0.48148,     0.48248,     0.48348,     0.48448,     0.48549,     0.48649,     0.48749,     0.48849,     0.48949,     0.49049,     0.49149,     0.49249,     0.49349,     0.49449,      0.4955,      0.4965,      0.4975,      0.4985,      0.4995,      0.5005,      0.5015,      0.5025,      0.5035,\n",
            "            0.5045,     0.50551,     0.50651,     0.50751,     0.50851,     0.50951,     0.51051,     0.51151,     0.51251,     0.51351,     0.51451,     0.51552,     0.51652,     0.51752,     0.51852,     0.51952,     0.52052,     0.52152,     0.52252,     0.52352,     0.52452,     0.52553,     0.52653,     0.52753,\n",
            "           0.52853,     0.52953,     0.53053,     0.53153,     0.53253,     0.53353,     0.53453,     0.53554,     0.53654,     0.53754,     0.53854,     0.53954,     0.54054,     0.54154,     0.54254,     0.54354,     0.54454,     0.54555,     0.54655,     0.54755,     0.54855,     0.54955,     0.55055,     0.55155,\n",
            "           0.55255,     0.55355,     0.55455,     0.55556,     0.55656,     0.55756,     0.55856,     0.55956,     0.56056,     0.56156,     0.56256,     0.56356,     0.56456,     0.56557,     0.56657,     0.56757,     0.56857,     0.56957,     0.57057,     0.57157,     0.57257,     0.57357,     0.57457,     0.57558,\n",
            "           0.57658,     0.57758,     0.57858,     0.57958,     0.58058,     0.58158,     0.58258,     0.58358,     0.58458,     0.58559,     0.58659,     0.58759,     0.58859,     0.58959,     0.59059,     0.59159,     0.59259,     0.59359,     0.59459,      0.5956,      0.5966,      0.5976,      0.5986,      0.5996,\n",
            "            0.6006,      0.6016,      0.6026,      0.6036,      0.6046,     0.60561,     0.60661,     0.60761,     0.60861,     0.60961,     0.61061,     0.61161,     0.61261,     0.61361,     0.61461,     0.61562,     0.61662,     0.61762,     0.61862,     0.61962,     0.62062,     0.62162,     0.62262,     0.62362,\n",
            "           0.62462,     0.62563,     0.62663,     0.62763,     0.62863,     0.62963,     0.63063,     0.63163,     0.63263,     0.63363,     0.63463,     0.63564,     0.63664,     0.63764,     0.63864,     0.63964,     0.64064,     0.64164,     0.64264,     0.64364,     0.64464,     0.64565,     0.64665,     0.64765,\n",
            "           0.64865,     0.64965,     0.65065,     0.65165,     0.65265,     0.65365,     0.65465,     0.65566,     0.65666,     0.65766,     0.65866,     0.65966,     0.66066,     0.66166,     0.66266,     0.66366,     0.66466,     0.66567,     0.66667,     0.66767,     0.66867,     0.66967,     0.67067,     0.67167,\n",
            "           0.67267,     0.67367,     0.67467,     0.67568,     0.67668,     0.67768,     0.67868,     0.67968,     0.68068,     0.68168,     0.68268,     0.68368,     0.68468,     0.68569,     0.68669,     0.68769,     0.68869,     0.68969,     0.69069,     0.69169,     0.69269,     0.69369,     0.69469,      0.6957,\n",
            "            0.6967,      0.6977,      0.6987,      0.6997,      0.7007,      0.7017,      0.7027,      0.7037,      0.7047,     0.70571,     0.70671,     0.70771,     0.70871,     0.70971,     0.71071,     0.71171,     0.71271,     0.71371,     0.71471,     0.71572,     0.71672,     0.71772,     0.71872,     0.71972,\n",
            "           0.72072,     0.72172,     0.72272,     0.72372,     0.72472,     0.72573,     0.72673,     0.72773,     0.72873,     0.72973,     0.73073,     0.73173,     0.73273,     0.73373,     0.73473,     0.73574,     0.73674,     0.73774,     0.73874,     0.73974,     0.74074,     0.74174,     0.74274,     0.74374,\n",
            "           0.74474,     0.74575,     0.74675,     0.74775,     0.74875,     0.74975,     0.75075,     0.75175,     0.75275,     0.75375,     0.75475,     0.75576,     0.75676,     0.75776,     0.75876,     0.75976,     0.76076,     0.76176,     0.76276,     0.76376,     0.76476,     0.76577,     0.76677,     0.76777,\n",
            "           0.76877,     0.76977,     0.77077,     0.77177,     0.77277,     0.77377,     0.77477,     0.77578,     0.77678,     0.77778,     0.77878,     0.77978,     0.78078,     0.78178,     0.78278,     0.78378,     0.78478,     0.78579,     0.78679,     0.78779,     0.78879,     0.78979,     0.79079,     0.79179,\n",
            "           0.79279,     0.79379,     0.79479,      0.7958,      0.7968,      0.7978,      0.7988,      0.7998,      0.8008,      0.8018,      0.8028,      0.8038,      0.8048,     0.80581,     0.80681,     0.80781,     0.80881,     0.80981,     0.81081,     0.81181,     0.81281,     0.81381,     0.81481,     0.81582,\n",
            "           0.81682,     0.81782,     0.81882,     0.81982,     0.82082,     0.82182,     0.82282,     0.82382,     0.82482,     0.82583,     0.82683,     0.82783,     0.82883,     0.82983,     0.83083,     0.83183,     0.83283,     0.83383,     0.83483,     0.83584,     0.83684,     0.83784,     0.83884,     0.83984,\n",
            "           0.84084,     0.84184,     0.84284,     0.84384,     0.84484,     0.84585,     0.84685,     0.84785,     0.84885,     0.84985,     0.85085,     0.85185,     0.85285,     0.85385,     0.85485,     0.85586,     0.85686,     0.85786,     0.85886,     0.85986,     0.86086,     0.86186,     0.86286,     0.86386,\n",
            "           0.86486,     0.86587,     0.86687,     0.86787,     0.86887,     0.86987,     0.87087,     0.87187,     0.87287,     0.87387,     0.87487,     0.87588,     0.87688,     0.87788,     0.87888,     0.87988,     0.88088,     0.88188,     0.88288,     0.88388,     0.88488,     0.88589,     0.88689,     0.88789,\n",
            "           0.88889,     0.88989,     0.89089,     0.89189,     0.89289,     0.89389,     0.89489,      0.8959,      0.8969,      0.8979,      0.8989,      0.8999,      0.9009,      0.9019,      0.9029,      0.9039,      0.9049,     0.90591,     0.90691,     0.90791,     0.90891,     0.90991,     0.91091,     0.91191,\n",
            "           0.91291,     0.91391,     0.91491,     0.91592,     0.91692,     0.91792,     0.91892,     0.91992,     0.92092,     0.92192,     0.92292,     0.92392,     0.92492,     0.92593,     0.92693,     0.92793,     0.92893,     0.92993,     0.93093,     0.93193,     0.93293,     0.93393,     0.93493,     0.93594,\n",
            "           0.93694,     0.93794,     0.93894,     0.93994,     0.94094,     0.94194,     0.94294,     0.94394,     0.94494,     0.94595,     0.94695,     0.94795,     0.94895,     0.94995,     0.95095,     0.95195,     0.95295,     0.95395,     0.95495,     0.95596,     0.95696,     0.95796,     0.95896,     0.95996,\n",
            "           0.96096,     0.96196,     0.96296,     0.96396,     0.96496,     0.96597,     0.96697,     0.96797,     0.96897,     0.96997,     0.97097,     0.97197,     0.97297,     0.97397,     0.97497,     0.97598,     0.97698,     0.97798,     0.97898,     0.97998,     0.98098,     0.98198,     0.98298,     0.98398,\n",
            "           0.98498,     0.98599,     0.98699,     0.98799,     0.98899,     0.98999,     0.99099,     0.99199,     0.99299,     0.99399,     0.99499,       0.996,       0.997,       0.998,       0.999,           1]), array([[    0.98214,     0.98214,     0.98214,     0.98214,     0.96429,     0.94643,     0.94643,     0.94643,     0.94643,     0.94643,     0.94643,     0.94643,     0.94643,     0.94643,     0.94643,     0.94643,     0.94643,     0.94643,     0.94643,     0.94643,     0.94643,     0.94643,     0.94643,\n",
            "            0.94643,     0.94643,     0.94643,     0.94643,     0.94643,     0.94643,     0.94643,     0.94643,     0.94643,     0.94643,     0.94643,     0.94643,     0.94643,     0.92857,     0.92857,     0.92857,     0.92857,     0.92857,     0.92857,     0.92857,     0.92857,     0.92857,     0.92857,\n",
            "            0.92857,     0.92857,     0.92857,     0.92857,     0.92857,     0.92857,     0.92857,     0.92857,     0.92857,     0.92857,     0.92857,     0.92857,     0.92857,     0.92857,     0.92857,     0.92857,     0.92857,     0.92857,     0.92857,     0.92857,     0.92857,     0.92857,     0.92857,\n",
            "            0.92857,     0.92857,     0.92857,     0.92857,     0.92857,     0.92857,     0.92857,     0.92857,     0.92857,     0.92857,     0.92857,     0.92857,     0.92857,     0.92857,     0.92857,     0.92857,     0.92857,     0.92857,     0.92857,     0.92857,     0.92857,     0.92857,     0.92857,\n",
            "            0.92857,     0.92857,     0.92585,     0.91071,     0.91071,     0.91071,     0.91071,     0.91071,     0.91071,     0.91071,     0.91071,     0.91071,     0.91071,     0.91071,     0.91071,     0.91071,     0.91071,     0.91071,     0.91071,     0.91071,     0.91071,     0.91071,     0.91071,\n",
            "            0.91071,     0.91071,     0.91071,     0.91071,     0.91071,     0.91071,     0.91071,     0.91071,     0.91071,     0.91071,     0.91071,     0.91071,     0.91071,     0.91071,     0.91071,     0.91071,     0.91071,     0.91071,     0.91071,     0.91071,     0.91071,     0.91071,     0.91071,\n",
            "            0.91071,     0.91071,     0.91071,     0.91071,     0.91071,     0.91071,     0.91071,     0.91071,     0.91071,     0.91071,     0.91071,     0.91071,     0.91071,     0.91071,     0.91071,     0.91071,     0.91071,     0.91071,     0.91071,     0.91071,     0.91071,     0.91071,     0.91071,\n",
            "            0.91071,     0.91071,     0.91071,     0.91071,     0.91071,     0.91071,     0.91071,     0.91071,     0.91071,     0.91071,     0.91071,     0.91071,     0.91071,     0.91071,     0.91071,     0.91071,     0.91071,     0.91071,     0.91071,     0.91071,     0.91071,     0.91071,     0.91071,\n",
            "            0.91071,     0.91071,     0.91071,     0.91071,     0.91071,     0.91071,     0.91071,     0.91071,     0.91071,     0.91071,     0.91071,     0.91071,     0.91071,     0.91071,     0.91071,     0.91071,     0.91071,     0.91071,     0.91071,     0.91071,     0.91071,     0.91071,     0.91071,\n",
            "            0.91071,     0.91071,     0.91071,     0.91071,     0.91071,     0.91071,     0.91071,     0.91071,     0.91071,     0.91071,     0.91071,     0.91071,     0.91071,     0.91071,     0.91071,     0.91071,     0.91071,     0.91071,     0.91071,     0.91071,     0.91071,     0.90832,     0.90494,\n",
            "            0.90156,     0.89819,     0.89481,     0.89286,     0.89286,     0.89286,     0.89286,     0.89286,     0.89286,     0.89286,     0.89286,     0.89286,     0.89286,     0.89286,     0.89286,     0.89286,     0.89286,     0.89286,     0.89286,     0.89286,     0.89286,     0.89286,     0.89286,\n",
            "            0.89286,     0.89286,     0.89101,     0.88632,     0.88164,     0.87696,       0.875,       0.875,       0.875,       0.875,       0.875,       0.875,       0.875,       0.875,       0.875,       0.875,       0.875,       0.875,       0.875,       0.875,       0.875,       0.875,       0.875,\n",
            "              0.875,       0.875,       0.875,       0.875,       0.875,       0.875,     0.85714,     0.85714,     0.85714,     0.85714,     0.85714,     0.85714,     0.85714,     0.85714,     0.85714,     0.85714,     0.85714,     0.84418,     0.83477,     0.82971,     0.82466,     0.82143,     0.82143,\n",
            "            0.82143,     0.82143,     0.82143,     0.82143,     0.82143,     0.82143,     0.82143,     0.82143,     0.82143,     0.82143,     0.82143,     0.82143,     0.82143,     0.82143,     0.82143,     0.82143,     0.82143,     0.82143,     0.82143,     0.82143,     0.82143,     0.82143,     0.82143,\n",
            "            0.82143,     0.82143,     0.82143,     0.82143,     0.82143,     0.82143,     0.82143,     0.82143,     0.82143,     0.82143,     0.82143,     0.82143,     0.82143,     0.82143,     0.82143,     0.82143,     0.82143,     0.82143,     0.82143,     0.82143,     0.82143,     0.82143,     0.82143,\n",
            "            0.82143,     0.82143,     0.82143,     0.82143,     0.82143,     0.82143,     0.82143,     0.82143,     0.82143,     0.82143,     0.82143,     0.82143,     0.82143,     0.82143,     0.82143,     0.82143,     0.82143,     0.82143,     0.82143,     0.82143,     0.82143,     0.82143,     0.82143,\n",
            "            0.82143,     0.82143,      0.8211,     0.81951,     0.81792,     0.81633,     0.81474,     0.81315,     0.81156,     0.80998,     0.80839,      0.8068,     0.80521,     0.80362,     0.80235,     0.80109,     0.79983,     0.79857,     0.79731,     0.79605,     0.79479,     0.79353,     0.79227,\n",
            "            0.79101,     0.78975,     0.78849,     0.78723,     0.78597,     0.77933,     0.77128,     0.76733,      0.7664,     0.76548,     0.76455,     0.76363,     0.76271,     0.76178,     0.76086,     0.75993,     0.75901,     0.75808,     0.75716,     0.75624,     0.75531,     0.75439,     0.75346,\n",
            "            0.75254,     0.75162,     0.75069,     0.74969,     0.74845,     0.74722,     0.74598,     0.74475,     0.74351,     0.74228,     0.74104,      0.7398,     0.73857,     0.73733,      0.7361,     0.73486,     0.73363,     0.73239,     0.72676,     0.72003,     0.71418,     0.71349,      0.7128,\n",
            "             0.7121,     0.71141,     0.71071,     0.71002,     0.70932,     0.70863,     0.70794,     0.70724,     0.70655,     0.70585,     0.70516,     0.70446,     0.70377,     0.70307,     0.70238,     0.70169,     0.70099,      0.7003,      0.6996,     0.69891,     0.69821,     0.69752,     0.69683,\n",
            "            0.67857,     0.67857,     0.67857,     0.67857,     0.67857,     0.67857,     0.67857,     0.67857,     0.67857,     0.67857,     0.67857,     0.67857,     0.67857,     0.67857,     0.67857,     0.67857,     0.67857,     0.67857,     0.67857,     0.67857,     0.67547,     0.66945,     0.66343,\n",
            "             0.6561,     0.64769,      0.6403,     0.63427,     0.62824,     0.62315,     0.61917,     0.61518,      0.6112,     0.60721,     0.60714,     0.60714,     0.60714,     0.60714,     0.60714,     0.60714,     0.60714,     0.60714,     0.60714,     0.60714,     0.60714,     0.60714,     0.60714,\n",
            "            0.60714,     0.60714,     0.60714,     0.60714,     0.60714,     0.60714,     0.60699,     0.60562,     0.60425,     0.60289,     0.60152,     0.60015,     0.59878,     0.59741,     0.59605,     0.59468,     0.59331,     0.59194,     0.59058,     0.58929,     0.58929,     0.58929,     0.58929,\n",
            "            0.58929,     0.58929,     0.58929,     0.58929,     0.58929,     0.58929,     0.58929,     0.58929,     0.58929,     0.58727,     0.58378,     0.58029,     0.57681,     0.57332,     0.55959,     0.55282,     0.55185,     0.55087,      0.5499,     0.54892,     0.54795,     0.54697,       0.546,\n",
            "            0.54502,     0.54405,     0.54307,      0.5421,     0.54112,     0.54015,     0.53917,      0.5382,     0.53722,     0.53625,     0.53549,     0.53499,     0.53449,       0.534,      0.5335,       0.533,     0.53251,     0.53201,     0.53151,     0.53102,     0.53052,     0.53002,     0.52952,\n",
            "            0.52903,     0.52853,     0.52803,     0.52754,     0.52704,     0.52654,     0.52604,     0.52555,     0.52505,     0.52455,     0.52406,     0.52356,     0.52306,     0.52257,     0.52207,     0.52157,     0.52107,     0.52058,     0.52008,     0.51958,     0.51909,     0.51859,     0.51809,\n",
            "            0.51786,     0.51786,     0.51786,     0.51786,     0.51786,     0.51214,     0.50557,     0.49931,     0.49476,     0.49021,     0.48567,      0.4817,     0.47971,     0.47772,     0.47573,     0.47374,     0.47175,     0.46977,     0.46778,     0.46579,     0.46356,     0.46056,     0.45757,\n",
            "            0.45458,     0.45159,     0.44859,     0.44605,      0.4447,     0.44334,     0.44199,     0.44063,     0.43927,     0.43792,     0.43656,     0.43521,     0.43385,      0.4325,     0.43114,     0.42979,     0.42741,     0.41634,     0.41029,     0.40943,     0.40857,      0.4077,     0.40684,\n",
            "            0.40598,     0.40512,     0.40426,      0.4034,     0.40253,     0.40167,     0.40081,     0.39995,     0.39909,     0.39823,     0.39736,      0.3965,     0.39564,     0.39478,     0.39392,     0.39306,     0.38353,     0.37425,     0.37174,     0.36923,     0.36672,      0.3642,     0.36169,\n",
            "            0.35918,      0.3565,     0.35314,     0.34977,     0.34641,     0.34305,     0.33968,     0.33831,     0.33714,     0.33597,      0.3348,     0.33363,     0.33245,     0.33128,     0.33011,     0.32894,     0.32777,      0.3266,     0.32543,     0.32426,     0.32308,     0.32191,     0.32143,\n",
            "            0.32143,     0.32143,     0.32143,     0.32143,     0.32143,     0.32143,     0.32143,     0.32143,     0.32143,     0.32092,     0.32034,     0.31976,     0.31918,      0.3186,     0.31802,     0.31743,     0.31685,     0.31627,     0.31569,     0.31511,     0.31453,     0.31395,     0.31337,\n",
            "            0.31278,      0.3122,     0.31162,     0.31104,     0.31046,     0.30988,      0.3093,     0.30871,     0.30813,     0.30755,     0.30697,     0.30639,     0.30581,     0.30523,     0.30464,     0.30406,     0.30292,     0.29872,     0.29453,     0.29033,     0.28613,     0.28274,     0.27944,\n",
            "            0.27615,     0.27285,     0.26955,     0.26508,     0.25939,     0.25369,     0.24862,     0.24472,     0.24081,      0.2369,       0.233,     0.22814,     0.22301,     0.21788,     0.21225,     0.20542,     0.19859,     0.19029,     0.18132,     0.17552,     0.17113,     0.16674,     0.16234,\n",
            "            0.15807,     0.15386,     0.14965,     0.14545,     0.14194,     0.13956,     0.13719,     0.13481,     0.13243,     0.13005,     0.12767,      0.1253,     0.12105,     0.11655,     0.11204,     0.10753,     0.10659,     0.10598,     0.10537,     0.10477,     0.10416,     0.10355,     0.10294,\n",
            "            0.10234,     0.10173,     0.10112,     0.10052,    0.099909,    0.099302,    0.098695,    0.098087,     0.09748,    0.096873,    0.096266,    0.095658,    0.095051,    0.094444,    0.093837,     0.09323,    0.092622,    0.092015,    0.091408,    0.090801,    0.090194,    0.089586,    0.086492,\n",
            "           0.080957,    0.075422,     0.07087,    0.068865,     0.06686,    0.064856,    0.062851,    0.060846,    0.058841,    0.056836,    0.054831,    0.053344,    0.052733,    0.052122,     0.05151,    0.050899,    0.050288,    0.049677,    0.049065,    0.048454,    0.047843,    0.047232,    0.046621,\n",
            "           0.046009,    0.045398,    0.044787,    0.044176,    0.043564,    0.042953,    0.042342,    0.041731,    0.041119,    0.040508,    0.039897,    0.039286,    0.038674,    0.038063,    0.037452,    0.036841,    0.036229,    0.035418,    0.033533,    0.031647,    0.029762,    0.027877,    0.025992,\n",
            "           0.024107,    0.022222,    0.020336,    0.018451,           0,           0,           0,           0,           0,           0,           0,           0,           0,           0,           0,           0,           0,           0,           0,           0,           0,           0,           0,\n",
            "                  0,           0,           0,           0,           0,           0,           0,           0,           0,           0,           0,           0,           0,           0,           0,           0,           0,           0,           0,           0,           0,           0,           0,\n",
            "                  0,           0,           0,           0,           0,           0,           0,           0,           0,           0,           0,           0,           0,           0,           0,           0,           0,           0,           0,           0,           0,           0,           0,\n",
            "                  0,           0,           0,           0,           0,           0,           0,           0,           0,           0,           0,           0,           0,           0,           0,           0,           0,           0,           0,           0,           0,           0,           0,\n",
            "                  0,           0,           0,           0,           0,           0,           0,           0,           0,           0,           0,           0,           0,           0,           0,           0,           0,           0,           0,           0,           0,           0,           0,\n",
            "                  0,           0,           0,           0,           0,           0,           0,           0,           0,           0,           0,           0,           0,           0,           0,           0,           0,           0,           0,           0,           0,           0,           0,\n",
            "                  0,           0,           0,           0,           0,           0,           0,           0,           0,           0,           0]]), 'Confidence', 'Recall']]\n",
            "fitness: np.float64(0.512370753965849)\n",
            "keys: ['metrics/precision(B)', 'metrics/recall(B)', 'metrics/mAP50(B)', 'metrics/mAP50-95(B)']\n",
            "maps: array([    0.47456])\n",
            "names: {0: '0'}\n",
            "plot: True\n",
            "results_dict: {'metrics/precision(B)': np.float64(0.8279349450840439), 'metrics/recall(B)': np.float64(0.8214285714285714), 'metrics/mAP50(B)': np.float64(0.8526347262234288), 'metrics/mAP50-95(B)': np.float64(0.474563645937229), 'fitness': np.float64(0.512370753965849)}\n",
            "save_dir: PosixPath('runs/detect/val2')\n",
            "speed: {'preprocess': 4.837918589284333, 'inference': 10.86645700000182, 'loss': 0.0010063749990812149, 'postprocess': 3.5798542857138824}\n",
            "task: 'detect'\n"
          ]
        }
      ]
    },
    {
      "cell_type": "code",
      "source": [
        "!pip install TensorFlow Keras"
      ],
      "metadata": {
        "colab": {
          "base_uri": "https://localhost:8080/"
        },
        "id": "zBeqwfG7Y5nn",
        "outputId": "7bed101f-b5f1-40fe-9a82-a20438c9a001"
      },
      "execution_count": null,
      "outputs": [
        {
          "output_type": "stream",
          "name": "stdout",
          "text": [
            "Requirement already satisfied: TensorFlow in /usr/local/lib/python3.11/dist-packages (2.18.0)\n",
            "Requirement already satisfied: Keras in /usr/local/lib/python3.11/dist-packages (3.8.0)\n",
            "Requirement already satisfied: absl-py>=1.0.0 in /usr/local/lib/python3.11/dist-packages (from TensorFlow) (1.4.0)\n",
            "Requirement already satisfied: astunparse>=1.6.0 in /usr/local/lib/python3.11/dist-packages (from TensorFlow) (1.6.3)\n",
            "Requirement already satisfied: flatbuffers>=24.3.25 in /usr/local/lib/python3.11/dist-packages (from TensorFlow) (25.2.10)\n",
            "Requirement already satisfied: gast!=0.5.0,!=0.5.1,!=0.5.2,>=0.2.1 in /usr/local/lib/python3.11/dist-packages (from TensorFlow) (0.6.0)\n",
            "Requirement already satisfied: google-pasta>=0.1.1 in /usr/local/lib/python3.11/dist-packages (from TensorFlow) (0.2.0)\n",
            "Requirement already satisfied: libclang>=13.0.0 in /usr/local/lib/python3.11/dist-packages (from TensorFlow) (18.1.1)\n",
            "Requirement already satisfied: opt-einsum>=2.3.2 in /usr/local/lib/python3.11/dist-packages (from TensorFlow) (3.4.0)\n",
            "Requirement already satisfied: packaging in /usr/local/lib/python3.11/dist-packages (from TensorFlow) (24.2)\n",
            "Requirement already satisfied: protobuf!=4.21.0,!=4.21.1,!=4.21.2,!=4.21.3,!=4.21.4,!=4.21.5,<6.0.0dev,>=3.20.3 in /usr/local/lib/python3.11/dist-packages (from TensorFlow) (5.29.4)\n",
            "Requirement already satisfied: requests<3,>=2.21.0 in /usr/local/lib/python3.11/dist-packages (from TensorFlow) (2.32.3)\n",
            "Requirement already satisfied: setuptools in /usr/local/lib/python3.11/dist-packages (from TensorFlow) (75.2.0)\n",
            "Requirement already satisfied: six>=1.12.0 in /usr/local/lib/python3.11/dist-packages (from TensorFlow) (1.17.0)\n",
            "Requirement already satisfied: termcolor>=1.1.0 in /usr/local/lib/python3.11/dist-packages (from TensorFlow) (3.1.0)\n",
            "Requirement already satisfied: typing-extensions>=3.6.6 in /usr/local/lib/python3.11/dist-packages (from TensorFlow) (4.13.2)\n",
            "Requirement already satisfied: wrapt>=1.11.0 in /usr/local/lib/python3.11/dist-packages (from TensorFlow) (1.17.2)\n",
            "Requirement already satisfied: grpcio<2.0,>=1.24.3 in /usr/local/lib/python3.11/dist-packages (from TensorFlow) (1.71.0)\n",
            "Requirement already satisfied: tensorboard<2.19,>=2.18 in /usr/local/lib/python3.11/dist-packages (from TensorFlow) (2.18.0)\n",
            "Requirement already satisfied: numpy<2.1.0,>=1.26.0 in /usr/local/lib/python3.11/dist-packages (from TensorFlow) (2.0.2)\n",
            "Requirement already satisfied: h5py>=3.11.0 in /usr/local/lib/python3.11/dist-packages (from TensorFlow) (3.13.0)\n",
            "Requirement already satisfied: ml-dtypes<0.5.0,>=0.4.0 in /usr/local/lib/python3.11/dist-packages (from TensorFlow) (0.4.1)\n",
            "Requirement already satisfied: tensorflow-io-gcs-filesystem>=0.23.1 in /usr/local/lib/python3.11/dist-packages (from TensorFlow) (0.37.1)\n",
            "Requirement already satisfied: rich in /usr/local/lib/python3.11/dist-packages (from Keras) (13.9.4)\n",
            "Requirement already satisfied: namex in /usr/local/lib/python3.11/dist-packages (from Keras) (0.0.9)\n",
            "Requirement already satisfied: optree in /usr/local/lib/python3.11/dist-packages (from Keras) (0.15.0)\n",
            "Requirement already satisfied: wheel<1.0,>=0.23.0 in /usr/local/lib/python3.11/dist-packages (from astunparse>=1.6.0->TensorFlow) (0.45.1)\n",
            "Requirement already satisfied: charset-normalizer<4,>=2 in /usr/local/lib/python3.11/dist-packages (from requests<3,>=2.21.0->TensorFlow) (3.4.2)\n",
            "Requirement already satisfied: idna<4,>=2.5 in /usr/local/lib/python3.11/dist-packages (from requests<3,>=2.21.0->TensorFlow) (3.10)\n",
            "Requirement already satisfied: urllib3<3,>=1.21.1 in /usr/local/lib/python3.11/dist-packages (from requests<3,>=2.21.0->TensorFlow) (2.4.0)\n",
            "Requirement already satisfied: certifi>=2017.4.17 in /usr/local/lib/python3.11/dist-packages (from requests<3,>=2.21.0->TensorFlow) (2025.4.26)\n",
            "Requirement already satisfied: markdown>=2.6.8 in /usr/local/lib/python3.11/dist-packages (from tensorboard<2.19,>=2.18->TensorFlow) (3.8)\n",
            "Requirement already satisfied: tensorboard-data-server<0.8.0,>=0.7.0 in /usr/local/lib/python3.11/dist-packages (from tensorboard<2.19,>=2.18->TensorFlow) (0.7.2)\n",
            "Requirement already satisfied: werkzeug>=1.0.1 in /usr/local/lib/python3.11/dist-packages (from tensorboard<2.19,>=2.18->TensorFlow) (3.1.3)\n",
            "Requirement already satisfied: markdown-it-py>=2.2.0 in /usr/local/lib/python3.11/dist-packages (from rich->Keras) (3.0.0)\n",
            "Requirement already satisfied: pygments<3.0.0,>=2.13.0 in /usr/local/lib/python3.11/dist-packages (from rich->Keras) (2.19.1)\n",
            "Requirement already satisfied: mdurl~=0.1 in /usr/local/lib/python3.11/dist-packages (from markdown-it-py>=2.2.0->rich->Keras) (0.1.2)\n",
            "Requirement already satisfied: MarkupSafe>=2.1.1 in /usr/local/lib/python3.11/dist-packages (from werkzeug>=1.0.1->tensorboard<2.19,>=2.18->TensorFlow) (3.0.2)\n"
          ]
        }
      ]
    }
  ]
}